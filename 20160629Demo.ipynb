{
 "cells": [
  {
   "cell_type": "code",
   "execution_count": 6,
   "metadata": {
    "collapsed": false
   },
   "outputs": [
    {
     "name": "stdout",
     "output_type": "stream",
     "text": [
      " U465109665 1\n"
     ]
    }
   ],
   "source": [
    "dic = {}\n",
    "with open('dataset/purchase_order.tab') as f:\n",
    "    for line in f.readlines():\n",
    "        ele = line.strip().split('\\t')\n",
    "        userid = ele[2]\n",
    "        productid = ele[3]\n",
    "        if userid not in dic:\n",
    "            dic[userid] = [productid]\n",
    "        else:\n",
    "            dic[userid].append(productid)\n",
    "for user in dic:\n",
    "    print user, len(dic[user])\n",
    "    break"
   ]
  },
  {
   "cell_type": "code",
   "execution_count": 8,
   "metadata": {
    "collapsed": false
   },
   "outputs": [
    {
     "data": {
      "text/html": [
       "<div>\n",
       "<table border=\"1\" class=\"dataframe\">\n",
       "  <thead>\n",
       "    <tr style=\"text-align: right;\">\n",
       "      <th></th>\n",
       "      <th>Time</th>\n",
       "      <th>Action</th>\n",
       "      <th>User</th>\n",
       "      <th>Product</th>\n",
       "      <th>Quantity</th>\n",
       "      <th>Price</th>\n",
       "    </tr>\n",
       "  </thead>\n",
       "  <tbody>\n",
       "    <tr>\n",
       "      <th>0</th>\n",
       "      <td>2015-07-01 00:00:01</td>\n",
       "      <td>order</td>\n",
       "      <td>U312622727</td>\n",
       "      <td>P0006944501</td>\n",
       "      <td>1</td>\n",
       "      <td>1069</td>\n",
       "    </tr>\n",
       "    <tr>\n",
       "      <th>1</th>\n",
       "      <td>2015-07-01 00:00:03</td>\n",
       "      <td>order</td>\n",
       "      <td>U239012343</td>\n",
       "      <td>P0006018073</td>\n",
       "      <td>1</td>\n",
       "      <td>1680</td>\n",
       "    </tr>\n",
       "    <tr>\n",
       "      <th>2</th>\n",
       "      <td>2015-07-01 00:00:19</td>\n",
       "      <td>order</td>\n",
       "      <td>U10007697373</td>\n",
       "      <td>P0002267974</td>\n",
       "      <td>1</td>\n",
       "      <td>285</td>\n",
       "    </tr>\n",
       "    <tr>\n",
       "      <th>3</th>\n",
       "      <td>2015-07-01 00:01:10</td>\n",
       "      <td>order</td>\n",
       "      <td>U296328517</td>\n",
       "      <td>P0016144236</td>\n",
       "      <td>1</td>\n",
       "      <td>550</td>\n",
       "    </tr>\n",
       "    <tr>\n",
       "      <th>4</th>\n",
       "      <td>2015-07-01 00:01:36</td>\n",
       "      <td>order</td>\n",
       "      <td>U300884570</td>\n",
       "      <td>P0014516980122</td>\n",
       "      <td>1</td>\n",
       "      <td>249</td>\n",
       "    </tr>\n",
       "  </tbody>\n",
       "</table>\n",
       "</div>"
      ],
      "text/plain": [
       "                  Time Action          User         Product  Quantity  Price\n",
       "0  2015-07-01 00:00:01  order    U312622727     P0006944501         1   1069\n",
       "1  2015-07-01 00:00:03  order    U239012343     P0006018073         1   1680\n",
       "2  2015-07-01 00:00:19  order  U10007697373     P0002267974         1    285\n",
       "3  2015-07-01 00:01:10  order    U296328517     P0016144236         1    550\n",
       "4  2015-07-01 00:01:36  order    U300884570  P0014516980122         1    249"
      ]
     },
     "execution_count": 8,
     "metadata": {},
     "output_type": "execute_result"
    }
   ],
   "source": [
    "import pandas as pd\n",
    "m_cols = ['Time','Action','User','Product', 'Quantity','Price']\n",
    "df = pd.read_csv('dataset/purchase_order.tab', sep='\\t', names = m_cols)\n",
    "df.head()"
   ]
  },
  {
   "cell_type": "code",
   "execution_count": 9,
   "metadata": {
    "collapsed": false
   },
   "outputs": [
    {
     "data": {
      "text/plain": [
       "0      U312622727\n",
       "1      U239012343\n",
       "2    U10007697373\n",
       "3      U296328517\n",
       "4      U300884570\n",
       "Name: User, dtype: object"
      ]
     },
     "execution_count": 9,
     "metadata": {},
     "output_type": "execute_result"
    }
   ],
   "source": [
    "df['User'].head()"
   ]
  },
  {
   "cell_type": "code",
   "execution_count": 10,
   "metadata": {
    "collapsed": false
   },
   "outputs": [
    {
     "data": {
      "text/plain": [
       "54772"
      ]
     },
     "execution_count": 10,
     "metadata": {},
     "output_type": "execute_result"
    }
   ],
   "source": [
    "df['User'].count()"
   ]
  },
  {
   "cell_type": "code",
   "execution_count": 11,
   "metadata": {
    "collapsed": false
   },
   "outputs": [
    {
     "data": {
      "text/plain": [
       "32539"
      ]
     },
     "execution_count": 11,
     "metadata": {},
     "output_type": "execute_result"
    }
   ],
   "source": [
    "df['User'].nunique()"
   ]
  },
  {
   "cell_type": "code",
   "execution_count": 13,
   "metadata": {
    "collapsed": false
   },
   "outputs": [
    {
     "data": {
      "text/plain": [
       "User\n",
       "U1000001354     1\n",
       "U10000044910    1\n",
       "U10000056953    5\n",
       "U10000065461    1\n",
       "U10000092625    5\n",
       "Name: Product, dtype: int64"
      ]
     },
     "execution_count": 13,
     "metadata": {},
     "output_type": "execute_result"
    }
   ],
   "source": [
    "df.groupby('User')['Product'].count().head()"
   ]
  },
  {
   "cell_type": "code",
   "execution_count": 25,
   "metadata": {
    "collapsed": false
   },
   "outputs": [],
   "source": [
    "df2 = df.groupby('Product')['Product'].count().\\\n",
    "sort_values(ascending=False).head(30)"
   ]
  },
  {
   "cell_type": "code",
   "execution_count": 26,
   "metadata": {
    "collapsed": false
   },
   "outputs": [
    {
     "name": "stdout",
     "output_type": "stream",
     "text": [
      "Populating the interactive namespace from numpy and matplotlib\n"
     ]
    }
   ],
   "source": [
    "%pylab inline"
   ]
  },
  {
   "cell_type": "code",
   "execution_count": 27,
   "metadata": {
    "collapsed": false
   },
   "outputs": [
    {
     "data": {
      "text/plain": [
       "<matplotlib.axes._subplots.AxesSubplot at 0xe9ca940>"
      ]
     },
     "execution_count": 27,
     "metadata": {},
     "output_type": "execute_result"
    },
    {
     "data": {
      "image/png": "[encoded data removed]",
      "text/plain": [
       "<matplotlib.figure.Figure at 0xe857d30>"
      ]
     },
     "metadata": {},
     "output_type": "display_data"
    }
   ],
   "source": [
    "df2.plot(kind='bar')"
   ]
  },
  {
   "cell_type": "code",
   "execution_count": 30,
   "metadata": {
    "collapsed": false
   },
   "outputs": [],
   "source": [
    "df.head().to_excel('123.xlsx')"
   ]
  },
  {
   "cell_type": "code",
   "execution_count": 32,
   "metadata": {
    "collapsed": false
   },
   "outputs": [],
   "source": [
    "import sqlite3 as lite\n",
    "with lite.connect('test.sqlite') as db:\n",
    "    df.to_sql('orders', con = db, if_exists=\"replace\")"
   ]
  },
  {
   "cell_type": "markdown",
   "metadata": {},
   "source": [
    "## Pandas Aggregation"
   ]
  },
  {
   "cell_type": "code",
   "execution_count": 65,
   "metadata": {
    "collapsed": false
   },
   "outputs": [
    {
     "data": {
      "text/html": [
       "<div>\n",
       "<table border=\"1\" class=\"dataframe\">\n",
       "  <thead>\n",
       "    <tr style=\"text-align: right;\">\n",
       "      <th></th>\n",
       "      <th>Dates</th>\n",
       "      <th>Action</th>\n",
       "      <th>User</th>\n",
       "      <th>Product</th>\n",
       "      <th>Quantity</th>\n",
       "      <th>Price</th>\n",
       "    </tr>\n",
       "  </thead>\n",
       "  <tbody>\n",
       "    <tr>\n",
       "      <th>0</th>\n",
       "      <td>2015-07-01 00:00:01</td>\n",
       "      <td>order</td>\n",
       "      <td>U312622727</td>\n",
       "      <td>P0006944501</td>\n",
       "      <td>1</td>\n",
       "      <td>1069</td>\n",
       "    </tr>\n",
       "    <tr>\n",
       "      <th>1</th>\n",
       "      <td>2015-07-01 00:00:03</td>\n",
       "      <td>order</td>\n",
       "      <td>U239012343</td>\n",
       "      <td>P0006018073</td>\n",
       "      <td>1</td>\n",
       "      <td>1680</td>\n",
       "    </tr>\n",
       "    <tr>\n",
       "      <th>2</th>\n",
       "      <td>2015-07-01 00:00:19</td>\n",
       "      <td>order</td>\n",
       "      <td>U10007697373</td>\n",
       "      <td>P0002267974</td>\n",
       "      <td>1</td>\n",
       "      <td>285</td>\n",
       "    </tr>\n",
       "    <tr>\n",
       "      <th>3</th>\n",
       "      <td>2015-07-01 00:01:10</td>\n",
       "      <td>order</td>\n",
       "      <td>U296328517</td>\n",
       "      <td>P0016144236</td>\n",
       "      <td>1</td>\n",
       "      <td>550</td>\n",
       "    </tr>\n",
       "    <tr>\n",
       "      <th>4</th>\n",
       "      <td>2015-07-01 00:01:36</td>\n",
       "      <td>order</td>\n",
       "      <td>U300884570</td>\n",
       "      <td>P0014516980122</td>\n",
       "      <td>1</td>\n",
       "      <td>249</td>\n",
       "    </tr>\n",
       "  </tbody>\n",
       "</table>\n",
       "</div>"
      ],
      "text/plain": [
       "                Dates Action          User         Product  Quantity  Price\n",
       "0 2015-07-01 00:00:01  order    U312622727     P0006944501         1   1069\n",
       "1 2015-07-01 00:00:03  order    U239012343     P0006018073         1   1680\n",
       "2 2015-07-01 00:00:19  order  U10007697373     P0002267974         1    285\n",
       "3 2015-07-01 00:01:10  order    U296328517     P0016144236         1    550\n",
       "4 2015-07-01 00:01:36  order    U300884570  P0014516980122         1    249"
      ]
     },
     "execution_count": 65,
     "metadata": {},
     "output_type": "execute_result"
    }
   ],
   "source": [
    "import pandas as pd\n",
    "m_cols = ['Time','Action','User','Product', 'Quantity','Price']\n",
    "orders = pd.read_csv('dataset/purchase_order.tab', sep='\\t', names = m_cols, parse_dates={'Dates': [0]})\n",
    "orders.head()"
   ]
  },
  {
   "cell_type": "code",
   "execution_count": 66,
   "metadata": {
    "collapsed": false
   },
   "outputs": [
    {
     "data": {
      "text/plain": [
       "0       1069\n",
       "9       1069\n",
       "775     1069\n",
       "2511    1069\n",
       "2515    1069\n",
       "2522    1069\n",
       "5457    1069\n",
       "5706    1069\n",
       "Name: Price, dtype: float64"
      ]
     },
     "execution_count": 66,
     "metadata": {},
     "output_type": "execute_result"
    }
   ],
   "source": [
    "#orders['Product'] == 'P0006944501'\n",
    "#orders[orders['Product'] == 'P0006944501']\n",
    "orders[orders['Product'] == 'P0006944501']['Price']"
   ]
  },
  {
   "cell_type": "code",
   "execution_count": 67,
   "metadata": {
    "collapsed": false
   },
   "outputs": [
    {
     "data": {
      "text/plain": [
       "1069.0"
      ]
     },
     "execution_count": 67,
     "metadata": {},
     "output_type": "execute_result"
    }
   ],
   "source": [
    "orders[orders['Product'] == 'P0006944501']['Price'].mean()"
   ]
  },
  {
   "cell_type": "code",
   "execution_count": 68,
   "metadata": {
    "collapsed": false
   },
   "outputs": [
    {
     "data": {
      "text/plain": [
       "1069.0"
      ]
     },
     "execution_count": 68,
     "metadata": {},
     "output_type": "execute_result"
    }
   ],
   "source": [
    "orders[orders['Product'] == 'P0006944501']['Price'].max()"
   ]
  },
  {
   "cell_type": "code",
   "execution_count": 69,
   "metadata": {
    "collapsed": false
   },
   "outputs": [
    {
     "data": {
      "text/plain": [
       "1069.0"
      ]
     },
     "execution_count": 69,
     "metadata": {},
     "output_type": "execute_result"
    }
   ],
   "source": [
    "orders[orders['Product'] == 'P0006944501']['Price'].min()"
   ]
  },
  {
   "cell_type": "code",
   "execution_count": 70,
   "metadata": {
    "collapsed": false
   },
   "outputs": [
    {
     "data": {
      "text/plain": [
       "count       8\n",
       "mean     1069\n",
       "std         0\n",
       "min      1069\n",
       "25%      1069\n",
       "50%      1069\n",
       "75%      1069\n",
       "max      1069\n",
       "Name: Price, dtype: float64"
      ]
     },
     "execution_count": 70,
     "metadata": {},
     "output_type": "execute_result"
    }
   ],
   "source": [
    "orders[orders['Product'] == 'P0006944501']['Price'].describe()"
   ]
  },
  {
   "cell_type": "code",
   "execution_count": 71,
   "metadata": {
    "collapsed": false
   },
   "outputs": [
    {
     "data": {
      "text/html": [
       "<div>\n",
       "<table border=\"1\" class=\"dataframe\">\n",
       "  <thead>\n",
       "    <tr style=\"text-align: right;\">\n",
       "      <th></th>\n",
       "      <th>Dates</th>\n",
       "      <th>Action</th>\n",
       "      <th>User</th>\n",
       "      <th>Product</th>\n",
       "      <th>Quantity</th>\n",
       "      <th>Price</th>\n",
       "    </tr>\n",
       "  </thead>\n",
       "  <tbody>\n",
       "    <tr>\n",
       "      <th>0</th>\n",
       "      <td>2015-07-01 00:00:01</td>\n",
       "      <td>order</td>\n",
       "      <td>U312622727</td>\n",
       "      <td>P0006944501</td>\n",
       "      <td>1</td>\n",
       "      <td>1069</td>\n",
       "    </tr>\n",
       "    <tr>\n",
       "      <th>1</th>\n",
       "      <td>2015-07-01 00:00:03</td>\n",
       "      <td>order</td>\n",
       "      <td>U239012343</td>\n",
       "      <td>P0006018073</td>\n",
       "      <td>1</td>\n",
       "      <td>1680</td>\n",
       "    </tr>\n",
       "    <tr>\n",
       "      <th>2</th>\n",
       "      <td>2015-07-01 00:00:19</td>\n",
       "      <td>order</td>\n",
       "      <td>U10007697373</td>\n",
       "      <td>P0002267974</td>\n",
       "      <td>1</td>\n",
       "      <td>285</td>\n",
       "    </tr>\n",
       "    <tr>\n",
       "      <th>3</th>\n",
       "      <td>2015-07-01 00:01:10</td>\n",
       "      <td>order</td>\n",
       "      <td>U296328517</td>\n",
       "      <td>P0016144236</td>\n",
       "      <td>1</td>\n",
       "      <td>550</td>\n",
       "    </tr>\n",
       "    <tr>\n",
       "      <th>4</th>\n",
       "      <td>2015-07-01 00:01:36</td>\n",
       "      <td>order</td>\n",
       "      <td>U300884570</td>\n",
       "      <td>P0014516980122</td>\n",
       "      <td>1</td>\n",
       "      <td>249</td>\n",
       "    </tr>\n",
       "  </tbody>\n",
       "</table>\n",
       "</div>"
      ],
      "text/plain": [
       "                Dates Action          User         Product  Quantity  Price\n",
       "0 2015-07-01 00:00:01  order    U312622727     P0006944501         1   1069\n",
       "1 2015-07-01 00:00:03  order    U239012343     P0006018073         1   1680\n",
       "2 2015-07-01 00:00:19  order  U10007697373     P0002267974         1    285\n",
       "3 2015-07-01 00:01:10  order    U296328517     P0016144236         1    550\n",
       "4 2015-07-01 00:01:36  order    U300884570  P0014516980122         1    249"
      ]
     },
     "execution_count": 71,
     "metadata": {},
     "output_type": "execute_result"
    }
   ],
   "source": [
    "orders.head()"
   ]
  },
  {
   "cell_type": "code",
   "execution_count": 72,
   "metadata": {
    "collapsed": false
   },
   "outputs": [
    {
     "name": "stdout",
     "output_type": "stream",
     "text": [
      "<class 'pandas.core.frame.DataFrame'>\n",
      "Int64Index: 54772 entries, 0 to 54771\n",
      "Data columns (total 6 columns):\n",
      "Dates       54772 non-null datetime64[ns]\n",
      "Action      54772 non-null object\n",
      "User        54772 non-null object\n",
      "Product     54772 non-null object\n",
      "Quantity    54772 non-null int64\n",
      "Price       54721 non-null float64\n",
      "dtypes: datetime64[ns](1), float64(1), int64(1), object(3)\n",
      "memory usage: 2.9+ MB\n"
     ]
    }
   ],
   "source": [
    "orders.info()"
   ]
  },
  {
   "cell_type": "code",
   "execution_count": 73,
   "metadata": {
    "collapsed": false
   },
   "outputs": [
    {
     "data": {
      "text/plain": [
       "Product\n",
       "P0000005913       1590\n",
       "P0000006020       1290\n",
       "P0000006591        999\n",
       "P0000007744       3280\n",
       "P0000008190011    5083\n",
       "Name: Price, dtype: float64"
      ]
     },
     "execution_count": 73,
     "metadata": {},
     "output_type": "execute_result"
    }
   ],
   "source": [
    "orders.groupby('Product')['Price'].mean().head()"
   ]
  },
  {
   "cell_type": "code",
   "execution_count": 74,
   "metadata": {
    "collapsed": false
   },
   "outputs": [
    {
     "data": {
      "text/plain": [
       "Product\n",
       "P0000143511    438888\n",
       "P0000143500    438888\n",
       "P0006584093    320000\n",
       "P0025280275    183900\n",
       "P0000150006    111375\n",
       "Name: Price, dtype: float64"
      ]
     },
     "execution_count": 74,
     "metadata": {},
     "output_type": "execute_result"
    }
   ],
   "source": [
    "orders.groupby('Product')['Price'].mean().sort_values(ascending=False).head()"
   ]
  },
  {
   "cell_type": "code",
   "execution_count": 75,
   "metadata": {
    "collapsed": false
   },
   "outputs": [
    {
     "data": {
      "text/plain": [
       "Product\n",
       "P0000143511       438888\n",
       "P0000143500       438888\n",
       "P0006584093       320000\n",
       "P0025280275       183900\n",
       "P0000150006       111375\n",
       "P0018535252        98880\n",
       "P0024251250030     98800\n",
       "P0007107866        97900\n",
       "P0009915463        93900\n",
       "P0000218240035     93500\n",
       "Name: Price, dtype: float64"
      ]
     },
     "execution_count": 75,
     "metadata": {},
     "output_type": "execute_result"
    }
   ],
   "source": [
    "orders.groupby('Product')['Price'].mean().sort_values(ascending=False).head(10)"
   ]
  },
  {
   "cell_type": "code",
   "execution_count": 76,
   "metadata": {
    "collapsed": false
   },
   "outputs": [
    {
     "data": {
      "text/plain": [
       "Product\n",
       "P0000143511    438888\n",
       "P0000143500    438888\n",
       "P0006584093    320000\n",
       "Name: Price, dtype: float64"
      ]
     },
     "execution_count": 76,
     "metadata": {},
     "output_type": "execute_result"
    }
   ],
   "source": [
    "orders.groupby('Product')['Price'].mean().sort_values(ascending=False)[0:3]"
   ]
  },
  {
   "cell_type": "code",
   "execution_count": 77,
   "metadata": {
    "collapsed": false
   },
   "outputs": [
    {
     "data": {
      "text/html": [
       "<div>\n",
       "<table border=\"1\" class=\"dataframe\">\n",
       "  <thead>\n",
       "    <tr style=\"text-align: right;\">\n",
       "      <th></th>\n",
       "      <th>Dates</th>\n",
       "      <th>Action</th>\n",
       "      <th>User</th>\n",
       "      <th>Product</th>\n",
       "      <th>Quantity</th>\n",
       "      <th>Price</th>\n",
       "      <th>Total_Price</th>\n",
       "    </tr>\n",
       "  </thead>\n",
       "  <tbody>\n",
       "    <tr>\n",
       "      <th>11</th>\n",
       "      <td>2015-07-01 00:05:03</td>\n",
       "      <td>order</td>\n",
       "      <td>U339736346</td>\n",
       "      <td>P0018924850</td>\n",
       "      <td>2</td>\n",
       "      <td>792</td>\n",
       "      <td>1584</td>\n",
       "    </tr>\n",
       "    <tr>\n",
       "      <th>13</th>\n",
       "      <td>2015-07-01 00:05:31</td>\n",
       "      <td>order</td>\n",
       "      <td>U465125671</td>\n",
       "      <td>P0003448524</td>\n",
       "      <td>2</td>\n",
       "      <td>390</td>\n",
       "      <td>780</td>\n",
       "    </tr>\n",
       "    <tr>\n",
       "      <th>34</th>\n",
       "      <td>2015-07-01 00:18:37</td>\n",
       "      <td>order</td>\n",
       "      <td>U46513478</td>\n",
       "      <td>P0023728806</td>\n",
       "      <td>2</td>\n",
       "      <td>899</td>\n",
       "      <td>1798</td>\n",
       "    </tr>\n",
       "    <tr>\n",
       "      <th>39</th>\n",
       "      <td>2015-07-01 00:22:07</td>\n",
       "      <td>order</td>\n",
       "      <td>U34197240</td>\n",
       "      <td>P0020100172</td>\n",
       "      <td>2</td>\n",
       "      <td>199</td>\n",
       "      <td>398</td>\n",
       "    </tr>\n",
       "    <tr>\n",
       "      <th>60</th>\n",
       "      <td>2015-07-01 00:39:22</td>\n",
       "      <td>order</td>\n",
       "      <td>U465146448</td>\n",
       "      <td>P0006173160</td>\n",
       "      <td>3</td>\n",
       "      <td>1076</td>\n",
       "      <td>3228</td>\n",
       "    </tr>\n",
       "  </tbody>\n",
       "</table>\n",
       "</div>"
      ],
      "text/plain": [
       "                 Dates Action        User      Product  Quantity  Price  \\\n",
       "11 2015-07-01 00:05:03  order  U339736346  P0018924850         2    792   \n",
       "13 2015-07-01 00:05:31  order  U465125671  P0003448524         2    390   \n",
       "34 2015-07-01 00:18:37  order   U46513478  P0023728806         2    899   \n",
       "39 2015-07-01 00:22:07  order   U34197240  P0020100172         2    199   \n",
       "60 2015-07-01 00:39:22  order  U465146448  P0006173160         3   1076   \n",
       "\n",
       "    Total_Price  \n",
       "11         1584  \n",
       "13          780  \n",
       "34         1798  \n",
       "39          398  \n",
       "60         3228  "
      ]
     },
     "execution_count": 77,
     "metadata": {},
     "output_type": "execute_result"
    }
   ],
   "source": [
    "orders['Total_Price'] = orders['Quantity'] * orders['Price']\n",
    "orders[orders['Quantity'] >= 2].head()"
   ]
  },
  {
   "cell_type": "code",
   "execution_count": 78,
   "metadata": {
    "collapsed": false
   },
   "outputs": [
    {
     "data": {
      "text/plain": [
       "User\n",
       "U166708333      2942744\n",
       "U10120098943    1451117\n",
       "U142809250       747550\n",
       "Name: Total_Price, dtype: float64"
      ]
     },
     "execution_count": 78,
     "metadata": {},
     "output_type": "execute_result"
    }
   ],
   "source": [
    "orders.groupby('User')['Total_Price'].sum().sort_values(ascending=False)[0:3]"
   ]
  },
  {
   "cell_type": "code",
   "execution_count": 79,
   "metadata": {
    "collapsed": false
   },
   "outputs": [
    {
     "name": "stdout",
     "output_type": "stream",
     "text": [
      "<class 'pandas.core.frame.DataFrame'>\n",
      "Int64Index: 1191486 entries, 0 to 1191485\n",
      "Data columns (total 4 columns):\n",
      "Dates      1191486 non-null datetime64[ns]\n",
      "Action     1191486 non-null object\n",
      "User       1191486 non-null object\n",
      "Product    1191486 non-null object\n",
      "dtypes: datetime64[ns](1), object(3)\n",
      "memory usage: 45.5+ MB\n"
     ]
    }
   ],
   "source": [
    "m_cols = ['Time','Action','User','Product']\n",
    "views= pd.read_csv('dataset/purchase_view.tab', sep='\\t',\n",
    "            parse_dates={'Dates': [0]},names=m_cols, encoding='utf-8')\n",
    "views.info()"
   ]
  },
  {
   "cell_type": "code",
   "execution_count": 85,
   "metadata": {
    "collapsed": false
   },
   "outputs": [
    {
     "data": {
      "text/plain": [
       "User          Product       \n",
       "U1000001354   P0014520085       1\n",
       "U10000044910  P0018800250       1\n",
       "U10000056953  P0003926850034    1\n",
       "              P0013344760004    2\n",
       "              P0013834251       1\n",
       "              P0014251480003    1\n",
       "U10000065461  P0023597022       1\n",
       "U10000092625  P0018474750044    2\n",
       "              P0023729451       1\n",
       "              P0024077600013    1\n",
       "dtype: int64"
      ]
     },
     "execution_count": 85,
     "metadata": {},
     "output_type": "execute_result"
    }
   ],
   "source": [
    "orders.groupby(['User','Product'])['Product'].size().head(10)\n",
    "#type(orders.groupby(['User','Product'])['Product'].size().head(10))"
   ]
  },
  {
   "cell_type": "code",
   "execution_count": 83,
   "metadata": {
    "collapsed": false
   },
   "outputs": [
    {
     "data": {
      "text/plain": [
       "User          Product    \n",
       "None           PNone         1\n",
       "U10000000225  P0007107111    1\n",
       "              P0007107122    1\n",
       "              P0007107413    1\n",
       "              P0009440001    1\n",
       "              P0009680484    1\n",
       "              P0013856054    1\n",
       "              P0018881936    1\n",
       "              P0018881940    3\n",
       "              P0021279602    2\n",
       "dtype: int64"
      ]
     },
     "execution_count": 83,
     "metadata": {},
     "output_type": "execute_result"
    }
   ],
   "source": [
    "views.groupby(['User','Product'])['Product'].size().head(10)"
   ]
  },
  {
   "cell_type": "code",
   "execution_count": 86,
   "metadata": {
    "collapsed": false
   },
   "outputs": [
    {
     "data": {
      "text/html": [
       "<div>\n",
       "<table border=\"1\" class=\"dataframe\">\n",
       "  <thead>\n",
       "    <tr style=\"text-align: right;\">\n",
       "      <th></th>\n",
       "      <th>User</th>\n",
       "      <th>Product</th>\n",
       "      <th>buys</th>\n",
       "    </tr>\n",
       "  </thead>\n",
       "  <tbody>\n",
       "    <tr>\n",
       "      <th>0</th>\n",
       "      <td>U1000001354</td>\n",
       "      <td>P0014520085</td>\n",
       "      <td>1</td>\n",
       "    </tr>\n",
       "    <tr>\n",
       "      <th>1</th>\n",
       "      <td>U10000044910</td>\n",
       "      <td>P0018800250</td>\n",
       "      <td>1</td>\n",
       "    </tr>\n",
       "    <tr>\n",
       "      <th>2</th>\n",
       "      <td>U10000056953</td>\n",
       "      <td>P0003926850034</td>\n",
       "      <td>1</td>\n",
       "    </tr>\n",
       "    <tr>\n",
       "      <th>3</th>\n",
       "      <td>U10000056953</td>\n",
       "      <td>P0013344760004</td>\n",
       "      <td>2</td>\n",
       "    </tr>\n",
       "    <tr>\n",
       "      <th>4</th>\n",
       "      <td>U10000056953</td>\n",
       "      <td>P0013834251</td>\n",
       "      <td>1</td>\n",
       "    </tr>\n",
       "  </tbody>\n",
       "</table>\n",
       "</div>"
      ],
      "text/plain": [
       "           User         Product  buys\n",
       "0   U1000001354     P0014520085     1\n",
       "1  U10000044910     P0018800250     1\n",
       "2  U10000056953  P0003926850034     1\n",
       "3  U10000056953  P0013344760004     2\n",
       "4  U10000056953     P0013834251     1"
      ]
     },
     "execution_count": 86,
     "metadata": {},
     "output_type": "execute_result"
    }
   ],
   "source": [
    "orders_cnt = orders.groupby(['User','Product'])['Product'].size().reset_index(name='buys')\n",
    "orders_cnt.head()"
   ]
  },
  {
   "cell_type": "code",
   "execution_count": 88,
   "metadata": {
    "collapsed": false
   },
   "outputs": [
    {
     "data": {
      "text/html": [
       "<div>\n",
       "<table border=\"1\" class=\"dataframe\">\n",
       "  <thead>\n",
       "    <tr style=\"text-align: right;\">\n",
       "      <th></th>\n",
       "      <th>User</th>\n",
       "      <th>Product</th>\n",
       "      <th>views</th>\n",
       "    </tr>\n",
       "  </thead>\n",
       "  <tbody>\n",
       "    <tr>\n",
       "      <th>0</th>\n",
       "      <td>None</td>\n",
       "      <td>PNone</td>\n",
       "      <td>1</td>\n",
       "    </tr>\n",
       "    <tr>\n",
       "      <th>1</th>\n",
       "      <td>U10000000225</td>\n",
       "      <td>P0007107111</td>\n",
       "      <td>1</td>\n",
       "    </tr>\n",
       "    <tr>\n",
       "      <th>2</th>\n",
       "      <td>U10000000225</td>\n",
       "      <td>P0007107122</td>\n",
       "      <td>1</td>\n",
       "    </tr>\n",
       "    <tr>\n",
       "      <th>3</th>\n",
       "      <td>U10000000225</td>\n",
       "      <td>P0007107413</td>\n",
       "      <td>1</td>\n",
       "    </tr>\n",
       "    <tr>\n",
       "      <th>4</th>\n",
       "      <td>U10000000225</td>\n",
       "      <td>P0009440001</td>\n",
       "      <td>1</td>\n",
       "    </tr>\n",
       "  </tbody>\n",
       "</table>\n",
       "</div>"
      ],
      "text/plain": [
       "           User      Product  views\n",
       "0          None        PNone      1\n",
       "1  U10000000225  P0007107111      1\n",
       "2  U10000000225  P0007107122      1\n",
       "3  U10000000225  P0007107413      1\n",
       "4  U10000000225  P0009440001      1"
      ]
     },
     "execution_count": 88,
     "metadata": {},
     "output_type": "execute_result"
    }
   ],
   "source": [
    "views_cnt = views.groupby(['User','Product'])['Product'].size().reset_index(name='views')\n",
    "views_cnt.head()"
   ]
  },
  {
   "cell_type": "code",
   "execution_count": 89,
   "metadata": {
    "collapsed": true
   },
   "outputs": [],
   "source": [
    "merge_df = pd.merge(orders_cnt, views_cnt, on=['User','Product'], how='right')\n"
   ]
  },
  {
   "cell_type": "code",
   "execution_count": 91,
   "metadata": {
    "collapsed": false
   },
   "outputs": [
    {
     "data": {
      "text/html": [
       "<div>\n",
       "<table border=\"1\" class=\"dataframe\">\n",
       "  <thead>\n",
       "    <tr style=\"text-align: right;\">\n",
       "      <th></th>\n",
       "      <th>User</th>\n",
       "      <th>Product</th>\n",
       "      <th>buys</th>\n",
       "      <th>views</th>\n",
       "    </tr>\n",
       "  </thead>\n",
       "  <tbody>\n",
       "    <tr>\n",
       "      <th>0</th>\n",
       "      <td>U10000044910</td>\n",
       "      <td>P0018800250</td>\n",
       "      <td>1</td>\n",
       "      <td>2</td>\n",
       "    </tr>\n",
       "    <tr>\n",
       "      <th>1</th>\n",
       "      <td>U10000056953</td>\n",
       "      <td>P0013834251</td>\n",
       "      <td>1</td>\n",
       "      <td>7</td>\n",
       "    </tr>\n",
       "    <tr>\n",
       "      <th>2</th>\n",
       "      <td>U10000065461</td>\n",
       "      <td>P0023597022</td>\n",
       "      <td>1</td>\n",
       "      <td>1</td>\n",
       "    </tr>\n",
       "    <tr>\n",
       "      <th>3</th>\n",
       "      <td>U10000092625</td>\n",
       "      <td>P0023729451</td>\n",
       "      <td>1</td>\n",
       "      <td>14</td>\n",
       "    </tr>\n",
       "    <tr>\n",
       "      <th>4</th>\n",
       "      <td>U10000092625</td>\n",
       "      <td>P0024236730</td>\n",
       "      <td>1</td>\n",
       "      <td>4</td>\n",
       "    </tr>\n",
       "  </tbody>\n",
       "</table>\n",
       "</div>"
      ],
      "text/plain": [
       "           User      Product  buys  views\n",
       "0  U10000044910  P0018800250     1      2\n",
       "1  U10000056953  P0013834251     1      7\n",
       "2  U10000065461  P0023597022     1      1\n",
       "3  U10000092625  P0023729451     1     14\n",
       "4  U10000092625  P0024236730     1      4"
      ]
     },
     "execution_count": 91,
     "metadata": {},
     "output_type": "execute_result"
    }
   ],
   "source": [
    "merge_df.head()"
   ]
  },
  {
   "cell_type": "code",
   "execution_count": 96,
   "metadata": {
    "collapsed": false
   },
   "outputs": [],
   "source": [
    "mdf = merge_df[merge_df['buys'].isnull()].groupby('views')['Product'].count()"
   ]
  },
  {
   "cell_type": "code",
   "execution_count": 102,
   "metadata": {
    "collapsed": false
   },
   "outputs": [
    {
     "data": {
      "text/plain": [
       "views\n",
       "1     568697\n",
       "2     104400\n",
       "3      33909\n",
       "4      15458\n",
       "5       7851\n",
       "6       4548\n",
       "7       2591\n",
       "8       1591\n",
       "9       1043\n",
       "10       708\n",
       "Name: Product, dtype: int64"
      ]
     },
     "execution_count": 102,
     "metadata": {},
     "output_type": "execute_result"
    }
   ],
   "source": [
    "mdf.head(10)"
   ]
  },
  {
   "cell_type": "code",
   "execution_count": 105,
   "metadata": {
    "collapsed": false
   },
   "outputs": [
    {
     "data": {
      "text/plain": [
       "<matplotlib.axes._subplots.AxesSubplot at 0x190facc0>"
      ]
     },
     "execution_count": 105,
     "metadata": {},
     "output_type": "execute_result"
    },
    {
     "data": {
      "image/png": "[encoded data removed]",
      "text/plain": [
       "<matplotlib.figure.Figure at 0x266dde10>"
      ]
     },
     "metadata": {},
     "output_type": "display_data"
    }
   ],
   "source": [
    "#?mdf.plot\n",
    "mdf.head(10).plot(kind = 'bar')"
   ]
  },
  {
   "cell_type": "code",
   "execution_count": 106,
   "metadata": {
    "collapsed": true
   },
   "outputs": [],
   "source": [
    "mdf2 = merge_df[merge_df['buys'].notnull()].groupby('views')['Product'].count()"
   ]
  },
  {
   "cell_type": "code",
   "execution_count": 108,
   "metadata": {
    "collapsed": false
   },
   "outputs": [
    {
     "data": {
      "text/plain": [
       "<matplotlib.axes._subplots.AxesSubplot at 0x16b1f390>"
      ]
     },
     "execution_count": 108,
     "metadata": {},
     "output_type": "execute_result"
    },
    {
     "data": {
      "image/png": "[encoded data removed]",
      "text/plain": [
       "<matplotlib.figure.Figure at 0x1b876128>"
      ]
     },
     "metadata": {},
     "output_type": "display_data"
    }
   ],
   "source": [
    "mdf2.head(10).plot(kind='bar')"
   ]
  },
  {
   "cell_type": "code",
   "execution_count": 126,
   "metadata": {
    "collapsed": false
   },
   "outputs": [],
   "source": [
    "a = mdf2.head(10).reset_index('views')\n",
    "a.columns = ['views', 'buy']\n",
    "a.set_index('views', inplace=True)\n",
    "\n",
    "a['notbuy'] = mdf.head(10)"
   ]
  },
  {
   "cell_type": "code",
   "execution_count": 127,
   "metadata": {
    "collapsed": false
   },
   "outputs": [
    {
     "data": {
      "text/plain": [
       "<matplotlib.axes._subplots.AxesSubplot at 0x15b5a9e8>"
      ]
     },
     "execution_count": 127,
     "metadata": {},
     "output_type": "execute_result"
    },
    {
     "data": {
      "image/png": "[encoded data removed]",
      "text/plain": [
       "<matplotlib.figure.Figure at 0x1d563c50>"
      ]
     },
     "metadata": {},
     "output_type": "display_data"
    }
   ],
   "source": [
    "a.plot(kind='bar')"
   ]
  },
  {
   "cell_type": "markdown",
   "metadata": {},
   "source": [
    "##  Pandas and Matplotlib"
   ]
  },
  {
   "cell_type": "code",
   "execution_count": 129,
   "metadata": {
    "collapsed": false
   },
   "outputs": [
    {
     "data": {
      "text/html": [
       "<div>\n",
       "<table border=\"1\" class=\"dataframe\">\n",
       "  <thead>\n",
       "    <tr style=\"text-align: right;\">\n",
       "      <th></th>\n",
       "      <th>Dates</th>\n",
       "      <th>Action</th>\n",
       "      <th>User</th>\n",
       "      <th>Product</th>\n",
       "    </tr>\n",
       "  </thead>\n",
       "  <tbody>\n",
       "    <tr>\n",
       "      <th>0</th>\n",
       "      <td>2015-07-01 00:00:01</td>\n",
       "      <td>view</td>\n",
       "      <td>U129297265</td>\n",
       "      <td>P0023468384</td>\n",
       "    </tr>\n",
       "    <tr>\n",
       "      <th>1</th>\n",
       "      <td>2015-07-01 00:00:03</td>\n",
       "      <td>view</td>\n",
       "      <td>U321001337</td>\n",
       "      <td>P0018926456</td>\n",
       "    </tr>\n",
       "    <tr>\n",
       "      <th>2</th>\n",
       "      <td>2015-07-01 00:00:05</td>\n",
       "      <td>view</td>\n",
       "      <td>U10070718237</td>\n",
       "      <td>P0000063593</td>\n",
       "    </tr>\n",
       "    <tr>\n",
       "      <th>3</th>\n",
       "      <td>2015-07-01 00:00:05</td>\n",
       "      <td>view</td>\n",
       "      <td>U393805241</td>\n",
       "      <td>P0005541535</td>\n",
       "    </tr>\n",
       "    <tr>\n",
       "      <th>4</th>\n",
       "      <td>2015-07-01 00:00:10</td>\n",
       "      <td>view</td>\n",
       "      <td>U10004621134</td>\n",
       "      <td>P0022135540</td>\n",
       "    </tr>\n",
       "  </tbody>\n",
       "</table>\n",
       "</div>"
      ],
      "text/plain": [
       "                Dates Action          User      Product\n",
       "0 2015-07-01 00:00:01   view    U129297265  P0023468384\n",
       "1 2015-07-01 00:00:03   view    U321001337  P0018926456\n",
       "2 2015-07-01 00:00:05   view  U10070718237  P0000063593\n",
       "3 2015-07-01 00:00:05   view    U393805241  P0005541535\n",
       "4 2015-07-01 00:00:10   view  U10004621134  P0022135540"
      ]
     },
     "execution_count": 129,
     "metadata": {},
     "output_type": "execute_result"
    }
   ],
   "source": [
    "views.head()"
   ]
  },
  {
   "cell_type": "code",
   "execution_count": 130,
   "metadata": {
    "collapsed": false
   },
   "outputs": [
    {
     "name": "stdout",
     "output_type": "stream",
     "text": [
      "<class 'pandas.core.frame.DataFrame'>\n",
      "Int64Index: 1191486 entries, 0 to 1191485\n",
      "Data columns (total 4 columns):\n",
      "Dates      1191486 non-null datetime64[ns]\n",
      "Action     1191486 non-null object\n",
      "User       1191486 non-null object\n",
      "Product    1191486 non-null object\n",
      "dtypes: datetime64[ns](1), object(3)\n",
      "memory usage: 45.5+ MB\n"
     ]
    }
   ],
   "source": [
    "views.info()"
   ]
  },
  {
   "cell_type": "code",
   "execution_count": 131,
   "metadata": {
    "collapsed": false
   },
   "outputs": [
    {
     "data": {
      "text/plain": [
       "0   2015-07-01 00:00:01\n",
       "1   2015-07-01 00:00:03\n",
       "2   2015-07-01 00:00:05\n",
       "3   2015-07-01 00:00:05\n",
       "4   2015-07-01 00:00:10\n",
       "Name: Dates, dtype: datetime64[ns]"
      ]
     },
     "execution_count": 131,
     "metadata": {},
     "output_type": "execute_result"
    }
   ],
   "source": [
    "views['Dates'].head()"
   ]
  },
  {
   "cell_type": "code",
   "execution_count": 153,
   "metadata": {
    "collapsed": false
   },
   "outputs": [
    {
     "data": {
      "text/plain": [
       "0    0\n",
       "1    0\n",
       "2    0\n",
       "3    0\n",
       "4    0\n",
       "Name: Dates, dtype: int64"
      ]
     },
     "execution_count": 153,
     "metadata": {},
     "output_type": "execute_result"
    }
   ],
   "source": [
    "a = views['Dates']\n",
    "#a.dt.year.head()\n",
    "#a.dt.month.head()\n",
    "#a.dt.date.head()\n",
    "a.dt.hour.head()"
   ]
  },
  {
   "cell_type": "code",
   "execution_count": 139,
   "metadata": {
    "collapsed": false
   },
   "outputs": [],
   "source": [
    "view_cnt = views.groupby(views['Dates'].dt.date)['Action'].count()\n"
   ]
  },
  {
   "cell_type": "code",
   "execution_count": 140,
   "metadata": {
    "collapsed": false
   },
   "outputs": [
    {
     "name": "stdout",
     "output_type": "stream",
     "text": [
      "Populating the interactive namespace from numpy and matplotlib\n"
     ]
    }
   ],
   "source": [
    "#%ls\n",
    "%pylab inline"
   ]
  },
  {
   "cell_type": "code",
   "execution_count": 145,
   "metadata": {
    "collapsed": true
   },
   "outputs": [],
   "source": [
    "?view_cnt.plot"
   ]
  },
  {
   "cell_type": "code",
   "execution_count": 144,
   "metadata": {
    "collapsed": false
   },
   "outputs": [
    {
     "data": {
      "text/plain": [
       "<matplotlib.axes._subplots.AxesSubplot at 0x1882d4e0>"
      ]
     },
     "execution_count": 144,
     "metadata": {},
     "output_type": "execute_result"
    },
    {
     "data": {
      "image/png": "[encoded data removed]",
      "text/plain": [
       "<matplotlib.figure.Figure at 0x1d5150b8>"
      ]
     },
     "metadata": {},
     "output_type": "display_data"
    }
   ],
   "source": [
    "view_cnt.plot(kind='line')"
   ]
  },
  {
   "cell_type": "code",
   "execution_count": 151,
   "metadata": {
    "collapsed": false
   },
   "outputs": [
    {
     "data": {
      "text/plain": [
       "<matplotlib.axes._subplots.AxesSubplot at 0x347b5c88>"
      ]
     },
     "execution_count": 151,
     "metadata": {},
     "output_type": "execute_result"
    },
    {
     "data": {
      "image/png": "[encoded data removed]",
      "text/plain": [
       "<matplotlib.figure.Figure at 0x34795390>"
      ]
     },
     "metadata": {},
     "output_type": "display_data"
    }
   ],
   "source": [
    "view_cnt.plot(kind='line', figsize=[20,5], legend=True)"
   ]
  },
  {
   "cell_type": "code",
   "execution_count": 154,
   "metadata": {
    "collapsed": true
   },
   "outputs": [],
   "source": [
    "view_hour_cnt = views.groupby(views['Dates'].dt.hour)['Action'].count()\n"
   ]
  },
  {
   "cell_type": "code",
   "execution_count": 157,
   "metadata": {
    "collapsed": false
   },
   "outputs": [
    {
     "data": {
      "text/plain": [
       "<matplotlib.axes._subplots.AxesSubplot at 0x347816d8>"
      ]
     },
     "execution_count": 157,
     "metadata": {},
     "output_type": "execute_result"
    },
    {
     "data": {
      "image/png": "[encoded data removed]",
      "text/plain": [
       "<matplotlib.figure.Figure at 0x3b4ba438>"
      ]
     },
     "metadata": {},
     "output_type": "display_data"
    }
   ],
   "source": [
    "view_hour_cnt.plot(kind='line', figsize=[15,5], legend=True)"
   ]
  },
  {
   "cell_type": "code",
   "execution_count": 158,
   "metadata": {
    "collapsed": true
   },
   "outputs": [],
   "source": [
    "buy_cnt = orders.groupby(orders['Dates'].dt.date)['Action'].count()\n"
   ]
  },
  {
   "cell_type": "code",
   "execution_count": 159,
   "metadata": {
    "collapsed": false
   },
   "outputs": [
    {
     "data": {
      "text/plain": [
       "<matplotlib.axes._subplots.AxesSubplot at 0x3b21dac8>"
      ]
     },
     "execution_count": 159,
     "metadata": {},
     "output_type": "execute_result"
    },
    {
     "data": {
      "image/png": "[encoded data removed]",
      "text/plain": [
       "<matplotlib.figure.Figure at 0x345ce470>"
      ]
     },
     "metadata": {},
     "output_type": "display_data"
    }
   ],
   "source": [
    "buy_cnt.plot(kind='line', figsize=[15,5], legend=True)"
   ]
  },
  {
   "cell_type": "code",
   "execution_count": 160,
   "metadata": {
    "collapsed": false
   },
   "outputs": [
    {
     "data": {
      "text/plain": [
       "<matplotlib.axes._subplots.AxesSubplot at 0x39f49550>"
      ]
     },
     "execution_count": 160,
     "metadata": {},
     "output_type": "execute_result"
    },
    {
     "data": {
      "image/png": "[encoded data removed]",
      "text/plain": [
       "<matplotlib.figure.Figure at 0x39e4e940>"
      ]
     },
     "metadata": {},
     "output_type": "display_data"
    }
   ],
   "source": [
    "buy_hour_cnt = orders.groupby(orders['Dates'].dt.hour)['Action'].count()\n",
    "buy_hour_cnt.plot(kind='line', figsize=[15,5], legend=True)"
   ]
  },
  {
   "cell_type": "code",
   "execution_count": 161,
   "metadata": {
    "collapsed": true
   },
   "outputs": [],
   "source": [
    "orders['Total_price'] = orders['Quantity'] * orders['Price']\n"
   ]
  },
  {
   "cell_type": "code",
   "execution_count": 163,
   "metadata": {
    "collapsed": false
   },
   "outputs": [
    {
     "data": {
      "text/html": [
       "<div>\n",
       "<table border=\"1\" class=\"dataframe\">\n",
       "  <thead>\n",
       "    <tr style=\"text-align: right;\">\n",
       "      <th></th>\n",
       "      <th>Dates</th>\n",
       "      <th>Action</th>\n",
       "      <th>User</th>\n",
       "      <th>Product</th>\n",
       "      <th>Quantity</th>\n",
       "      <th>Price</th>\n",
       "      <th>Total_Price</th>\n",
       "      <th>Total_price</th>\n",
       "    </tr>\n",
       "  </thead>\n",
       "  <tbody>\n",
       "    <tr>\n",
       "      <th>0</th>\n",
       "      <td>2015-07-01 00:00:01</td>\n",
       "      <td>order</td>\n",
       "      <td>U312622727</td>\n",
       "      <td>P0006944501</td>\n",
       "      <td>1</td>\n",
       "      <td>1069</td>\n",
       "      <td>1069</td>\n",
       "      <td>1069</td>\n",
       "    </tr>\n",
       "    <tr>\n",
       "      <th>1</th>\n",
       "      <td>2015-07-01 00:00:03</td>\n",
       "      <td>order</td>\n",
       "      <td>U239012343</td>\n",
       "      <td>P0006018073</td>\n",
       "      <td>1</td>\n",
       "      <td>1680</td>\n",
       "      <td>1680</td>\n",
       "      <td>1680</td>\n",
       "    </tr>\n",
       "    <tr>\n",
       "      <th>2</th>\n",
       "      <td>2015-07-01 00:00:19</td>\n",
       "      <td>order</td>\n",
       "      <td>U10007697373</td>\n",
       "      <td>P0002267974</td>\n",
       "      <td>1</td>\n",
       "      <td>285</td>\n",
       "      <td>285</td>\n",
       "      <td>285</td>\n",
       "    </tr>\n",
       "    <tr>\n",
       "      <th>3</th>\n",
       "      <td>2015-07-01 00:01:10</td>\n",
       "      <td>order</td>\n",
       "      <td>U296328517</td>\n",
       "      <td>P0016144236</td>\n",
       "      <td>1</td>\n",
       "      <td>550</td>\n",
       "      <td>550</td>\n",
       "      <td>550</td>\n",
       "    </tr>\n",
       "    <tr>\n",
       "      <th>4</th>\n",
       "      <td>2015-07-01 00:01:36</td>\n",
       "      <td>order</td>\n",
       "      <td>U300884570</td>\n",
       "      <td>P0014516980122</td>\n",
       "      <td>1</td>\n",
       "      <td>249</td>\n",
       "      <td>249</td>\n",
       "      <td>249</td>\n",
       "    </tr>\n",
       "  </tbody>\n",
       "</table>\n",
       "</div>"
      ],
      "text/plain": [
       "                Dates Action          User         Product  Quantity  Price  \\\n",
       "0 2015-07-01 00:00:01  order    U312622727     P0006944501         1   1069   \n",
       "1 2015-07-01 00:00:03  order    U239012343     P0006018073         1   1680   \n",
       "2 2015-07-01 00:00:19  order  U10007697373     P0002267974         1    285   \n",
       "3 2015-07-01 00:01:10  order    U296328517     P0016144236         1    550   \n",
       "4 2015-07-01 00:01:36  order    U300884570  P0014516980122         1    249   \n",
       "\n",
       "   Total_Price  Total_price  \n",
       "0         1069         1069  \n",
       "1         1680         1680  \n",
       "2          285          285  \n",
       "3          550          550  \n",
       "4          249          249  "
      ]
     },
     "execution_count": 163,
     "metadata": {},
     "output_type": "execute_result"
    }
   ],
   "source": [
    "orders.head()"
   ]
  },
  {
   "cell_type": "code",
   "execution_count": 164,
   "metadata": {
    "collapsed": true
   },
   "outputs": [],
   "source": [
    "g = orders.groupby('User')['Total_price'].sum().sort_values(ascending=False)[0:10]\n"
   ]
  },
  {
   "cell_type": "code",
   "execution_count": 165,
   "metadata": {
    "collapsed": false
   },
   "outputs": [
    {
     "data": {
      "text/plain": [
       "<matplotlib.axes._subplots.AxesSubplot at 0x39fad780>"
      ]
     },
     "execution_count": 165,
     "metadata": {},
     "output_type": "execute_result"
    },
    {
     "data": {
      "image/png": "[encoded data removed]",
      "text/plain": [
       "<matplotlib.figure.Figure at 0x345ce358>"
      ]
     },
     "metadata": {},
     "output_type": "display_data"
    }
   ],
   "source": [
    "g.plot(kind='bar')"
   ]
  },
  {
   "cell_type": "code",
   "execution_count": 168,
   "metadata": {
    "collapsed": false
   },
   "outputs": [
    {
     "data": {
      "text/plain": [
       "Dates\n",
       "2015-07-01    24569\n",
       "2015-07-02    17043\n",
       "2015-07-03    28041\n",
       "2015-07-04    28625\n",
       "2015-07-05    15522\n",
       "Name: Action, dtype: int64"
      ]
     },
     "execution_count": 168,
     "metadata": {},
     "output_type": "execute_result"
    }
   ],
   "source": [
    "view_daily_cnt = views.groupby(by=views['Dates'].dt.date)['Action'].count()\n",
    "view_daily_cnt.head()"
   ]
  },
  {
   "cell_type": "code",
   "execution_count": 169,
   "metadata": {
    "collapsed": false
   },
   "outputs": [
    {
     "data": {
      "text/plain": [
       "Dates\n",
       "2015-07-01    2324\n",
       "2015-07-02    2059\n",
       "2015-07-03    1778\n",
       "2015-07-04    2166\n",
       "2015-07-05    1413\n",
       "Name: Action, dtype: int64"
      ]
     },
     "execution_count": 169,
     "metadata": {},
     "output_type": "execute_result"
    }
   ],
   "source": [
    "orders_daily_cnt = orders.groupby(by=orders['Dates'].dt.date)['Action'].count()\n",
    "orders_daily_cnt.head()"
   ]
  },
  {
   "cell_type": "code",
   "execution_count": 170,
   "metadata": {
    "collapsed": false
   },
   "outputs": [
    {
     "data": {
      "text/plain": [
       "61"
      ]
     },
     "execution_count": 170,
     "metadata": {},
     "output_type": "execute_result"
    }
   ],
   "source": [
    "view_daily_cnt.count()"
   ]
  },
  {
   "cell_type": "code",
   "execution_count": 171,
   "metadata": {
    "collapsed": false
   },
   "outputs": [
    {
     "data": {
      "text/plain": [
       "30"
      ]
     },
     "execution_count": 171,
     "metadata": {},
     "output_type": "execute_result"
    }
   ],
   "source": [
    "orders_daily_cnt.count()"
   ]
  },
  {
   "cell_type": "code",
   "execution_count": 181,
   "metadata": {
    "collapsed": true
   },
   "outputs": [],
   "source": [
    "df = pd.concat([view_daily_cnt, orders_daily_cnt], axis=1)"
   ]
  },
  {
   "cell_type": "code",
   "execution_count": 182,
   "metadata": {
    "collapsed": false
   },
   "outputs": [
    {
     "data": {
      "text/html": [
       "<div>\n",
       "<table border=\"1\" class=\"dataframe\">\n",
       "  <thead>\n",
       "    <tr style=\"text-align: right;\">\n",
       "      <th></th>\n",
       "      <th>Action</th>\n",
       "      <th>Action</th>\n",
       "    </tr>\n",
       "  </thead>\n",
       "  <tbody>\n",
       "    <tr>\n",
       "      <th>2015-08-26</th>\n",
       "      <td>19867</td>\n",
       "      <td>NaN</td>\n",
       "    </tr>\n",
       "    <tr>\n",
       "      <th>2015-08-27</th>\n",
       "      <td>18985</td>\n",
       "      <td>NaN</td>\n",
       "    </tr>\n",
       "    <tr>\n",
       "      <th>2015-08-28</th>\n",
       "      <td>20438</td>\n",
       "      <td>NaN</td>\n",
       "    </tr>\n",
       "    <tr>\n",
       "      <th>2015-08-29</th>\n",
       "      <td>23000</td>\n",
       "      <td>NaN</td>\n",
       "    </tr>\n",
       "    <tr>\n",
       "      <th>2015-08-30</th>\n",
       "      <td>29138</td>\n",
       "      <td>NaN</td>\n",
       "    </tr>\n",
       "  </tbody>\n",
       "</table>\n",
       "</div>"
      ],
      "text/plain": [
       "            Action  Action\n",
       "2015-08-26   19867     NaN\n",
       "2015-08-27   18985     NaN\n",
       "2015-08-28   20438     NaN\n",
       "2015-08-29   23000     NaN\n",
       "2015-08-30   29138     NaN"
      ]
     },
     "execution_count": 182,
     "metadata": {},
     "output_type": "execute_result"
    }
   ],
   "source": [
    "df.tail()"
   ]
  },
  {
   "cell_type": "code",
   "execution_count": 183,
   "metadata": {
    "collapsed": false
   },
   "outputs": [],
   "source": [
    "#df.dropna()\n",
    "df.dropna(inplace=True)\n",
    "#df"
   ]
  },
  {
   "cell_type": "code",
   "execution_count": 184,
   "metadata": {
    "collapsed": false
   },
   "outputs": [
    {
     "data": {
      "text/plain": [
       "<matplotlib.axes._subplots.AxesSubplot at 0x15d663c8>"
      ]
     },
     "execution_count": 184,
     "metadata": {},
     "output_type": "execute_result"
    },
    {
     "data": {
      "image/png": "[encoded data removed]",
      "text/plain": [
       "<matplotlib.figure.Figure at 0x3b1843c8>"
      ]
     },
     "metadata": {},
     "output_type": "display_data"
    }
   ],
   "source": [
    "df.plot(kind=\"line\")"
   ]
  },
  {
   "cell_type": "code",
   "execution_count": 186,
   "metadata": {
    "collapsed": false
   },
   "outputs": [],
   "source": [
    "df.columns = ['View', 'Buy']"
   ]
  },
  {
   "cell_type": "code",
   "execution_count": 188,
   "metadata": {
    "collapsed": false
   },
   "outputs": [
    {
     "data": {
      "text/plain": [
       "<matplotlib.axes._subplots.AxesSubplot at 0x1dc17b70>"
      ]
     },
     "execution_count": 188,
     "metadata": {},
     "output_type": "execute_result"
    },
    {
     "data": {
      "image/png": "[encoded data removed]",
      "text/plain": [
       "<matplotlib.figure.Figure at 0x1dc7c898>"
      ]
     },
     "metadata": {},
     "output_type": "display_data"
    }
   ],
   "source": [
    "df.plot(kind=\"line\", figsize=[15,5], legend=True)"
   ]
  },
  {
   "cell_type": "code",
   "execution_count": 189,
   "metadata": {
    "collapsed": false
   },
   "outputs": [
    {
     "data": {
      "text/plain": [
       "<matplotlib.axes._subplots.AxesSubplot at 0x1dd58400>"
      ]
     },
     "execution_count": 189,
     "metadata": {},
     "output_type": "execute_result"
    },
    {
     "data": {
      "image/png": "[encoded data removed]",
      "text/plain": [
       "<matplotlib.figure.Figure at 0x16d71a20>"
      ]
     },
     "metadata": {},
     "output_type": "display_data"
    }
   ],
   "source": [
    "df.plot(kind=\"bar\", figsize=[15,5], legend=True)"
   ]
  },
  {
   "cell_type": "markdown",
   "metadata": {},
   "source": [
    "## Pandas 分析案例"
   ]
  },
  {
   "cell_type": "code",
   "execution_count": 190,
   "metadata": {
    "collapsed": true
   },
   "outputs": [],
   "source": [
    "import pandas as pd\n",
    "names1880 = pd.read_csv('names/yob1880.txt', names=['name', 'sex', 'births'])\n"
   ]
  },
  {
   "cell_type": "code",
   "execution_count": 191,
   "metadata": {
    "collapsed": false
   },
   "outputs": [
    {
     "data": {
      "text/html": [
       "<div>\n",
       "<table border=\"1\" class=\"dataframe\">\n",
       "  <thead>\n",
       "    <tr style=\"text-align: right;\">\n",
       "      <th></th>\n",
       "      <th>name</th>\n",
       "      <th>sex</th>\n",
       "      <th>births</th>\n",
       "    </tr>\n",
       "  </thead>\n",
       "  <tbody>\n",
       "    <tr>\n",
       "      <th>0</th>\n",
       "      <td>Mary</td>\n",
       "      <td>F</td>\n",
       "      <td>7065</td>\n",
       "    </tr>\n",
       "    <tr>\n",
       "      <th>1</th>\n",
       "      <td>Anna</td>\n",
       "      <td>F</td>\n",
       "      <td>2604</td>\n",
       "    </tr>\n",
       "    <tr>\n",
       "      <th>2</th>\n",
       "      <td>Emma</td>\n",
       "      <td>F</td>\n",
       "      <td>2003</td>\n",
       "    </tr>\n",
       "    <tr>\n",
       "      <th>3</th>\n",
       "      <td>Elizabeth</td>\n",
       "      <td>F</td>\n",
       "      <td>1939</td>\n",
       "    </tr>\n",
       "    <tr>\n",
       "      <th>4</th>\n",
       "      <td>Minnie</td>\n",
       "      <td>F</td>\n",
       "      <td>1746</td>\n",
       "    </tr>\n",
       "  </tbody>\n",
       "</table>\n",
       "</div>"
      ],
      "text/plain": [
       "        name sex  births\n",
       "0       Mary   F    7065\n",
       "1       Anna   F    2604\n",
       "2       Emma   F    2003\n",
       "3  Elizabeth   F    1939\n",
       "4     Minnie   F    1746"
      ]
     },
     "execution_count": 191,
     "metadata": {},
     "output_type": "execute_result"
    }
   ],
   "source": [
    "names1880.head()"
   ]
  },
  {
   "cell_type": "code",
   "execution_count": 192,
   "metadata": {
    "collapsed": false
   },
   "outputs": [
    {
     "data": {
      "text/html": [
       "<div>\n",
       "<table border=\"1\" class=\"dataframe\">\n",
       "  <thead>\n",
       "    <tr style=\"text-align: right;\">\n",
       "      <th></th>\n",
       "      <th>name</th>\n",
       "      <th>sex</th>\n",
       "      <th>births</th>\n",
       "    </tr>\n",
       "  </thead>\n",
       "  <tbody>\n",
       "    <tr>\n",
       "      <th>1995</th>\n",
       "      <td>Woodie</td>\n",
       "      <td>M</td>\n",
       "      <td>5</td>\n",
       "    </tr>\n",
       "    <tr>\n",
       "      <th>1996</th>\n",
       "      <td>Worthy</td>\n",
       "      <td>M</td>\n",
       "      <td>5</td>\n",
       "    </tr>\n",
       "    <tr>\n",
       "      <th>1997</th>\n",
       "      <td>Wright</td>\n",
       "      <td>M</td>\n",
       "      <td>5</td>\n",
       "    </tr>\n",
       "    <tr>\n",
       "      <th>1998</th>\n",
       "      <td>York</td>\n",
       "      <td>M</td>\n",
       "      <td>5</td>\n",
       "    </tr>\n",
       "    <tr>\n",
       "      <th>1999</th>\n",
       "      <td>Zachariah</td>\n",
       "      <td>M</td>\n",
       "      <td>5</td>\n",
       "    </tr>\n",
       "  </tbody>\n",
       "</table>\n",
       "</div>"
      ],
      "text/plain": [
       "           name sex  births\n",
       "1995     Woodie   M       5\n",
       "1996     Worthy   M       5\n",
       "1997     Wright   M       5\n",
       "1998       York   M       5\n",
       "1999  Zachariah   M       5"
      ]
     },
     "execution_count": 192,
     "metadata": {},
     "output_type": "execute_result"
    }
   ],
   "source": [
    "names1880.tail()"
   ]
  },
  {
   "cell_type": "code",
   "execution_count": 194,
   "metadata": {
    "collapsed": false
   },
   "outputs": [
    {
     "data": {
      "text/plain": [
       "array(['F', 'M'], dtype=object)"
      ]
     },
     "execution_count": 194,
     "metadata": {},
     "output_type": "execute_result"
    }
   ],
   "source": [
    "names1880['sex'].unique()"
   ]
  },
  {
   "cell_type": "code",
   "execution_count": 195,
   "metadata": {
    "collapsed": false
   },
   "outputs": [
    {
     "data": {
      "text/plain": [
       "array(['Mary', 'Anna', 'Emma', ..., 'Wright', 'York', 'Zachariah'], dtype=object)"
      ]
     },
     "execution_count": 195,
     "metadata": {},
     "output_type": "execute_result"
    }
   ],
   "source": [
    "names1880['name'].unique()"
   ]
  },
  {
   "cell_type": "code",
   "execution_count": 196,
   "metadata": {
    "collapsed": false
   },
   "outputs": [
    {
     "data": {
      "text/plain": [
       "1889"
      ]
     },
     "execution_count": 196,
     "metadata": {},
     "output_type": "execute_result"
    }
   ],
   "source": [
    "names1880['name'].nunique()"
   ]
  },
  {
   "cell_type": "code",
   "execution_count": 199,
   "metadata": {
    "collapsed": false
   },
   "outputs": [
    {
     "data": {
      "text/plain": [
       "sex\n",
       "F     90993\n",
       "M    110493\n",
       "Name: births, dtype: int64"
      ]
     },
     "execution_count": 199,
     "metadata": {},
     "output_type": "execute_result"
    }
   ],
   "source": [
    "names1880.groupby('sex')['births'].sum()"
   ]
  },
  {
   "cell_type": "code",
   "execution_count": 200,
   "metadata": {
    "collapsed": true
   },
   "outputs": [],
   "source": [
    "import pandas as pd\n",
    "namesall = []\n",
    "for year in range(1880, 2011):\n",
    "    path = 'names/yob' + str(year) + '.txt'\n",
    "    df = pd.read_csv(path, names=['name', 'sex', 'births'])\n",
    "    \n",
    "    df['year'] = year\n",
    "    namesall.append(df)\n"
   ]
  },
  {
   "cell_type": "code",
   "execution_count": 202,
   "metadata": {
    "collapsed": false
   },
   "outputs": [
    {
     "data": {
      "text/html": [
       "<div>\n",
       "<table border=\"1\" class=\"dataframe\">\n",
       "  <thead>\n",
       "    <tr style=\"text-align: right;\">\n",
       "      <th></th>\n",
       "      <th>name</th>\n",
       "      <th>sex</th>\n",
       "      <th>births</th>\n",
       "      <th>year</th>\n",
       "    </tr>\n",
       "  </thead>\n",
       "  <tbody>\n",
       "    <tr>\n",
       "      <th>0</th>\n",
       "      <td>Isabella</td>\n",
       "      <td>F</td>\n",
       "      <td>22731</td>\n",
       "      <td>2010</td>\n",
       "    </tr>\n",
       "    <tr>\n",
       "      <th>1</th>\n",
       "      <td>Sophia</td>\n",
       "      <td>F</td>\n",
       "      <td>20477</td>\n",
       "      <td>2010</td>\n",
       "    </tr>\n",
       "    <tr>\n",
       "      <th>2</th>\n",
       "      <td>Emma</td>\n",
       "      <td>F</td>\n",
       "      <td>17179</td>\n",
       "      <td>2010</td>\n",
       "    </tr>\n",
       "    <tr>\n",
       "      <th>3</th>\n",
       "      <td>Olivia</td>\n",
       "      <td>F</td>\n",
       "      <td>16860</td>\n",
       "      <td>2010</td>\n",
       "    </tr>\n",
       "    <tr>\n",
       "      <th>4</th>\n",
       "      <td>Ava</td>\n",
       "      <td>F</td>\n",
       "      <td>15300</td>\n",
       "      <td>2010</td>\n",
       "    </tr>\n",
       "  </tbody>\n",
       "</table>\n",
       "</div>"
      ],
      "text/plain": [
       "       name sex  births  year\n",
       "0  Isabella   F   22731  2010\n",
       "1    Sophia   F   20477  2010\n",
       "2      Emma   F   17179  2010\n",
       "3    Olivia   F   16860  2010\n",
       "4       Ava   F   15300  2010"
      ]
     },
     "execution_count": 202,
     "metadata": {},
     "output_type": "execute_result"
    }
   ],
   "source": [
    "namesall[-1].head()"
   ]
  },
  {
   "cell_type": "code",
   "execution_count": 203,
   "metadata": {
    "collapsed": false
   },
   "outputs": [
    {
     "name": "stdout",
     "output_type": "stream",
     "text": [
      "<type 'list'>\n"
     ]
    }
   ],
   "source": [
    "print type(namesall)"
   ]
  },
  {
   "cell_type": "code",
   "execution_count": 204,
   "metadata": {
    "collapsed": true
   },
   "outputs": [],
   "source": [
    "df_names = pd.concat(namesall, ignore_index=True)"
   ]
  },
  {
   "cell_type": "code",
   "execution_count": 206,
   "metadata": {
    "collapsed": false
   },
   "outputs": [
    {
     "data": {
      "text/plain": [
       "name      1690784\n",
       "sex       1690784\n",
       "births    1690784\n",
       "year      1690784\n",
       "dtype: int64"
      ]
     },
     "execution_count": 206,
     "metadata": {},
     "output_type": "execute_result"
    }
   ],
   "source": [
    "df_names.count()"
   ]
  },
  {
   "cell_type": "code",
   "execution_count": 208,
   "metadata": {
    "collapsed": false
   },
   "outputs": [
    {
     "data": {
      "text/plain": [
       "array([1880, 1881, 1882, 1883, 1884, 1885, 1886, 1887, 1888, 1889, 1890,\n",
       "       1891, 1892, 1893, 1894, 1895, 1896, 1897, 1898, 1899, 1900, 1901,\n",
       "       1902, 1903, 1904, 1905, 1906, 1907, 1908, 1909, 1910, 1911, 1912,\n",
       "       1913, 1914, 1915, 1916, 1917, 1918, 1919, 1920, 1921, 1922, 1923,\n",
       "       1924, 1925, 1926, 1927, 1928, 1929, 1930, 1931, 1932, 1933, 1934,\n",
       "       1935, 1936, 1937, 1938, 1939, 1940, 1941, 1942, 1943, 1944, 1945,\n",
       "       1946, 1947, 1948, 1949, 1950, 1951, 1952, 1953, 1954, 1955, 1956,\n",
       "       1957, 1958, 1959, 1960, 1961, 1962, 1963, 1964, 1965, 1966, 1967,\n",
       "       1968, 1969, 1970, 1971, 1972, 1973, 1974, 1975, 1976, 1977, 1978,\n",
       "       1979, 1980, 1981, 1982, 1983, 1984, 1985, 1986, 1987, 1988, 1989,\n",
       "       1990, 1991, 1992, 1993, 1994, 1995, 1996, 1997, 1998, 1999, 2000,\n",
       "       2001, 2002, 2003, 2004, 2005, 2006, 2007, 2008, 2009, 2010], dtype=int64)"
      ]
     },
     "execution_count": 208,
     "metadata": {},
     "output_type": "execute_result"
    }
   ],
   "source": [
    "df_names['year'].unique()"
   ]
  },
  {
   "cell_type": "code",
   "execution_count": 221,
   "metadata": {
    "collapsed": false
   },
   "outputs": [
    {
     "data": {
      "text/plain": [
       "pandas.core.series.Series"
      ]
     },
     "execution_count": 221,
     "metadata": {},
     "output_type": "execute_result"
    }
   ],
   "source": [
    "df_series= df_names.groupby(['year', 'sex'])['births'].sum().head(10)\n",
    "type(df_series)"
   ]
  },
  {
   "cell_type": "code",
   "execution_count": 216,
   "metadata": {
    "collapsed": false
   },
   "outputs": [
    {
     "data": {
      "text/plain": [
       "year  sex\n",
       "1880  F       90993\n",
       "      M      110493\n",
       "1881  F       91955\n",
       "      M      100748\n",
       "1882  F      107851\n",
       "Name: births, dtype: int64"
      ]
     },
     "execution_count": 216,
     "metadata": {},
     "output_type": "execute_result"
    }
   ],
   "source": [
    "a.head()"
   ]
  },
  {
   "cell_type": "code",
   "execution_count": 224,
   "metadata": {
    "collapsed": false
   },
   "outputs": [],
   "source": [
    "#df_names.pivot_table('births', rows='year', cols='sex', aggfunc=sum)\n",
    "?df_names.pivot_table"
   ]
  },
  {
   "cell_type": "code",
   "execution_count": 232,
   "metadata": {
    "collapsed": false
   },
   "outputs": [
    {
     "data": {
      "text/html": [
       "<div>\n",
       "<table border=\"1\" class=\"dataframe\">\n",
       "  <thead>\n",
       "    <tr style=\"text-align: right;\">\n",
       "      <th>sex</th>\n",
       "      <th>F</th>\n",
       "      <th>M</th>\n",
       "    </tr>\n",
       "    <tr>\n",
       "      <th>year</th>\n",
       "      <th></th>\n",
       "      <th></th>\n",
       "    </tr>\n",
       "  </thead>\n",
       "  <tbody>\n",
       "    <tr>\n",
       "      <th>1880</th>\n",
       "      <td>90993</td>\n",
       "      <td>110493</td>\n",
       "    </tr>\n",
       "    <tr>\n",
       "      <th>1881</th>\n",
       "      <td>91955</td>\n",
       "      <td>100748</td>\n",
       "    </tr>\n",
       "    <tr>\n",
       "      <th>1882</th>\n",
       "      <td>107851</td>\n",
       "      <td>113687</td>\n",
       "    </tr>\n",
       "    <tr>\n",
       "      <th>1883</th>\n",
       "      <td>112322</td>\n",
       "      <td>104632</td>\n",
       "    </tr>\n",
       "    <tr>\n",
       "      <th>1884</th>\n",
       "      <td>129021</td>\n",
       "      <td>114445</td>\n",
       "    </tr>\n",
       "  </tbody>\n",
       "</table>\n",
       "</div>"
      ],
      "text/plain": [
       "sex        F       M\n",
       "year                \n",
       "1880   90993  110493\n",
       "1881   91955  100748\n",
       "1882  107851  113687\n",
       "1883  112322  104632\n",
       "1884  129021  114445"
      ]
     },
     "execution_count": 232,
     "metadata": {},
     "output_type": "execute_result"
    }
   ],
   "source": [
    "births = df_names.pivot_table('births', index='year', columns='sex',\\\n",
    "                              aggfunc=sum)\n",
    "births.head()"
   ]
  },
  {
   "cell_type": "code",
   "execution_count": 233,
   "metadata": {
    "collapsed": false
   },
   "outputs": [
    {
     "data": {
      "text/plain": [
       "<matplotlib.axes._subplots.AxesSubplot at 0x24a776d8>"
      ]
     },
     "execution_count": 233,
     "metadata": {},
     "output_type": "execute_result"
    },
    {
     "data": {
      "image/png": "[encoded data removed]",
      "text/plain": [
       "<matplotlib.figure.Figure at 0x12e9b7f0>"
      ]
     },
     "metadata": {},
     "output_type": "display_data"
    }
   ],
   "source": [
    "births.plot(kind = 'line', title='Total births by sex and year', \\\n",
    "            figsize=(15, 5))\n"
   ]
  },
  {
   "cell_type": "code",
   "execution_count": 249,
   "metadata": {
    "collapsed": false
   },
   "outputs": [
    {
     "data": {
      "text/plain": [
       "Index([u'Jacob', u'Ethan', u'Michael', u'Jayden', u'William', u'Alexander',\n",
       "       u'Noah', u'Daniel', u'Aiden', u'Anthony'],\n",
       "      dtype='object', name=u'name')"
      ]
     },
     "execution_count": 249,
     "metadata": {},
     "output_type": "execute_result"
    }
   ],
   "source": [
    "male = df_names[(df_names['year'] == 2010) & (df_names['sex'] =='M')].groupby('name')['births'].sum().\\\n",
    "     sort_values(ascending=False).head(10)\n",
    "male.index"
   ]
  },
  {
   "cell_type": "code",
   "execution_count": 251,
   "metadata": {
    "collapsed": false
   },
   "outputs": [
    {
     "data": {
      "text/plain": [
       "0         Mary\n",
       "1         Anna\n",
       "2         Emma\n",
       "3    Elizabeth\n",
       "4       Minnie\n",
       "Name: name, dtype: object"
      ]
     },
     "execution_count": 251,
     "metadata": {},
     "output_type": "execute_result"
    }
   ],
   "source": [
    "df_names['name'].head()"
   ]
  },
  {
   "cell_type": "code",
   "execution_count": 260,
   "metadata": {
    "collapsed": false
   },
   "outputs": [
    {
     "data": {
      "text/plain": [
       "name\n",
       "Jacob        21875\n",
       "Ethan        17866\n",
       "Michael      17133\n",
       "Jayden       17030\n",
       "William      16870\n",
       "Alexander    16634\n",
       "Noah         16281\n",
       "Daniel       15679\n",
       "Aiden        15403\n",
       "Anthony      15364\n",
       "Name: births, dtype: int64"
      ]
     },
     "execution_count": 260,
     "metadata": {},
     "output_type": "execute_result"
    }
   ],
   "source": [
    "male"
   ]
  },
  {
   "cell_type": "code",
   "execution_count": 283,
   "metadata": {
    "collapsed": false
   },
   "outputs": [
    {
     "data": {
      "text/plain": [
       "<matplotlib.axes._subplots.AxesSubplot at 0x502d1278>"
      ]
     },
     "execution_count": 283,
     "metadata": {},
     "output_type": "execute_result"
    },
    {
     "data": {
      "image/png": "[encoded data removed]",
      "text/plain": [
       "<matplotlib.figure.Figure at 0x3ba35f60>"
      ]
     },
     "metadata": {},
     "output_type": "display_data"
    }
   ],
   "source": [
    "names_in_top10 = df_names[df_names['name'].isin(male.index)]\n",
    "top_names = names_in_top10.groupby(['name', 'year'])['births'].sum()\n",
    "births_male = names_in_top10.pivot_table('births', index='year', columns='name',\\\n",
    "                              aggfunc=sum)\n",
    "\n",
    "births_male.head()\n",
    "births_male.plot(kind='line', figsize=[15,5])"
   ]
  },
  {
   "cell_type": "code",
   "execution_count": 248,
   "metadata": {
    "collapsed": false
   },
   "outputs": [
    {
     "data": {
      "text/plain": [
       "name\n",
       "Isabella    22731\n",
       "Sophia      20477\n",
       "Emma        17179\n",
       "Olivia      16860\n",
       "Ava         15300\n",
       "Emily       14172\n",
       "Abigail     14124\n",
       "Madison     13070\n",
       "Chloe       11656\n",
       "Mia         10541\n",
       "Name: births, dtype: int64"
      ]
     },
     "execution_count": 248,
     "metadata": {},
     "output_type": "execute_result"
    }
   ],
   "source": [
    "female = df_names[(df_names['year'] == 2010) & (df_names['sex'] =='F')].groupby('name')['births'].sum().\\\n",
    "     sort_values(ascending=False).head(10)\n",
    "female"
   ]
  },
  {
   "cell_type": "code",
   "execution_count": 285,
   "metadata": {
    "collapsed": false
   },
   "outputs": [
    {
     "data": {
      "text/plain": [
       "<matplotlib.axes._subplots.AxesSubplot at 0x505cfa20>"
      ]
     },
     "execution_count": 285,
     "metadata": {},
     "output_type": "execute_result"
    },
    {
     "data": {
      "image/png": "[encoded data removed]",
      "text/plain": [
       "<matplotlib.figure.Figure at 0x505ee630>"
      ]
     },
     "metadata": {},
     "output_type": "display_data"
    }
   ],
   "source": [
    "names_in_top10 = df_names[df_names['name'].isin(female.index)]\n",
    "top_names = names_in_top10.groupby(['name', 'year'])['births'].sum()\n",
    "births_female = names_in_top10.pivot_table('births', index='year', columns='name',\\\n",
    "                              aggfunc=sum)\n",
    "\n",
    "births_female.head()\n",
    "births_female.plot(kind='line', figsize=[15,5])"
   ]
  },
  {
   "cell_type": "code",
   "execution_count": 234,
   "metadata": {
    "collapsed": false
   },
   "outputs": [
    {
     "data": {
      "text/plain": [
       "0         Mary\n",
       "1         Anna\n",
       "2         Emma\n",
       "3    Elizabeth\n",
       "4       Minnie\n",
       "Name: name, dtype: object"
      ]
     },
     "execution_count": 234,
     "metadata": {},
     "output_type": "execute_result"
    }
   ],
   "source": [
    "df_names['name'].head()"
   ]
  },
  {
   "cell_type": "code",
   "execution_count": 236,
   "metadata": {
    "collapsed": false
   },
   "outputs": [
    {
     "data": {
      "text/plain": [
       "0    y\n",
       "1    a\n",
       "2    a\n",
       "3    h\n",
       "4    e\n",
       "Name: name, dtype: object"
      ]
     },
     "execution_count": 236,
     "metadata": {},
     "output_type": "execute_result"
    }
   ],
   "source": [
    "df_names['name'].str[-1].head()"
   ]
  },
  {
   "cell_type": "code",
   "execution_count": 286,
   "metadata": {
    "collapsed": false
   },
   "outputs": [
    {
     "name": "stderr",
     "output_type": "stream",
     "text": [
      "C:\\Anaconda2\\lib\\site-packages\\ipykernel\\__main__.py:3: SettingWithCopyWarning: \n",
      "A value is trying to be set on a copy of a slice from a DataFrame.\n",
      "Try using .loc[row_indexer,col_indexer] = value instead\n",
      "\n",
      "See the caveats in the documentation: http://pandas.pydata.org/pandas-docs/stable/indexing.html#indexing-view-versus-copy\n",
      "  app.launch_new_instance()\n"
     ]
    },
    {
     "data": {
      "text/html": [
       "<div>\n",
       "<table border=\"1\" class=\"dataframe\">\n",
       "  <thead>\n",
       "    <tr style=\"text-align: right;\">\n",
       "      <th></th>\n",
       "      <th>name</th>\n",
       "      <th>sex</th>\n",
       "      <th>births</th>\n",
       "      <th>year</th>\n",
       "      <th>last_letter</th>\n",
       "    </tr>\n",
       "  </thead>\n",
       "  <tbody>\n",
       "    <tr>\n",
       "      <th>942</th>\n",
       "      <td>John</td>\n",
       "      <td>M</td>\n",
       "      <td>9655</td>\n",
       "      <td>1880</td>\n",
       "      <td>n</td>\n",
       "    </tr>\n",
       "    <tr>\n",
       "      <th>943</th>\n",
       "      <td>William</td>\n",
       "      <td>M</td>\n",
       "      <td>9533</td>\n",
       "      <td>1880</td>\n",
       "      <td>m</td>\n",
       "    </tr>\n",
       "    <tr>\n",
       "      <th>944</th>\n",
       "      <td>James</td>\n",
       "      <td>M</td>\n",
       "      <td>5927</td>\n",
       "      <td>1880</td>\n",
       "      <td>s</td>\n",
       "    </tr>\n",
       "    <tr>\n",
       "      <th>945</th>\n",
       "      <td>Charles</td>\n",
       "      <td>M</td>\n",
       "      <td>5348</td>\n",
       "      <td>1880</td>\n",
       "      <td>s</td>\n",
       "    </tr>\n",
       "    <tr>\n",
       "      <th>946</th>\n",
       "      <td>George</td>\n",
       "      <td>M</td>\n",
       "      <td>5126</td>\n",
       "      <td>1880</td>\n",
       "      <td>e</td>\n",
       "    </tr>\n",
       "    <tr>\n",
       "      <th>947</th>\n",
       "      <td>Frank</td>\n",
       "      <td>M</td>\n",
       "      <td>3242</td>\n",
       "      <td>1880</td>\n",
       "      <td>k</td>\n",
       "    </tr>\n",
       "    <tr>\n",
       "      <th>948</th>\n",
       "      <td>Joseph</td>\n",
       "      <td>M</td>\n",
       "      <td>2632</td>\n",
       "      <td>1880</td>\n",
       "      <td>h</td>\n",
       "    </tr>\n",
       "    <tr>\n",
       "      <th>949</th>\n",
       "      <td>Thomas</td>\n",
       "      <td>M</td>\n",
       "      <td>2534</td>\n",
       "      <td>1880</td>\n",
       "      <td>s</td>\n",
       "    </tr>\n",
       "    <tr>\n",
       "      <th>950</th>\n",
       "      <td>Henry</td>\n",
       "      <td>M</td>\n",
       "      <td>2444</td>\n",
       "      <td>1880</td>\n",
       "      <td>y</td>\n",
       "    </tr>\n",
       "    <tr>\n",
       "      <th>951</th>\n",
       "      <td>Robert</td>\n",
       "      <td>M</td>\n",
       "      <td>2416</td>\n",
       "      <td>1880</td>\n",
       "      <td>t</td>\n",
       "    </tr>\n",
       "  </tbody>\n",
       "</table>\n",
       "</div>"
      ],
      "text/plain": [
       "        name sex  births  year last_letter\n",
       "942     John   M    9655  1880           n\n",
       "943  William   M    9533  1880           m\n",
       "944    James   M    5927  1880           s\n",
       "945  Charles   M    5348  1880           s\n",
       "946   George   M    5126  1880           e\n",
       "947    Frank   M    3242  1880           k\n",
       "948   Joseph   M    2632  1880           h\n",
       "949   Thomas   M    2534  1880           s\n",
       "950    Henry   M    2444  1880           y\n",
       "951   Robert   M    2416  1880           t"
      ]
     },
     "execution_count": 286,
     "metadata": {},
     "output_type": "execute_result"
    }
   ],
   "source": [
    "df_names['name'].str[-1].head()\n",
    "df_last_letter = df_names[df_names['sex'] == 'M']\n",
    "df_last_letter['last_letter'] = df_last_letter['name'].str[-1]\n",
    "df_last_letter.head(10)\n"
   ]
  },
  {
   "cell_type": "code",
   "execution_count": 289,
   "metadata": {
    "collapsed": false
   },
   "outputs": [
    {
     "data": {
      "text/html": [
       "<div>\n",
       "<table border=\"1\" class=\"dataframe\">\n",
       "  <thead>\n",
       "    <tr style=\"text-align: right;\">\n",
       "      <th>year</th>\n",
       "      <th>1880</th>\n",
       "      <th>1881</th>\n",
       "      <th>1882</th>\n",
       "      <th>1883</th>\n",
       "      <th>1884</th>\n",
       "      <th>1885</th>\n",
       "      <th>1886</th>\n",
       "      <th>1887</th>\n",
       "      <th>1888</th>\n",
       "      <th>1889</th>\n",
       "      <th>...</th>\n",
       "      <th>2001</th>\n",
       "      <th>2002</th>\n",
       "      <th>2003</th>\n",
       "      <th>2004</th>\n",
       "      <th>2005</th>\n",
       "      <th>2006</th>\n",
       "      <th>2007</th>\n",
       "      <th>2008</th>\n",
       "      <th>2009</th>\n",
       "      <th>2010</th>\n",
       "    </tr>\n",
       "    <tr>\n",
       "      <th>last_letter</th>\n",
       "      <th></th>\n",
       "      <th></th>\n",
       "      <th></th>\n",
       "      <th></th>\n",
       "      <th></th>\n",
       "      <th></th>\n",
       "      <th></th>\n",
       "      <th></th>\n",
       "      <th></th>\n",
       "      <th></th>\n",
       "      <th></th>\n",
       "      <th></th>\n",
       "      <th></th>\n",
       "      <th></th>\n",
       "      <th></th>\n",
       "      <th></th>\n",
       "      <th></th>\n",
       "      <th></th>\n",
       "      <th></th>\n",
       "      <th></th>\n",
       "      <th></th>\n",
       "    </tr>\n",
       "  </thead>\n",
       "  <tbody>\n",
       "    <tr>\n",
       "      <th>a</th>\n",
       "      <td>776</td>\n",
       "      <td>767</td>\n",
       "      <td>773</td>\n",
       "      <td>757</td>\n",
       "      <td>817</td>\n",
       "      <td>713</td>\n",
       "      <td>775</td>\n",
       "      <td>700</td>\n",
       "      <td>819</td>\n",
       "      <td>704</td>\n",
       "      <td>...</td>\n",
       "      <td>39124</td>\n",
       "      <td>38815</td>\n",
       "      <td>37825</td>\n",
       "      <td>38650</td>\n",
       "      <td>36838</td>\n",
       "      <td>36156</td>\n",
       "      <td>34654</td>\n",
       "      <td>32901</td>\n",
       "      <td>31430</td>\n",
       "      <td>28438</td>\n",
       "    </tr>\n",
       "    <tr>\n",
       "      <th>b</th>\n",
       "      <td>509</td>\n",
       "      <td>470</td>\n",
       "      <td>506</td>\n",
       "      <td>452</td>\n",
       "      <td>496</td>\n",
       "      <td>441</td>\n",
       "      <td>452</td>\n",
       "      <td>434</td>\n",
       "      <td>468</td>\n",
       "      <td>389</td>\n",
       "      <td>...</td>\n",
       "      <td>50950</td>\n",
       "      <td>49284</td>\n",
       "      <td>48065</td>\n",
       "      <td>45914</td>\n",
       "      <td>43144</td>\n",
       "      <td>42600</td>\n",
       "      <td>42123</td>\n",
       "      <td>39945</td>\n",
       "      <td>38862</td>\n",
       "      <td>38859</td>\n",
       "    </tr>\n",
       "    <tr>\n",
       "      <th>c</th>\n",
       "      <td>349</td>\n",
       "      <td>331</td>\n",
       "      <td>349</td>\n",
       "      <td>299</td>\n",
       "      <td>319</td>\n",
       "      <td>301</td>\n",
       "      <td>283</td>\n",
       "      <td>261</td>\n",
       "      <td>305</td>\n",
       "      <td>271</td>\n",
       "      <td>...</td>\n",
       "      <td>27113</td>\n",
       "      <td>27238</td>\n",
       "      <td>27697</td>\n",
       "      <td>26778</td>\n",
       "      <td>26078</td>\n",
       "      <td>26635</td>\n",
       "      <td>26864</td>\n",
       "      <td>25318</td>\n",
       "      <td>24048</td>\n",
       "      <td>23125</td>\n",
       "    </tr>\n",
       "    <tr>\n",
       "      <th>d</th>\n",
       "      <td>9177</td>\n",
       "      <td>8387</td>\n",
       "      <td>9702</td>\n",
       "      <td>8796</td>\n",
       "      <td>9856</td>\n",
       "      <td>9214</td>\n",
       "      <td>9710</td>\n",
       "      <td>9033</td>\n",
       "      <td>10600</td>\n",
       "      <td>10167</td>\n",
       "      <td>...</td>\n",
       "      <td>60838</td>\n",
       "      <td>55829</td>\n",
       "      <td>53391</td>\n",
       "      <td>51754</td>\n",
       "      <td>50670</td>\n",
       "      <td>51410</td>\n",
       "      <td>50595</td>\n",
       "      <td>47910</td>\n",
       "      <td>46172</td>\n",
       "      <td>44398</td>\n",
       "    </tr>\n",
       "    <tr>\n",
       "      <th>e</th>\n",
       "      <td>13493</td>\n",
       "      <td>12406</td>\n",
       "      <td>14613</td>\n",
       "      <td>13191</td>\n",
       "      <td>14637</td>\n",
       "      <td>14048</td>\n",
       "      <td>14475</td>\n",
       "      <td>13212</td>\n",
       "      <td>15744</td>\n",
       "      <td>14389</td>\n",
       "      <td>...</td>\n",
       "      <td>145395</td>\n",
       "      <td>144651</td>\n",
       "      <td>144769</td>\n",
       "      <td>142098</td>\n",
       "      <td>141123</td>\n",
       "      <td>142999</td>\n",
       "      <td>143698</td>\n",
       "      <td>140966</td>\n",
       "      <td>135496</td>\n",
       "      <td>129012</td>\n",
       "    </tr>\n",
       "    <tr>\n",
       "      <th>f</th>\n",
       "      <td>108</td>\n",
       "      <td>83</td>\n",
       "      <td>135</td>\n",
       "      <td>106</td>\n",
       "      <td>131</td>\n",
       "      <td>115</td>\n",
       "      <td>112</td>\n",
       "      <td>124</td>\n",
       "      <td>140</td>\n",
       "      <td>124</td>\n",
       "      <td>...</td>\n",
       "      <td>1758</td>\n",
       "      <td>1817</td>\n",
       "      <td>1819</td>\n",
       "      <td>1904</td>\n",
       "      <td>1985</td>\n",
       "      <td>1968</td>\n",
       "      <td>2090</td>\n",
       "      <td>2195</td>\n",
       "      <td>2212</td>\n",
       "      <td>2255</td>\n",
       "    </tr>\n",
       "    <tr>\n",
       "      <th>g</th>\n",
       "      <td>147</td>\n",
       "      <td>146</td>\n",
       "      <td>146</td>\n",
       "      <td>135</td>\n",
       "      <td>160</td>\n",
       "      <td>182</td>\n",
       "      <td>141</td>\n",
       "      <td>117</td>\n",
       "      <td>190</td>\n",
       "      <td>124</td>\n",
       "      <td>...</td>\n",
       "      <td>2151</td>\n",
       "      <td>2084</td>\n",
       "      <td>2009</td>\n",
       "      <td>1837</td>\n",
       "      <td>1882</td>\n",
       "      <td>1929</td>\n",
       "      <td>2040</td>\n",
       "      <td>2059</td>\n",
       "      <td>2396</td>\n",
       "      <td>2666</td>\n",
       "    </tr>\n",
       "    <tr>\n",
       "      <th>h</th>\n",
       "      <td>4049</td>\n",
       "      <td>3766</td>\n",
       "      <td>4176</td>\n",
       "      <td>3925</td>\n",
       "      <td>4242</td>\n",
       "      <td>4055</td>\n",
       "      <td>4087</td>\n",
       "      <td>3951</td>\n",
       "      <td>4638</td>\n",
       "      <td>4261</td>\n",
       "      <td>...</td>\n",
       "      <td>85959</td>\n",
       "      <td>88085</td>\n",
       "      <td>88226</td>\n",
       "      <td>89620</td>\n",
       "      <td>92497</td>\n",
       "      <td>98477</td>\n",
       "      <td>99414</td>\n",
       "      <td>100250</td>\n",
       "      <td>99979</td>\n",
       "      <td>98090</td>\n",
       "    </tr>\n",
       "    <tr>\n",
       "      <th>i</th>\n",
       "      <td>200</td>\n",
       "      <td>206</td>\n",
       "      <td>207</td>\n",
       "      <td>167</td>\n",
       "      <td>158</td>\n",
       "      <td>147</td>\n",
       "      <td>171</td>\n",
       "      <td>139</td>\n",
       "      <td>181</td>\n",
       "      <td>154</td>\n",
       "      <td>...</td>\n",
       "      <td>20980</td>\n",
       "      <td>23610</td>\n",
       "      <td>26011</td>\n",
       "      <td>28500</td>\n",
       "      <td>31317</td>\n",
       "      <td>33558</td>\n",
       "      <td>35231</td>\n",
       "      <td>38151</td>\n",
       "      <td>40912</td>\n",
       "      <td>42956</td>\n",
       "    </tr>\n",
       "    <tr>\n",
       "      <th>j</th>\n",
       "      <td>NaN</td>\n",
       "      <td>NaN</td>\n",
       "      <td>NaN</td>\n",
       "      <td>NaN</td>\n",
       "      <td>NaN</td>\n",
       "      <td>NaN</td>\n",
       "      <td>NaN</td>\n",
       "      <td>NaN</td>\n",
       "      <td>NaN</td>\n",
       "      <td>NaN</td>\n",
       "      <td>...</td>\n",
       "      <td>1069</td>\n",
       "      <td>1088</td>\n",
       "      <td>1203</td>\n",
       "      <td>1094</td>\n",
       "      <td>1291</td>\n",
       "      <td>1241</td>\n",
       "      <td>1254</td>\n",
       "      <td>1381</td>\n",
       "      <td>1416</td>\n",
       "      <td>1459</td>\n",
       "    </tr>\n",
       "    <tr>\n",
       "      <th>k</th>\n",
       "      <td>4720</td>\n",
       "      <td>4149</td>\n",
       "      <td>4723</td>\n",
       "      <td>4387</td>\n",
       "      <td>4770</td>\n",
       "      <td>4562</td>\n",
       "      <td>4682</td>\n",
       "      <td>4327</td>\n",
       "      <td>5098</td>\n",
       "      <td>4520</td>\n",
       "      <td>...</td>\n",
       "      <td>42477</td>\n",
       "      <td>42043</td>\n",
       "      <td>42296</td>\n",
       "      <td>41400</td>\n",
       "      <td>42151</td>\n",
       "      <td>42537</td>\n",
       "      <td>42136</td>\n",
       "      <td>39563</td>\n",
       "      <td>37507</td>\n",
       "      <td>35198</td>\n",
       "    </tr>\n",
       "    <tr>\n",
       "      <th>l</th>\n",
       "      <td>5090</td>\n",
       "      <td>4571</td>\n",
       "      <td>5427</td>\n",
       "      <td>5100</td>\n",
       "      <td>5604</td>\n",
       "      <td>5368</td>\n",
       "      <td>5619</td>\n",
       "      <td>5358</td>\n",
       "      <td>6427</td>\n",
       "      <td>6040</td>\n",
       "      <td>...</td>\n",
       "      <td>153648</td>\n",
       "      <td>153493</td>\n",
       "      <td>153862</td>\n",
       "      <td>152800</td>\n",
       "      <td>155312</td>\n",
       "      <td>156234</td>\n",
       "      <td>155203</td>\n",
       "      <td>150791</td>\n",
       "      <td>143751</td>\n",
       "      <td>133583</td>\n",
       "    </tr>\n",
       "    <tr>\n",
       "      <th>m</th>\n",
       "      <td>11260</td>\n",
       "      <td>10217</td>\n",
       "      <td>11255</td>\n",
       "      <td>10114</td>\n",
       "      <td>10732</td>\n",
       "      <td>9810</td>\n",
       "      <td>10039</td>\n",
       "      <td>9081</td>\n",
       "      <td>10625</td>\n",
       "      <td>9443</td>\n",
       "      <td>...</td>\n",
       "      <td>41967</td>\n",
       "      <td>42663</td>\n",
       "      <td>42790</td>\n",
       "      <td>43054</td>\n",
       "      <td>41600</td>\n",
       "      <td>42503</td>\n",
       "      <td>43860</td>\n",
       "      <td>44316</td>\n",
       "      <td>46278</td>\n",
       "      <td>46808</td>\n",
       "    </tr>\n",
       "    <tr>\n",
       "      <th>n</th>\n",
       "      <td>16929</td>\n",
       "      <td>15436</td>\n",
       "      <td>17003</td>\n",
       "      <td>15867</td>\n",
       "      <td>17157</td>\n",
       "      <td>15778</td>\n",
       "      <td>16580</td>\n",
       "      <td>15094</td>\n",
       "      <td>18284</td>\n",
       "      <td>16807</td>\n",
       "      <td>...</td>\n",
       "      <td>616099</td>\n",
       "      <td>630322</td>\n",
       "      <td>663419</td>\n",
       "      <td>676011</td>\n",
       "      <td>686326</td>\n",
       "      <td>720998</td>\n",
       "      <td>741355</td>\n",
       "      <td>733869</td>\n",
       "      <td>715388</td>\n",
       "      <td>688677</td>\n",
       "    </tr>\n",
       "    <tr>\n",
       "      <th>o</th>\n",
       "      <td>933</td>\n",
       "      <td>800</td>\n",
       "      <td>926</td>\n",
       "      <td>812</td>\n",
       "      <td>939</td>\n",
       "      <td>963</td>\n",
       "      <td>966</td>\n",
       "      <td>974</td>\n",
       "      <td>1236</td>\n",
       "      <td>1125</td>\n",
       "      <td>...</td>\n",
       "      <td>82146</td>\n",
       "      <td>83180</td>\n",
       "      <td>85423</td>\n",
       "      <td>88822</td>\n",
       "      <td>92001</td>\n",
       "      <td>96350</td>\n",
       "      <td>96895</td>\n",
       "      <td>91485</td>\n",
       "      <td>86423</td>\n",
       "      <td>81025</td>\n",
       "    </tr>\n",
       "    <tr>\n",
       "      <th>p</th>\n",
       "      <td>282</td>\n",
       "      <td>271</td>\n",
       "      <td>308</td>\n",
       "      <td>286</td>\n",
       "      <td>275</td>\n",
       "      <td>283</td>\n",
       "      <td>304</td>\n",
       "      <td>264</td>\n",
       "      <td>336</td>\n",
       "      <td>283</td>\n",
       "      <td>...</td>\n",
       "      <td>3419</td>\n",
       "      <td>3157</td>\n",
       "      <td>2982</td>\n",
       "      <td>2841</td>\n",
       "      <td>2768</td>\n",
       "      <td>2721</td>\n",
       "      <td>2739</td>\n",
       "      <td>2637</td>\n",
       "      <td>2595</td>\n",
       "      <td>2409</td>\n",
       "    </tr>\n",
       "    <tr>\n",
       "      <th>q</th>\n",
       "      <td>NaN</td>\n",
       "      <td>NaN</td>\n",
       "      <td>NaN</td>\n",
       "      <td>NaN</td>\n",
       "      <td>NaN</td>\n",
       "      <td>NaN</td>\n",
       "      <td>NaN</td>\n",
       "      <td>NaN</td>\n",
       "      <td>NaN</td>\n",
       "      <td>NaN</td>\n",
       "      <td>...</td>\n",
       "      <td>602</td>\n",
       "      <td>618</td>\n",
       "      <td>585</td>\n",
       "      <td>523</td>\n",
       "      <td>446</td>\n",
       "      <td>430</td>\n",
       "      <td>431</td>\n",
       "      <td>339</td>\n",
       "      <td>377</td>\n",
       "      <td>342</td>\n",
       "    </tr>\n",
       "    <tr>\n",
       "      <th>r</th>\n",
       "      <td>7454</td>\n",
       "      <td>7273</td>\n",
       "      <td>7988</td>\n",
       "      <td>7510</td>\n",
       "      <td>8983</td>\n",
       "      <td>8550</td>\n",
       "      <td>8437</td>\n",
       "      <td>7620</td>\n",
       "      <td>9073</td>\n",
       "      <td>8380</td>\n",
       "      <td>...</td>\n",
       "      <td>165377</td>\n",
       "      <td>164821</td>\n",
       "      <td>169878</td>\n",
       "      <td>169452</td>\n",
       "      <td>172069</td>\n",
       "      <td>176490</td>\n",
       "      <td>177207</td>\n",
       "      <td>174632</td>\n",
       "      <td>173200</td>\n",
       "      <td>166064</td>\n",
       "    </tr>\n",
       "    <tr>\n",
       "      <th>s</th>\n",
       "      <td>18453</td>\n",
       "      <td>16371</td>\n",
       "      <td>18240</td>\n",
       "      <td>16544</td>\n",
       "      <td>17712</td>\n",
       "      <td>16431</td>\n",
       "      <td>16743</td>\n",
       "      <td>14909</td>\n",
       "      <td>17312</td>\n",
       "      <td>15711</td>\n",
       "      <td>...</td>\n",
       "      <td>143791</td>\n",
       "      <td>139595</td>\n",
       "      <td>138632</td>\n",
       "      <td>139642</td>\n",
       "      <td>139913</td>\n",
       "      <td>143232</td>\n",
       "      <td>142155</td>\n",
       "      <td>137056</td>\n",
       "      <td>129861</td>\n",
       "      <td>123670</td>\n",
       "    </tr>\n",
       "    <tr>\n",
       "      <th>t</th>\n",
       "      <td>6949</td>\n",
       "      <td>6228</td>\n",
       "      <td>7081</td>\n",
       "      <td>6754</td>\n",
       "      <td>7008</td>\n",
       "      <td>6842</td>\n",
       "      <td>6949</td>\n",
       "      <td>6335</td>\n",
       "      <td>7796</td>\n",
       "      <td>6995</td>\n",
       "      <td>...</td>\n",
       "      <td>47688</td>\n",
       "      <td>44991</td>\n",
       "      <td>43765</td>\n",
       "      <td>43870</td>\n",
       "      <td>43369</td>\n",
       "      <td>43553</td>\n",
       "      <td>43437</td>\n",
       "      <td>43846</td>\n",
       "      <td>43674</td>\n",
       "      <td>43398</td>\n",
       "    </tr>\n",
       "    <tr>\n",
       "      <th>u</th>\n",
       "      <td>25</td>\n",
       "      <td>26</td>\n",
       "      <td>10</td>\n",
       "      <td>16</td>\n",
       "      <td>15</td>\n",
       "      <td>13</td>\n",
       "      <td>9</td>\n",
       "      <td>10</td>\n",
       "      <td>15</td>\n",
       "      <td>17</td>\n",
       "      <td>...</td>\n",
       "      <td>1833</td>\n",
       "      <td>1819</td>\n",
       "      <td>2052</td>\n",
       "      <td>2138</td>\n",
       "      <td>2129</td>\n",
       "      <td>2201</td>\n",
       "      <td>2311</td>\n",
       "      <td>2405</td>\n",
       "      <td>2417</td>\n",
       "      <td>2318</td>\n",
       "    </tr>\n",
       "    <tr>\n",
       "      <th>v</th>\n",
       "      <td>33</td>\n",
       "      <td>18</td>\n",
       "      <td>43</td>\n",
       "      <td>44</td>\n",
       "      <td>36</td>\n",
       "      <td>28</td>\n",
       "      <td>32</td>\n",
       "      <td>34</td>\n",
       "      <td>30</td>\n",
       "      <td>27</td>\n",
       "      <td>...</td>\n",
       "      <td>1209</td>\n",
       "      <td>1332</td>\n",
       "      <td>1652</td>\n",
       "      <td>1823</td>\n",
       "      <td>1794</td>\n",
       "      <td>2010</td>\n",
       "      <td>2295</td>\n",
       "      <td>2418</td>\n",
       "      <td>2589</td>\n",
       "      <td>2723</td>\n",
       "    </tr>\n",
       "    <tr>\n",
       "      <th>w</th>\n",
       "      <td>853</td>\n",
       "      <td>748</td>\n",
       "      <td>875</td>\n",
       "      <td>794</td>\n",
       "      <td>826</td>\n",
       "      <td>782</td>\n",
       "      <td>805</td>\n",
       "      <td>689</td>\n",
       "      <td>823</td>\n",
       "      <td>757</td>\n",
       "      <td>...</td>\n",
       "      <td>52265</td>\n",
       "      <td>50103</td>\n",
       "      <td>49079</td>\n",
       "      <td>47556</td>\n",
       "      <td>45464</td>\n",
       "      <td>43217</td>\n",
       "      <td>40251</td>\n",
       "      <td>36937</td>\n",
       "      <td>33181</td>\n",
       "      <td>30656</td>\n",
       "    </tr>\n",
       "    <tr>\n",
       "      <th>x</th>\n",
       "      <td>304</td>\n",
       "      <td>267</td>\n",
       "      <td>355</td>\n",
       "      <td>283</td>\n",
       "      <td>343</td>\n",
       "      <td>332</td>\n",
       "      <td>352</td>\n",
       "      <td>319</td>\n",
       "      <td>431</td>\n",
       "      <td>321</td>\n",
       "      <td>...</td>\n",
       "      <td>10691</td>\n",
       "      <td>11009</td>\n",
       "      <td>11718</td>\n",
       "      <td>12399</td>\n",
       "      <td>13025</td>\n",
       "      <td>13992</td>\n",
       "      <td>14306</td>\n",
       "      <td>14834</td>\n",
       "      <td>16640</td>\n",
       "      <td>16352</td>\n",
       "    </tr>\n",
       "    <tr>\n",
       "      <th>y</th>\n",
       "      <td>8371</td>\n",
       "      <td>7803</td>\n",
       "      <td>8815</td>\n",
       "      <td>8281</td>\n",
       "      <td>9202</td>\n",
       "      <td>8827</td>\n",
       "      <td>9049</td>\n",
       "      <td>8404</td>\n",
       "      <td>10263</td>\n",
       "      <td>9547</td>\n",
       "      <td>...</td>\n",
       "      <td>139109</td>\n",
       "      <td>134557</td>\n",
       "      <td>130569</td>\n",
       "      <td>128367</td>\n",
       "      <td>125190</td>\n",
       "      <td>123707</td>\n",
       "      <td>123397</td>\n",
       "      <td>122633</td>\n",
       "      <td>112922</td>\n",
       "      <td>110425</td>\n",
       "    </tr>\n",
       "    <tr>\n",
       "      <th>z</th>\n",
       "      <td>29</td>\n",
       "      <td>8</td>\n",
       "      <td>31</td>\n",
       "      <td>12</td>\n",
       "      <td>27</td>\n",
       "      <td>17</td>\n",
       "      <td>13</td>\n",
       "      <td>23</td>\n",
       "      <td>23</td>\n",
       "      <td>34</td>\n",
       "      <td>...</td>\n",
       "      <td>2840</td>\n",
       "      <td>2737</td>\n",
       "      <td>2722</td>\n",
       "      <td>2710</td>\n",
       "      <td>2903</td>\n",
       "      <td>3086</td>\n",
       "      <td>3301</td>\n",
       "      <td>3473</td>\n",
       "      <td>3633</td>\n",
       "      <td>3476</td>\n",
       "    </tr>\n",
       "  </tbody>\n",
       "</table>\n",
       "<p>26 rows × 131 columns</p>\n",
       "</div>"
      ],
      "text/plain": [
       "year          1880   1881   1882   1883   1884   1885   1886   1887   1888  \\\n",
       "last_letter                                                                  \n",
       "a              776    767    773    757    817    713    775    700    819   \n",
       "b              509    470    506    452    496    441    452    434    468   \n",
       "c              349    331    349    299    319    301    283    261    305   \n",
       "d             9177   8387   9702   8796   9856   9214   9710   9033  10600   \n",
       "e            13493  12406  14613  13191  14637  14048  14475  13212  15744   \n",
       "f              108     83    135    106    131    115    112    124    140   \n",
       "g              147    146    146    135    160    182    141    117    190   \n",
       "h             4049   3766   4176   3925   4242   4055   4087   3951   4638   \n",
       "i              200    206    207    167    158    147    171    139    181   \n",
       "j              NaN    NaN    NaN    NaN    NaN    NaN    NaN    NaN    NaN   \n",
       "k             4720   4149   4723   4387   4770   4562   4682   4327   5098   \n",
       "l             5090   4571   5427   5100   5604   5368   5619   5358   6427   \n",
       "m            11260  10217  11255  10114  10732   9810  10039   9081  10625   \n",
       "n            16929  15436  17003  15867  17157  15778  16580  15094  18284   \n",
       "o              933    800    926    812    939    963    966    974   1236   \n",
       "p              282    271    308    286    275    283    304    264    336   \n",
       "q              NaN    NaN    NaN    NaN    NaN    NaN    NaN    NaN    NaN   \n",
       "r             7454   7273   7988   7510   8983   8550   8437   7620   9073   \n",
       "s            18453  16371  18240  16544  17712  16431  16743  14909  17312   \n",
       "t             6949   6228   7081   6754   7008   6842   6949   6335   7796   \n",
       "u               25     26     10     16     15     13      9     10     15   \n",
       "v               33     18     43     44     36     28     32     34     30   \n",
       "w              853    748    875    794    826    782    805    689    823   \n",
       "x              304    267    355    283    343    332    352    319    431   \n",
       "y             8371   7803   8815   8281   9202   8827   9049   8404  10263   \n",
       "z               29      8     31     12     27     17     13     23     23   \n",
       "\n",
       "year          1889   ...      2001    2002    2003    2004    2005    2006  \\\n",
       "last_letter          ...                                                     \n",
       "a              704   ...     39124   38815   37825   38650   36838   36156   \n",
       "b              389   ...     50950   49284   48065   45914   43144   42600   \n",
       "c              271   ...     27113   27238   27697   26778   26078   26635   \n",
       "d            10167   ...     60838   55829   53391   51754   50670   51410   \n",
       "e            14389   ...    145395  144651  144769  142098  141123  142999   \n",
       "f              124   ...      1758    1817    1819    1904    1985    1968   \n",
       "g              124   ...      2151    2084    2009    1837    1882    1929   \n",
       "h             4261   ...     85959   88085   88226   89620   92497   98477   \n",
       "i              154   ...     20980   23610   26011   28500   31317   33558   \n",
       "j              NaN   ...      1069    1088    1203    1094    1291    1241   \n",
       "k             4520   ...     42477   42043   42296   41400   42151   42537   \n",
       "l             6040   ...    153648  153493  153862  152800  155312  156234   \n",
       "m             9443   ...     41967   42663   42790   43054   41600   42503   \n",
       "n            16807   ...    616099  630322  663419  676011  686326  720998   \n",
       "o             1125   ...     82146   83180   85423   88822   92001   96350   \n",
       "p              283   ...      3419    3157    2982    2841    2768    2721   \n",
       "q              NaN   ...       602     618     585     523     446     430   \n",
       "r             8380   ...    165377  164821  169878  169452  172069  176490   \n",
       "s            15711   ...    143791  139595  138632  139642  139913  143232   \n",
       "t             6995   ...     47688   44991   43765   43870   43369   43553   \n",
       "u               17   ...      1833    1819    2052    2138    2129    2201   \n",
       "v               27   ...      1209    1332    1652    1823    1794    2010   \n",
       "w              757   ...     52265   50103   49079   47556   45464   43217   \n",
       "x              321   ...     10691   11009   11718   12399   13025   13992   \n",
       "y             9547   ...    139109  134557  130569  128367  125190  123707   \n",
       "z               34   ...      2840    2737    2722    2710    2903    3086   \n",
       "\n",
       "year           2007    2008    2009    2010  \n",
       "last_letter                                  \n",
       "a             34654   32901   31430   28438  \n",
       "b             42123   39945   38862   38859  \n",
       "c             26864   25318   24048   23125  \n",
       "d             50595   47910   46172   44398  \n",
       "e            143698  140966  135496  129012  \n",
       "f              2090    2195    2212    2255  \n",
       "g              2040    2059    2396    2666  \n",
       "h             99414  100250   99979   98090  \n",
       "i             35231   38151   40912   42956  \n",
       "j              1254    1381    1416    1459  \n",
       "k             42136   39563   37507   35198  \n",
       "l            155203  150791  143751  133583  \n",
       "m             43860   44316   46278   46808  \n",
       "n            741355  733869  715388  688677  \n",
       "o             96895   91485   86423   81025  \n",
       "p              2739    2637    2595    2409  \n",
       "q               431     339     377     342  \n",
       "r            177207  174632  173200  166064  \n",
       "s            142155  137056  129861  123670  \n",
       "t             43437   43846   43674   43398  \n",
       "u              2311    2405    2417    2318  \n",
       "v              2295    2418    2589    2723  \n",
       "w             40251   36937   33181   30656  \n",
       "x             14306   14834   16640   16352  \n",
       "y            123397  122633  112922  110425  \n",
       "z              3301    3473    3633    3476  \n",
       "\n",
       "[26 rows x 131 columns]"
      ]
     },
     "execution_count": 289,
     "metadata": {},
     "output_type": "execute_result"
    }
   ],
   "source": [
    "table = df_last_letter.pivot_table('births', index='last_letter', columns=['year'], aggfunc=sum)\n",
    "table\n"
   ]
  },
  {
   "cell_type": "code",
   "execution_count": 290,
   "metadata": {
    "collapsed": false
   },
   "outputs": [
    {
     "data": {
      "text/html": [
       "<div>\n",
       "<table border=\"1\" class=\"dataframe\">\n",
       "  <thead>\n",
       "    <tr style=\"text-align: right;\">\n",
       "      <th>year</th>\n",
       "      <th>1906</th>\n",
       "      <th>1956</th>\n",
       "      <th>2006</th>\n",
       "    </tr>\n",
       "    <tr>\n",
       "      <th>last_letter</th>\n",
       "      <th></th>\n",
       "      <th></th>\n",
       "      <th></th>\n",
       "    </tr>\n",
       "  </thead>\n",
       "  <tbody>\n",
       "    <tr>\n",
       "      <th>a</th>\n",
       "      <td>654</td>\n",
       "      <td>4936</td>\n",
       "      <td>36156</td>\n",
       "    </tr>\n",
       "    <tr>\n",
       "      <th>b</th>\n",
       "      <td>276</td>\n",
       "      <td>1980</td>\n",
       "      <td>42600</td>\n",
       "    </tr>\n",
       "    <tr>\n",
       "      <th>c</th>\n",
       "      <td>315</td>\n",
       "      <td>9848</td>\n",
       "      <td>26635</td>\n",
       "    </tr>\n",
       "    <tr>\n",
       "      <th>d</th>\n",
       "      <td>14892</td>\n",
       "      <td>285524</td>\n",
       "      <td>51410</td>\n",
       "    </tr>\n",
       "    <tr>\n",
       "      <th>e</th>\n",
       "      <td>19721</td>\n",
       "      <td>175848</td>\n",
       "      <td>142999</td>\n",
       "    </tr>\n",
       "    <tr>\n",
       "      <th>f</th>\n",
       "      <td>139</td>\n",
       "      <td>2772</td>\n",
       "      <td>1968</td>\n",
       "    </tr>\n",
       "    <tr>\n",
       "      <th>g</th>\n",
       "      <td>266</td>\n",
       "      <td>11864</td>\n",
       "      <td>1929</td>\n",
       "    </tr>\n",
       "    <tr>\n",
       "      <th>h</th>\n",
       "      <td>6024</td>\n",
       "      <td>84356</td>\n",
       "      <td>98477</td>\n",
       "    </tr>\n",
       "    <tr>\n",
       "      <th>i</th>\n",
       "      <td>107</td>\n",
       "      <td>1159</td>\n",
       "      <td>33558</td>\n",
       "    </tr>\n",
       "    <tr>\n",
       "      <th>j</th>\n",
       "      <td>NaN</td>\n",
       "      <td>NaN</td>\n",
       "      <td>1241</td>\n",
       "    </tr>\n",
       "    <tr>\n",
       "      <th>k</th>\n",
       "      <td>4870</td>\n",
       "      <td>93977</td>\n",
       "      <td>42537</td>\n",
       "    </tr>\n",
       "    <tr>\n",
       "      <th>l</th>\n",
       "      <td>8816</td>\n",
       "      <td>227761</td>\n",
       "      <td>156234</td>\n",
       "    </tr>\n",
       "    <tr>\n",
       "      <th>m</th>\n",
       "      <td>8181</td>\n",
       "      <td>70885</td>\n",
       "      <td>42503</td>\n",
       "    </tr>\n",
       "    <tr>\n",
       "      <th>n</th>\n",
       "      <td>18835</td>\n",
       "      <td>314854</td>\n",
       "      <td>720998</td>\n",
       "    </tr>\n",
       "    <tr>\n",
       "      <th>o</th>\n",
       "      <td>1827</td>\n",
       "      <td>24154</td>\n",
       "      <td>96350</td>\n",
       "    </tr>\n",
       "    <tr>\n",
       "      <th>p</th>\n",
       "      <td>429</td>\n",
       "      <td>12035</td>\n",
       "      <td>2721</td>\n",
       "    </tr>\n",
       "    <tr>\n",
       "      <th>q</th>\n",
       "      <td>NaN</td>\n",
       "      <td>NaN</td>\n",
       "      <td>430</td>\n",
       "    </tr>\n",
       "    <tr>\n",
       "      <th>r</th>\n",
       "      <td>8931</td>\n",
       "      <td>64448</td>\n",
       "      <td>176490</td>\n",
       "    </tr>\n",
       "    <tr>\n",
       "      <th>s</th>\n",
       "      <td>17388</td>\n",
       "      <td>240020</td>\n",
       "      <td>143232</td>\n",
       "    </tr>\n",
       "    <tr>\n",
       "      <th>t</th>\n",
       "      <td>9644</td>\n",
       "      <td>137917</td>\n",
       "      <td>43553</td>\n",
       "    </tr>\n",
       "    <tr>\n",
       "      <th>u</th>\n",
       "      <td>NaN</td>\n",
       "      <td>104</td>\n",
       "      <td>2201</td>\n",
       "    </tr>\n",
       "    <tr>\n",
       "      <th>v</th>\n",
       "      <td>14</td>\n",
       "      <td>53</td>\n",
       "      <td>2010</td>\n",
       "    </tr>\n",
       "    <tr>\n",
       "      <th>w</th>\n",
       "      <td>804</td>\n",
       "      <td>12101</td>\n",
       "      <td>43217</td>\n",
       "    </tr>\n",
       "    <tr>\n",
       "      <th>x</th>\n",
       "      <td>511</td>\n",
       "      <td>3709</td>\n",
       "      <td>13992</td>\n",
       "    </tr>\n",
       "    <tr>\n",
       "      <th>y</th>\n",
       "      <td>10491</td>\n",
       "      <td>332390</td>\n",
       "      <td>123707</td>\n",
       "    </tr>\n",
       "    <tr>\n",
       "      <th>z</th>\n",
       "      <td>24</td>\n",
       "      <td>372</td>\n",
       "      <td>3086</td>\n",
       "    </tr>\n",
       "  </tbody>\n",
       "</table>\n",
       "</div>"
      ],
      "text/plain": [
       "year          1906    1956    2006\n",
       "last_letter                       \n",
       "a              654    4936   36156\n",
       "b              276    1980   42600\n",
       "c              315    9848   26635\n",
       "d            14892  285524   51410\n",
       "e            19721  175848  142999\n",
       "f              139    2772    1968\n",
       "g              266   11864    1929\n",
       "h             6024   84356   98477\n",
       "i              107    1159   33558\n",
       "j              NaN     NaN    1241\n",
       "k             4870   93977   42537\n",
       "l             8816  227761  156234\n",
       "m             8181   70885   42503\n",
       "n            18835  314854  720998\n",
       "o             1827   24154   96350\n",
       "p              429   12035    2721\n",
       "q              NaN     NaN     430\n",
       "r             8931   64448  176490\n",
       "s            17388  240020  143232\n",
       "t             9644  137917   43553\n",
       "u              NaN     104    2201\n",
       "v               14      53    2010\n",
       "w              804   12101   43217\n",
       "x              511    3709   13992\n",
       "y            10491  332390  123707\n",
       "z               24     372    3086"
      ]
     },
     "execution_count": 290,
     "metadata": {},
     "output_type": "execute_result"
    }
   ],
   "source": [
    "subtable = table[[1906, 1956, 2006]]\n",
    "subtable\n"
   ]
  },
  {
   "cell_type": "code",
   "execution_count": 291,
   "metadata": {
    "collapsed": false
   },
   "outputs": [
    {
     "data": {
      "image/png": "[encoded data removed]",
      "text/plain": [
       "<matplotlib.figure.Figure at 0x3ba35780>"
      ]
     },
     "metadata": {},
     "output_type": "display_data"
    }
   ],
   "source": [
    "import matplotlib.pyplot as plt\n",
    "\n",
    "fig, axes = plt.subplots(3, 1, figsize=(15,5))\n",
    "fig.subplots_adjust(hspace=0.5)\n",
    "\n",
    "subtable[1906].plot(kind='bar', rot=0, ax=axes[0], title='1906')\n",
    "subtable[1956].plot(kind='bar', rot=0, ax=axes[1], title='1956')\n",
    "subtable[2006].plot(kind='bar', rot=0, ax=axes[2], title='2006')\n",
    "\n",
    "plt.show()\n"
   ]
  },
  {
   "cell_type": "code",
   "execution_count": 294,
   "metadata": {
    "collapsed": false
   },
   "outputs": [
    {
     "data": {
      "text/plain": [
       "<matplotlib.axes._subplots.AxesSubplot at 0x519956d8>"
      ]
     },
     "execution_count": 294,
     "metadata": {},
     "output_type": "execute_result"
    },
    {
     "data": {
      "image/png": "[encoded data removed]",
      "text/plain": [
       "<matplotlib.figure.Figure at 0x51bf4128>"
      ]
     },
     "metadata": {},
     "output_type": "display_data"
    }
   ],
   "source": [
    "subtable.plot(kind='bar', rot=0, figsize=(15, 5))"
   ]
  },
  {
   "cell_type": "code",
   "execution_count": 295,
   "metadata": {
    "collapsed": false
   },
   "outputs": [
    {
     "data": {
      "text/html": [
       "<div>\n",
       "<table border=\"1\" class=\"dataframe\">\n",
       "  <thead>\n",
       "    <tr style=\"text-align: right;\">\n",
       "      <th>year</th>\n",
       "      <th>1906</th>\n",
       "      <th>1956</th>\n",
       "      <th>2006</th>\n",
       "    </tr>\n",
       "    <tr>\n",
       "      <th>last_letter</th>\n",
       "      <th></th>\n",
       "      <th></th>\n",
       "      <th></th>\n",
       "    </tr>\n",
       "  </thead>\n",
       "  <tbody>\n",
       "    <tr>\n",
       "      <th>a</th>\n",
       "      <td>0.004911</td>\n",
       "      <td>0.002336</td>\n",
       "      <td>0.017635</td>\n",
       "    </tr>\n",
       "    <tr>\n",
       "      <th>b</th>\n",
       "      <td>0.002073</td>\n",
       "      <td>0.000937</td>\n",
       "      <td>0.020778</td>\n",
       "    </tr>\n",
       "    <tr>\n",
       "      <th>c</th>\n",
       "      <td>0.002366</td>\n",
       "      <td>0.004661</td>\n",
       "      <td>0.012991</td>\n",
       "    </tr>\n",
       "    <tr>\n",
       "      <th>d</th>\n",
       "      <td>0.111836</td>\n",
       "      <td>0.135123</td>\n",
       "      <td>0.025075</td>\n",
       "    </tr>\n",
       "    <tr>\n",
       "      <th>e</th>\n",
       "      <td>0.148101</td>\n",
       "      <td>0.083219</td>\n",
       "      <td>0.069748</td>\n",
       "    </tr>\n",
       "    <tr>\n",
       "      <th>f</th>\n",
       "      <td>0.001044</td>\n",
       "      <td>0.001312</td>\n",
       "      <td>0.000960</td>\n",
       "    </tr>\n",
       "    <tr>\n",
       "      <th>g</th>\n",
       "      <td>0.001998</td>\n",
       "      <td>0.005615</td>\n",
       "      <td>0.000941</td>\n",
       "    </tr>\n",
       "    <tr>\n",
       "      <th>h</th>\n",
       "      <td>0.045239</td>\n",
       "      <td>0.039921</td>\n",
       "      <td>0.048032</td>\n",
       "    </tr>\n",
       "    <tr>\n",
       "      <th>i</th>\n",
       "      <td>0.000804</td>\n",
       "      <td>0.000548</td>\n",
       "      <td>0.016368</td>\n",
       "    </tr>\n",
       "    <tr>\n",
       "      <th>j</th>\n",
       "      <td>NaN</td>\n",
       "      <td>NaN</td>\n",
       "      <td>0.000605</td>\n",
       "    </tr>\n",
       "    <tr>\n",
       "      <th>k</th>\n",
       "      <td>0.036573</td>\n",
       "      <td>0.044474</td>\n",
       "      <td>0.020747</td>\n",
       "    </tr>\n",
       "    <tr>\n",
       "      <th>l</th>\n",
       "      <td>0.066207</td>\n",
       "      <td>0.107787</td>\n",
       "      <td>0.076203</td>\n",
       "    </tr>\n",
       "    <tr>\n",
       "      <th>m</th>\n",
       "      <td>0.061438</td>\n",
       "      <td>0.033546</td>\n",
       "      <td>0.020731</td>\n",
       "    </tr>\n",
       "    <tr>\n",
       "      <th>n</th>\n",
       "      <td>0.141447</td>\n",
       "      <td>0.149003</td>\n",
       "      <td>0.351666</td>\n",
       "    </tr>\n",
       "    <tr>\n",
       "      <th>o</th>\n",
       "      <td>0.013720</td>\n",
       "      <td>0.011431</td>\n",
       "      <td>0.046995</td>\n",
       "    </tr>\n",
       "    <tr>\n",
       "      <th>p</th>\n",
       "      <td>0.003222</td>\n",
       "      <td>0.005696</td>\n",
       "      <td>0.001327</td>\n",
       "    </tr>\n",
       "    <tr>\n",
       "      <th>q</th>\n",
       "      <td>NaN</td>\n",
       "      <td>NaN</td>\n",
       "      <td>0.000210</td>\n",
       "    </tr>\n",
       "    <tr>\n",
       "      <th>r</th>\n",
       "      <td>0.067070</td>\n",
       "      <td>0.030500</td>\n",
       "      <td>0.086083</td>\n",
       "    </tr>\n",
       "    <tr>\n",
       "      <th>s</th>\n",
       "      <td>0.130581</td>\n",
       "      <td>0.113588</td>\n",
       "      <td>0.069861</td>\n",
       "    </tr>\n",
       "    <tr>\n",
       "      <th>t</th>\n",
       "      <td>0.072425</td>\n",
       "      <td>0.065269</td>\n",
       "      <td>0.021243</td>\n",
       "    </tr>\n",
       "    <tr>\n",
       "      <th>u</th>\n",
       "      <td>NaN</td>\n",
       "      <td>0.000049</td>\n",
       "      <td>0.001074</td>\n",
       "    </tr>\n",
       "    <tr>\n",
       "      <th>v</th>\n",
       "      <td>0.000105</td>\n",
       "      <td>0.000025</td>\n",
       "      <td>0.000980</td>\n",
       "    </tr>\n",
       "    <tr>\n",
       "      <th>w</th>\n",
       "      <td>0.006038</td>\n",
       "      <td>0.005727</td>\n",
       "      <td>0.021079</td>\n",
       "    </tr>\n",
       "    <tr>\n",
       "      <th>x</th>\n",
       "      <td>0.003838</td>\n",
       "      <td>0.001755</td>\n",
       "      <td>0.006825</td>\n",
       "    </tr>\n",
       "    <tr>\n",
       "      <th>y</th>\n",
       "      <td>0.078786</td>\n",
       "      <td>0.157302</td>\n",
       "      <td>0.060338</td>\n",
       "    </tr>\n",
       "    <tr>\n",
       "      <th>z</th>\n",
       "      <td>0.000180</td>\n",
       "      <td>0.000176</td>\n",
       "      <td>0.001505</td>\n",
       "    </tr>\n",
       "  </tbody>\n",
       "</table>\n",
       "</div>"
      ],
      "text/plain": [
       "year             1906      1956      2006\n",
       "last_letter                              \n",
       "a            0.004911  0.002336  0.017635\n",
       "b            0.002073  0.000937  0.020778\n",
       "c            0.002366  0.004661  0.012991\n",
       "d            0.111836  0.135123  0.025075\n",
       "e            0.148101  0.083219  0.069748\n",
       "f            0.001044  0.001312  0.000960\n",
       "g            0.001998  0.005615  0.000941\n",
       "h            0.045239  0.039921  0.048032\n",
       "i            0.000804  0.000548  0.016368\n",
       "j                 NaN       NaN  0.000605\n",
       "k            0.036573  0.044474  0.020747\n",
       "l            0.066207  0.107787  0.076203\n",
       "m            0.061438  0.033546  0.020731\n",
       "n            0.141447  0.149003  0.351666\n",
       "o            0.013720  0.011431  0.046995\n",
       "p            0.003222  0.005696  0.001327\n",
       "q                 NaN       NaN  0.000210\n",
       "r            0.067070  0.030500  0.086083\n",
       "s            0.130581  0.113588  0.069861\n",
       "t            0.072425  0.065269  0.021243\n",
       "u                 NaN  0.000049  0.001074\n",
       "v            0.000105  0.000025  0.000980\n",
       "w            0.006038  0.005727  0.021079\n",
       "x            0.003838  0.001755  0.006825\n",
       "y            0.078786  0.157302  0.060338\n",
       "z            0.000180  0.000176  0.001505"
      ]
     },
     "execution_count": 295,
     "metadata": {},
     "output_type": "execute_result"
    }
   ],
   "source": [
    "subtable.sum(axis=0)\n",
    "ratio_subtable = subtable / subtable.sum(axis=0)\n",
    "ratio_subtable\n"
   ]
  },
  {
   "cell_type": "code",
   "execution_count": 296,
   "metadata": {
    "collapsed": false
   },
   "outputs": [
    {
     "data": {
      "text/plain": [
       "<matplotlib.axes._subplots.AxesSubplot at 0x51ed8710>"
      ]
     },
     "execution_count": 296,
     "metadata": {},
     "output_type": "execute_result"
    },
    {
     "data": {
      "image/png": "[encoded data removed]",
      "text/plain": [
       "<matplotlib.figure.Figure at 0x51dd3908>"
      ]
     },
     "metadata": {},
     "output_type": "display_data"
    }
   ],
   "source": [
    "ratio_subtable.plot(kind='bar', rot=0, figsize=(15, 5))\n"
   ]
  },
  {
   "cell_type": "code",
   "execution_count": 297,
   "metadata": {
    "collapsed": false
   },
   "outputs": [
    {
     "data": {
      "text/html": [
       "<div>\n",
       "<table border=\"1\" class=\"dataframe\">\n",
       "  <thead>\n",
       "    <tr style=\"text-align: right;\">\n",
       "      <th>year</th>\n",
       "      <th>1880</th>\n",
       "      <th>1881</th>\n",
       "      <th>1882</th>\n",
       "      <th>1883</th>\n",
       "      <th>1884</th>\n",
       "      <th>1885</th>\n",
       "      <th>1886</th>\n",
       "      <th>1887</th>\n",
       "      <th>1888</th>\n",
       "      <th>1889</th>\n",
       "      <th>...</th>\n",
       "      <th>2001</th>\n",
       "      <th>2002</th>\n",
       "      <th>2003</th>\n",
       "      <th>2004</th>\n",
       "      <th>2005</th>\n",
       "      <th>2006</th>\n",
       "      <th>2007</th>\n",
       "      <th>2008</th>\n",
       "      <th>2009</th>\n",
       "      <th>2010</th>\n",
       "    </tr>\n",
       "    <tr>\n",
       "      <th>last_letter</th>\n",
       "      <th></th>\n",
       "      <th></th>\n",
       "      <th></th>\n",
       "      <th></th>\n",
       "      <th></th>\n",
       "      <th></th>\n",
       "      <th></th>\n",
       "      <th></th>\n",
       "      <th></th>\n",
       "      <th></th>\n",
       "      <th></th>\n",
       "      <th></th>\n",
       "      <th></th>\n",
       "      <th></th>\n",
       "      <th></th>\n",
       "      <th></th>\n",
       "      <th></th>\n",
       "      <th></th>\n",
       "      <th></th>\n",
       "      <th></th>\n",
       "      <th></th>\n",
       "    </tr>\n",
       "  </thead>\n",
       "  <tbody>\n",
       "    <tr>\n",
       "      <th>a</th>\n",
       "      <td>0.007023</td>\n",
       "      <td>0.007613</td>\n",
       "      <td>0.006799</td>\n",
       "      <td>0.007235</td>\n",
       "      <td>0.007139</td>\n",
       "      <td>0.006614</td>\n",
       "      <td>0.006996</td>\n",
       "      <td>0.006903</td>\n",
       "      <td>0.006777</td>\n",
       "      <td>0.006366</td>\n",
       "      <td>...</td>\n",
       "      <td>0.020162</td>\n",
       "      <td>0.020019</td>\n",
       "      <td>0.019177</td>\n",
       "      <td>0.019505</td>\n",
       "      <td>0.018481</td>\n",
       "      <td>0.017635</td>\n",
       "      <td>0.016747</td>\n",
       "      <td>0.016189</td>\n",
       "      <td>0.015927</td>\n",
       "      <td>0.014980</td>\n",
       "    </tr>\n",
       "    <tr>\n",
       "      <th>b</th>\n",
       "      <td>0.004607</td>\n",
       "      <td>0.004665</td>\n",
       "      <td>0.004451</td>\n",
       "      <td>0.004320</td>\n",
       "      <td>0.004334</td>\n",
       "      <td>0.004091</td>\n",
       "      <td>0.004080</td>\n",
       "      <td>0.004280</td>\n",
       "      <td>0.003872</td>\n",
       "      <td>0.003517</td>\n",
       "      <td>...</td>\n",
       "      <td>0.026256</td>\n",
       "      <td>0.025418</td>\n",
       "      <td>0.024368</td>\n",
       "      <td>0.023171</td>\n",
       "      <td>0.021645</td>\n",
       "      <td>0.020778</td>\n",
       "      <td>0.020357</td>\n",
       "      <td>0.019655</td>\n",
       "      <td>0.019693</td>\n",
       "      <td>0.020470</td>\n",
       "    </tr>\n",
       "    <tr>\n",
       "      <th>c</th>\n",
       "      <td>0.003159</td>\n",
       "      <td>0.003285</td>\n",
       "      <td>0.003070</td>\n",
       "      <td>0.002858</td>\n",
       "      <td>0.002787</td>\n",
       "      <td>0.002792</td>\n",
       "      <td>0.002554</td>\n",
       "      <td>0.002574</td>\n",
       "      <td>0.002524</td>\n",
       "      <td>0.002450</td>\n",
       "      <td>...</td>\n",
       "      <td>0.013972</td>\n",
       "      <td>0.014048</td>\n",
       "      <td>0.014042</td>\n",
       "      <td>0.013514</td>\n",
       "      <td>0.013083</td>\n",
       "      <td>0.012991</td>\n",
       "      <td>0.012983</td>\n",
       "      <td>0.012458</td>\n",
       "      <td>0.012186</td>\n",
       "      <td>0.012181</td>\n",
       "    </tr>\n",
       "    <tr>\n",
       "      <th>d</th>\n",
       "      <td>0.083055</td>\n",
       "      <td>0.083247</td>\n",
       "      <td>0.085340</td>\n",
       "      <td>0.084066</td>\n",
       "      <td>0.086120</td>\n",
       "      <td>0.085472</td>\n",
       "      <td>0.087647</td>\n",
       "      <td>0.089072</td>\n",
       "      <td>0.087707</td>\n",
       "      <td>0.091934</td>\n",
       "      <td>...</td>\n",
       "      <td>0.031352</td>\n",
       "      <td>0.028794</td>\n",
       "      <td>0.027069</td>\n",
       "      <td>0.026118</td>\n",
       "      <td>0.025420</td>\n",
       "      <td>0.025075</td>\n",
       "      <td>0.024451</td>\n",
       "      <td>0.023574</td>\n",
       "      <td>0.023398</td>\n",
       "      <td>0.023387</td>\n",
       "    </tr>\n",
       "    <tr>\n",
       "      <th>e</th>\n",
       "      <td>0.122116</td>\n",
       "      <td>0.123139</td>\n",
       "      <td>0.128537</td>\n",
       "      <td>0.126070</td>\n",
       "      <td>0.127895</td>\n",
       "      <td>0.130313</td>\n",
       "      <td>0.130658</td>\n",
       "      <td>0.130280</td>\n",
       "      <td>0.130270</td>\n",
       "      <td>0.130111</td>\n",
       "      <td>...</td>\n",
       "      <td>0.074927</td>\n",
       "      <td>0.074603</td>\n",
       "      <td>0.073396</td>\n",
       "      <td>0.071710</td>\n",
       "      <td>0.070799</td>\n",
       "      <td>0.069748</td>\n",
       "      <td>0.069445</td>\n",
       "      <td>0.069362</td>\n",
       "      <td>0.068663</td>\n",
       "      <td>0.067959</td>\n",
       "    </tr>\n",
       "    <tr>\n",
       "      <th>f</th>\n",
       "      <td>0.000977</td>\n",
       "      <td>0.000824</td>\n",
       "      <td>0.001187</td>\n",
       "      <td>0.001013</td>\n",
       "      <td>0.001145</td>\n",
       "      <td>0.001067</td>\n",
       "      <td>0.001011</td>\n",
       "      <td>0.001223</td>\n",
       "      <td>0.001158</td>\n",
       "      <td>0.001121</td>\n",
       "      <td>...</td>\n",
       "      <td>0.000906</td>\n",
       "      <td>0.000937</td>\n",
       "      <td>0.000922</td>\n",
       "      <td>0.000961</td>\n",
       "      <td>0.000996</td>\n",
       "      <td>0.000960</td>\n",
       "      <td>0.001010</td>\n",
       "      <td>0.001080</td>\n",
       "      <td>0.001121</td>\n",
       "      <td>0.001188</td>\n",
       "    </tr>\n",
       "    <tr>\n",
       "      <th>g</th>\n",
       "      <td>0.001330</td>\n",
       "      <td>0.001449</td>\n",
       "      <td>0.001284</td>\n",
       "      <td>0.001290</td>\n",
       "      <td>0.001398</td>\n",
       "      <td>0.001688</td>\n",
       "      <td>0.001273</td>\n",
       "      <td>0.001154</td>\n",
       "      <td>0.001572</td>\n",
       "      <td>0.001121</td>\n",
       "      <td>...</td>\n",
       "      <td>0.001108</td>\n",
       "      <td>0.001075</td>\n",
       "      <td>0.001019</td>\n",
       "      <td>0.000927</td>\n",
       "      <td>0.000944</td>\n",
       "      <td>0.000941</td>\n",
       "      <td>0.000986</td>\n",
       "      <td>0.001013</td>\n",
       "      <td>0.001214</td>\n",
       "      <td>0.001404</td>\n",
       "    </tr>\n",
       "    <tr>\n",
       "      <th>h</th>\n",
       "      <td>0.036645</td>\n",
       "      <td>0.037380</td>\n",
       "      <td>0.036732</td>\n",
       "      <td>0.037512</td>\n",
       "      <td>0.037066</td>\n",
       "      <td>0.037615</td>\n",
       "      <td>0.036891</td>\n",
       "      <td>0.038960</td>\n",
       "      <td>0.038376</td>\n",
       "      <td>0.038530</td>\n",
       "      <td>...</td>\n",
       "      <td>0.044297</td>\n",
       "      <td>0.045429</td>\n",
       "      <td>0.044729</td>\n",
       "      <td>0.045227</td>\n",
       "      <td>0.046404</td>\n",
       "      <td>0.048032</td>\n",
       "      <td>0.048044</td>\n",
       "      <td>0.049328</td>\n",
       "      <td>0.050664</td>\n",
       "      <td>0.051670</td>\n",
       "    </tr>\n",
       "    <tr>\n",
       "      <th>i</th>\n",
       "      <td>0.001810</td>\n",
       "      <td>0.002045</td>\n",
       "      <td>0.001821</td>\n",
       "      <td>0.001596</td>\n",
       "      <td>0.001381</td>\n",
       "      <td>0.001364</td>\n",
       "      <td>0.001544</td>\n",
       "      <td>0.001371</td>\n",
       "      <td>0.001498</td>\n",
       "      <td>0.001393</td>\n",
       "      <td>...</td>\n",
       "      <td>0.010812</td>\n",
       "      <td>0.012177</td>\n",
       "      <td>0.013187</td>\n",
       "      <td>0.014383</td>\n",
       "      <td>0.015711</td>\n",
       "      <td>0.016368</td>\n",
       "      <td>0.017026</td>\n",
       "      <td>0.018772</td>\n",
       "      <td>0.020732</td>\n",
       "      <td>0.022628</td>\n",
       "    </tr>\n",
       "    <tr>\n",
       "      <th>j</th>\n",
       "      <td>NaN</td>\n",
       "      <td>NaN</td>\n",
       "      <td>NaN</td>\n",
       "      <td>NaN</td>\n",
       "      <td>NaN</td>\n",
       "      <td>NaN</td>\n",
       "      <td>NaN</td>\n",
       "      <td>NaN</td>\n",
       "      <td>NaN</td>\n",
       "      <td>NaN</td>\n",
       "      <td>...</td>\n",
       "      <td>0.000551</td>\n",
       "      <td>0.000561</td>\n",
       "      <td>0.000610</td>\n",
       "      <td>0.000552</td>\n",
       "      <td>0.000648</td>\n",
       "      <td>0.000605</td>\n",
       "      <td>0.000606</td>\n",
       "      <td>0.000680</td>\n",
       "      <td>0.000718</td>\n",
       "      <td>0.000769</td>\n",
       "    </tr>\n",
       "    <tr>\n",
       "      <th>k</th>\n",
       "      <td>0.042718</td>\n",
       "      <td>0.041182</td>\n",
       "      <td>0.041544</td>\n",
       "      <td>0.041928</td>\n",
       "      <td>0.041679</td>\n",
       "      <td>0.042318</td>\n",
       "      <td>0.042262</td>\n",
       "      <td>0.042668</td>\n",
       "      <td>0.042182</td>\n",
       "      <td>0.040872</td>\n",
       "      <td>...</td>\n",
       "      <td>0.021890</td>\n",
       "      <td>0.021683</td>\n",
       "      <td>0.021444</td>\n",
       "      <td>0.020893</td>\n",
       "      <td>0.021146</td>\n",
       "      <td>0.020747</td>\n",
       "      <td>0.020363</td>\n",
       "      <td>0.019467</td>\n",
       "      <td>0.019007</td>\n",
       "      <td>0.018541</td>\n",
       "    </tr>\n",
       "    <tr>\n",
       "      <th>l</th>\n",
       "      <td>0.046066</td>\n",
       "      <td>0.045371</td>\n",
       "      <td>0.047736</td>\n",
       "      <td>0.048742</td>\n",
       "      <td>0.048967</td>\n",
       "      <td>0.049795</td>\n",
       "      <td>0.050720</td>\n",
       "      <td>0.052834</td>\n",
       "      <td>0.053179</td>\n",
       "      <td>0.054616</td>\n",
       "      <td>...</td>\n",
       "      <td>0.079180</td>\n",
       "      <td>0.079163</td>\n",
       "      <td>0.078006</td>\n",
       "      <td>0.077111</td>\n",
       "      <td>0.077918</td>\n",
       "      <td>0.076203</td>\n",
       "      <td>0.075005</td>\n",
       "      <td>0.074197</td>\n",
       "      <td>0.072846</td>\n",
       "      <td>0.070367</td>\n",
       "    </tr>\n",
       "    <tr>\n",
       "      <th>m</th>\n",
       "      <td>0.101907</td>\n",
       "      <td>0.101411</td>\n",
       "      <td>0.099000</td>\n",
       "      <td>0.096663</td>\n",
       "      <td>0.093774</td>\n",
       "      <td>0.091000</td>\n",
       "      <td>0.090617</td>\n",
       "      <td>0.089546</td>\n",
       "      <td>0.087914</td>\n",
       "      <td>0.085387</td>\n",
       "      <td>...</td>\n",
       "      <td>0.021627</td>\n",
       "      <td>0.022003</td>\n",
       "      <td>0.021694</td>\n",
       "      <td>0.021727</td>\n",
       "      <td>0.020870</td>\n",
       "      <td>0.020731</td>\n",
       "      <td>0.021196</td>\n",
       "      <td>0.021806</td>\n",
       "      <td>0.023451</td>\n",
       "      <td>0.024657</td>\n",
       "    </tr>\n",
       "    <tr>\n",
       "      <th>n</th>\n",
       "      <td>0.153213</td>\n",
       "      <td>0.153214</td>\n",
       "      <td>0.149560</td>\n",
       "      <td>0.151646</td>\n",
       "      <td>0.149915</td>\n",
       "      <td>0.146361</td>\n",
       "      <td>0.149659</td>\n",
       "      <td>0.148838</td>\n",
       "      <td>0.151286</td>\n",
       "      <td>0.151976</td>\n",
       "      <td>...</td>\n",
       "      <td>0.317495</td>\n",
       "      <td>0.325086</td>\n",
       "      <td>0.336344</td>\n",
       "      <td>0.341151</td>\n",
       "      <td>0.344319</td>\n",
       "      <td>0.351666</td>\n",
       "      <td>0.358274</td>\n",
       "      <td>0.361101</td>\n",
       "      <td>0.362523</td>\n",
       "      <td>0.362771</td>\n",
       "    </tr>\n",
       "    <tr>\n",
       "      <th>o</th>\n",
       "      <td>0.008444</td>\n",
       "      <td>0.007941</td>\n",
       "      <td>0.008145</td>\n",
       "      <td>0.007761</td>\n",
       "      <td>0.008205</td>\n",
       "      <td>0.008933</td>\n",
       "      <td>0.008720</td>\n",
       "      <td>0.009604</td>\n",
       "      <td>0.010227</td>\n",
       "      <td>0.010173</td>\n",
       "      <td>...</td>\n",
       "      <td>0.042332</td>\n",
       "      <td>0.042900</td>\n",
       "      <td>0.043308</td>\n",
       "      <td>0.044824</td>\n",
       "      <td>0.046155</td>\n",
       "      <td>0.046995</td>\n",
       "      <td>0.046826</td>\n",
       "      <td>0.045015</td>\n",
       "      <td>0.043795</td>\n",
       "      <td>0.042681</td>\n",
       "    </tr>\n",
       "    <tr>\n",
       "      <th>p</th>\n",
       "      <td>0.002552</td>\n",
       "      <td>0.002690</td>\n",
       "      <td>0.002709</td>\n",
       "      <td>0.002733</td>\n",
       "      <td>0.002403</td>\n",
       "      <td>0.002625</td>\n",
       "      <td>0.002744</td>\n",
       "      <td>0.002603</td>\n",
       "      <td>0.002780</td>\n",
       "      <td>0.002559</td>\n",
       "      <td>...</td>\n",
       "      <td>0.001762</td>\n",
       "      <td>0.001628</td>\n",
       "      <td>0.001512</td>\n",
       "      <td>0.001434</td>\n",
       "      <td>0.001389</td>\n",
       "      <td>0.001327</td>\n",
       "      <td>0.001324</td>\n",
       "      <td>0.001298</td>\n",
       "      <td>0.001315</td>\n",
       "      <td>0.001269</td>\n",
       "    </tr>\n",
       "    <tr>\n",
       "      <th>q</th>\n",
       "      <td>NaN</td>\n",
       "      <td>NaN</td>\n",
       "      <td>NaN</td>\n",
       "      <td>NaN</td>\n",
       "      <td>NaN</td>\n",
       "      <td>NaN</td>\n",
       "      <td>NaN</td>\n",
       "      <td>NaN</td>\n",
       "      <td>NaN</td>\n",
       "      <td>NaN</td>\n",
       "      <td>...</td>\n",
       "      <td>0.000310</td>\n",
       "      <td>0.000319</td>\n",
       "      <td>0.000297</td>\n",
       "      <td>0.000264</td>\n",
       "      <td>0.000224</td>\n",
       "      <td>0.000210</td>\n",
       "      <td>0.000208</td>\n",
       "      <td>0.000167</td>\n",
       "      <td>0.000191</td>\n",
       "      <td>0.000180</td>\n",
       "    </tr>\n",
       "    <tr>\n",
       "      <th>r</th>\n",
       "      <td>0.067461</td>\n",
       "      <td>0.072190</td>\n",
       "      <td>0.070263</td>\n",
       "      <td>0.071775</td>\n",
       "      <td>0.078492</td>\n",
       "      <td>0.079312</td>\n",
       "      <td>0.076157</td>\n",
       "      <td>0.075139</td>\n",
       "      <td>0.075072</td>\n",
       "      <td>0.075775</td>\n",
       "      <td>...</td>\n",
       "      <td>0.085224</td>\n",
       "      <td>0.085006</td>\n",
       "      <td>0.086126</td>\n",
       "      <td>0.085515</td>\n",
       "      <td>0.086324</td>\n",
       "      <td>0.086083</td>\n",
       "      <td>0.085639</td>\n",
       "      <td>0.085928</td>\n",
       "      <td>0.087769</td>\n",
       "      <td>0.087477</td>\n",
       "    </tr>\n",
       "    <tr>\n",
       "      <th>s</th>\n",
       "      <td>0.167006</td>\n",
       "      <td>0.162495</td>\n",
       "      <td>0.160441</td>\n",
       "      <td>0.158116</td>\n",
       "      <td>0.154764</td>\n",
       "      <td>0.152418</td>\n",
       "      <td>0.151131</td>\n",
       "      <td>0.147014</td>\n",
       "      <td>0.143244</td>\n",
       "      <td>0.142065</td>\n",
       "      <td>...</td>\n",
       "      <td>0.074100</td>\n",
       "      <td>0.071995</td>\n",
       "      <td>0.070285</td>\n",
       "      <td>0.070471</td>\n",
       "      <td>0.070192</td>\n",
       "      <td>0.069861</td>\n",
       "      <td>0.068699</td>\n",
       "      <td>0.067439</td>\n",
       "      <td>0.065807</td>\n",
       "      <td>0.065145</td>\n",
       "    </tr>\n",
       "    <tr>\n",
       "      <th>t</th>\n",
       "      <td>0.062891</td>\n",
       "      <td>0.061818</td>\n",
       "      <td>0.062285</td>\n",
       "      <td>0.064550</td>\n",
       "      <td>0.061235</td>\n",
       "      <td>0.063468</td>\n",
       "      <td>0.062725</td>\n",
       "      <td>0.062468</td>\n",
       "      <td>0.064506</td>\n",
       "      <td>0.063252</td>\n",
       "      <td>...</td>\n",
       "      <td>0.024575</td>\n",
       "      <td>0.023204</td>\n",
       "      <td>0.022188</td>\n",
       "      <td>0.022139</td>\n",
       "      <td>0.021758</td>\n",
       "      <td>0.021243</td>\n",
       "      <td>0.020992</td>\n",
       "      <td>0.021574</td>\n",
       "      <td>0.022132</td>\n",
       "      <td>0.022861</td>\n",
       "    </tr>\n",
       "    <tr>\n",
       "      <th>u</th>\n",
       "      <td>0.000226</td>\n",
       "      <td>0.000258</td>\n",
       "      <td>0.000088</td>\n",
       "      <td>0.000153</td>\n",
       "      <td>0.000131</td>\n",
       "      <td>0.000121</td>\n",
       "      <td>0.000081</td>\n",
       "      <td>0.000099</td>\n",
       "      <td>0.000124</td>\n",
       "      <td>0.000154</td>\n",
       "      <td>...</td>\n",
       "      <td>0.000945</td>\n",
       "      <td>0.000938</td>\n",
       "      <td>0.001040</td>\n",
       "      <td>0.001079</td>\n",
       "      <td>0.001068</td>\n",
       "      <td>0.001074</td>\n",
       "      <td>0.001117</td>\n",
       "      <td>0.001183</td>\n",
       "      <td>0.001225</td>\n",
       "      <td>0.001221</td>\n",
       "    </tr>\n",
       "    <tr>\n",
       "      <th>v</th>\n",
       "      <td>0.000299</td>\n",
       "      <td>0.000179</td>\n",
       "      <td>0.000378</td>\n",
       "      <td>0.000421</td>\n",
       "      <td>0.000315</td>\n",
       "      <td>0.000260</td>\n",
       "      <td>0.000289</td>\n",
       "      <td>0.000335</td>\n",
       "      <td>0.000248</td>\n",
       "      <td>0.000244</td>\n",
       "      <td>...</td>\n",
       "      <td>0.000623</td>\n",
       "      <td>0.000687</td>\n",
       "      <td>0.000838</td>\n",
       "      <td>0.000920</td>\n",
       "      <td>0.000900</td>\n",
       "      <td>0.000980</td>\n",
       "      <td>0.001109</td>\n",
       "      <td>0.001190</td>\n",
       "      <td>0.001312</td>\n",
       "      <td>0.001434</td>\n",
       "    </tr>\n",
       "    <tr>\n",
       "      <th>w</th>\n",
       "      <td>0.007720</td>\n",
       "      <td>0.007424</td>\n",
       "      <td>0.007697</td>\n",
       "      <td>0.007589</td>\n",
       "      <td>0.007217</td>\n",
       "      <td>0.007254</td>\n",
       "      <td>0.007266</td>\n",
       "      <td>0.006794</td>\n",
       "      <td>0.006810</td>\n",
       "      <td>0.006845</td>\n",
       "      <td>...</td>\n",
       "      <td>0.026934</td>\n",
       "      <td>0.025840</td>\n",
       "      <td>0.024882</td>\n",
       "      <td>0.023999</td>\n",
       "      <td>0.022809</td>\n",
       "      <td>0.021079</td>\n",
       "      <td>0.019452</td>\n",
       "      <td>0.018175</td>\n",
       "      <td>0.016814</td>\n",
       "      <td>0.016148</td>\n",
       "    </tr>\n",
       "    <tr>\n",
       "      <th>x</th>\n",
       "      <td>0.002751</td>\n",
       "      <td>0.002650</td>\n",
       "      <td>0.003123</td>\n",
       "      <td>0.002705</td>\n",
       "      <td>0.002997</td>\n",
       "      <td>0.003080</td>\n",
       "      <td>0.003177</td>\n",
       "      <td>0.003146</td>\n",
       "      <td>0.003566</td>\n",
       "      <td>0.002903</td>\n",
       "      <td>...</td>\n",
       "      <td>0.005509</td>\n",
       "      <td>0.005678</td>\n",
       "      <td>0.005941</td>\n",
       "      <td>0.006257</td>\n",
       "      <td>0.006534</td>\n",
       "      <td>0.006825</td>\n",
       "      <td>0.006914</td>\n",
       "      <td>0.007299</td>\n",
       "      <td>0.008432</td>\n",
       "      <td>0.008614</td>\n",
       "    </tr>\n",
       "    <tr>\n",
       "      <th>y</th>\n",
       "      <td>0.075760</td>\n",
       "      <td>0.077451</td>\n",
       "      <td>0.077537</td>\n",
       "      <td>0.079144</td>\n",
       "      <td>0.080405</td>\n",
       "      <td>0.081882</td>\n",
       "      <td>0.081681</td>\n",
       "      <td>0.082870</td>\n",
       "      <td>0.084919</td>\n",
       "      <td>0.086328</td>\n",
       "      <td>...</td>\n",
       "      <td>0.071687</td>\n",
       "      <td>0.069397</td>\n",
       "      <td>0.066197</td>\n",
       "      <td>0.064781</td>\n",
       "      <td>0.062806</td>\n",
       "      <td>0.060338</td>\n",
       "      <td>0.059634</td>\n",
       "      <td>0.060342</td>\n",
       "      <td>0.057223</td>\n",
       "      <td>0.058168</td>\n",
       "    </tr>\n",
       "    <tr>\n",
       "      <th>z</th>\n",
       "      <td>0.000262</td>\n",
       "      <td>0.000079</td>\n",
       "      <td>0.000273</td>\n",
       "      <td>0.000115</td>\n",
       "      <td>0.000236</td>\n",
       "      <td>0.000158</td>\n",
       "      <td>0.000117</td>\n",
       "      <td>0.000227</td>\n",
       "      <td>0.000190</td>\n",
       "      <td>0.000307</td>\n",
       "      <td>...</td>\n",
       "      <td>0.001464</td>\n",
       "      <td>0.001412</td>\n",
       "      <td>0.001380</td>\n",
       "      <td>0.001368</td>\n",
       "      <td>0.001456</td>\n",
       "      <td>0.001505</td>\n",
       "      <td>0.001595</td>\n",
       "      <td>0.001709</td>\n",
       "      <td>0.001841</td>\n",
       "      <td>0.001831</td>\n",
       "    </tr>\n",
       "  </tbody>\n",
       "</table>\n",
       "<p>26 rows × 131 columns</p>\n",
       "</div>"
      ],
      "text/plain": [
       "year             1880      1881      1882      1883      1884      1885  \\\n",
       "last_letter                                                               \n",
       "a            0.007023  0.007613  0.006799  0.007235  0.007139  0.006614   \n",
       "b            0.004607  0.004665  0.004451  0.004320  0.004334  0.004091   \n",
       "c            0.003159  0.003285  0.003070  0.002858  0.002787  0.002792   \n",
       "d            0.083055  0.083247  0.085340  0.084066  0.086120  0.085472   \n",
       "e            0.122116  0.123139  0.128537  0.126070  0.127895  0.130313   \n",
       "f            0.000977  0.000824  0.001187  0.001013  0.001145  0.001067   \n",
       "g            0.001330  0.001449  0.001284  0.001290  0.001398  0.001688   \n",
       "h            0.036645  0.037380  0.036732  0.037512  0.037066  0.037615   \n",
       "i            0.001810  0.002045  0.001821  0.001596  0.001381  0.001364   \n",
       "j                 NaN       NaN       NaN       NaN       NaN       NaN   \n",
       "k            0.042718  0.041182  0.041544  0.041928  0.041679  0.042318   \n",
       "l            0.046066  0.045371  0.047736  0.048742  0.048967  0.049795   \n",
       "m            0.101907  0.101411  0.099000  0.096663  0.093774  0.091000   \n",
       "n            0.153213  0.153214  0.149560  0.151646  0.149915  0.146361   \n",
       "o            0.008444  0.007941  0.008145  0.007761  0.008205  0.008933   \n",
       "p            0.002552  0.002690  0.002709  0.002733  0.002403  0.002625   \n",
       "q                 NaN       NaN       NaN       NaN       NaN       NaN   \n",
       "r            0.067461  0.072190  0.070263  0.071775  0.078492  0.079312   \n",
       "s            0.167006  0.162495  0.160441  0.158116  0.154764  0.152418   \n",
       "t            0.062891  0.061818  0.062285  0.064550  0.061235  0.063468   \n",
       "u            0.000226  0.000258  0.000088  0.000153  0.000131  0.000121   \n",
       "v            0.000299  0.000179  0.000378  0.000421  0.000315  0.000260   \n",
       "w            0.007720  0.007424  0.007697  0.007589  0.007217  0.007254   \n",
       "x            0.002751  0.002650  0.003123  0.002705  0.002997  0.003080   \n",
       "y            0.075760  0.077451  0.077537  0.079144  0.080405  0.081882   \n",
       "z            0.000262  0.000079  0.000273  0.000115  0.000236  0.000158   \n",
       "\n",
       "year             1886      1887      1888      1889    ...         2001  \\\n",
       "last_letter                                            ...                \n",
       "a            0.006996  0.006903  0.006777  0.006366    ...     0.020162   \n",
       "b            0.004080  0.004280  0.003872  0.003517    ...     0.026256   \n",
       "c            0.002554  0.002574  0.002524  0.002450    ...     0.013972   \n",
       "d            0.087647  0.089072  0.087707  0.091934    ...     0.031352   \n",
       "e            0.130658  0.130280  0.130270  0.130111    ...     0.074927   \n",
       "f            0.001011  0.001223  0.001158  0.001121    ...     0.000906   \n",
       "g            0.001273  0.001154  0.001572  0.001121    ...     0.001108   \n",
       "h            0.036891  0.038960  0.038376  0.038530    ...     0.044297   \n",
       "i            0.001544  0.001371  0.001498  0.001393    ...     0.010812   \n",
       "j                 NaN       NaN       NaN       NaN    ...     0.000551   \n",
       "k            0.042262  0.042668  0.042182  0.040872    ...     0.021890   \n",
       "l            0.050720  0.052834  0.053179  0.054616    ...     0.079180   \n",
       "m            0.090617  0.089546  0.087914  0.085387    ...     0.021627   \n",
       "n            0.149659  0.148838  0.151286  0.151976    ...     0.317495   \n",
       "o            0.008720  0.009604  0.010227  0.010173    ...     0.042332   \n",
       "p            0.002744  0.002603  0.002780  0.002559    ...     0.001762   \n",
       "q                 NaN       NaN       NaN       NaN    ...     0.000310   \n",
       "r            0.076157  0.075139  0.075072  0.075775    ...     0.085224   \n",
       "s            0.151131  0.147014  0.143244  0.142065    ...     0.074100   \n",
       "t            0.062725  0.062468  0.064506  0.063252    ...     0.024575   \n",
       "u            0.000081  0.000099  0.000124  0.000154    ...     0.000945   \n",
       "v            0.000289  0.000335  0.000248  0.000244    ...     0.000623   \n",
       "w            0.007266  0.006794  0.006810  0.006845    ...     0.026934   \n",
       "x            0.003177  0.003146  0.003566  0.002903    ...     0.005509   \n",
       "y            0.081681  0.082870  0.084919  0.086328    ...     0.071687   \n",
       "z            0.000117  0.000227  0.000190  0.000307    ...     0.001464   \n",
       "\n",
       "year             2002      2003      2004      2005      2006      2007  \\\n",
       "last_letter                                                               \n",
       "a            0.020019  0.019177  0.019505  0.018481  0.017635  0.016747   \n",
       "b            0.025418  0.024368  0.023171  0.021645  0.020778  0.020357   \n",
       "c            0.014048  0.014042  0.013514  0.013083  0.012991  0.012983   \n",
       "d            0.028794  0.027069  0.026118  0.025420  0.025075  0.024451   \n",
       "e            0.074603  0.073396  0.071710  0.070799  0.069748  0.069445   \n",
       "f            0.000937  0.000922  0.000961  0.000996  0.000960  0.001010   \n",
       "g            0.001075  0.001019  0.000927  0.000944  0.000941  0.000986   \n",
       "h            0.045429  0.044729  0.045227  0.046404  0.048032  0.048044   \n",
       "i            0.012177  0.013187  0.014383  0.015711  0.016368  0.017026   \n",
       "j            0.000561  0.000610  0.000552  0.000648  0.000605  0.000606   \n",
       "k            0.021683  0.021444  0.020893  0.021146  0.020747  0.020363   \n",
       "l            0.079163  0.078006  0.077111  0.077918  0.076203  0.075005   \n",
       "m            0.022003  0.021694  0.021727  0.020870  0.020731  0.021196   \n",
       "n            0.325086  0.336344  0.341151  0.344319  0.351666  0.358274   \n",
       "o            0.042900  0.043308  0.044824  0.046155  0.046995  0.046826   \n",
       "p            0.001628  0.001512  0.001434  0.001389  0.001327  0.001324   \n",
       "q            0.000319  0.000297  0.000264  0.000224  0.000210  0.000208   \n",
       "r            0.085006  0.086126  0.085515  0.086324  0.086083  0.085639   \n",
       "s            0.071995  0.070285  0.070471  0.070192  0.069861  0.068699   \n",
       "t            0.023204  0.022188  0.022139  0.021758  0.021243  0.020992   \n",
       "u            0.000938  0.001040  0.001079  0.001068  0.001074  0.001117   \n",
       "v            0.000687  0.000838  0.000920  0.000900  0.000980  0.001109   \n",
       "w            0.025840  0.024882  0.023999  0.022809  0.021079  0.019452   \n",
       "x            0.005678  0.005941  0.006257  0.006534  0.006825  0.006914   \n",
       "y            0.069397  0.066197  0.064781  0.062806  0.060338  0.059634   \n",
       "z            0.001412  0.001380  0.001368  0.001456  0.001505  0.001595   \n",
       "\n",
       "year             2008      2009      2010  \n",
       "last_letter                                \n",
       "a            0.016189  0.015927  0.014980  \n",
       "b            0.019655  0.019693  0.020470  \n",
       "c            0.012458  0.012186  0.012181  \n",
       "d            0.023574  0.023398  0.023387  \n",
       "e            0.069362  0.068663  0.067959  \n",
       "f            0.001080  0.001121  0.001188  \n",
       "g            0.001013  0.001214  0.001404  \n",
       "h            0.049328  0.050664  0.051670  \n",
       "i            0.018772  0.020732  0.022628  \n",
       "j            0.000680  0.000718  0.000769  \n",
       "k            0.019467  0.019007  0.018541  \n",
       "l            0.074197  0.072846  0.070367  \n",
       "m            0.021806  0.023451  0.024657  \n",
       "n            0.361101  0.362523  0.362771  \n",
       "o            0.045015  0.043795  0.042681  \n",
       "p            0.001298  0.001315  0.001269  \n",
       "q            0.000167  0.000191  0.000180  \n",
       "r            0.085928  0.087769  0.087477  \n",
       "s            0.067439  0.065807  0.065145  \n",
       "t            0.021574  0.022132  0.022861  \n",
       "u            0.001183  0.001225  0.001221  \n",
       "v            0.001190  0.001312  0.001434  \n",
       "w            0.018175  0.016814  0.016148  \n",
       "x            0.007299  0.008432  0.008614  \n",
       "y            0.060342  0.057223  0.058168  \n",
       "z            0.001709  0.001841  0.001831  \n",
       "\n",
       "[26 rows x 131 columns]"
      ]
     },
     "execution_count": 297,
     "metadata": {},
     "output_type": "execute_result"
    }
   ],
   "source": [
    "ratio_table = table / table.sum(axis=0)\n",
    "ratio_table\n"
   ]
  },
  {
   "cell_type": "code",
   "execution_count": 298,
   "metadata": {
    "collapsed": false
   },
   "outputs": [
    {
     "data": {
      "text/html": [
       "<div>\n",
       "<table border=\"1\" class=\"dataframe\">\n",
       "  <thead>\n",
       "    <tr style=\"text-align: right;\">\n",
       "      <th>year</th>\n",
       "      <th>1880</th>\n",
       "      <th>1881</th>\n",
       "      <th>1882</th>\n",
       "      <th>1883</th>\n",
       "      <th>1884</th>\n",
       "      <th>1885</th>\n",
       "      <th>1886</th>\n",
       "      <th>1887</th>\n",
       "      <th>1888</th>\n",
       "      <th>1889</th>\n",
       "      <th>...</th>\n",
       "      <th>2001</th>\n",
       "      <th>2002</th>\n",
       "      <th>2003</th>\n",
       "      <th>2004</th>\n",
       "      <th>2005</th>\n",
       "      <th>2006</th>\n",
       "      <th>2007</th>\n",
       "      <th>2008</th>\n",
       "      <th>2009</th>\n",
       "      <th>2010</th>\n",
       "    </tr>\n",
       "    <tr>\n",
       "      <th>last_letter</th>\n",
       "      <th></th>\n",
       "      <th></th>\n",
       "      <th></th>\n",
       "      <th></th>\n",
       "      <th></th>\n",
       "      <th></th>\n",
       "      <th></th>\n",
       "      <th></th>\n",
       "      <th></th>\n",
       "      <th></th>\n",
       "      <th></th>\n",
       "      <th></th>\n",
       "      <th></th>\n",
       "      <th></th>\n",
       "      <th></th>\n",
       "      <th></th>\n",
       "      <th></th>\n",
       "      <th></th>\n",
       "      <th></th>\n",
       "      <th></th>\n",
       "      <th></th>\n",
       "    </tr>\n",
       "  </thead>\n",
       "  <tbody>\n",
       "    <tr>\n",
       "      <th>d</th>\n",
       "      <td>0.083055</td>\n",
       "      <td>0.083247</td>\n",
       "      <td>0.085340</td>\n",
       "      <td>0.084066</td>\n",
       "      <td>0.086120</td>\n",
       "      <td>0.085472</td>\n",
       "      <td>0.087647</td>\n",
       "      <td>0.089072</td>\n",
       "      <td>0.087707</td>\n",
       "      <td>0.091934</td>\n",
       "      <td>...</td>\n",
       "      <td>0.031352</td>\n",
       "      <td>0.028794</td>\n",
       "      <td>0.027069</td>\n",
       "      <td>0.026118</td>\n",
       "      <td>0.025420</td>\n",
       "      <td>0.025075</td>\n",
       "      <td>0.024451</td>\n",
       "      <td>0.023574</td>\n",
       "      <td>0.023398</td>\n",
       "      <td>0.023387</td>\n",
       "    </tr>\n",
       "    <tr>\n",
       "      <th>n</th>\n",
       "      <td>0.153213</td>\n",
       "      <td>0.153214</td>\n",
       "      <td>0.149560</td>\n",
       "      <td>0.151646</td>\n",
       "      <td>0.149915</td>\n",
       "      <td>0.146361</td>\n",
       "      <td>0.149659</td>\n",
       "      <td>0.148838</td>\n",
       "      <td>0.151286</td>\n",
       "      <td>0.151976</td>\n",
       "      <td>...</td>\n",
       "      <td>0.317495</td>\n",
       "      <td>0.325086</td>\n",
       "      <td>0.336344</td>\n",
       "      <td>0.341151</td>\n",
       "      <td>0.344319</td>\n",
       "      <td>0.351666</td>\n",
       "      <td>0.358274</td>\n",
       "      <td>0.361101</td>\n",
       "      <td>0.362523</td>\n",
       "      <td>0.362771</td>\n",
       "    </tr>\n",
       "    <tr>\n",
       "      <th>y</th>\n",
       "      <td>0.075760</td>\n",
       "      <td>0.077451</td>\n",
       "      <td>0.077537</td>\n",
       "      <td>0.079144</td>\n",
       "      <td>0.080405</td>\n",
       "      <td>0.081882</td>\n",
       "      <td>0.081681</td>\n",
       "      <td>0.082870</td>\n",
       "      <td>0.084919</td>\n",
       "      <td>0.086328</td>\n",
       "      <td>...</td>\n",
       "      <td>0.071687</td>\n",
       "      <td>0.069397</td>\n",
       "      <td>0.066197</td>\n",
       "      <td>0.064781</td>\n",
       "      <td>0.062806</td>\n",
       "      <td>0.060338</td>\n",
       "      <td>0.059634</td>\n",
       "      <td>0.060342</td>\n",
       "      <td>0.057223</td>\n",
       "      <td>0.058168</td>\n",
       "    </tr>\n",
       "  </tbody>\n",
       "</table>\n",
       "<p>3 rows × 131 columns</p>\n",
       "</div>"
      ],
      "text/plain": [
       "year             1880      1881      1882      1883      1884      1885  \\\n",
       "last_letter                                                               \n",
       "d            0.083055  0.083247  0.085340  0.084066  0.086120  0.085472   \n",
       "n            0.153213  0.153214  0.149560  0.151646  0.149915  0.146361   \n",
       "y            0.075760  0.077451  0.077537  0.079144  0.080405  0.081882   \n",
       "\n",
       "year             1886      1887      1888      1889    ...         2001  \\\n",
       "last_letter                                            ...                \n",
       "d            0.087647  0.089072  0.087707  0.091934    ...     0.031352   \n",
       "n            0.149659  0.148838  0.151286  0.151976    ...     0.317495   \n",
       "y            0.081681  0.082870  0.084919  0.086328    ...     0.071687   \n",
       "\n",
       "year             2002      2003      2004      2005      2006      2007  \\\n",
       "last_letter                                                               \n",
       "d            0.028794  0.027069  0.026118  0.025420  0.025075  0.024451   \n",
       "n            0.325086  0.336344  0.341151  0.344319  0.351666  0.358274   \n",
       "y            0.069397  0.066197  0.064781  0.062806  0.060338  0.059634   \n",
       "\n",
       "year             2008      2009      2010  \n",
       "last_letter                                \n",
       "d            0.023574  0.023398  0.023387  \n",
       "n            0.361101  0.362523  0.362771  \n",
       "y            0.060342  0.057223  0.058168  \n",
       "\n",
       "[3 rows x 131 columns]"
      ]
     },
     "execution_count": 298,
     "metadata": {},
     "output_type": "execute_result"
    }
   ],
   "source": [
    "dny = ratio_table.ix[['d', 'n', 'y']]\n",
    "dny\n"
   ]
  },
  {
   "cell_type": "code",
   "execution_count": 299,
   "metadata": {
    "collapsed": false
   },
   "outputs": [
    {
     "data": {
      "text/plain": [
       "<matplotlib.axes._subplots.AxesSubplot at 0x5574a1d0>"
      ]
     },
     "execution_count": 299,
     "metadata": {},
     "output_type": "execute_result"
    },
    {
     "data": {
      "image/png": "[encoded data removed]",
      "text/plain": [
       "<matplotlib.figure.Figure at 0x557ebbe0>"
      ]
     },
     "metadata": {},
     "output_type": "display_data"
    }
   ],
   "source": [
    "dny.T\n",
    "dny.T.plot(rot=0, figsize=(15, 5))\n"
   ]
  },
  {
   "cell_type": "code",
   "execution_count": null,
   "metadata": {
    "collapsed": true
   },
   "outputs": [],
   "source": []
  }
 ],
 "metadata": {
  "kernelspec": {
   "display_name": "Python 2",
   "language": "python",
   "name": "python2"
  },
  "language_info": {
   "codemirror_mode": {
    "name": "ipython",
    "version": 2
   },
   "file_extension": ".py",
   "mimetype": "text/x-python",
   "name": "python",
   "nbconvert_exporter": "python",
   "pygments_lexer": "ipython2",
   "version": "2.7.11"
  }
 },
 "nbformat": 4,
 "nbformat_minor": 0
}
