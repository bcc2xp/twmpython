{
 "cells": [
  {
   "cell_type": "markdown",
   "metadata": {},
   "source": [
    "# 作業二"
   ]
  },
  {
   "cell_type": "markdown",
   "metadata": {},
   "source": [
    "## 有一個知名網站的使用者log 檔 web.txt\n",
    "- https://github.com/ywchiu/twmpython/raw/master/web.txt"
   ]
  },
  {
   "cell_type": "markdown",
   "metadata": {},
   "source": [
    "1. 請試用python 計算web.txt 內共有多少行?\n",
    "2. 請找出前三最多人看的商品pid\n",
    "3. 請計算每個使用者uid 看過多少商品"
   ]
  },
  {
   "cell_type": "markdown",
   "metadata": {},
   "source": [
    "## 答案一"
   ]
  },
  {
   "cell_type": "code",
   "execution_count": 4,
   "metadata": {
    "collapsed": true
   },
   "outputs": [],
   "source": [
    "f = open('test.txt', 'w')\n",
    "f.write('hello\\nworld')\n",
    "f.close()"
   ]
  },
  {
   "cell_type": "code",
   "execution_count": 5,
   "metadata": {
    "collapsed": false
   },
   "outputs": [
    {
     "name": "stdout",
     "output_type": "stream",
     "text": [
      "hello\n",
      "\n",
      "world\n"
     ]
    }
   ],
   "source": [
    "f = open('test.txt', 'r')\n",
    "for line in f.readlines():\n",
    "    print line\n",
    "f.close()"
   ]
  },
  {
   "cell_type": "code",
   "execution_count": 6,
   "metadata": {
    "collapsed": false
   },
   "outputs": [
    {
     "name": "stdout",
     "output_type": "stream",
     "text": [
      "10000\n"
     ]
    }
   ],
   "source": [
    "f = open('web.txt', 'r')\n",
    "#f.read()\n",
    "cnt = 0\n",
    "for line in f.readlines():\n",
    "    #print line\n",
    "    cnt +=1 # cnt = cnt + 1\n",
    "f.close()\n",
    "print cnt"
   ]
  },
  {
   "cell_type": "code",
   "execution_count": 7,
   "metadata": {
    "collapsed": false
   },
   "outputs": [
    {
     "name": "stdout",
     "output_type": "stream",
     "text": [
      "10000\n"
     ]
    }
   ],
   "source": [
    "f = open('web.txt', 'r')\n",
    "ary = []\n",
    "for line in f.readlines():\n",
    "    ary.append(line)\n",
    "f.close()\n",
    "print len(ary)"
   ]
  },
  {
   "cell_type": "code",
   "execution_count": 1,
   "metadata": {
    "collapsed": false
   },
   "outputs": [
    {
     "name": "stdout",
     "output_type": "stream",
     "text": [
      "10000\n"
     ]
    }
   ],
   "source": [
    "print len([line for line in open('web.txt', 'r')])"
   ]
  },
  {
   "cell_type": "markdown",
   "metadata": {},
   "source": [
    "## 答案二"
   ]
  },
  {
   "cell_type": "code",
   "execution_count": 17,
   "metadata": {
    "collapsed": false
   },
   "outputs": [
    {
     "name": "stdout",
     "output_type": "stream",
     "text": [
      "['203.145.207.188 - - [01/Feb/2015:00:00:00 +0800] \"GET /action?;act=view;uid=;', '0005158462;cat=J,J_007,J_007_001,J_007_001_001;erUid=41ee27d6-5f83-b982-69f9-f378dc9fc11b; HTTP/1.1\" 302 160 \"-\" \"Mozilla/5.0 (Windows NT 6.1; WOW64; rv:23.0) Gecko/20100101 Firefox/23.0\"\\n']\n",
      "0005158462\n",
      "['1.171.24.21 - - [01/Feb/2015:00:00:00 +0800] \"GET /action?;act=view;uid=;', '0022007845;cat=I,I_001,I_001_003,I_001_003_016;erUid=a6ef6b96-4e4-21af-e645-b582a3333d57; HTTP/1.1\" 302 160 \"-\" \"Mozilla/5.0 (compatible; MSIE 10.0; Windows NT 6.2; WOW64; Trident/6.0)\"\\n']\n",
      "0022007845\n",
      "['1.172.0.185 - - [01/Feb/2015:00:00:00 +0800] \"GET /action?;act=view;uid=;', '0006604986;cat=G_001_006_002;erUid=6c27cc0b-d35a-addb-feb2-561b6bb28a5; HTTP/1.1\" 302 160 \"-\" \"Mozilla/5.0 (Linux; U; Android 4.1.1; zh-tw; PadFone 2 Build/JRO03L) AppleWebKit/534.30 (KHTML, like Gecko) Version/4.0 Mobile Safari/534.30\"\\n']\n",
      "0006604986\n",
      "['101.13.126.139 - - [01/Feb/2015:00:00:00 +0800] \"GET /action?;act=cart;uid=;plist=0022356972,3,139,0009755432,1,199;erUid=dfba63c-23c2-f0d3-2b49-996125c66535; HTTP/1.1\" 302 160 \"-\" \"Mozilla/5.0 (iPad; CPU OS 5_0_1 like Mac OS X) AppleWebKit/534.46 (KHTML, like Gecko) Version/5.1 Mobile/9A405 Safari/7534.48.3\"\\n']\n"
     ]
    },
    {
     "ename": "IndexError",
     "evalue": "list index out of range",
     "output_type": "error",
     "traceback": [
      "\u001b[1;31m---------------------------------------------------------------------------\u001b[0m",
      "\u001b[1;31mIndexError\u001b[0m                                Traceback (most recent call last)",
      "\u001b[1;32m<ipython-input-17-f4c7d176384e>\u001b[0m in \u001b[0;36m<module>\u001b[1;34m()\u001b[0m\n\u001b[0;32m      5\u001b[0m     \u001b[0mpid_split\u001b[0m \u001b[1;33m=\u001b[0m \u001b[0mline\u001b[0m\u001b[1;33m.\u001b[0m\u001b[0msplit\u001b[0m\u001b[1;33m(\u001b[0m\u001b[1;34m'pid='\u001b[0m\u001b[1;33m)\u001b[0m\u001b[1;33m\u001b[0m\u001b[0m\n\u001b[0;32m      6\u001b[0m     \u001b[1;32mprint\u001b[0m \u001b[0mpid_split\u001b[0m\u001b[1;33m\u001b[0m\u001b[0m\n\u001b[1;32m----> 7\u001b[1;33m     \u001b[0mpid\u001b[0m \u001b[1;33m=\u001b[0m \u001b[0mpid_split\u001b[0m\u001b[1;33m[\u001b[0m\u001b[1;36m1\u001b[0m\u001b[1;33m]\u001b[0m\u001b[1;33m.\u001b[0m\u001b[0msplit\u001b[0m\u001b[1;33m(\u001b[0m\u001b[1;34m';'\u001b[0m\u001b[1;33m)\u001b[0m\u001b[1;33m[\u001b[0m\u001b[1;36m0\u001b[0m\u001b[1;33m]\u001b[0m\u001b[1;33m\u001b[0m\u001b[0m\n\u001b[0m\u001b[0;32m      8\u001b[0m     \u001b[1;32mprint\u001b[0m \u001b[0mpid\u001b[0m\u001b[1;33m\u001b[0m\u001b[0m\n\u001b[0;32m      9\u001b[0m     \u001b[0mcnt\u001b[0m \u001b[1;33m+=\u001b[0m \u001b[1;36m1\u001b[0m\u001b[1;33m\u001b[0m\u001b[0m\n",
      "\u001b[1;31mIndexError\u001b[0m: list index out of range"
     ]
    }
   ],
   "source": [
    "f = open('web.txt', 'r')\n",
    "# ........   pid=12312312;..................\n",
    "cnt = 0\n",
    "for line in f.readlines():\n",
    "    pid_split = line.split('pid=')\n",
    "    print pid_split\n",
    "    pid = pid_split[1].split(';')[0]\n",
    "    print pid\n",
    "    cnt += 1\n",
    "    if cnt > 10:\n",
    "        break\n",
    "f.close()\n",
    "#print len(ary)"
   ]
  },
  {
   "cell_type": "code",
   "execution_count": 20,
   "metadata": {
    "collapsed": false
   },
   "outputs": [],
   "source": [
    "dic = {}\n",
    "f = open('web.txt', 'r')\n",
    "# ........   pid=12312312;..................\n",
    "for line in f.readlines():\n",
    "    pid_split = line.split('pid=')\n",
    "    if len(pid_split) >= 2:\n",
    "        pid = pid_split[1].split(';')[0]\n",
    "        if not pid in dic:\n",
    "            dic[pid] = 1\n",
    "        else:\n",
    "            dic[pid] = dic[pid] + 1\n",
    "f.close()\n",
    "\n",
    "#print dic"
   ]
  },
  {
   "cell_type": "code",
   "execution_count": 22,
   "metadata": {
    "collapsed": false
   },
   "outputs": [
    {
     "name": "stdout",
     "output_type": "stream",
     "text": [
      "[('0022827254', 314), ('0004880654', 133), ('0006437900', 129)]\n"
     ]
    }
   ],
   "source": [
    "from collections import Counter\n",
    "c = Counter()\n",
    "f = open('web.txt', 'r')\n",
    "# ........   pid=12312312;..................\n",
    "for line in f.readlines():\n",
    "    pid_split = line.split('pid=')\n",
    "    if len(pid_split) >= 2:\n",
    "        pid = pid_split[1].split(';')[0]\n",
    "        c[pid] += 1\n",
    "f.close()\n",
    "print c.most_common(3)\n"
   ]
  },
  {
   "cell_type": "code",
   "execution_count": 23,
   "metadata": {
    "collapsed": false
   },
   "outputs": [
    {
     "name": "stdout",
     "output_type": "stream",
     "text": [
      "[('0022827254', 314), ('0004880654', 133), ('0006437900', 129)]\n"
     ]
    }
   ],
   "source": [
    "from collections import Counter\n",
    "c = Counter()\n",
    "f = open('web.txt', 'r')\n",
    "# ........   pid=12312312;..................\n",
    "for line in f.readlines():\n",
    "    pid_split = line.split('pid=')\n",
    "    if 'act=view' in line:\n",
    "        pid = pid_split[1].split(';')[0]\n",
    "        c[pid] += 1\n",
    "f.close()\n",
    "print c.most_common(3)\n"
   ]
  },
  {
   "cell_type": "code",
   "execution_count": 24,
   "metadata": {
    "collapsed": false
   },
   "outputs": [
    {
     "name": "stdout",
     "output_type": "stream",
     "text": [
      "Counter({'a': 2, 'b': 2, 'c': 1})\n"
     ]
    }
   ],
   "source": [
    "c = Counter()\n",
    "a = ['a', 'b', 'a', 'c', 'b']\n",
    "for ele in a:\n",
    "    c[ele] += 1\n",
    "print c"
   ]
  },
  {
   "cell_type": "code",
   "execution_count": 25,
   "metadata": {
    "collapsed": false
   },
   "outputs": [
    {
     "name": "stdout",
     "output_type": "stream",
     "text": [
      "Counter({'a': 2, 'b': 2, 'c': 1})\n"
     ]
    }
   ],
   "source": [
    "a = ['a', 'b', 'a', 'c', 'b']\n",
    "c = Counter(a)\n",
    "print c"
   ]
  },
  {
   "cell_type": "code",
   "execution_count": 26,
   "metadata": {
    "collapsed": false
   },
   "outputs": [
    {
     "name": "stdout",
     "output_type": "stream",
     "text": [
      "[('0022827254', 314), ('0004880654', 133), ('0006437900', 129)]\n"
     ]
    }
   ],
   "source": [
    "from collections import Counter\n",
    "c = Counter()\n",
    "with open('web.txt', 'r') as f:\n",
    "    for line in f.readlines():\n",
    "        pid_split = line.split('pid=')\n",
    "        if 'act=view' in line:\n",
    "            pid = pid_split[1].split(';')[0]\n",
    "            c[pid] += 1\n",
    "print c.most_common(3)\n"
   ]
  },
  {
   "cell_type": "code",
   "execution_count": null,
   "metadata": {
    "collapsed": true
   },
   "outputs": [],
   "source": []
  },
  {
   "cell_type": "code",
   "execution_count": 41,
   "metadata": {
    "collapsed": false
   },
   "outputs": [
    {
     "name": "stdout",
     "output_type": "stream",
     "text": [
      "[1, 2]\n"
     ]
    }
   ],
   "source": [
    "a = [1]\n",
    "a.append(2)\n",
    "print a"
   ]
  },
  {
   "cell_type": "markdown",
   "metadata": {},
   "source": [
    "## 答案三"
   ]
  },
  {
   "cell_type": "code",
   "execution_count": 44,
   "metadata": {
    "collapsed": false
   },
   "outputs": [],
   "source": [
    "from collections import Counter\n",
    "dic = {}\n",
    "with open('web.txt', 'r') as f:\n",
    "    for line in f.readlines():\n",
    "        uid_split = line.split('uid=')\n",
    "        uid = uid_split[1].split(';')[0]\n",
    "        pid_split = line.split('pid=')\n",
    "        if 'act=view' in line and uid != '' :\n",
    "            pid = pid_split[1].split(';')[0]\n",
    "            if not uid in dic:\n",
    "                dic[uid] = [pid]\n",
    "            else:\n",
    "                dic[uid].append(pid)\n",
    "#for uid in dic:\n",
    "#    print uid, len(dic[uid])\n"
   ]
  },
  {
   "cell_type": "code",
   "execution_count": 45,
   "metadata": {
    "collapsed": false
   },
   "outputs": [
    {
     "data": {
      "text/plain": [
       "['DEBUG',\n",
       " 'DOTALL',\n",
       " 'I',\n",
       " 'IGNORECASE',\n",
       " 'L',\n",
       " 'LOCALE',\n",
       " 'M',\n",
       " 'MULTILINE',\n",
       " 'S',\n",
       " 'Scanner',\n",
       " 'T',\n",
       " 'TEMPLATE',\n",
       " 'U',\n",
       " 'UNICODE',\n",
       " 'VERBOSE',\n",
       " 'X',\n",
       " '_MAXCACHE',\n",
       " '__all__',\n",
       " '__builtins__',\n",
       " '__doc__',\n",
       " '__file__',\n",
       " '__name__',\n",
       " '__package__',\n",
       " '__version__',\n",
       " '_alphanum',\n",
       " '_cache',\n",
       " '_cache_repl',\n",
       " '_compile',\n",
       " '_compile_repl',\n",
       " '_expand',\n",
       " '_locale',\n",
       " '_pattern_type',\n",
       " '_pickle',\n",
       " '_subx',\n",
       " 'compile',\n",
       " 'copy_reg',\n",
       " 'error',\n",
       " 'escape',\n",
       " 'findall',\n",
       " 'finditer',\n",
       " 'match',\n",
       " 'purge',\n",
       " 'search',\n",
       " 'split',\n",
       " 'sre_compile',\n",
       " 'sre_parse',\n",
       " 'sub',\n",
       " 'subn',\n",
       " 'sys',\n",
       " 'template']"
      ]
     },
     "execution_count": 45,
     "metadata": {},
     "output_type": "execute_result"
    }
   ],
   "source": [
    "import re\n",
    "dir(re)"
   ]
  },
  {
   "cell_type": "code",
   "execution_count": 59,
   "metadata": {
    "collapsed": false
   },
   "outputs": [
    {
     "name": "stdout",
     "output_type": "stream",
     "text": [
      "<_sre.SRE_Match object at 0x0000000003FDC4A8>\n",
      "None\n",
      "<_sre.SRE_Match object at 0x0000000003FDC4A8>\n",
      "<_sre.SRE_Match object at 0x0000000003FDC4A8>\n",
      "<_sre.SRE_Match object at 0x0000000003FDC4A8>\n",
      "<_sre.SRE_Match object at 0x0000000003FDC4A8>\n",
      "<_sre.SRE_Match object at 0x0000000003FDC4A8>\n",
      "abcdef\n",
      "abcdef\n",
      "abcdefghjijijadkfjksfd\n",
      "abcd\n",
      "abcdefghjijijadkfjksfd\n",
      "abcdefghjijijadkfjksfd\n",
      "abcdefghjijijadkfjksfd\n",
      "abcdefghjijijadkfjksfd\n"
     ]
    }
   ],
   "source": [
    "s = 'a'\n",
    "print re.search('a', s)\n",
    "print re.search('b', s)\n",
    "print re.search('[abcdefghijklmnopqrstuvwxyz]', s)\n",
    "print re.search('[a-z]', s) # abcdefghi.....z\n",
    "print re.search('[a-zA-Z]', s)\n",
    "print re.search('[0-9a-zA-Z]', s)\n",
    "print re.search('\\w', s) # [0-9a-zA-Z]\n",
    "\n",
    "s = 'abcdef'\n",
    "m =  re.search('\\w{4,6}', s) # match character numbers between 4 to 6\n",
    "print m.group(0)\n",
    "\n",
    "\n",
    "s = 'abcdefghjijijadkfjksfd'\n",
    "m =  re.search('\\w{4,6}', s) # match character numbers between 4 to 6\n",
    "print m.group(0)\n",
    "\n",
    "s = 'abcdefghjijijadkfjksfd'\n",
    "m =  re.search('\\w{4,}', s) # match character numbers between 4 to inf\n",
    "print m.group(0)\n",
    "\n",
    "s = 'abcdefghjijijadkfjksfd'\n",
    "m =  re.search('\\w{4}', s) # match character numbers equals to  4\n",
    "print m.group(0)\n",
    "\n",
    "s = 'abcdefghjijijadkfjksfd'\n",
    "m =  re.search('\\w{1,}', s) # match character numbers between 1 to inf\n",
    "print m.group(0)\n",
    "\n",
    "m =  re.search('\\w+', s) # + = {1,}\n",
    "print m.group(0)\n",
    "\n",
    "\n",
    "s = 'abcdefghjijijadkfjksfd'\n",
    "m =  re.search('\\w{0,}', s) # match character numbers between 0 to inf\n",
    "print m.group(0)\n",
    "\n",
    "m =  re.search('\\w*', s) \n",
    "print m.group(0)"
   ]
  },
  {
   "cell_type": "code",
   "execution_count": 68,
   "metadata": {
    "collapsed": false
   },
   "outputs": [
    {
     "name": "stdout",
     "output_type": "stream",
     "text": [
      "0\n",
      "0\n",
      "0\n",
      "0\n",
      "=========================\n",
      "0912345678\n",
      "0919999998\n",
      "=========================\n",
      "0912345678\n",
      "0912-345-678\n",
      "0912-345678\n",
      "0919999998\n",
      "=========================\n",
      "0912345678\n",
      "0912-345-678\n",
      "0912-345678\n",
      "0919999998\n",
      "=========================\n",
      "0912345678\n",
      "0912-345-678\n",
      "0912-345678\n"
     ]
    }
   ],
   "source": [
    "phones = ['0912345678', '0912-345-678', '0912-345678', '091999999891239182822']\n",
    "# search = partial match, match = exactly match\n",
    "for p in phones:\n",
    "    m = re.match('[0123456789]', p)\n",
    "    print m.group(0)\n",
    "    \n",
    "print '========================='\n",
    "    \n",
    "for p in phones:\n",
    "    m = re.match('\\d{10}', p)\n",
    "    if m:\n",
    "        print m.group(0)\n",
    "\n",
    "print '========================='\n",
    "        \n",
    "for p in phones:\n",
    "    m = re.match('\\d{4}-{0,1}\\d{3}-{0,1}\\d{3}', p)\n",
    "    if m:\n",
    "        print m.group(0)\n",
    "\n",
    "print '========================='\n",
    "        \n",
    "for p in phones:\n",
    "    m = re.match('\\d{4}-?\\d{3}-?\\d{3}', p) # ? = {0,1}\n",
    "    if m:\n",
    "        print m.group(0)\n",
    "        \n",
    "print '========================='\n",
    "        \n",
    "for p in phones:\n",
    "    m = re.match('^\\d{4}-?\\d{3}-?\\d{3}$', p) # ^ = initial, $ = end\n",
    "    if m:\n",
    "        print m.group(0)\n",
    "        \n",
    "print '========================='\n",
    "        \n",
    "for p in phones:\n",
    "    m = re.match('^09\\d{2}-?\\d{3}-?\\d{3}$', p) # ^ = initial, $ = end\n",
    "    if m:\n",
    "        print m.group(0)"
   ]
  },
  {
   "cell_type": "code",
   "execution_count": 74,
   "metadata": {
    "collapsed": false
   },
   "outputs": [
    {
     "name": "stdout",
     "output_type": "stream",
     "text": [
      "david@largitdata.com\n",
      "qoo@gmail.com\n",
      "=============================\n",
      "david@largitdata.com david largitdata.com\n",
      "qoo@gmail.com qoo gmail.com\n"
     ]
    }
   ],
   "source": [
    "emails = ['david@largitdata.com', 'david@qooo0000', '123#123', 'qoo@gmail.com']\n",
    "\n",
    "for e in emails:\n",
    "    m = re.match('\\w+@\\w+\\.\\w+', e) # words include special symbol, \".\"\n",
    "                                    # represent a . using \\.\n",
    "    if m:\n",
    "        print m.group(0)\n",
    "        \n",
    "print '============================='\n",
    "\n",
    "for e in emails:\n",
    "    m = re.match('(\\w+)@(\\w+\\.\\w+)', e) # present as a group \n",
    "    if m:\n",
    "        print m.group(0), m.group(1), m.group(2)"
   ]
  },
  {
   "cell_type": "code",
   "execution_count": 87,
   "metadata": {
    "collapsed": false
   },
   "outputs": [
    {
     "name": "stdout",
     "output_type": "stream",
     "text": [
      "203.145.207.188 01/Feb/2015:00:00:00 +0800\n",
      "==============================\n",
      "203.145.207.188 01/Feb/2015:00:00:00 +0800  0005158462\n"
     ]
    }
   ],
   "source": [
    "# 203.145.207.188 - - [01/Feb/2015:00:00:00 +0800] \n",
    "#\"GET /action?;act=view;uid=;pid=0005158462;\n",
    "#cat=J,J_007,J_007_001,J_007_001_001;\n",
    "#erUid=41ee27d6-5f83-b982-69f9-f378dc9fc11b; HTTP/1.1\" 302 160 \n",
    "#\"-\" \"Mozilla/5.0 (Windows NT 6.1; WOW64; rv:23.0) Gecko/20100101 Firefox/23.0\"\n",
    "\n",
    "log = '203.145.207.188 - - [01/Feb/2015:00:00:00 +0800] \"GET /action?;act=view;uid=;pid=0005158462;cat=J,J_007,J_007_001,J_007_001_001;erUid=41ee27d6-5f83-b982-69f9-f378dc9fc11b; HTTP/1.1\" 302 160 \"-\" \"Mozilla/5.0 (Windows NT 6.1; WOW64; rv:23.0) Gecko/20100101 Firefox/23.0\"'\n",
    "import re\n",
    "m = re.match('([0-9.]+) - - \\[(.+)\\].*', log)\n",
    "if m:\n",
    "    #print m.group(0), \n",
    "    print m.group(1), m.group(2)\n",
    "    \n",
    "print '=============================='\n",
    "\n",
    "\n",
    "m = re.match('([0-9.]+) - - \\[(.+?)\\].*uid=(.*?);pid=(.*?);.*', log)\n",
    "if m:\n",
    "    print m.group(1), m.group(2), m.group(3), m.group(4)\n",
    "    "
   ]
  },
  {
   "cell_type": "code",
   "execution_count": 106,
   "metadata": {
    "collapsed": false
   },
   "outputs": [],
   "source": [
    "ary = []\n",
    "with open('web.txt', 'r') as f:\n",
    "    for line in f.readlines():\n",
    "        m = re.match('([0-9.]+) - - \\[(.+?)\\].*uid=(.*?);pid=(.*?);.*', line)\n",
    "        if m:\n",
    "            ary.append({'ip':m.group(1), \\\n",
    "                        'datetime':m.group(2), \\\n",
    "                        'uid':m.group(3), \\\n",
    "                        'pid':m.group(4)})\n",
    "    \n",
    "import pandas as pd\n",
    "df1 = pd.DataFrame(ary)\n",
    "#df1.groupby(['pid']).count()\n"
   ]
  },
  {
   "cell_type": "code",
   "execution_count": 90,
   "metadata": {
    "collapsed": false
   },
   "outputs": [
    {
     "name": "stdout",
     "output_type": "stream",
     "text": [
      "['', '02', '', '778', '1234', '', '', '', '', '', '', '']\n",
      "027781234\n"
     ]
    }
   ],
   "source": [
    "p = '(02) 778-1234 中文'\n",
    "import re\n",
    "print re.split('[^\\d]',p) # [^ ...] not\n",
    "print ''.join(re.split('[^\\d]',p))"
   ]
  },
  {
   "cell_type": "code",
   "execution_count": 95,
   "metadata": {
    "collapsed": false
   },
   "outputs": [
    {
     "name": "stdout",
     "output_type": "stream",
     "text": [
      "賣出金額\n",
      "021\n",
      "123\n",
      "936\n",
      "570\n",
      "460\n"
     ]
    }
   ],
   "source": [
    "with open('finance.csv', 'r') as f:\n",
    "    for line in f.readlines():\n",
    "        #if line.split(',')\n",
    "        print line.split(',')[2]"
   ]
  },
  {
   "cell_type": "code",
   "execution_count": 97,
   "metadata": {
    "collapsed": false
   },
   "outputs": [],
   "source": [
    "import pandas as pd\n",
    "df = pd.read_csv('finance.csv')"
   ]
  },
  {
   "cell_type": "code",
   "execution_count": 101,
   "metadata": {
    "collapsed": false
   },
   "outputs": [
    {
     "data": {
      "text/plain": [
       "0       137,648,510\n",
       "1    -2,619,761,978\n",
       "2       117,799,470\n",
       "3    12,946,483,372\n",
       "4    10,582,169,374\n",
       "Name: 買賣差額, dtype: object"
      ]
     },
     "execution_count": 101,
     "metadata": {},
     "output_type": "execute_result"
    }
   ],
   "source": [
    "df['買賣差額']"
   ]
  },
  {
   "cell_type": "code",
   "execution_count": null,
   "metadata": {
    "collapsed": true
   },
   "outputs": [],
   "source": []
  }
 ],
 "metadata": {
  "kernelspec": {
   "display_name": "Python 2",
   "language": "python",
   "name": "python2"
  },
  "language_info": {
   "codemirror_mode": {
    "name": "ipython",
    "version": 2
   },
   "file_extension": ".py",
   "mimetype": "text/x-python",
   "name": "python",
   "nbconvert_exporter": "python",
   "pygments_lexer": "ipython2",
   "version": "2.7.11"
  }
 },
 "nbformat": 4,
 "nbformat_minor": 0
}
