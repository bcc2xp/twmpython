{
 "cells": [
  {
   "cell_type": "markdown",
   "metadata": {},
   "source": [
    "# 作業三"
   ]
  },
  {
   "cell_type": "markdown",
   "metadata": {},
   "source": [
    "## 有一個知名網站的使用者log 檔 web.txt\n",
    "- https://github.com/ywchiu/twmpython/raw/master/web.txt"
   ]
  },
  {
   "cell_type": "markdown",
   "metadata": {},
   "source": [
    "撰寫一個函式 getUserViewProfile(uid), 當輸入使用者id 時，可回傳字典：\n",
    "- 使用者瀏覽過的商品(list) viewproduct\n",
    "- 使用者瀏覽過的商品數 viewproductnum\n"
   ]
  },
  {
   "cell_type": "code",
   "execution_count": 9,
   "metadata": {
    "collapsed": false
   },
   "outputs": [
    {
     "name": "stdout",
     "output_type": "stream",
     "text": [
      "['0023468384']\n"
     ]
    }
   ],
   "source": [
    "import re\n",
    "product_list = []\n",
    "with open('web.txt', 'r') as f:\n",
    "    for l in f.readlines():\n",
    "        m = re.search('uid=(.*?);pid=(.*?);', l.strip())\n",
    "        if m: \n",
    "            user = m.group(1)\n",
    "            product = m.group(2)\n",
    "            if user == 'U129297265':\n",
    "                product_list.append(product)\n",
    "        #print l.strip()\n",
    "        #break\n",
    "print product_list"
   ]
  },
  {
   "cell_type": "code",
   "execution_count": 10,
   "metadata": {
    "collapsed": false
   },
   "outputs": [
    {
     "data": {
      "text/plain": [
       "{'viewproduct': ['0023468384'], 'viewproductnum': 1}"
      ]
     },
     "execution_count": 10,
     "metadata": {},
     "output_type": "execute_result"
    }
   ],
   "source": [
    "import re\n",
    "def getUserViewProfile(uid):\n",
    "    product_list = []\n",
    "    with open('web.txt', 'r') as f:\n",
    "        for l in f.readlines():\n",
    "            m = re.search('uid=(.*?);pid=(.*?);', l.strip())\n",
    "            if m: \n",
    "                user = m.group(1)\n",
    "                product = m.group(2)\n",
    "                if user == uid:\n",
    "                    product_list.append(product)\n",
    "    return {'viewproduct':product_list, 'viewproductnum':len(product_list)}\n",
    "\n",
    "getUserViewProfile('U129297265')"
   ]
  },
  {
   "cell_type": "code",
   "execution_count": 12,
   "metadata": {
    "collapsed": false
   },
   "outputs": [
    {
     "name": "stdout",
     "output_type": "stream",
     "text": [
      "2016-06-15 14:49:05.338000\n",
      "<type 'datetime.datetime'>\n"
     ]
    }
   ],
   "source": [
    "from datetime import datetime\n",
    "print datetime.now()\n",
    "print type(datetime.now())"
   ]
  },
  {
   "cell_type": "code",
   "execution_count": 14,
   "metadata": {
    "collapsed": false
   },
   "outputs": [
    {
     "name": "stdout",
     "output_type": "stream",
     "text": [
      "2016/06/15\n",
      "<type 'str'>\n"
     ]
    }
   ],
   "source": [
    "# convert from time to string\n",
    "print datetime.now().strftime('%Y/%m/%d')\n",
    "dt = datetime.now().strftime('%Y/%m/%d')\n",
    "print type(dt)"
   ]
  },
  {
   "cell_type": "code",
   "execution_count": 16,
   "metadata": {
    "collapsed": false
   },
   "outputs": [
    {
     "name": "stdout",
     "output_type": "stream",
     "text": [
      "2016-06-15 00:00:00\n"
     ]
    }
   ],
   "source": [
    "#convert from string to time\n",
    "print datetime.strptime(dt, '%Y/%m/%d')"
   ]
  },
  {
   "cell_type": "code",
   "execution_count": 19,
   "metadata": {
    "collapsed": false
   },
   "outputs": [
    {
     "name": "stdout",
     "output_type": "stream",
     "text": [
      "2016-06-15 14:53:31.493000\n",
      "2016-06-14 14:53:31.494000\n",
      "2016-06-13 14:53:31.494000\n"
     ]
    }
   ],
   "source": [
    "from datetime import datetime, timedelta\n",
    "print datetime.now()\n",
    "print datetime.now() - timedelta(days = 1)\n",
    "print datetime.now() - timedelta(days = 2)"
   ]
  },
  {
   "cell_type": "code",
   "execution_count": 22,
   "metadata": {
    "collapsed": false
   },
   "outputs": [
    {
     "name": "stdout",
     "output_type": "stream",
     "text": [
      "2016/06/14\n",
      "2016/06/13\n",
      "2016/06/12\n",
      "2016/06/11\n",
      "2016/06/10\n",
      "2016/06/09\n",
      "2016/06/08\n",
      "2016/06/07\n",
      "2016/06/06\n",
      "2016/06/05\n",
      "2016/06/04\n",
      "2016/06/03\n",
      "2016/06/02\n",
      "2016/06/01\n",
      "2016/05/31\n",
      "2016/05/30\n",
      "2016/05/29\n",
      "2016/05/28\n",
      "2016/05/27\n",
      "2016/05/26\n",
      "2016/05/25\n",
      "2016/05/24\n",
      "2016/05/23\n",
      "2016/05/22\n",
      "2016/05/21\n",
      "2016/05/20\n",
      "2016/05/19\n",
      "2016/05/18\n",
      "2016/05/17\n",
      "2016/05/16\n",
      "2016/05/15\n",
      "2016/05/14\n",
      "2016/05/13\n",
      "2016/05/12\n",
      "2016/05/11\n",
      "2016/05/10\n",
      "2016/05/09\n",
      "2016/05/08\n",
      "2016/05/07\n",
      "2016/05/06\n",
      "2016/05/05\n",
      "2016/05/04\n",
      "2016/05/03\n",
      "2016/05/02\n",
      "2016/05/01\n",
      "2016/04/30\n",
      "2016/04/29\n",
      "2016/04/28\n",
      "2016/04/27\n",
      "2016/04/26\n",
      "2016/04/25\n",
      "2016/04/24\n",
      "2016/04/23\n",
      "2016/04/22\n",
      "2016/04/21\n",
      "2016/04/20\n",
      "2016/04/19\n",
      "2016/04/18\n",
      "2016/04/17\n",
      "2016/04/16\n",
      "2016/04/15\n",
      "2016/04/14\n",
      "2016/04/13\n",
      "2016/04/12\n",
      "2016/04/11\n",
      "2016/04/10\n",
      "2016/04/09\n",
      "2016/04/08\n",
      "2016/04/07\n",
      "2016/04/06\n",
      "2016/04/05\n",
      "2016/04/04\n",
      "2016/04/03\n",
      "2016/04/02\n",
      "2016/04/01\n",
      "2016/03/31\n",
      "2016/03/30\n",
      "2016/03/29\n",
      "2016/03/28\n",
      "2016/03/27\n",
      "2016/03/26\n",
      "2016/03/25\n",
      "2016/03/24\n",
      "2016/03/23\n",
      "2016/03/22\n",
      "2016/03/21\n",
      "2016/03/20\n",
      "2016/03/19\n",
      "2016/03/18\n",
      "2016/03/17\n",
      "2016/03/16\n",
      "2016/03/15\n",
      "2016/03/14\n",
      "2016/03/13\n",
      "2016/03/12\n",
      "2016/03/11\n",
      "2016/03/10\n",
      "2016/03/09\n",
      "2016/03/08\n",
      "2016/03/07\n"
     ]
    }
   ],
   "source": [
    "from datetime import datetime, timedelta\n",
    "for i in range(1,101): \n",
    "    #print datetime.now() - timedelta(days = i)\n",
    "    print (datetime.now() - timedelta(days = i)).strftime('%Y/%m/%d')"
   ]
  },
  {
   "cell_type": "code",
   "execution_count": 30,
   "metadata": {
    "collapsed": false
   },
   "outputs": [
    {
     "name": "stdout",
     "output_type": "stream",
     "text": [
      "2015-02-01 00:04:28 U10120096721\n",
      "2015-02-01 00:04:46 U10120096721\n",
      "2015-02-01 00:06:14 U10120096721\n"
     ]
    }
   ],
   "source": [
    "import re\n",
    "product_list = []\n",
    "with open('web.txt', 'r') as f:\n",
    "    for l in f.readlines():\n",
    "        m = re.search('\\[(.*?)\\].*?uid=(.*?);', l.strip())\n",
    "        if m and m.group(2) != '' : \n",
    "            #print m.group(1), m.group(2)\n",
    "            dt = datetime.strptime((m.group(1)).split()[0], \\\n",
    "                                   '%d/%b/%Y:%H:%M:%S')\n",
    "            uid = m.group(2)\n",
    "            if uid == 'U10120096721':\n",
    "                print dt, uid"
   ]
  },
  {
   "cell_type": "code",
   "execution_count": null,
   "metadata": {
    "collapsed": true
   },
   "outputs": [],
   "source": []
  }
 ],
 "metadata": {
  "kernelspec": {
   "display_name": "Python 2",
   "language": "python",
   "name": "python2"
  },
  "language_info": {
   "codemirror_mode": {
    "name": "ipython",
    "version": 2
   },
   "file_extension": ".py",
   "mimetype": "text/x-python",
   "name": "python",
   "nbconvert_exporter": "python",
   "pygments_lexer": "ipython2",
   "version": "2.7.11"
  }
 },
 "nbformat": 4,
 "nbformat_minor": 0
}
