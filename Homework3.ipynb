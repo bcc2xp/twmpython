{
 "cells": [
  {
   "cell_type": "markdown",
   "metadata": {},
   "source": [
    "# 作業三"
   ]
  },
  {
   "cell_type": "markdown",
   "metadata": {},
   "source": [
    "## 有一個知名網站的使用者log 檔 web.txt\n",
    "- https://github.com/ywchiu/twmpython/raw/master/web.txt"
   ]
  },
  {
   "cell_type": "markdown",
   "metadata": {},
   "source": [
    "撰寫一個函式 getUserViewProfile(uid), 當輸入使用者id 時，可回傳字典：\n",
    "- 使用者瀏覽過的商品(list) viewproduct\n",
    "- 使用者瀏覽過的商品數 viewproductnum\n"
   ]
  },
  {
   "cell_type": "code",
   "execution_count": 9,
   "metadata": {
    "collapsed": false
   },
   "outputs": [
    {
     "name": "stdout",
     "output_type": "stream",
     "text": [
      "['0023468384']\n"
     ]
    }
   ],
   "source": [
    "import re\n",
    "product_list = []\n",
    "with open('web.txt', 'r') as f:\n",
    "    for l in f.readlines():\n",
    "        m = re.search('uid=(.*?);pid=(.*?);', l.strip())\n",
    "        if m: \n",
    "            user = m.group(1)\n",
    "            product = m.group(2)\n",
    "            if user == 'U129297265':\n",
    "                product_list.append(product)\n",
    "        #print l.strip()\n",
    "        #break\n",
    "print product_list"
   ]
  },
  {
   "cell_type": "code",
   "execution_count": 10,
   "metadata": {
    "collapsed": false
   },
   "outputs": [
    {
     "data": {
      "text/plain": [
       "{'viewproduct': ['0023468384'], 'viewproductnum': 1}"
      ]
     },
     "execution_count": 10,
     "metadata": {},
     "output_type": "execute_result"
    }
   ],
   "source": [
    "import re\n",
    "def getUserViewProfile(uid):\n",
    "    product_list = []\n",
    "    with open('web.txt', 'r') as f:\n",
    "        for l in f.readlines():\n",
    "            m = re.search('uid=(.*?);pid=(.*?);', l.strip())\n",
    "            if m: \n",
    "                user = m.group(1)\n",
    "                product = m.group(2)\n",
    "                if user == uid:\n",
    "                    product_list.append(product)\n",
    "    return {'viewproduct':product_list, 'viewproductnum':len(product_list)}\n",
    "\n",
    "getUserViewProfile('U129297265')"
   ]
  },
  {
   "cell_type": "code",
   "execution_count": 12,
   "metadata": {
    "collapsed": false
   },
   "outputs": [
    {
     "name": "stdout",
     "output_type": "stream",
     "text": [
      "2016-06-15 14:49:05.338000\n",
      "<type 'datetime.datetime'>\n"
     ]
    }
   ],
   "source": [
    "from datetime import datetime\n",
    "print datetime.now()\n",
    "print type(datetime.now())"
   ]
  },
  {
   "cell_type": "code",
   "execution_count": 14,
   "metadata": {
    "collapsed": false
   },
   "outputs": [
    {
     "name": "stdout",
     "output_type": "stream",
     "text": [
      "2016/06/15\n",
      "<type 'str'>\n"
     ]
    }
   ],
   "source": [
    "# convert from time to string\n",
    "print datetime.now().strftime('%Y/%m/%d')\n",
    "dt = datetime.now().strftime('%Y/%m/%d')\n",
    "print type(dt)"
   ]
  },
  {
   "cell_type": "code",
   "execution_count": 16,
   "metadata": {
    "collapsed": false
   },
   "outputs": [
    {
     "name": "stdout",
     "output_type": "stream",
     "text": [
      "2016-06-15 00:00:00\n"
     ]
    }
   ],
   "source": [
    "#convert from string to time\n",
    "print datetime.strptime(dt, '%Y/%m/%d')"
   ]
  },
  {
   "cell_type": "code",
   "execution_count": 19,
   "metadata": {
    "collapsed": false
   },
   "outputs": [
    {
     "name": "stdout",
     "output_type": "stream",
     "text": [
      "2016-06-15 14:53:31.493000\n",
      "2016-06-14 14:53:31.494000\n",
      "2016-06-13 14:53:31.494000\n"
     ]
    }
   ],
   "source": [
    "from datetime import datetime, timedelta\n",
    "print datetime.now()\n",
    "print datetime.now() - timedelta(days = 1)\n",
    "print datetime.now() - timedelta(days = 2)"
   ]
  },
  {
   "cell_type": "code",
   "execution_count": 22,
   "metadata": {
    "collapsed": false
   },
   "outputs": [
    {
     "name": "stdout",
     "output_type": "stream",
     "text": [
      "2016/06/14\n",
      "2016/06/13\n",
      "2016/06/12\n",
      "2016/06/11\n",
      "2016/06/10\n",
      "2016/06/09\n",
      "2016/06/08\n",
      "2016/06/07\n",
      "2016/06/06\n",
      "2016/06/05\n",
      "2016/06/04\n",
      "2016/06/03\n",
      "2016/06/02\n",
      "2016/06/01\n",
      "2016/05/31\n",
      "2016/05/30\n",
      "2016/05/29\n",
      "2016/05/28\n",
      "2016/05/27\n",
      "2016/05/26\n",
      "2016/05/25\n",
      "2016/05/24\n",
      "2016/05/23\n",
      "2016/05/22\n",
      "2016/05/21\n",
      "2016/05/20\n",
      "2016/05/19\n",
      "2016/05/18\n",
      "2016/05/17\n",
      "2016/05/16\n",
      "2016/05/15\n",
      "2016/05/14\n",
      "2016/05/13\n",
      "2016/05/12\n",
      "2016/05/11\n",
      "2016/05/10\n",
      "2016/05/09\n",
      "2016/05/08\n",
      "2016/05/07\n",
      "2016/05/06\n",
      "2016/05/05\n",
      "2016/05/04\n",
      "2016/05/03\n",
      "2016/05/02\n",
      "2016/05/01\n",
      "2016/04/30\n",
      "2016/04/29\n",
      "2016/04/28\n",
      "2016/04/27\n",
      "2016/04/26\n",
      "2016/04/25\n",
      "2016/04/24\n",
      "2016/04/23\n",
      "2016/04/22\n",
      "2016/04/21\n",
      "2016/04/20\n",
      "2016/04/19\n",
      "2016/04/18\n",
      "2016/04/17\n",
      "2016/04/16\n",
      "2016/04/15\n",
      "2016/04/14\n",
      "2016/04/13\n",
      "2016/04/12\n",
      "2016/04/11\n",
      "2016/04/10\n",
      "2016/04/09\n",
      "2016/04/08\n",
      "2016/04/07\n",
      "2016/04/06\n",
      "2016/04/05\n",
      "2016/04/04\n",
      "2016/04/03\n",
      "2016/04/02\n",
      "2016/04/01\n",
      "2016/03/31\n",
      "2016/03/30\n",
      "2016/03/29\n",
      "2016/03/28\n",
      "2016/03/27\n",
      "2016/03/26\n",
      "2016/03/25\n",
      "2016/03/24\n",
      "2016/03/23\n",
      "2016/03/22\n",
      "2016/03/21\n",
      "2016/03/20\n",
      "2016/03/19\n",
      "2016/03/18\n",
      "2016/03/17\n",
      "2016/03/16\n",
      "2016/03/15\n",
      "2016/03/14\n",
      "2016/03/13\n",
      "2016/03/12\n",
      "2016/03/11\n",
      "2016/03/10\n",
      "2016/03/09\n",
      "2016/03/08\n",
      "2016/03/07\n"
     ]
    }
   ],
   "source": [
    "from datetime import datetime, timedelta\n",
    "for i in range(1,101): \n",
    "    #print datetime.now() - timedelta(days = i)\n",
    "    print (datetime.now() - timedelta(days = i)).strftime('%Y/%m/%d')"
   ]
  },
  {
   "cell_type": "code",
   "execution_count": 30,
   "metadata": {
    "collapsed": false
   },
   "outputs": [
    {
     "name": "stdout",
     "output_type": "stream",
     "text": [
      "2015-02-01 00:04:28 U10120096721\n",
      "2015-02-01 00:04:46 U10120096721\n",
      "2015-02-01 00:06:14 U10120096721\n"
     ]
    }
   ],
   "source": [
    "import re\n",
    "product_list = []\n",
    "with open('web.txt', 'r') as f:\n",
    "    for l in f.readlines():\n",
    "        m = re.search('\\[(.*?)\\].*?uid=(.*?);', l.strip())\n",
    "        if m and m.group(2) != '' : \n",
    "            #print m.group(1), m.group(2)\n",
    "            dt = datetime.strptime((m.group(1)).split()[0], \\\n",
    "                                   '%d/%b/%Y:%H:%M:%S')\n",
    "            uid = m.group(2)\n",
    "            if uid == 'U10120096721':\n",
    "                print dt, uid"
   ]
  },
  {
   "cell_type": "code",
   "execution_count": 43,
   "metadata": {
    "collapsed": false
   },
   "outputs": [
    {
     "name": "stdout",
     "output_type": "stream",
     "text": [
      "1451577600.0\n"
     ]
    }
   ],
   "source": [
    "from datetime import datetime\n",
    "import time\n",
    "#fromtimestamp(datetime.strptime('2016-01-01', '%Y-%m-%d'))\n",
    "\n",
    "\n",
    "print time.mktime(datetime.strptime('2016-01-01', \"%Y-%m-%d\").timetuple())"
   ]
  },
  {
   "cell_type": "code",
   "execution_count": 44,
   "metadata": {
    "collapsed": true
   },
   "outputs": [],
   "source": [
    "import re\n",
    "product_list = []\n",
    "dic = {}\n",
    "with open('web.txt', 'r') as f:\n",
    "    for l in f.readlines():\n",
    "        m = re.search('\\[(.*?)\\].*?uid=(.*?);', l.strip())\n",
    "        if m and m.group(2) != '' : \n",
    "            #print m.group(1), m.group(2)\n",
    "            dt = datetime.strptime((m.group(1)).split()[0], \\\n",
    "                                   '%d/%b/%Y:%H:%M:%S')\n",
    "            dt2 = time.mktime(dt.timetuple())\n",
    "            uid = m.group(2)\n",
    "            if uid not in dic:\n",
    "                dic[uid] = [dt2]\n",
    "            else:\n",
    "                dic[uid].append(dt2)"
   ]
  },
  {
   "cell_type": "code",
   "execution_count": 48,
   "metadata": {
    "collapsed": false
   },
   "outputs": [
    {
     "name": "stdout",
     "output_type": "stream",
     "text": [
      "[1735.0, 118.0, 7.0, 546.0, 126.0, 111.0, 823.0, 65.0, 124.0, 9.0, 26.0, 16.0, 7.0, 59.0, 74.0, 15.0, 20.0, 104.0, 284.0, 205.0, 107.0, 60.0, 8.0, 43.0, 69.0, 38.0, 10.0, 21.0, 64.0, 165.0, 4.0, 11.0, 5.0, 10.0, 6.0, 10.0, 6.0, 6.0, 109.0, 9.0, 25.0, 12.0, 158.0, 6.0, 1320.0, 124.0, 55.0, 81.0, 223.0, 88.0, 76.0, 43.0, 154.0, 25.0, 25.0, 45.0, 3.0, 142.0, 5.0, 8.0, 12.0, 7.0, 15.0, 80.0, 165.0, 195.0, 24.0, 25.0, 14.0, 52.0, 12.0, 15.0, 25.0, 137.0, 37.0, 21.0, 20.0, 4.0, 15.0, 25.0, 48.0, 156.0, 45.0, 12.0, 92.0, 32.0, 15.0, 11.0, 19.0, 32.0, 14.0, 22.0, 27.0, 14.0, 80.0, 2.0, 8.0, 4.0, 28.0, 29.0, 19.0, 18.0, 10.0, 17.0, 20.0, 467.0, 22.0, 14.0, 93.0, 13.0, 88.0, 47.0, 285.0, 139.0, 229.0, 30.0, 23.0, 93.0, 54.0, 18.0, 8.0, 107.0, 23.0, 7.0, 22.0, 4.0, 52.0, 77.0, 96.0, 10.0, 10.0, 166.0, 11.0, 57.0, 7.0, 32.0, 26.0, 22.0, 14.0, 317.0, 90.0, 124.0, 29.0, 91.0, 20.0, 123.0, 41.0, 27.0, 21.0, 13.0, 16.0, 40.0, 11.0, 110.0, 74.0, 33.0, 494.0, 112.0, 168.0, 29.0, 21.0, 32.0, 211.0, 29.0, 368.0, 152.0, 128.0, 74.0, 135.0, 60.0, 135.0, 115.0, 133.0, 43.0, 16.0, 31.0, 11.0, 431.0, 33.0, 161.0, 248.0, 30.0, 46.0, 23.0, 14.0, 23.0, 297.0, 133.0, 176.0, 64.0, 85.0, 15.0, 20.0, 73.0, 171.0, 152.0, 27.0, 482.0, 538.0, 27.0, 14.0, 22.0, 144.0, 65.0, 6.0, 63.0, 99.0, 157.0, 341.0, 374.0, 302.0, 19.0, 201.0, 64.0, 48.0, 729.0, 167.0, 2092.0, 3.0, 173.0, 3.0, 551.0, 500.0, 51.0, 5.0, 2.0, 68.0, 31.0, 68.0, 1132.0, 143.0, 79.0, 39.0, 21.0, 715.0, 87.0, 35.0, 22.0, 33.0, 13.0, 17.0, 1293.0, 35.0, 11.0, 12.0, 107.0, 148.0, 15.0, 232.0, 327.0, 9.0, 11.0, 78.0, 47.0, 257.0, 3.0, 33.0, 11.0, 1177.0, 166.0, 250.0, 445.0, 39.0, 183.0, 12.0, 108.0, 24.0, 260.0, 45.0, 33.0, 35.0, 206.0, 59.0, 23.0, 123.0, 35.0, 217.0, 84.0, 182.0, 25.0, 30.0, 45.0, 110.0, 79.0, 82.0, 70.0, 2.0, 10.0, 240.0, 1304.0, 16.0, 171.0, 136.0, 184.0, 94.0, 123.0, 185.0, 44.0, 73.0, 66.0, 129.0, 54.0, 276.0, 73.0, 34.0, 511.0, 363.0, 114.0, 83.0, 20.0, 29.0, 9.0, 152.0, 360.0, 204.0, 62.0, 3.0, 491.0, 17.0, 174.0, 192.0, 5.0, 171.0, 157.0, 198.0, 150.0, 27.0, 291.0, 726.0, 52.0, 168.0, 213.0, 79.0, 50.0, 5.0, 22.0, 7.0, 16.0, 118.0, 67.0, 25.0, 175.0, 131.0, 61.0, 36.0, 75.0, 317.0, 92.0, 18.0, 27.0, 162.0, 171.0, 216.0, 17.0, 63.0, 172.0, 21.0, 82.0, 8.0, 208.0, 421.0, 229.0, 18.0, 557.0, 84.0, 29.0, 15.0, 49.0, 140.0, 60.0, 119.0, 18.0, 74.0, 129.0, 13.0, 235.0, 84.0, 217.0, 41.0, 4.0, 9.0, 27.0, 11.0, 96.0, 26.0, 26.0, 21.0, 23.0, 27.0, 34.0, 103.0, 61.0, 102.0, 146.0, 24.0, 28.0, 15.0, 130.0, 8.0, 27.0, 44.0, 205.0, 25.0, 26.0, 267.0, 200.0, 39.0, 151.0, 10.0, 26.0, 10.0, 56.0, 6.0, 244.0, 84.0, 45.0, 30.0, 38.0, 41.0, 541.0, 33.0, 431.0, 58.0, 41.0, 12.0, 82.0, 16.0, 7.0, 187.0, 15.0, 18.0, 12.0, 15.0, 236.0, 40.0, 55.0, 84.0, 32.0, 26.0, 141.0, 50.0, 107.0, 8.0, 26.0, 35.0, 28.0, 316.0, 39.0, 41.0, 87.0, 11.0, 15.0, 21.0, 91.0, 1872.0, 101.0, 117.0, 63.0, 322.0, 176.0, 70.0, 209.0, 88.0, 157.0, 207.0, 430.0, 541.0, 728.0, 21.0, 125.0, 36.0, 50.0, 101.0, 701.0, 41.0, 35.0, 81.0, 4.0, 58.0, 24.0, 385.0, 19.0, 25.0, 5.0, 2.0, 15.0, 14.0, 9.0, 352.0, 61.0, 16.0, 36.0, 68.0, 73.0, 666.0, 345.0, 201.0, 17.0, 21.0, 289.0, 9.0, 9.0, 5.0, 25.0, 95.0, 101.0, 539.0, 24.0, 39.0, 405.0, 25.0, 63.0, 207.0, 99.0, 33.0, 96.0, 91.0, 28.0, 41.0, 111.0, 146.0, 200.0, 28.0, 95.0, 64.0, 38.0, 23.0, 8.0, 654.0, 15.0, 10.0, 11.0, 4.0, 298.0, 472.0, 42.0, 40.0, 11.0, 22.0, 7.0, 40.0, 30.0, 33.0, 76.0, 138.0, 36.0, 492.0, 3.0, 535.0, 30.0, 10.0, 25.0, 66.0, 466.0, 45.0, 27.0, 15.0, 21.0, 99.0, 151.0, 77.0, 16.0, 19.0, 50.0, 23.0, 47.0, 17.0, 9.0, 276.0, 28.0, 2.0, 2.0, 38.0, 5.0, 4.0, 72.0, 14.0, 426.0, 27.0, 675.0, 39.0, 380.0, 74.0, 38.0, 253.0, 7.0, 157.0, 298.0, 29.0, 89.0, 65.0, 23.0, 27.0, 24.0, 143.0, 26.0, 14.0, 17.0, 11.0, 83.0, 474.0, 1581.0, 81.0, 208.0, 560.0, 360.0, 8.0, 34.0, 488.0, 117.0, 29.0, 24.0, 23.0, 28.0, 209.0, 50.0, 52.0, 29.0, 55.0, 60.0, 40.0, 466.0, 58.0, 46.0, 210.0, 63.0, 2.0, 995.0, 20.0, 16.0, 69.0, 47.0, 57.0, 50.0, 10.0, 56.0, 28.0, 60.0, 61.0, 63.0, 20.0, 132.0, 703.0, 25.0, 32.0, 68.0, 67.0, 90.0, 260.0, 59.0, 26.0, 199.0, 22.0, 25.0, 62.0, 54.0, 83.0, 82.0, 238.0, 132.0, 27.0, 18.0, 88.0, 11.0, 35.0, 9.0, 81.0, 11.0, 9.0, 32.0, 47.0, 541.0, 20.0, 22.0, 139.0, 9.0, 116.0, 112.0, 14.0, 5.0, 3.0, 1100.0, 4.0, 108.0, 230.0, 13.0, 59.0, 8.0, 9.0, 55.0, 62.0, 30.0, 26.0, 44.0, 78.0, 23.0, 11.0, 23.0, 133.0, 1.0, 71.0, 76.0, 693.0, 275.0, 69.0, 177.0, 147.0, 431.0, 44.0, 184.0, 41.0, 114.0, 345.0, 81.0, 81.0, 56.0, 8.0, 9.0, 10.0, 11.0, 9.0, 6.0, 22.0, 16.0, 16.0, 9.0, 11.0, 19.0, 18.0, 42.0, 134.0, 110.0, 42.0, 178.0, 85.0, 116.0, 5.0, 154.0, 22.0, 59.0, 33.0, 10.0, 59.0, 25.0, 20.0, 126.0, 28.0, 30.0, 54.0, 5.0, 5.0, 56.0, 159.0, 282.0, 59.0, 45.0, 98.0, 89.0, 79.0, 7.0, 48.0, 44.0, 151.0, 215.0, 20.0, 98.0, 724.0, 1248.0, 882.0, 43.0, 14.0, 162.0, 25.0, 22.0, 16.0, 10.0, 34.0, 51.0, 123.0, 104.0, 127.0, 120.0, 21.0, 451.0, 5.0, 11.0, 11.0, 10.0, 16.0, 8.0, 20.0, 1236.0, 28.0, 148.0, 34.0, 30.0, 106.0, 158.0, 10.0, 10.0, 10.0, 14.0, 9.0, 9.0, 10.0, 9.0, 16.0, 24.0, 76.0, 600.0, 893.0, 15.0, 1089.0, 6.0, 9.0, 233.0, 29.0, 14.0, 161.0, 199.0, 238.0, 31.0, 148.0, 4.0, 67.0, 294.0, 397.0, 1.0, 770.0, 223.0, 13.0, 47.0, 267.0, 26.0, 17.0, 766.0, 24.0, 18.0, 184.0, 121.0, 27.0, 206.0, 77.0, 25.0, 107.0, 183.0, 508.0, 833.0, 5.0, 80.0, 230.0, 68.0, 298.0, 7.0, 139.0, 111.0, 315.0, 19.0, 13.0, 386.0, 473.0, 19.0, 232.0, 70.0, 6.0, 11.0, 90.0, 30.0, 13.0, 86.0, 40.0, 17.0, 68.0, 22.0, 9.0, 7.0, 242.0, 5.0, 6.0, 5.0, 6.0, 6.0, 5.0, 3.0, 3.0, 667.0, 78.0, 40.0, 31.0, 31.0, 25.0, 21.0, 18.0, 21.0, 32.0, 53.0, 36.0, 107.0, 80.0, 70.0, 36.0, 45.0, 156.0, 45.0, 9.0, 16.0, 127.0, 28.0, 18.0, 29.0, 66.0, 78.0, 24.0, 29.0, 23.0, 31.0, 43.0, 29.0, 29.0, 294.0, 20.0, 269.0, 79.0, 50.0, 661.0, 78.0, 16.0, 12.0, 240.0, 70.0, 15.0, 17.0, 111.0, 14.0, 12.0, 14.0, 49.0, 17.0, 17.0, 10.0, 50.0, 31.0, 243.0, 63.0, 26.0, 132.0, 28.0, 13.0, 10.0, 263.0, 7.0, 265.0, 68.0, 252.0, 134.0, 60.0, 43.0, 50.0, 37.0, 135.0, 46.0, 42.0, 676.0, 53.0, 88.0, 132.0, 292.0, 26.0, 20.0, 58.0, 4.0, 44.0, 98.0, 21.0, 49.0, 36.0, 181.0, 143.0, 25.0, 20.0, 113.0, 12.0, 760.0, 5.0, 6.0, 5.0, 8.0, 664.0, 175.0, 5.0, 7.0, 6.0, 157.0, 30.0, 49.0, 178.0, 12.0, 15.0, 72.0, 14.0, 73.0, 5.0, 119.0, 163.0, 101.0, 381.0, 305.0, 133.0, 553.0, 17.0, 62.0, 12.0, 84.0, 24.0, 138.0, 60.0, 5.0, 1200.0, 41.0, 28.0, 53.0, 43.0, 34.0, 421.0, 40.0, 28.0, 24.0, 346.0, 34.0, 104.0, 335.0, 48.0, 939.0, 82.0, 119.0, 23.0, 263.0, 6.0, 163.0, 114.0, 109.0, 51.0, 80.0, 95.0, 79.0, 13.0, 129.0, 22.0, 42.0, 127.0, 160.0, 71.0, 61.0, 12.0, 58.0, 115.0, 17.0, 106.0, 27.0, 42.0, 6.0, 62.0, 18.0, 98.0, 93.0, 61.0, 23.0, 176.0, 39.0, 27.0, 20.0, 20.0, 78.0, 175.0, 8.0, 10.0, 22.0, 215.0, 88.0, 72.0, 47.0, 21.0, 4.0, 76.0, 35.0, 21.0, 34.0, 35.0, 26.0, 56.0, 100.0, 101.0, 23.0, 231.0, 36.0, 34.0, 50.0, 14.0, 26.0, 239.0, 66.0, 6.0, 65.0, 18.0, 253.0, 35.0, 272.0, 215.0, 27.0, 38.0, 27.0, 17.0, 75.0, 37.0, 37.0, 179.0, 77.0, 444.0, 17.0, 80.0, 35.0, 25.0, 75.0, 11.0, 90.0, 27.0, 8.0, 9.0, 4.0, 138.0, 14.0, 44.0, 11.0, 152.0, 163.0, 201.0, 2.0, 15.0, 36.0, 8.0, 1675.0, 11.0, 78.0, 32.0, 594.0, 9.0, 105.0, 15.0, 82.0, 18.0, 40.0, 21.0, 15.0, 212.0, 117.0, 245.0, 80.0, 20.0, 11.0, 15.0, 21.0, 21.0, 19.0, 20.0, 11.0, 68.0, 3.0, 119.0, 14.0, 14.0, 1025.0, 10.0, 58.0, 135.0, 333.0, 406.0, 384.0, 12.0, 33.0, 17.0, 123.0, 119.0, 40.0, 148.0, 104.0, 47.0, 62.0, 127.0, 26.0, 20.0, 121.0, 58.0, 75.0, 183.0, 44.0, 74.0, 40.0, 25.0, 36.0, 304.0, 81.0, 1221.0, 133.0, 49.0, 55.0, 22.0, 11.0, 105.0, 70.0, 27.0, 135.0, 16.0, 17.0, 323.0, 56.0, 54.0, 88.0, 21.0, 15.0, 13.0, 6.0, 6.0, 4.0, 1.0, 37.0, 24.0, 14.0, 68.0, 123.0, 10.0, 19.0, 45.0, 71.0, 34.0, 756.0, 2.0, 28.0, 4.0, 90.0, 39.0, 17.0, 21.0, 882.0, 4.0, 344.0, 33.0, 75.0, 379.0, 3.0, 6.0, 23.0, 11.0, 62.0, 21.0, 24.0, 32.0, 13.0, 339.0, 69.0, 52.0, 6.0, 45.0, 114.0, 386.0, 43.0, 91.0, 11.0, 35.0, 224.0, 109.0, 55.0, 241.0, 36.0, 75.0, 149.0, 22.0, 4.0, 22.0, 34.0, 21.0, 24.0, 25.0, 6.0, 449.0, 17.0, 34.0, 79.0, 102.0, 20.0, 229.0, 47.0, 33.0, 70.0, 767.0, 8.0, 208.0, 121.0, 116.0, 18.0, 47.0, 31.0, 78.0, 18.0, 99.0, 41.0, 10.0, 79.0, 27.0, 38.0, 126.0, 101.0, 38.0, 7.0, 3.0, 26.0, 6.0, 20.0, 101.0, 41.0, 44.0, 41.0, 62.0, 64.0, 54.0, 29.0, 22.0, 93.0, 76.0, 23.0, 16.0, 10.0, 74.0, 115.0, 18.0, 79.0, 14.0, 29.0, 54.0, 46.0, 16.0, 15.0, 107.0, 10.0, 6.0, 33.0, 11.0, 317.0, 48.0, 203.0, 209.0, 184.0, 54.0, 19.0, 542.0, 63.0, 33.0, 20.0, 14.0, 27.0, 62.0, 8.0, 25.0, 10.0, 69.0, 51.0, 59.0, 159.0, 368.0, 72.0, 10.0, 206.0, 23.0, 22.0, 34.0, 23.0, 34.0, 124.0, 45.0, 192.0, 3.0, 31.0, 2.0, 34.0, 2.0, 1.0, 124.0, 3.0, 2.0, 46.0, 22.0, 32.0, 6.0, 27.0, 29.0, 3.0, 3.0, 25.0, 2.0, 3.0, 5.0, 27.0, 847.0, 1507.0, 105.0, 29.0, 17.0, 8.0, 34.0, 51.0, 14.0, 44.0, 15.0, 14.0, 60.0, 4.0, 5.0, 10.0, 13.0, 295.0, 23.0, 13.0, 150.0, 17.0, 11.0, 52.0, 34.0, 35.0, 878.0, 84.0, 53.0, 329.0, 41.0, 72.0, 118.0, 276.0, 18.0, 93.0, 212.0, 14.0, 47.0, 25.0, 17.0, 112.0, 80.0, 27.0, 51.0, 656.0, 38.0, 420.0, 44.0, 761.0, 26.0, 31.0, 32.0, 16.0, 24.0, 27.0, 27.0, 47.0, 66.0, 79.0, 85.0, 27.0, 258.0, 44.0, 11.0, 25.0, 25.0, 38.0, 382.0, 687.0, 40.0, 41.0, 36.0, 26.0, 505.0, 146.0, 64.0, 46.0, 314.0, 58.0, 1274.0, 4.0, 379.0, 48.0, 97.0, 16.0, 9.0, 21.0, 47.0, 28.0, 31.0, 8.0, 18.0, 94.0, 971.0, 3.0, 806.0, 79.0, 99.0, 159.0, 25.0, 14.0, 31.0, 16.0, 27.0, 84.0, 36.0, 21.0, 8.0, 71.0, 111.0, 56.0, 71.0, 496.0, 715.0, 229.0, 151.0, 268.0, 65.0, 42.0, 40.0, 144.0, 49.0, 45.0, 62.0, 34.0, 29.0, 18.0, 15.0, 5.0, 368.0, 32.0, 30.0, 1044.0, 16.0, 35.0, 257.0, 644.0, 764.0, 53.0, 191.0, 21.0, 20.0, 115.0, 656.0, 39.0, 11.0, 6.0, 31.0, 32.0, 14.0, 141.0, 52.0, 26.0, 95.0, 77.0, 14.0, 53.0, 34.0, 268.0, 26.0, 37.0, 228.0, 541.0, 7.0, 10.0, 25.0, 15.0, 114.0, 108.0, 86.0]\n"
     ]
    }
   ],
   "source": [
    "import numpy as np\n",
    "totalelapsed = [] \n",
    "for user in dic:\n",
    "    n = np.array(dic[user])\n",
    "    totalelapsed.extend(np.diff(n))\n",
    "#print totalelapsed"
   ]
  },
  {
   "cell_type": "code",
   "execution_count": 49,
   "metadata": {
    "collapsed": false
   },
   "outputs": [
    {
     "name": "stdout",
     "output_type": "stream",
     "text": [
      "Populating the interactive namespace from numpy and matplotlib\n"
     ]
    },
    {
     "name": "stderr",
     "output_type": "stream",
     "text": [
      "WARNING: pylab import has clobbered these variables: ['product', 'datetime', 'f']\n",
      "`%matplotlib` prevents importing * from pylab and numpy\n"
     ]
    }
   ],
   "source": [
    "%pylab inline"
   ]
  },
  {
   "cell_type": "code",
   "execution_count": 50,
   "metadata": {
    "collapsed": true
   },
   "outputs": [],
   "source": [
    "import pandas as pd\n",
    "df = pd.DataFrame(totalelapsed)"
   ]
  },
  {
   "cell_type": "code",
   "execution_count": 54,
   "metadata": {
    "collapsed": false
   },
   "outputs": [
    {
     "data": {
      "text/plain": [
       "<matplotlib.axes._subplots.AxesSubplot at 0xd2f5198>"
      ]
     },
     "execution_count": 54,
     "metadata": {},
     "output_type": "execute_result"
    },
    {
     "data": {
      "image/png": "[encoded data removed]",
      "text/plain": [
       "<matplotlib.figure.Figure at 0xd2f5978>"
      ]
     },
     "metadata": {},
     "output_type": "display_data"
    }
   ],
   "source": [
    "#?df.plot\n",
    "df.plot(kind='box', y=0)"
   ]
  },
  {
   "cell_type": "code",
   "execution_count": null,
   "metadata": {
    "collapsed": true
   },
   "outputs": [],
   "source": []
  }
 ],
 "metadata": {
  "kernelspec": {
   "display_name": "Python 2",
   "language": "python",
   "name": "python2"
  },
  "language_info": {
   "codemirror_mode": {
    "name": "ipython",
    "version": 2
   },
   "file_extension": ".py",
   "mimetype": "text/x-python",
   "name": "python",
   "nbconvert_exporter": "python",
   "pygments_lexer": "ipython2",
   "version": "2.7.11"
  }
 },
 "nbformat": 4,
 "nbformat_minor": 0
}
