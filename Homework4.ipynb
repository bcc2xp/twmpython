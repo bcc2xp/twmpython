{
 "cells": [
  {
   "cell_type": "markdown",
   "metadata": {},
   "source": [
    "# 作業四"
   ]
  },
  {
   "cell_type": "markdown",
   "metadata": {},
   "source": [
    "撰寫一個機器人物件 robot, 機器人需要包含以下功能：\n",
    "- 使用者在建立物件時，可以給予機器人的年齡(age)與性別(gender)\n",
    "- 為機器人建立函式 getRobotProperty: 可以列印出機器人的年齡與性別\n",
    "- 為機器人建立函式 getMessage 可以接收使用者打的訊息, 並根據使用者的輸入檢查是否有包含下列字樣,如果有的話會自動回傳預設好的訊息, 沒有包含下列字樣的話將回傳\"Haha, I do not know what you are talking about!\"\n",
    "- 預設關鍵字與訊息放置在message.tab中"
   ]
  },
  {
   "cell_type": "code",
   "execution_count": 32,
   "metadata": {
    "collapsed": true
   },
   "outputs": [],
   "source": [
    "class Robot(object):\n",
    "    name = \"RobotCop\"\n",
    "    def __init__(self,age, gender):\n",
    "        self.age = age\n",
    "        self.gender = gender\n",
    "        self.messagedic = self.buildMessage('message.tab')\n",
    "        \n",
    "    def getRobotProperty(self):\n",
    "        print 'Hi, my name is irobot, my age is {}, and my gender is {}'.format(self.age, self.gender)\n",
    "        \n",
    "    def buildMessage(self, fname):\n",
    "        dic = {}\n",
    "        with open(fname, 'r') as f:\n",
    "            for line in f.readlines():\n",
    "                keyword, message = line.strip().split('\\t')\n",
    "                dic[keyword] = message\n",
    "        return dic\n",
    "\n",
    "    def getMessage(self, message):\n",
    "        for k in self.messagedic: \n",
    "            if k.lower() in message.lower():\n",
    "                return self.messagedic[k]\n",
    "        return \"Haha, I do not know what you are talking about!\""
   ]
  },
  {
   "cell_type": "code",
   "execution_count": 34,
   "metadata": {
    "collapsed": false
   },
   "outputs": [
    {
     "name": "stdout",
     "output_type": "stream",
     "text": [
      "['__class__', '__delattr__', '__dict__', '__doc__', '__format__', '__getattribute__', '__hash__', '__init__', '__module__', '__new__', '__reduce__', '__reduce_ex__', '__repr__', '__setattr__', '__sizeof__', '__str__', '__subclasshook__', '__weakref__', 'age', 'buildMessage', 'gender', 'getMessage', 'getRobotProperty', 'messagedic', 'name']\n",
      "RobotCop\n",
      "irobot\n"
     ]
    }
   ],
   "source": [
    "irobot = Robot(1, 'M')\n",
    "print dir(irobot)\n",
    "irobot.getMessage(\"let's eat Lunch\")\n",
    "irobot.getMessage(\"i am so depressed\")\n",
    "\n",
    "irobot.getMessage(\"i am so pretty\")\n",
    "print irobot.name\n",
    "Robot.name = 'irobot'\n",
    "print irobot.name"
   ]
  },
  {
   "cell_type": "code",
   "execution_count": 7,
   "metadata": {
    "collapsed": false
   },
   "outputs": [
    {
     "name": "stdout",
     "output_type": "stream",
     "text": [
      "['__class__', '__delattr__', '__dict__', '__doc__', '__format__', '__getattribute__', '__hash__', '__init__', '__module__', '__new__', '__reduce__', '__reduce_ex__', '__repr__', '__setattr__', '__sizeof__', '__str__', '__subclasshook__', '__weakref__', 'age', 'gender', 'getRobotProperty']\n",
      "1 M\n",
      "Hi, my name is irobot, my age is 1, and my gender is M\n",
      "<class '__main__.Robot'>\n"
     ]
    }
   ],
   "source": [
    "irobot = Robot(1, 'M')\n",
    "print dir(irobot)\n",
    "print irobot.age, irobot.gender\n",
    "\n",
    "irobot.getRobotProperty()\n",
    "print irobot.__class__"
   ]
  },
  {
   "cell_type": "code",
   "execution_count": 10,
   "metadata": {
    "collapsed": false
   },
   "outputs": [
    {
     "name": "stdout",
     "output_type": "stream",
     "text": [
      "['a', ' this is an apple']\n",
      "a\n",
      " this is an apple\n"
     ]
    }
   ],
   "source": [
    "s = 'a, this is an apple'\n",
    "print s.split(',')\n",
    "keyword, message = s.split(',')\n",
    "print keyword\n",
    "print message"
   ]
  },
  {
   "cell_type": "code",
   "execution_count": 12,
   "metadata": {
    "collapsed": false
   },
   "outputs": [],
   "source": [
    "dic = {}\n",
    "with open('message.tab', 'r') as f:\n",
    "    for line in f.readlines():\n",
    "        keyword, message = line.strip().split('\\t')\n",
    "        dic[keyword] = message"
   ]
  },
  {
   "cell_type": "code",
   "execution_count": 13,
   "metadata": {
    "collapsed": false
   },
   "outputs": [
    {
     "name": "stdout",
     "output_type": "stream",
     "text": [
      "{'what can I do': 'Jogging, walking, swimming all do benefit to your body. Or you can simply shake your hands, lift your legs, twist you body and jump.', 'Angry': 'I am sorry to hear that. How about listening song \\xe2\\x80\\x98Mamma mia\\xe2\\x80\\x99, it can change your mood.', 'Sick': 'Shall I call the doctor to give you an aid?', 'Hobby': 'Do something you like will make you a happier person.', 'Joyful': 'Glad to hear that.', 'Surprised': 'Glad to hear that.', 'Happy': 'Glad to hear that.', 'Evening': 'Good evening! Don\\xe2\\x80\\x99t forget to have your medicine..', 'Appointment': 'Your appointment with Dr.Chen is on Friday.', 'Lunch': 'Good afternoon! Don\\xe2\\x80\\x99t forget to have your lunch.', 'Excited': 'Glad to hear that.', 'Fearful': 'Don\\xe2\\x80\\x99t be afraid, I will be with you.', 'Mad': 'I am sorry to hear that. How about listening song \\xe2\\x80\\x98Mamma mia\\xe2\\x80\\x99, it can change your mood.', 'News': 'To learn more news, you can open the TV and switch to channel 53 to watch the CNN news.', 'Remember': 'Oh, really? Wow~', 'Depressed': 'I am sorry to hear that. How about listening song \\xe2\\x80\\x98Mamma mia\\xe2\\x80\\x99, it can change your mood. https://www.youtube.com/watch?v=unfzfe8f9NI', 'Guilty': 'Time is passing, there is nothing you can change, so just live with it. :D', 'Hungry': 'Next meal will be served soon~~~', 'Morning': 'Good morning! Don\\xe2\\x80\\x99t forget to have your medicine.', 'Dinner': 'Good evening! Don\\xe2\\x80\\x99t forget to have your Dinner.', 'Lonely': 'Hey, you know I am here, and will forever be here with you. <3', 'Disappointment': 'It seems that you are not feeling well today. I will set the record.', 'Activity': 'Jogging, walking, swimming all do benefit to your body. Or you can simply shake your hands, lift your legs, twist you body and jump.', 'Annoyed': 'I am sorry to hear that. How about listening song \\xe2\\x80\\x98Mamma mia\\xe2\\x80\\x99, it can change your mood.', 'Exercise': 'Jogging, walking, swimming all do benefit to your body. Or you can simply shake your hands, lift your legs, twist you body and jump.', 'Tired': 'Hey, just take some rest. Don\\xe2\\x80\\x99t push yourself too hard.', 'Exhausted': 'Hey, just take some rest. Don\\xe2\\x80\\x99t push yourself too hard.', 'Scared': 'Don\\xe2\\x80\\x99t be afraid, I will be with you.', 'Missing': 'Hey, you know I am here, and will forever be here with you. <3', 'Sleepy': 'Hey, just take some rest. Don\\xe2\\x80\\x99t push yourself too hard.', 'Sad': 'It seems that you are not feeling well today. I will set the record.', 'Weather': 'Look outside, today\\xe2\\x80\\x99s weather is just like what you see now.', 'Breakfast': 'Good morning! Don\\xe2\\x80\\x99t forget to have your breakfast.', 'ill': 'Shall I call the doctor to give you an aid?', 'Afternoon': 'Good afternoon! Don\\xe2\\x80\\x99t forget to have your medicine.'}\n"
     ]
    }
   ],
   "source": [
    "print dic"
   ]
  },
  {
   "cell_type": "code",
   "execution_count": null,
   "metadata": {
    "collapsed": true
   },
   "outputs": [],
   "source": []
  }
 ],
 "metadata": {
  "kernelspec": {
   "display_name": "Python 2",
   "language": "python",
   "name": "python2"
  },
  "language_info": {
   "codemirror_mode": {
    "name": "ipython",
    "version": 2
   },
   "file_extension": ".py",
   "mimetype": "text/x-python",
   "name": "python",
   "nbconvert_exporter": "python",
   "pygments_lexer": "ipython2",
   "version": "2.7.11"
  }
 },
 "nbformat": 4,
 "nbformat_minor": 0
}
