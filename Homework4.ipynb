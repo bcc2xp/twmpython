{
 "cells": [
  {
   "cell_type": "markdown",
   "metadata": {},
   "source": [
    "# 作業四"
   ]
  },
  {
   "cell_type": "markdown",
   "metadata": {},
   "source": [
    "撰寫一個機器人物件 robot, 機器人需要包含以下功能：\n",
    "- 使用者在建立物件時，可以給予機器人的年齡(age)與性別(gender)\n",
    "- 為機器人建立函式 getRobotProperty: 可以列印出機器人的年齡與性別\n",
    "- 為機器人建立函式 getMessage 可以接收使用者打的訊息, 並根據使用者的輸入檢查是否有包含下列字樣,如果有的話會自動回傳預設好的訊息, 沒有包含下列字樣的話將回傳\"Haha, I do not know what you are talking about!\"\n",
    "- 預設關鍵字與訊息放置在message.tab中"
   ]
  }
 ],
 "metadata": {
  "kernelspec": {
   "display_name": "Python 2",
   "language": "python",
   "name": "python2"
  },
  "language_info": {
   "codemirror_mode": {
    "name": "ipython",
    "version": 2
   },
   "file_extension": ".py",
   "mimetype": "text/x-python",
   "name": "python",
   "nbconvert_exporter": "python",
   "pygments_lexer": "ipython2",
   "version": "2.7.11"
  }
 },
 "nbformat": 4,
 "nbformat_minor": 0
}
