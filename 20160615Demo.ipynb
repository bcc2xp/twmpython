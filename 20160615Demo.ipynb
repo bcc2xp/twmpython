{
 "cells": [
  {
   "cell_type": "code",
   "execution_count": 1,
   "metadata": {
    "collapsed": false
   },
   "outputs": [
    {
     "name": "stdout",
     "output_type": "stream",
     "text": [
      "25\n",
      "50\n"
     ]
    }
   ],
   "source": [
    "x=25\n",
    "def printer():\n",
    "    x=50\n",
    "    return x\n",
    "print x\n",
    "print printer()"
   ]
  },
  {
   "cell_type": "code",
   "execution_count": 2,
   "metadata": {
    "collapsed": false
   },
   "outputs": [
    {
     "name": "stdout",
     "output_type": "stream",
     "text": [
      "Hello Sammy\n",
      "This is a global name\n"
     ]
    },
    {
     "data": {
      "text/plain": [
       "<function len>"
      ]
     },
     "execution_count": 2,
     "metadata": {},
     "output_type": "execute_result"
    }
   ],
   "source": [
    "f = lambda x:x**2  # x is local \n",
    "\n",
    "name = 'This is a global name' \n",
    "\n",
    "def greet(): \n",
    "    # Enclosing function \n",
    "    name = 'Sammy'  # Enclosing function locals\n",
    "    def hello(): \n",
    "        print 'Hello '+name \n",
    "\n",
    "    hello() \n",
    "\n",
    "greet() \n",
    "print name # Global\n",
    "len # Built-in function\n"
   ]
  },
  {
   "cell_type": "code",
   "execution_count": 3,
   "metadata": {
    "collapsed": false
   },
   "outputs": [
    {
     "name": "stdout",
     "output_type": "stream",
     "text": [
      "x is 50\n",
      "Changed local x to 2\n",
      "x is still 50\n"
     ]
    }
   ],
   "source": [
    "x = 50 \n",
    "\n",
    "def func(x): \n",
    "    print 'x is', x \n",
    "    x = 2 \n",
    "    print 'Changed local x to', x \n",
    "\n",
    "func(x) \n",
    "print 'x is still', x \n"
   ]
  },
  {
   "cell_type": "code",
   "execution_count": 4,
   "metadata": {
    "collapsed": false
   },
   "outputs": [
    {
     "name": "stdout",
     "output_type": "stream",
     "text": [
      "Before calling func(), x is:  50\n",
      "This function is now using the global x!\n",
      "Because of global x is:  50\n",
      "Ran func(), changed global x to 2\n",
      "Value of x (outside of func()) is:  2\n"
     ]
    }
   ],
   "source": [
    "x = 50 \n",
    "\n",
    "def func(): \n",
    "    global x \n",
    "    print 'This function is now using the global x!' \n",
    "    print 'Because of global x is: ', x \n",
    "    x = 2 \n",
    "    print 'Ran func(), changed global x to', x \n",
    "\n",
    "print 'Before calling func(), x is: ', x \n",
    "func() \n",
    "print 'Value of x (outside of func()) is: ', x \n"
   ]
  },
  {
   "cell_type": "code",
   "execution_count": 6,
   "metadata": {
    "collapsed": false
   },
   "outputs": [
    {
     "name": "stdout",
     "output_type": "stream",
     "text": [
      "Error: Could not find file or read data\n"
     ]
    }
   ],
   "source": [
    "try: \n",
    "    f = open('testfile','r') \n",
    "    f.write('Test write this') \n",
    "except IOError: #處理IOError\n",
    "    print(\"Error: Could not find file or read data\") \n",
    "else: \n",
    "    print(\"Content written succesfully\")\n",
    "f.close()\n"
   ]
  },
  {
   "cell_type": "code",
   "execution_count": null,
   "metadata": {
    "collapsed": true
   },
   "outputs": [],
   "source": [
    "\n",
    "3/0\n",
    "3/ 'qoo'"
   ]
  },
  {
   "cell_type": "code",
   "execution_count": 16,
   "metadata": {
    "collapsed": false
   },
   "outputs": [
    {
     "name": "stdout",
     "output_type": "stream",
     "text": [
      "Dividend: 3\n",
      "Divisor: 'qoo'\n",
      "('ValueError', ValueError(\"could not convert string to float: 'qoo'\",))\n"
     ]
    }
   ],
   "source": [
    "dividend = raw_input(\"Dividend: \")\n",
    "divisor = raw_input(\"Divisor: \")\n",
    "#print(float(dividend) / float(divisor))\n",
    "try:\n",
    "    print(float(dividend) / float(divisor))\n",
    "except ZeroDivisionError as detail:\n",
    "    print(\"ZeroDvisionError\", detail)\n",
    "except ValueError as detail2:\n",
    "    print(\"ValueError\", detail2)\n"
   ]
  },
  {
   "cell_type": "code",
   "execution_count": 25,
   "metadata": {
    "collapsed": false
   },
   "outputs": [
    {
     "name": "stdout",
     "output_type": "stream",
     "text": [
      "Dividend: 3\n",
      "Divisor: 0\n",
      "(<type 'exceptions.ZeroDivisionError'>, ZeroDivisionError('float division by zero',), <traceback object at 0x0000000003A9E108>)\n"
     ]
    }
   ],
   "source": [
    "dividend = raw_input(\"Dividend: \")\n",
    "divisor = raw_input(\"Divisor: \")\n",
    "\n",
    "import sys\n",
    "try:\n",
    "    print(float(dividend) / float(divisor))\n",
    "except :\n",
    "    print sys.exc_info()\n"
   ]
  },
  {
   "cell_type": "code",
   "execution_count": 27,
   "metadata": {
    "collapsed": false
   },
   "outputs": [
    {
     "name": "stdout",
     "output_type": "stream",
     "text": [
      "Dividend: 3\n",
      "Divisor: qoo\n",
      "(<type 'exceptions.ValueError'>, ValueError('could not convert string to float: qoo',), <traceback object at 0x0000000003A9E508>)\n",
      "final block\n"
     ]
    }
   ],
   "source": [
    "dividend = raw_input(\"Dividend: \")\n",
    "divisor = raw_input(\"Divisor: \")\n",
    "\n",
    "import sys\n",
    "try:\n",
    "    print(float(dividend) / float(divisor))\n",
    "except :\n",
    "    print sys.exc_info()\n",
    "finally:\n",
    "    print('final block')\n"
   ]
  },
  {
   "cell_type": "markdown",
   "metadata": {},
   "source": [
    "## 物件"
   ]
  },
  {
   "cell_type": "code",
   "execution_count": 30,
   "metadata": {
    "collapsed": false
   },
   "outputs": [
    {
     "name": "stdout",
     "output_type": "stream",
     "text": [
      "30838232\n",
      "<type 'int'>\n",
      "1\n"
     ]
    }
   ],
   "source": [
    "a = 1\n",
    "print(id(a))\n",
    "print(type(a))\n",
    "print(a)"
   ]
  },
  {
   "cell_type": "code",
   "execution_count": 31,
   "metadata": {
    "collapsed": false
   },
   "outputs": [
    {
     "name": "stdout",
     "output_type": "stream",
     "text": [
      "30838232\n"
     ]
    }
   ],
   "source": [
    "b = 1\n",
    "print(id(b))"
   ]
  },
  {
   "cell_type": "code",
   "execution_count": 32,
   "metadata": {
    "collapsed": false
   },
   "outputs": [
    {
     "name": "stdout",
     "output_type": "stream",
     "text": [
      "<type 'int'>\n",
      "<type 'list'>\n",
      "<type 'tuple'>\n",
      "<type 'dict'>\n"
     ]
    }
   ],
   "source": [
    "print type(1)\n",
    "print type([])\n",
    "print type(())\n",
    "print type({})\n"
   ]
  },
  {
   "cell_type": "code",
   "execution_count": 33,
   "metadata": {
    "collapsed": false
   },
   "outputs": [
    {
     "name": "stdout",
     "output_type": "stream",
     "text": [
      "['__abs__', '__add__', '__and__', '__class__', '__cmp__', '__coerce__', '__delattr__', '__div__', '__divmod__', '__doc__', '__float__', '__floordiv__', '__format__', '__getattribute__', '__getnewargs__', '__hash__', '__hex__', '__index__', '__init__', '__int__', '__invert__', '__long__', '__lshift__', '__mod__', '__mul__', '__neg__', '__new__', '__nonzero__', '__oct__', '__or__', '__pos__', '__pow__', '__radd__', '__rand__', '__rdiv__', '__rdivmod__', '__reduce__', '__reduce_ex__', '__repr__', '__rfloordiv__', '__rlshift__', '__rmod__', '__rmul__', '__ror__', '__rpow__', '__rrshift__', '__rshift__', '__rsub__', '__rtruediv__', '__rxor__', '__setattr__', '__sizeof__', '__str__', '__sub__', '__subclasshook__', '__truediv__', '__trunc__', '__xor__', 'bit_length', 'conjugate', 'denominator', 'imag', 'numerator', 'real']\n"
     ]
    }
   ],
   "source": [
    "print dir(1)"
   ]
  },
  {
   "cell_type": "code",
   "execution_count": 35,
   "metadata": {
    "collapsed": false
   },
   "outputs": [
    {
     "name": "stdout",
     "output_type": "stream",
     "text": [
      "1\n",
      "1\n"
     ]
    }
   ],
   "source": [
    "print a\n",
    "print b"
   ]
  },
  {
   "cell_type": "code",
   "execution_count": 37,
   "metadata": {
    "collapsed": false
   },
   "outputs": [
    {
     "name": "stdout",
     "output_type": "stream",
     "text": [
      "30838232\n",
      "30838232\n"
     ]
    }
   ],
   "source": [
    "print id(a)\n",
    "print id(b)\n",
    "del a\n",
    "del b"
   ]
  },
  {
   "cell_type": "code",
   "execution_count": 38,
   "metadata": {
    "collapsed": false
   },
   "outputs": [
    {
     "ename": "NameError",
     "evalue": "name 'a' is not defined",
     "output_type": "error",
     "traceback": [
      "\u001b[1;31m---------------------------------------------------------------------------\u001b[0m",
      "\u001b[1;31mNameError\u001b[0m                                 Traceback (most recent call last)",
      "\u001b[1;32m<ipython-input-38-9d7b17ad5387>\u001b[0m in \u001b[0;36m<module>\u001b[1;34m()\u001b[0m\n\u001b[1;32m----> 1\u001b[1;33m \u001b[1;32mprint\u001b[0m \u001b[0ma\u001b[0m\u001b[1;33m\u001b[0m\u001b[0m\n\u001b[0m",
      "\u001b[1;31mNameError\u001b[0m: name 'a' is not defined"
     ]
    }
   ],
   "source": [
    "print a"
   ]
  },
  {
   "cell_type": "code",
   "execution_count": 42,
   "metadata": {
    "collapsed": false
   },
   "outputs": [
    {
     "name": "stdout",
     "output_type": "stream",
     "text": [
      "30838232\n",
      "30838208\n"
     ]
    }
   ],
   "source": [
    "c = 1\n",
    "print id(c)\n",
    "c = 2\n",
    "print id(c)"
   ]
  },
  {
   "cell_type": "code",
   "execution_count": 43,
   "metadata": {
    "collapsed": false
   },
   "outputs": [
    {
     "name": "stdout",
     "output_type": "stream",
     "text": [
      "60471304\n",
      "60471304\n",
      "60471304\n"
     ]
    }
   ],
   "source": [
    "a = [1,2]\n",
    "print id(a)\n",
    "a.append(3)\n",
    "print id(a)\n",
    "a[1] = 200\n",
    "print id(a)\n"
   ]
  },
  {
   "cell_type": "code",
   "execution_count": 44,
   "metadata": {
    "collapsed": false
   },
   "outputs": [
    {
     "name": "stdout",
     "output_type": "stream",
     "text": [
      "(66450312L, 66450888L)\n",
      "(30838232L, 30838232L)\n"
     ]
    }
   ],
   "source": [
    "a = [1,2,3]\n",
    "b = [1,2,3]\n",
    "print(id(a), id(b))\n",
    "\n",
    "a = 1\n",
    "b = 1\n",
    "print(id(a), id(b))\n"
   ]
  },
  {
   "cell_type": "code",
   "execution_count": 46,
   "metadata": {
    "collapsed": false
   },
   "outputs": [
    {
     "name": "stdout",
     "output_type": "stream",
     "text": [
      "<class '__main__.Sample'>\n",
      "['__class__', '__delattr__', '__dict__', '__doc__', '__format__', '__getattribute__', '__hash__', '__init__', '__module__', '__new__', '__reduce__', '__reduce_ex__', '__repr__', '__setattr__', '__sizeof__', '__str__', '__subclasshook__', '__weakref__']\n"
     ]
    }
   ],
   "source": [
    "class Sample(object):\n",
    "    pass\n",
    "\n",
    "x = Sample() # new instance\n",
    "\n",
    "print(type(x))\n",
    "print(dir(x))\n"
   ]
  },
  {
   "cell_type": "code",
   "execution_count": 50,
   "metadata": {
    "collapsed": false
   },
   "outputs": [
    {
     "name": "stdout",
     "output_type": "stream",
     "text": [
      "Lab\n",
      "Huskie\n",
      "['__class__', '__delattr__', '__dict__', '__doc__', '__format__', '__getattribute__', '__hash__', '__init__', '__module__', '__new__', '__reduce__', '__reduce_ex__', '__repr__', '__setattr__', '__sizeof__', '__str__', '__subclasshook__', '__weakref__', 'breed']\n",
      "['__class__', '__delattr__', '__dict__', '__doc__', '__format__', '__getattribute__', '__hash__', '__init__', '__module__', '__new__', '__reduce__', '__reduce_ex__', '__repr__', '__setattr__', '__sizeof__', '__str__', '__subclasshook__', '__weakref__', 'breed']\n"
     ]
    }
   ],
   "source": [
    "class Dog(object):\n",
    "    def __init__(self, breed):\n",
    "        self.breed = breed\n",
    "        \n",
    "sam = Dog(breed='Lab')\n",
    "frank = Dog(breed='Huskie')\n",
    "print sam.breed\n",
    "print frank.breed\n",
    "print dir(sam)\n",
    "print dir(frank)"
   ]
  },
  {
   "cell_type": "code",
   "execution_count": 53,
   "metadata": {
    "collapsed": false
   },
   "outputs": [
    {
     "name": "stdout",
     "output_type": "stream",
     "text": [
      "Sam\n",
      "mammal\n",
      "['__class__', '__delattr__', '__dict__', '__doc__', '__format__', '__getattribute__', '__hash__', '__init__', '__module__', '__new__', '__reduce__', '__reduce_ex__', '__repr__', '__setattr__', '__sizeof__', '__str__', '__subclasshook__', '__weakref__', 'breed', 'name', 'species']\n",
      "mammal\n"
     ]
    }
   ],
   "source": [
    "class Dog(object):\n",
    "    species = 'mammal' # 類別屬性\n",
    "    def __init__(self,breed,name):\n",
    "        self.breed = breed\n",
    "        self.name = name\n",
    "        \n",
    "sam = Dog('Lab','Sam')\n",
    "print sam.name\n",
    "print sam.species\n",
    "print dir(sam)\n",
    "print Dog.species # 類別屬性是公開的\n"
   ]
  },
  {
   "cell_type": "code",
   "execution_count": 54,
   "metadata": {
    "collapsed": true
   },
   "outputs": [],
   "source": [
    "class Circle(object):\n",
    "    pi = 3.14\n",
    "    def __init__(self, radius=1):\n",
    "        self.radius = radius \n",
    "    def area(self):\n",
    "        return self.radius * self.radius * Circle.pi\n",
    "    def setRadius(self, radius):\n",
    "        self.radius = radius\n",
    "    def getRadius(self):\n",
    "        return self.radius\n"
   ]
  },
  {
   "cell_type": "code",
   "execution_count": 57,
   "metadata": {
    "collapsed": false
   },
   "outputs": [
    {
     "name": "stdout",
     "output_type": "stream",
     "text": [
      "5\n",
      "78.5\n"
     ]
    }
   ],
   "source": [
    "c = Circle()\n",
    "dir(c)\n",
    "c.setRadius(5)\n",
    "print c.getRadius()\n",
    "print c.area()"
   ]
  },
  {
   "cell_type": "code",
   "execution_count": null,
   "metadata": {
    "collapsed": true
   },
   "outputs": [],
   "source": []
  }
 ],
 "metadata": {
  "kernelspec": {
   "display_name": "Python 2",
   "language": "python",
   "name": "python2"
  },
  "language_info": {
   "codemirror_mode": {
    "name": "ipython",
    "version": 2
   },
   "file_extension": ".py",
   "mimetype": "text/x-python",
   "name": "python",
   "nbconvert_exporter": "python",
   "pygments_lexer": "ipython2",
   "version": "2.7.11"
  }
 },
 "nbformat": 4,
 "nbformat_minor": 0
}
