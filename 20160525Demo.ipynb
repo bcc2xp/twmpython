{
 "cells": [
  {
   "cell_type": "markdown",
   "metadata": {},
   "source": [
    "## 字串Formatting"
   ]
  },
  {
   "cell_type": "code",
   "execution_count": 1,
   "metadata": {
    "collapsed": false
   },
   "outputs": [
    {
     "name": "stdout",
     "output_type": "stream",
     "text": [
      "Place my variable here: String\n"
     ]
    }
   ],
   "source": [
    "x = 'String'\n",
    "print 'Place my variable here: %s' %(x)"
   ]
  },
  {
   "cell_type": "code",
   "execution_count": 3,
   "metadata": {
    "collapsed": false
   },
   "outputs": [
    {
     "name": "stdout",
     "output_type": "stream",
     "text": [
      "Place my variable here: 13.3\n",
      "Place my variable here: 13.300000\n"
     ]
    }
   ],
   "source": [
    "x = 13.3\n",
    "# %s => string , %d => Integer, %f => float\n",
    "print 'Place my variable here: %s' %(x)\n",
    "print 'Place my variable here: %f' %(x)"
   ]
  },
  {
   "cell_type": "code",
   "execution_count": 4,
   "metadata": {
    "collapsed": false
   },
   "outputs": [
    {
     "name": "stdout",
     "output_type": "stream",
     "text": [
      "Floating point number: 13.14\n",
      "Floating point number: 13.1450000000\n",
      "Floating point number:                    13.145\n"
     ]
    }
   ],
   "source": [
    "print 'Floating point number: %1.2f' %(13.145)\n",
    "\n",
    "print 'Floating point number: %1.10f' %(13.145)\n",
    "\n",
    "print 'Floating point number: %25.3f' %(13.145)\n"
   ]
  },
  {
   "cell_type": "code",
   "execution_count": 6,
   "metadata": {
    "collapsed": false
   },
   "outputs": [
    {
     "name": "stdout",
     "output_type": "stream",
     "text": [
      "Here is a number: 123.1. Here is a string: hi\n",
      "Here is a number: 123.1. Here is a string: 'hi'\n"
     ]
    }
   ],
   "source": [
    "print 'Here is a number: %s. Here is a string: %s' %(123.1,'hi') \n",
    "print 'Here is a number: %r. Here is a string: %r' %(123.1,'hi') "
   ]
  },
  {
   "cell_type": "code",
   "execution_count": 7,
   "metadata": {
    "collapsed": false
   },
   "outputs": [
    {
     "name": "stdout",
     "output_type": "stream",
     "text": [
      "Here is a number: 123.1. Here is a string: hi\n",
      "this is a new line\n",
      "Here is a number: 123.1. Here is a string: 'hi\\nthis is a new line'\n"
     ]
    }
   ],
   "source": [
    "print 'Here is a number: %s. Here is a string: %s' %(123.1,'hi\\nthis is a new line') \n",
    "print 'Here is a number: %r. Here is a string: %r' %(123.1,'hi\\nthis is a new line') "
   ]
  },
  {
   "cell_type": "code",
   "execution_count": 9,
   "metadata": {
    "collapsed": false
   },
   "outputs": [
    {
     "name": "stdout",
     "output_type": "stream",
     "text": [
      "this is \n",
      " a text\n",
      "this is \\n a text\n"
     ]
    }
   ],
   "source": [
    "print 'this is \\n a text'\n",
    "print r'this is \\n a text'"
   ]
  },
  {
   "cell_type": "code",
   "execution_count": 13,
   "metadata": {
    "collapsed": false
   },
   "outputs": [
    {
     "name": "stdout",
     "output_type": "stream",
     "text": [
      "首款可彎曲手機現身了，且還能當成手錶般，直接環在手腕上！\n",
      "\n",
      " \n",
      "香港《蘋果日報》引述Bloomberg指出\n",
      "'\\xe9\\xa6\\x96\\xe6\\xac\\xbe\\xe5\\x8f\\xaf\\xe5\\xbd\\x8e\\xe6\\x9b\\xb2\\xe6\\x89\\x8b\\xe6\\xa9\\x9f\\xe7\\x8f\\xbe\\xe8\\xba\\xab\\xe4\\xba\\x86\\xef\\xbc\\x8c\\xe4\\xb8\\x94\\xe9\\x82\\x84\\xe8\\x83\\xbd\\xe7\\x95\\xb6\\xe6\\x88\\x90\\xe6\\x89\\x8b\\xe9\\x8c\\xb6\\xe8\\x88\\xac\\xef\\xbc\\x8c\\xe7\\x9b\\xb4\\xe6\\x8e\\xa5\\xe7\\x92\\xb0\\xe5\\x9c\\xa8\\xe6\\x89\\x8b\\xe8\\x85\\x95\\xe4\\xb8\\x8a\\xef\\xbc\\x81\\n\\n \\n\\xe9\\xa6\\x99\\xe6\\xb8\\xaf\\xe3\\x80\\x8a\\xe8\\x98\\x8b\\xe6\\x9e\\x9c\\xe6\\x97\\xa5\\xe5\\xa0\\xb1\\xe3\\x80\\x8b\\xe5\\xbc\\x95\\xe8\\xbf\\xb0Bloomberg\\xe6\\x8c\\x87\\xe5\\x87\\xba'\n"
     ]
    }
   ],
   "source": [
    "s =  '''首款可彎曲手機現身了，且還能當成手錶般，直接環在手腕上！\n",
    "\n",
    " \n",
    "香港《蘋果日報》引述Bloomberg指出'''\n",
    "print s\n",
    "print repr(s)"
   ]
  },
  {
   "cell_type": "code",
   "execution_count": 14,
   "metadata": {
    "collapsed": false
   },
   "outputs": [
    {
     "name": "stdout",
     "output_type": "stream",
     "text": [
      "\n",
      "\t this is a \t line with format \t\n",
      "\n"
     ]
    }
   ],
   "source": [
    "# 帶有 format 的 String \n",
    "raw = '\\n\\t this is a \\t line with format \\t\\n'\n",
    "print raw   "
   ]
  },
  {
   "cell_type": "code",
   "execution_count": 15,
   "metadata": {
    "collapsed": false
   },
   "outputs": [
    {
     "name": "stdout",
     "output_type": "stream",
     "text": [
      "\\n\\t this is a \\t line with format \\t\\n\n"
     ]
    }
   ],
   "source": [
    "# 使用 r 取得raw string\n",
    "raw = r'\\n\\t this is a \\t line with format \\t\\n'\n",
    "print raw   \n"
   ]
  },
  {
   "cell_type": "code",
   "execution_count": 16,
   "metadata": {
    "collapsed": false
   },
   "outputs": [
    {
     "name": "stdout",
     "output_type": "stream",
     "text": [
      "'\\n\\t this is a \\t line with format \\t\\n'\n"
     ]
    }
   ],
   "source": [
    "# 使用 repr 取得string 中的表示\n",
    "raw = repr('\\n\\t this is a \\t line with format \\t\\n')\n",
    "print raw "
   ]
  },
  {
   "cell_type": "code",
   "execution_count": 19,
   "metadata": {
    "collapsed": false
   },
   "outputs": [
    {
     "name": "stdout",
     "output_type": "stream",
     "text": [
      "This is a string with an insert\n",
      "This is a string with an insert\n"
     ]
    }
   ],
   "source": [
    "# 根據樣式替代\n",
    "print 'This is a string with an {p}'.format(p='insert') \n",
    "print 'This is a string with an {qoo}'.format(qoo='insert')"
   ]
  },
  {
   "cell_type": "code",
   "execution_count": 20,
   "metadata": {
    "collapsed": false
   },
   "outputs": [
    {
     "name": "stdout",
     "output_type": "stream",
     "text": [
      "One: Hi!, Two: Hi!, Three: Hi!\n"
     ]
    }
   ],
   "source": [
    "# 根據樣式替代多字串\n",
    "print 'One: {p}, Two: {p}, Three: {p}'.format(p='Hi!')\n"
   ]
  },
  {
   "cell_type": "code",
   "execution_count": 21,
   "metadata": {
    "collapsed": false
   },
   "outputs": [
    {
     "name": "stdout",
     "output_type": "stream",
     "text": [
      "Object 1: 1, Object 2: two, Object 3: 12.3\n"
     ]
    }
   ],
   "source": [
    "# 根據多樣式替代\n",
    "print 'Object 1: {a}, Object 2: {b}, Object 3: {c}'.format(\\\n",
    "            a=1,b='two',c=12.3)"
   ]
  },
  {
   "cell_type": "code",
   "execution_count": 22,
   "metadata": {
    "collapsed": false
   },
   "outputs": [
    {
     "name": "stdout",
     "output_type": "stream",
     "text": [
      "One: 1, Two: 2, One: 1\n"
     ]
    }
   ],
   "source": [
    "# 根據位置替代\n",
    "print 'One: {0}, Two: {1}, One: {0}'.format(1,2)\n"
   ]
  },
  {
   "cell_type": "code",
   "execution_count": 23,
   "metadata": {
    "collapsed": false
   },
   "outputs": [
    {
     "ename": "IndexError",
     "evalue": "tuple index out of range",
     "output_type": "error",
     "traceback": [
      "\u001b[1;31m---------------------------------------------------------------------------\u001b[0m",
      "\u001b[1;31mIndexError\u001b[0m                                Traceback (most recent call last)",
      "\u001b[1;32m<ipython-input-23-c9202346ce44>\u001b[0m in \u001b[0;36m<module>\u001b[1;34m()\u001b[0m\n\u001b[1;32m----> 1\u001b[1;33m \u001b[1;32mprint\u001b[0m \u001b[1;34m'One: {}, Two: {}, One: {}'\u001b[0m\u001b[1;33m.\u001b[0m\u001b[0mformat\u001b[0m\u001b[1;33m(\u001b[0m\u001b[1;36m1\u001b[0m\u001b[1;33m,\u001b[0m\u001b[1;36m2\u001b[0m\u001b[1;33m)\u001b[0m\u001b[1;33m\u001b[0m\u001b[0m\n\u001b[0m",
      "\u001b[1;31mIndexError\u001b[0m: tuple index out of range"
     ]
    }
   ],
   "source": [
    "print 'One: {}, Two: {}, One: {}'.format(1,2)"
   ]
  },
  {
   "cell_type": "code",
   "execution_count": 24,
   "metadata": {
    "collapsed": false
   },
   "outputs": [
    {
     "name": "stdout",
     "output_type": "stream",
     "text": [
      "One: 1, Two: 2, One: 3\n"
     ]
    }
   ],
   "source": [
    "print 'One: {}, Two: {}, One: {}'.format(1,2,3)"
   ]
  },
  {
   "cell_type": "code",
   "execution_count": 25,
   "metadata": {
    "collapsed": false
   },
   "outputs": [
    {
     "name": "stdout",
     "output_type": "stream",
     "text": [
      "Tibameis David's favorite\n"
     ]
    }
   ],
   "source": [
    "name = 'David'\n",
    "course = 'Tibame'\n",
    "\n",
    "print(course + \"is \" + name + \"'s favorite\")\n"
   ]
  },
  {
   "cell_type": "code",
   "execution_count": 26,
   "metadata": {
    "collapsed": false
   },
   "outputs": [
    {
     "name": "stdout",
     "output_type": "stream",
     "text": [
      "twm is david's favorite\n"
     ]
    }
   ],
   "source": [
    "print \"{} is {}'s favorite\".format('twm', 'david')"
   ]
  },
  {
   "cell_type": "code",
   "execution_count": 27,
   "metadata": {
    "collapsed": false
   },
   "outputs": [
    {
     "ename": "TypeError",
     "evalue": "not enough arguments for format string",
     "output_type": "error",
     "traceback": [
      "\u001b[1;31m---------------------------------------------------------------------------\u001b[0m",
      "\u001b[1;31mTypeError\u001b[0m                                 Traceback (most recent call last)",
      "\u001b[1;32m<ipython-input-27-c1d6f3f3de6e>\u001b[0m in \u001b[0;36m<module>\u001b[1;34m()\u001b[0m\n\u001b[0;32m      1\u001b[0m \u001b[0ma\u001b[0m \u001b[1;33m=\u001b[0m \u001b[1;34m'http://www.appledaily.com.tw/realtimenews/article/property/%s/870084/12%E5%B9%B4%E5%9C%8B%E6%95%99%E5%91%BC%E4%B9%8B%E6%AC%B2%E5%87%BA%E3%80%80%E6%98%8E%E6%98%9F%E5%AD%B8%E5%8D%80%E6%90%B6%E7%A0%B4%E9%A0%AD'\u001b[0m\u001b[1;33m\u001b[0m\u001b[0m\n\u001b[0;32m      2\u001b[0m \u001b[1;33m\u001b[0m\u001b[0m\n\u001b[1;32m----> 3\u001b[1;33m \u001b[1;32mprint\u001b[0m \u001b[0ma\u001b[0m\u001b[1;33m%\u001b[0m\u001b[1;33m(\u001b[0m\u001b[1;34m'20160525'\u001b[0m\u001b[1;33m)\u001b[0m\u001b[1;33m\u001b[0m\u001b[0m\n\u001b[0m",
      "\u001b[1;31mTypeError\u001b[0m: not enough arguments for format string"
     ]
    }
   ],
   "source": [
    "a = 'http://www.appledaily.com.tw/realtimenews/article/property/\\\n",
    "%s/870084/12%E5%B9%B4%E5%9C%8B%E6%95%99%E5%91%BC%E4%B9%8B%E6%AC%B2%E5%87%BA%E3%80%80%E6%98%8E%E6%98%9F%E5%AD%B8%E5%8D%80%E6%90%B6%E7%A0%B4%E9%A0%AD'\n",
    "\n",
    "print a%('20160525')\n"
   ]
  },
  {
   "cell_type": "code",
   "execution_count": 29,
   "metadata": {
    "collapsed": false
   },
   "outputs": [
    {
     "name": "stdout",
     "output_type": "stream",
     "text": [
      "http://www.appledaily.com.tw/realtimenews/article/property/20160525/870084/12%E5%B9%B4%E5%9C%8B%E6%95%99%E5%91%BC%E4%B9%8B%E6%AC%B2%E5%87%BA%E3%80%80%E6%98%8E%E6%98%9F%E5%AD%B8%E5%8D%80%E6%90%B6%E7%A0%B4%E9%A0%AD\n",
      "http://www.appledaily.com.tw/realtimenews/article/property/20160525/870084/12%E5%B9%B4%E5%9C%8B%E6%95%99%E5%91%BC%E4%B9%8B%E6%AC%B2%E5%87%BA%E3%80%80%E6%98%8E%E6%98%9F%E5%AD%B8%E5%8D%80%E6%90%B6%E7%A0%B4%E9%A0%AD\n"
     ]
    }
   ],
   "source": [
    "a = 'http://www.appledaily.com.tw/realtimenews/article/property/\\\n",
    "{}/870084/12%E5%B9%B4%E5%9C%8B%E6%95%99%E5%91%BC%E4%B9%8B%E6%AC%B2%E5%87%BA%E3%80%80%E6%98%8E%E6%98%9F%E5%AD%B8%E5%8D%80%E6%90%B6%E7%A0%B4%E9%A0%AD'\n",
    "\n",
    "print a.format('20160525')\n",
    "print a.format(20160525)"
   ]
  },
  {
   "cell_type": "code",
   "execution_count": 31,
   "metadata": {
    "collapsed": false
   },
   "outputs": [
    {
     "name": "stdout",
     "output_type": "stream",
     "text": [
      "http://www.appledaily.com.tw/realtimenews/section/new/2\n",
      "http://www.appledaily.com.tw/realtimenews/section/new/3\n"
     ]
    }
   ],
   "source": [
    "url = 'http://www.appledaily.com.tw/realtimenews/section/new/{}'\n",
    "print url.format(2)\n",
    "print url.format(3)"
   ]
  },
  {
   "cell_type": "markdown",
   "metadata": {},
   "source": [
    "## input"
   ]
  },
  {
   "cell_type": "code",
   "execution_count": 33,
   "metadata": {
    "collapsed": false
   },
   "outputs": [
    {
     "name": "stdout",
     "output_type": "stream",
     "text": [
      "Hello from python\n"
     ]
    }
   ],
   "source": [
    "print \"Hello from python\""
   ]
  },
  {
   "cell_type": "code",
   "execution_count": 34,
   "metadata": {
    "collapsed": false
   },
   "outputs": [
    {
     "name": "stdout",
     "output_type": "stream",
     "text": [
      "How are you?fine\n"
     ]
    },
    {
     "ename": "NameError",
     "evalue": "name 'fine' is not defined",
     "output_type": "error",
     "traceback": [
      "\u001b[1;31m---------------------------------------------------------------------------\u001b[0m",
      "\u001b[1;31mNameError\u001b[0m                                 Traceback (most recent call last)",
      "\u001b[1;32m<ipython-input-34-43609d24bbb7>\u001b[0m in \u001b[0;36m<module>\u001b[1;34m()\u001b[0m\n\u001b[1;32m----> 1\u001b[1;33m \u001b[0minput\u001b[0m\u001b[1;33m(\u001b[0m\u001b[1;34m\"How are you?\"\u001b[0m\u001b[1;33m)\u001b[0m\u001b[1;33m\u001b[0m\u001b[0m\n\u001b[0m",
      "\u001b[1;32mC:\\Anaconda2\\lib\\site-packages\\ipykernel\\ipkernel.pyc\u001b[0m in \u001b[0;36m<lambda>\u001b[1;34m(prompt)\u001b[0m\n\u001b[0;32m    139\u001b[0m             \u001b[0mself\u001b[0m\u001b[1;33m.\u001b[0m\u001b[0m_sys_eval_input\u001b[0m \u001b[1;33m=\u001b[0m \u001b[0mbuiltin_mod\u001b[0m\u001b[1;33m.\u001b[0m\u001b[0minput\u001b[0m\u001b[1;33m\u001b[0m\u001b[0m\n\u001b[0;32m    140\u001b[0m             \u001b[0mbuiltin_mod\u001b[0m\u001b[1;33m.\u001b[0m\u001b[0mraw_input\u001b[0m \u001b[1;33m=\u001b[0m \u001b[0mself\u001b[0m\u001b[1;33m.\u001b[0m\u001b[0mraw_input\u001b[0m\u001b[1;33m\u001b[0m\u001b[0m\n\u001b[1;32m--> 141\u001b[1;33m             \u001b[0mbuiltin_mod\u001b[0m\u001b[1;33m.\u001b[0m\u001b[0minput\u001b[0m \u001b[1;33m=\u001b[0m \u001b[1;32mlambda\u001b[0m \u001b[0mprompt\u001b[0m\u001b[1;33m=\u001b[0m\u001b[1;34m''\u001b[0m\u001b[1;33m:\u001b[0m \u001b[0meval\u001b[0m\u001b[1;33m(\u001b[0m\u001b[0mself\u001b[0m\u001b[1;33m.\u001b[0m\u001b[0mraw_input\u001b[0m\u001b[1;33m(\u001b[0m\u001b[0mprompt\u001b[0m\u001b[1;33m)\u001b[0m\u001b[1;33m)\u001b[0m\u001b[1;33m\u001b[0m\u001b[0m\n\u001b[0m\u001b[0;32m    142\u001b[0m         \u001b[0mself\u001b[0m\u001b[1;33m.\u001b[0m\u001b[0m_save_getpass\u001b[0m \u001b[1;33m=\u001b[0m \u001b[0mgetpass\u001b[0m\u001b[1;33m.\u001b[0m\u001b[0mgetpass\u001b[0m\u001b[1;33m\u001b[0m\u001b[0m\n\u001b[0;32m    143\u001b[0m         \u001b[0mgetpass\u001b[0m\u001b[1;33m.\u001b[0m\u001b[0mgetpass\u001b[0m \u001b[1;33m=\u001b[0m \u001b[0mself\u001b[0m\u001b[1;33m.\u001b[0m\u001b[0mgetpass\u001b[0m\u001b[1;33m\u001b[0m\u001b[0m\n",
      "\u001b[1;32mC:\\Anaconda2\\lib\\site-packages\\ipykernel\\ipkernel.pyc\u001b[0m in \u001b[0;36m<module>\u001b[1;34m()\u001b[0m\n",
      "\u001b[1;31mNameError\u001b[0m: name 'fine' is not defined"
     ]
    }
   ],
   "source": [
    "input(\"How are you?\")"
   ]
  },
  {
   "cell_type": "code",
   "execution_count": 35,
   "metadata": {
    "collapsed": false
   },
   "outputs": [
    {
     "name": "stdout",
     "output_type": "stream",
     "text": [
      "How are you?\"fine\"\n"
     ]
    },
    {
     "data": {
      "text/plain": [
       "'fine'"
      ]
     },
     "execution_count": 35,
     "metadata": {},
     "output_type": "execute_result"
    }
   ],
   "source": [
    "input(\"How are you?\")"
   ]
  },
  {
   "cell_type": "code",
   "execution_count": 36,
   "metadata": {
    "collapsed": false
   },
   "outputs": [
    {
     "name": "stdout",
     "output_type": "stream",
     "text": [
      "How are you?\"fine\"\n"
     ]
    }
   ],
   "source": [
    "answer = input(\"How are you?\")"
   ]
  },
  {
   "cell_type": "code",
   "execution_count": 38,
   "metadata": {
    "collapsed": false
   },
   "outputs": [
    {
     "name": "stdout",
     "output_type": "stream",
     "text": [
      "fine\n"
     ]
    }
   ],
   "source": [
    "print answer"
   ]
  },
  {
   "cell_type": "code",
   "execution_count": 39,
   "metadata": {
    "collapsed": false
   },
   "outputs": [
    {
     "name": "stdout",
     "output_type": "stream",
     "text": [
      "how are you?\"fine\"\n"
     ]
    }
   ],
   "source": [
    "answer = input(\"how are you?\") "
   ]
  },
  {
   "cell_type": "code",
   "execution_count": 40,
   "metadata": {
    "collapsed": false
   },
   "outputs": [
    {
     "name": "stdout",
     "output_type": "stream",
     "text": [
      "how are you?fine\n"
     ]
    }
   ],
   "source": [
    "answer = raw_input(\"how are you?\") "
   ]
  },
  {
   "cell_type": "markdown",
   "metadata": {},
   "source": [
    "## List"
   ]
  },
  {
   "cell_type": "code",
   "execution_count": 42,
   "metadata": {
    "collapsed": false
   },
   "outputs": [
    {
     "name": "stdout",
     "output_type": "stream",
     "text": [
      "[1, 2, 3]\n",
      "['A string', 23, 100.232, 'o']\n"
     ]
    },
    {
     "data": {
      "text/plain": [
       "4"
      ]
     },
     "execution_count": 42,
     "metadata": {},
     "output_type": "execute_result"
    }
   ],
   "source": [
    "my_list = [1,2,3] \n",
    "print my_list\n",
    "my_list = ['A string',23,100.232,'o'] \n",
    "\n",
    "print my_list\n",
    "len(my_list)\n"
   ]
  },
  {
   "cell_type": "code",
   "execution_count": 43,
   "metadata": {
    "collapsed": false
   },
   "outputs": [
    {
     "name": "stdout",
     "output_type": "stream",
     "text": [
      "5\n",
      "[7, 's']\n",
      "[7, 's']\n"
     ]
    }
   ],
   "source": [
    "a = [5, 6, 7, 's'] # a = [5 6 7 ‘s’] \n",
    "print a[0] # 5\n",
    "print a[2:4] # [7, ‘s’] #for(i= 2; i< 4; i++)\n",
    "print a[2:100]\n"
   ]
  },
  {
   "cell_type": "code",
   "execution_count": 44,
   "metadata": {
    "collapsed": false
   },
   "outputs": [
    {
     "name": "stdout",
     "output_type": "stream",
     "text": [
      "s\n",
      "7\n",
      "[7, 's']\n",
      "[5, 7]\n",
      "['s', 7, 6, 5]\n",
      "4\n",
      "[5, 's']\n"
     ]
    }
   ],
   "source": [
    "print a[-1] # ‘s’ \n",
    "print a[-2] # 7\n",
    "print a[2:] # [7, ‘s’]\n",
    "print a[::2] # [5, 7]\n",
    "print a[::-1] # [‘s’, 7, 6, 5]"
   ]
  },
  {
   "cell_type": "code",
   "execution_count": 46,
   "metadata": {
    "collapsed": false
   },
   "outputs": [
    {
     "name": "stdout",
     "output_type": "stream",
     "text": [
      "<type 'list'>\n",
      "['__add__', '__class__', '__contains__', '__delattr__', '__delitem__', '__delslice__', '__doc__', '__eq__', '__format__', '__ge__', '__getattribute__', '__getitem__', '__getslice__', '__gt__', '__hash__', '__iadd__', '__imul__', '__init__', '__iter__', '__le__', '__len__', '__lt__', '__mul__', '__ne__', '__new__', '__reduce__', '__reduce_ex__', '__repr__', '__reversed__', '__rmul__', '__setattr__', '__setitem__', '__setslice__', '__sizeof__', '__str__', '__subclasshook__', 'append', 'count', 'extend', 'index', 'insert', 'pop', 'remove', 'reverse', 'sort']\n",
      "4\n",
      "[5, 's']\n"
     ]
    }
   ],
   "source": [
    "print type(a)\n",
    "print dir(a)\n",
    "print len(a) # 4\n",
    "print [min(a), max(a)] # [5, ‘s’]"
   ]
  },
  {
   "cell_type": "code",
   "execution_count": 50,
   "metadata": {
    "collapsed": false
   },
   "outputs": [
    {
     "name": "stdout",
     "output_type": "stream",
     "text": [
      "[5, 6, 7]\n",
      "[5, 6, 7, 2]\n",
      "[2, 5, 6, 7]\n",
      "[7, 6, 5, 2]\n"
     ]
    }
   ],
   "source": [
    "a = [5, 6, 7, 8]\n",
    "a.pop() # a = [5, 6, 7]\n",
    "print a\n",
    "a.append(2) # a = [5, 6, 7, 2]\n",
    "print a\n",
    "a.sort() # a = [2, 5, 6, 7]\n",
    "print a\n",
    "a.reverse() # a = [7, 6, 5, 2]\n",
    "print a\n"
   ]
  },
  {
   "cell_type": "code",
   "execution_count": 57,
   "metadata": {
    "collapsed": false
   },
   "outputs": [
    {
     "name": "stdout",
     "output_type": "stream",
     "text": [
      "<type 'str'>\n",
      "<type 'list'>\n",
      "2\n"
     ]
    }
   ],
   "source": [
    "trump = ''' \n",
    "(CNN)Protesters lit fires, smashed a door and threw rocks outside a Donald Trump rally Tuesday night in New Mexico -- the latest scuffle to follow the presumptive Republican nominee's campaign.\n",
    "\n",
    "The scene outside Albuquerque's convention center was chaotic as police ushered protesters away from Trump's event and into the nearby streets.\n",
    "There, anti-Trump protesters -- many critical of his positions on immigration -- loudly chanted, \"F*** Donald Trump.\"\n",
    "The protesters had broken a glass door to the convention center. Some taunted police and jumped on police vehicles as officers in riot gear and on police horses moved them away from the convention center's exits.\n",
    "Trump had already left the event.\n",
    "The scene was reminiscent of the violence between Trump supporters and protesters in Chicago in March.\n",
    "This time, though, police kept protesters and Trump supporters apart, and didn't arrest or clash with the protesters.\n",
    "Despite initial word of gunshots, Albuquerque's police department said on Twitter that there was \"no confirmation\" of gunshots.\n",
    "\"There is no confirmation that any gunshots were fired, contrary to reports. Possible damage to Convention Center Windows by pellet gun,\" the department tweeted.\n",
    "'''\n",
    "print type(trump)\n",
    "#print trump.split()\n",
    "print type(trump.split())\n",
    "trump_list = trump.split()\n",
    "trump_list.sort()\n",
    "#print trump_list\n",
    "print trump_list.count('Donald')\n",
    "#print trump.split()"
   ]
  },
  {
   "cell_type": "code",
   "execution_count": 59,
   "metadata": {
    "collapsed": false
   },
   "outputs": [
    {
     "name": "stdout",
     "output_type": "stream",
     "text": [
      "['a']\n",
      "['h', 'e', 'l', 'l', 'o', ' ', 'w', 'o', 'r', 'l', 'd']\n"
     ]
    }
   ],
   "source": [
    "print list('a')\n",
    "#['a']\n",
    "hello =  list('hello world')\n",
    "print hello\n",
    "#['h', 'e', 'l', 'l', 'o', ' ', 'w', 'o', 'r', 'l', 'd']"
   ]
  },
  {
   "cell_type": "code",
   "execution_count": 60,
   "metadata": {
    "collapsed": false
   },
   "outputs": [
    {
     "name": "stdout",
     "output_type": "stream",
     "text": [
      "True\n",
      "False\n"
     ]
    }
   ],
   "source": [
    "print 'e' in hello\n",
    "print 'a' in hello"
   ]
  },
  {
   "cell_type": "code",
   "execution_count": 63,
   "metadata": {
    "collapsed": false
   },
   "outputs": [
    {
     "name": "stdout",
     "output_type": "stream",
     "text": [
      "14:32 政治 洪耀福任民進黨秘書長　蔡英文：中壯世代做...(0)\n",
      "14:28 政治 面對國家難題　蔡英文：穩中求變(0)\n",
      "14:21 政治 【有片】宣誓就任民進黨主席　蔡英文：冷靜...(1040)\n"
     ]
    }
   ],
   "source": [
    "news = ['14:32 地產 12年國教呼之欲出　明星學區搶破頭(0)',\n",
    "'14:32 政治 洪耀福任民進黨秘書長　蔡英文：中壯世代做...(0)',\n",
    "'14:30 體育 【蘋果足球】(南美自由者盃)普馬斯(主)...(0)',\n",
    "'14:30 特企\t【特企】總統就職典禮　小英都站著了你還坐 (4634)',\n",
    "'14:30 生活 氣球撐開脊椎灌骨水泥　骨鬆患者變硬朗(0)',\n",
    "'14:28 政治 面對國家難題　蔡英文：穩中求變(0)',\n",
    "'14:27 社會 【更新】火光沖天　中油大林煉油廠跳俥　(1922)',\n",
    "'14:25 3C 超酷！首款彎曲手機現身　捲起還能戴手上(395)',\n",
    "'14:24 3C 【更新】熱銷機皇推新款　三星J7售899...(11720)',\n",
    "'14:24 搜奇 ​這些浴室慘案　讓人忍不住笑出來！(86)',\n",
    "'14:24 政治 內政委員會這件事　讓黃昭順拍桌怒嗆(254)',\n",
    "'14:22 財經 張明輝想告訴蔡總統：調整產業結構有捷徑(156)',\n",
    "'14:21 政治 【有片】宣誓就任民進黨主席　蔡英文：冷靜...(1040)',\n",
    "'14:21 體育 高爾夫球場難防茲卡　英球員威利特：「可能...(0)',\n",
    "'14:19 國際 【有片】「殭屍魚」重現英國河流　咬人頸猛...(110413)',\n",
    "'14:19 國際 億萬富豪遭控　只給員工時薪112元(472)',\n",
    "'14:18 國際 【有片】金正恩讓北韓正妹　上電視倡導戒菸(5680)',\n",
    "'14:17 財經 理專不用怕　機器人理財不搶飯碗(13)',\n",
    "'14:16 國際 【有片】飄移板被靈附身？　小蘿莉下場超悲...(420)',\n",
    "'14:16 生活 是否與阿扁共同參加餐會　柯P：還在考慮(79)',\n",
    "'14:15 國際 【醫藥新知】特發性肺纖維化病人缺乏獨特症...(94)',\n",
    "'14:14 財經 觀看線上影音行為調查　好萊塢電影最受青睞(73)',\n",
    "'14:14 壹週刊 【壹週刊】古金水因立榮案　撐竿跳竿變晒衣...(147)',\n",
    "'14:12 生活 【太酷了】87歲阿嬤　用空拍機做這件事(70671)',\n",
    "'14:11 生活 教室裡捏睪丸　一張圖證明校園很瘋這件事(1812)',\n",
    "'14:10 娛樂 徐若瑄時尚遮陽寵兒　原味衣網拍送愛(1072)',\n",
    "'14:07 生活 高鐵雲林站今中午道岔異常　部分車次受延誤(1210)',\n",
    "'14:07 國際 國台辦：馬英九為兩岸付出努力貢獻(1239)',\n",
    "'14:05 生活 曾喊目標蓋5萬戶公宅　柯P：不能做不會硬...(328)',\n",
    "'14:04 生活 【今周刊】精準治療 癌症 不再可怕(1044)',\n",
    "'14:02 搜奇 有了這張椅子　臨時有客人來也不怕(1505)']\n",
    "\n",
    "for n in news:\n",
    "    if '蔡英文' in n:\n",
    "        print n"
   ]
  },
  {
   "cell_type": "code",
   "execution_count": 69,
   "metadata": {
    "collapsed": false
   },
   "outputs": [
    {
     "name": "stdout",
     "output_type": "stream",
     "text": [
      "[1, 2, 3]\n",
      "[1, 2, 3]\n",
      "[1, 2000, 3]\n",
      "[1, 2000, 3]\n",
      "62199880\n",
      "62199880\n"
     ]
    }
   ],
   "source": [
    "a = [1, 2, 3]\n",
    "b = a\n",
    "print a\n",
    "print b\n",
    "a[1] = 2000\n",
    "print a\n",
    "print b\n",
    "\n",
    "# 使用id 查詢編號\n",
    "print id(a)\n",
    "print id(b)\n"
   ]
  },
  {
   "cell_type": "code",
   "execution_count": 68,
   "metadata": {
    "collapsed": false
   },
   "outputs": [
    {
     "name": "stdout",
     "output_type": "stream",
     "text": [
      "[1, 2, 3]\n",
      "[1, 2, 3]\n",
      "[1, 2, 3]\n",
      "[1, 2000, 3]\n",
      "62110984\n",
      "61246664\n"
     ]
    }
   ],
   "source": [
    "a = [1, 2, 3]\n",
    "import copy\n",
    "aa = copy.deepcopy(a) # Deep Copy\n",
    "print aa\n",
    "print a\n",
    "a[1] = 2000\n",
    "print aa\n",
    "print a\n",
    "print id(aa)\n",
    "print id(a)"
   ]
  }
 ],
 "metadata": {
  "kernelspec": {
   "display_name": "Python 2",
   "language": "python",
   "name": "python2"
  },
  "language_info": {
   "codemirror_mode": {
    "name": "ipython",
    "version": 2
   },
   "file_extension": ".py",
   "mimetype": "text/x-python",
   "name": "python",
   "nbconvert_exporter": "python",
   "pygments_lexer": "ipython2",
   "version": "2.7.11"
  }
 },
 "nbformat": 4,
 "nbformat_minor": 0
}
