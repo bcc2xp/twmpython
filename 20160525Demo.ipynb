{
 "cells": [
  {
   "cell_type": "markdown",
   "metadata": {},
   "source": [
    "## 字串Formatting"
   ]
  },
  {
   "cell_type": "code",
   "execution_count": 1,
   "metadata": {
    "collapsed": false
   },
   "outputs": [
    {
     "name": "stdout",
     "output_type": "stream",
     "text": [
      "Place my variable here: String\n"
     ]
    }
   ],
   "source": [
    "x = 'String'\n",
    "print 'Place my variable here: %s' %(x)"
   ]
  },
  {
   "cell_type": "code",
   "execution_count": 3,
   "metadata": {
    "collapsed": false
   },
   "outputs": [
    {
     "name": "stdout",
     "output_type": "stream",
     "text": [
      "Place my variable here: 13.3\n",
      "Place my variable here: 13.300000\n"
     ]
    }
   ],
   "source": [
    "x = 13.3\n",
    "# %s => string , %d => Integer, %f => float\n",
    "print 'Place my variable here: %s' %(x)\n",
    "print 'Place my variable here: %f' %(x)"
   ]
  },
  {
   "cell_type": "code",
   "execution_count": 4,
   "metadata": {
    "collapsed": false
   },
   "outputs": [
    {
     "name": "stdout",
     "output_type": "stream",
     "text": [
      "Floating point number: 13.14\n",
      "Floating point number: 13.1450000000\n",
      "Floating point number:                    13.145\n"
     ]
    }
   ],
   "source": [
    "print 'Floating point number: %1.2f' %(13.145)\n",
    "\n",
    "print 'Floating point number: %1.10f' %(13.145)\n",
    "\n",
    "print 'Floating point number: %25.3f' %(13.145)\n"
   ]
  },
  {
   "cell_type": "code",
   "execution_count": 6,
   "metadata": {
    "collapsed": false
   },
   "outputs": [
    {
     "name": "stdout",
     "output_type": "stream",
     "text": [
      "Here is a number: 123.1. Here is a string: hi\n",
      "Here is a number: 123.1. Here is a string: 'hi'\n"
     ]
    }
   ],
   "source": [
    "print 'Here is a number: %s. Here is a string: %s' %(123.1,'hi') \n",
    "print 'Here is a number: %r. Here is a string: %r' %(123.1,'hi') "
   ]
  },
  {
   "cell_type": "code",
   "execution_count": 7,
   "metadata": {
    "collapsed": false
   },
   "outputs": [
    {
     "name": "stdout",
     "output_type": "stream",
     "text": [
      "Here is a number: 123.1. Here is a string: hi\n",
      "this is a new line\n",
      "Here is a number: 123.1. Here is a string: 'hi\\nthis is a new line'\n"
     ]
    }
   ],
   "source": [
    "print 'Here is a number: %s. Here is a string: %s' %(123.1,'hi\\nthis is a new line') \n",
    "print 'Here is a number: %r. Here is a string: %r' %(123.1,'hi\\nthis is a new line') "
   ]
  },
  {
   "cell_type": "code",
   "execution_count": 9,
   "metadata": {
    "collapsed": false
   },
   "outputs": [
    {
     "name": "stdout",
     "output_type": "stream",
     "text": [
      "this is \n",
      " a text\n",
      "this is \\n a text\n"
     ]
    }
   ],
   "source": [
    "print 'this is \\n a text'\n",
    "print r'this is \\n a text'"
   ]
  },
  {
   "cell_type": "code",
   "execution_count": 13,
   "metadata": {
    "collapsed": false
   },
   "outputs": [
    {
     "name": "stdout",
     "output_type": "stream",
     "text": [
      "首款可彎曲手機現身了，且還能當成手錶般，直接環在手腕上！\n",
      "\n",
      " \n",
      "香港《蘋果日報》引述Bloomberg指出\n",
      "'\\xe9\\xa6\\x96\\xe6\\xac\\xbe\\xe5\\x8f\\xaf\\xe5\\xbd\\x8e\\xe6\\x9b\\xb2\\xe6\\x89\\x8b\\xe6\\xa9\\x9f\\xe7\\x8f\\xbe\\xe8\\xba\\xab\\xe4\\xba\\x86\\xef\\xbc\\x8c\\xe4\\xb8\\x94\\xe9\\x82\\x84\\xe8\\x83\\xbd\\xe7\\x95\\xb6\\xe6\\x88\\x90\\xe6\\x89\\x8b\\xe9\\x8c\\xb6\\xe8\\x88\\xac\\xef\\xbc\\x8c\\xe7\\x9b\\xb4\\xe6\\x8e\\xa5\\xe7\\x92\\xb0\\xe5\\x9c\\xa8\\xe6\\x89\\x8b\\xe8\\x85\\x95\\xe4\\xb8\\x8a\\xef\\xbc\\x81\\n\\n \\n\\xe9\\xa6\\x99\\xe6\\xb8\\xaf\\xe3\\x80\\x8a\\xe8\\x98\\x8b\\xe6\\x9e\\x9c\\xe6\\x97\\xa5\\xe5\\xa0\\xb1\\xe3\\x80\\x8b\\xe5\\xbc\\x95\\xe8\\xbf\\xb0Bloomberg\\xe6\\x8c\\x87\\xe5\\x87\\xba'\n"
     ]
    }
   ],
   "source": [
    "s =  '''首款可彎曲手機現身了，且還能當成手錶般，直接環在手腕上！\n",
    "\n",
    " \n",
    "香港《蘋果日報》引述Bloomberg指出'''\n",
    "print s\n",
    "print repr(s)"
   ]
  },
  {
   "cell_type": "code",
   "execution_count": 14,
   "metadata": {
    "collapsed": false
   },
   "outputs": [
    {
     "name": "stdout",
     "output_type": "stream",
     "text": [
      "\n",
      "\t this is a \t line with format \t\n",
      "\n"
     ]
    }
   ],
   "source": [
    "# 帶有 format 的 String \n",
    "raw = '\\n\\t this is a \\t line with format \\t\\n'\n",
    "print raw   "
   ]
  },
  {
   "cell_type": "code",
   "execution_count": 15,
   "metadata": {
    "collapsed": false
   },
   "outputs": [
    {
     "name": "stdout",
     "output_type": "stream",
     "text": [
      "\\n\\t this is a \\t line with format \\t\\n\n"
     ]
    }
   ],
   "source": [
    "# 使用 r 取得raw string\n",
    "raw = r'\\n\\t this is a \\t line with format \\t\\n'\n",
    "print raw   \n"
   ]
  },
  {
   "cell_type": "code",
   "execution_count": 16,
   "metadata": {
    "collapsed": false
   },
   "outputs": [
    {
     "name": "stdout",
     "output_type": "stream",
     "text": [
      "'\\n\\t this is a \\t line with format \\t\\n'\n"
     ]
    }
   ],
   "source": [
    "# 使用 repr 取得string 中的表示\n",
    "raw = repr('\\n\\t this is a \\t line with format \\t\\n')\n",
    "print raw "
   ]
  },
  {
   "cell_type": "code",
   "execution_count": 19,
   "metadata": {
    "collapsed": false
   },
   "outputs": [
    {
     "name": "stdout",
     "output_type": "stream",
     "text": [
      "This is a string with an insert\n",
      "This is a string with an insert\n"
     ]
    }
   ],
   "source": [
    "# 根據樣式替代\n",
    "print 'This is a string with an {p}'.format(p='insert') \n",
    "print 'This is a string with an {qoo}'.format(qoo='insert')"
   ]
  },
  {
   "cell_type": "code",
   "execution_count": 20,
   "metadata": {
    "collapsed": false
   },
   "outputs": [
    {
     "name": "stdout",
     "output_type": "stream",
     "text": [
      "One: Hi!, Two: Hi!, Three: Hi!\n"
     ]
    }
   ],
   "source": [
    "# 根據樣式替代多字串\n",
    "print 'One: {p}, Two: {p}, Three: {p}'.format(p='Hi!')\n"
   ]
  },
  {
   "cell_type": "code",
   "execution_count": 21,
   "metadata": {
    "collapsed": false
   },
   "outputs": [
    {
     "name": "stdout",
     "output_type": "stream",
     "text": [
      "Object 1: 1, Object 2: two, Object 3: 12.3\n"
     ]
    }
   ],
   "source": [
    "# 根據多樣式替代\n",
    "print 'Object 1: {a}, Object 2: {b}, Object 3: {c}'.format(\\\n",
    "            a=1,b='two',c=12.3)"
   ]
  },
  {
   "cell_type": "code",
   "execution_count": 22,
   "metadata": {
    "collapsed": false
   },
   "outputs": [
    {
     "name": "stdout",
     "output_type": "stream",
     "text": [
      "One: 1, Two: 2, One: 1\n"
     ]
    }
   ],
   "source": [
    "# 根據位置替代\n",
    "print 'One: {0}, Two: {1}, One: {0}'.format(1,2)\n"
   ]
  },
  {
   "cell_type": "code",
   "execution_count": 23,
   "metadata": {
    "collapsed": false
   },
   "outputs": [
    {
     "ename": "IndexError",
     "evalue": "tuple index out of range",
     "output_type": "error",
     "traceback": [
      "\u001b[1;31m---------------------------------------------------------------------------\u001b[0m",
      "\u001b[1;31mIndexError\u001b[0m                                Traceback (most recent call last)",
      "\u001b[1;32m<ipython-input-23-c9202346ce44>\u001b[0m in \u001b[0;36m<module>\u001b[1;34m()\u001b[0m\n\u001b[1;32m----> 1\u001b[1;33m \u001b[1;32mprint\u001b[0m \u001b[1;34m'One: {}, Two: {}, One: {}'\u001b[0m\u001b[1;33m.\u001b[0m\u001b[0mformat\u001b[0m\u001b[1;33m(\u001b[0m\u001b[1;36m1\u001b[0m\u001b[1;33m,\u001b[0m\u001b[1;36m2\u001b[0m\u001b[1;33m)\u001b[0m\u001b[1;33m\u001b[0m\u001b[0m\n\u001b[0m",
      "\u001b[1;31mIndexError\u001b[0m: tuple index out of range"
     ]
    }
   ],
   "source": [
    "print 'One: {}, Two: {}, One: {}'.format(1,2)"
   ]
  },
  {
   "cell_type": "code",
   "execution_count": 24,
   "metadata": {
    "collapsed": false
   },
   "outputs": [
    {
     "name": "stdout",
     "output_type": "stream",
     "text": [
      "One: 1, Two: 2, One: 3\n"
     ]
    }
   ],
   "source": [
    "print 'One: {}, Two: {}, One: {}'.format(1,2,3)"
   ]
  },
  {
   "cell_type": "code",
   "execution_count": 25,
   "metadata": {
    "collapsed": false
   },
   "outputs": [
    {
     "name": "stdout",
     "output_type": "stream",
     "text": [
      "Tibameis David's favorite\n"
     ]
    }
   ],
   "source": [
    "name = 'David'\n",
    "course = 'Tibame'\n",
    "\n",
    "print(course + \"is \" + name + \"'s favorite\")\n"
   ]
  },
  {
   "cell_type": "code",
   "execution_count": 26,
   "metadata": {
    "collapsed": false
   },
   "outputs": [
    {
     "name": "stdout",
     "output_type": "stream",
     "text": [
      "twm is david's favorite\n"
     ]
    }
   ],
   "source": [
    "print \"{} is {}'s favorite\".format('twm', 'david')"
   ]
  },
  {
   "cell_type": "code",
   "execution_count": 27,
   "metadata": {
    "collapsed": false
   },
   "outputs": [
    {
     "ename": "TypeError",
     "evalue": "not enough arguments for format string",
     "output_type": "error",
     "traceback": [
      "\u001b[1;31m---------------------------------------------------------------------------\u001b[0m",
      "\u001b[1;31mTypeError\u001b[0m                                 Traceback (most recent call last)",
      "\u001b[1;32m<ipython-input-27-c1d6f3f3de6e>\u001b[0m in \u001b[0;36m<module>\u001b[1;34m()\u001b[0m\n\u001b[0;32m      1\u001b[0m \u001b[0ma\u001b[0m \u001b[1;33m=\u001b[0m \u001b[1;34m'http://www.appledaily.com.tw/realtimenews/article/property/%s/870084/12%E5%B9%B4%E5%9C%8B%E6%95%99%E5%91%BC%E4%B9%8B%E6%AC%B2%E5%87%BA%E3%80%80%E6%98%8E%E6%98%9F%E5%AD%B8%E5%8D%80%E6%90%B6%E7%A0%B4%E9%A0%AD'\u001b[0m\u001b[1;33m\u001b[0m\u001b[0m\n\u001b[0;32m      2\u001b[0m \u001b[1;33m\u001b[0m\u001b[0m\n\u001b[1;32m----> 3\u001b[1;33m \u001b[1;32mprint\u001b[0m \u001b[0ma\u001b[0m\u001b[1;33m%\u001b[0m\u001b[1;33m(\u001b[0m\u001b[1;34m'20160525'\u001b[0m\u001b[1;33m)\u001b[0m\u001b[1;33m\u001b[0m\u001b[0m\n\u001b[0m",
      "\u001b[1;31mTypeError\u001b[0m: not enough arguments for format string"
     ]
    }
   ],
   "source": [
    "a = 'http://www.appledaily.com.tw/realtimenews/article/property/\\\n",
    "%s/870084/12%E5%B9%B4%E5%9C%8B%E6%95%99%E5%91%BC%E4%B9%8B%E6%AC%B2%E5%87%BA%E3%80%80%E6%98%8E%E6%98%9F%E5%AD%B8%E5%8D%80%E6%90%B6%E7%A0%B4%E9%A0%AD'\n",
    "\n",
    "print a%('20160525')\n"
   ]
  },
  {
   "cell_type": "code",
   "execution_count": 29,
   "metadata": {
    "collapsed": false
   },
   "outputs": [
    {
     "name": "stdout",
     "output_type": "stream",
     "text": [
      "http://www.appledaily.com.tw/realtimenews/article/property/20160525/870084/12%E5%B9%B4%E5%9C%8B%E6%95%99%E5%91%BC%E4%B9%8B%E6%AC%B2%E5%87%BA%E3%80%80%E6%98%8E%E6%98%9F%E5%AD%B8%E5%8D%80%E6%90%B6%E7%A0%B4%E9%A0%AD\n",
      "http://www.appledaily.com.tw/realtimenews/article/property/20160525/870084/12%E5%B9%B4%E5%9C%8B%E6%95%99%E5%91%BC%E4%B9%8B%E6%AC%B2%E5%87%BA%E3%80%80%E6%98%8E%E6%98%9F%E5%AD%B8%E5%8D%80%E6%90%B6%E7%A0%B4%E9%A0%AD\n"
     ]
    }
   ],
   "source": [
    "a = 'http://www.appledaily.com.tw/realtimenews/article/property/\\\n",
    "{}/870084/12%E5%B9%B4%E5%9C%8B%E6%95%99%E5%91%BC%E4%B9%8B%E6%AC%B2%E5%87%BA%E3%80%80%E6%98%8E%E6%98%9F%E5%AD%B8%E5%8D%80%E6%90%B6%E7%A0%B4%E9%A0%AD'\n",
    "\n",
    "print a.format('20160525')\n",
    "print a.format(20160525)"
   ]
  },
  {
   "cell_type": "code",
   "execution_count": 31,
   "metadata": {
    "collapsed": false
   },
   "outputs": [
    {
     "name": "stdout",
     "output_type": "stream",
     "text": [
      "http://www.appledaily.com.tw/realtimenews/section/new/2\n",
      "http://www.appledaily.com.tw/realtimenews/section/new/3\n"
     ]
    }
   ],
   "source": [
    "url = 'http://www.appledaily.com.tw/realtimenews/section/new/{}'\n",
    "print url.format(2)\n",
    "print url.format(3)"
   ]
  }
 ],
 "metadata": {
  "kernelspec": {
   "display_name": "Python 2",
   "language": "python",
   "name": "python2"
  },
  "language_info": {
   "codemirror_mode": {
    "name": "ipython",
    "version": 2
   },
   "file_extension": ".py",
   "mimetype": "text/x-python",
   "name": "python",
   "nbconvert_exporter": "python",
   "pygments_lexer": "ipython2",
   "version": "2.7.11"
  }
 },
 "nbformat": 4,
 "nbformat_minor": 0
}
