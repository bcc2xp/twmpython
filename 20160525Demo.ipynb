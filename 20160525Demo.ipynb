{
 "cells": [
  {
   "cell_type": "markdown",
   "metadata": {},
   "source": [
    "## 字串Formatting"
   ]
  },
  {
   "cell_type": "code",
   "execution_count": 1,
   "metadata": {
    "collapsed": false
   },
   "outputs": [
    {
     "name": "stdout",
     "output_type": "stream",
     "text": [
      "Place my variable here: String\n"
     ]
    }
   ],
   "source": [
    "x = 'String'\n",
    "print 'Place my variable here: %s' %(x)"
   ]
  },
  {
   "cell_type": "code",
   "execution_count": 3,
   "metadata": {
    "collapsed": false
   },
   "outputs": [
    {
     "name": "stdout",
     "output_type": "stream",
     "text": [
      "Place my variable here: 13.3\n",
      "Place my variable here: 13.300000\n"
     ]
    }
   ],
   "source": [
    "x = 13.3\n",
    "# %s => string , %d => Integer, %f => float\n",
    "print 'Place my variable here: %s' %(x)\n",
    "print 'Place my variable here: %f' %(x)"
   ]
  },
  {
   "cell_type": "code",
   "execution_count": 4,
   "metadata": {
    "collapsed": false
   },
   "outputs": [
    {
     "name": "stdout",
     "output_type": "stream",
     "text": [
      "Floating point number: 13.14\n",
      "Floating point number: 13.1450000000\n",
      "Floating point number:                    13.145\n"
     ]
    }
   ],
   "source": [
    "print 'Floating point number: %1.2f' %(13.145)\n",
    "\n",
    "print 'Floating point number: %1.10f' %(13.145)\n",
    "\n",
    "print 'Floating point number: %25.3f' %(13.145)\n"
   ]
  },
  {
   "cell_type": "code",
   "execution_count": 6,
   "metadata": {
    "collapsed": false
   },
   "outputs": [
    {
     "name": "stdout",
     "output_type": "stream",
     "text": [
      "Here is a number: 123.1. Here is a string: hi\n",
      "Here is a number: 123.1. Here is a string: 'hi'\n"
     ]
    }
   ],
   "source": [
    "print 'Here is a number: %s. Here is a string: %s' %(123.1,'hi') \n",
    "print 'Here is a number: %r. Here is a string: %r' %(123.1,'hi') "
   ]
  },
  {
   "cell_type": "code",
   "execution_count": 7,
   "metadata": {
    "collapsed": false
   },
   "outputs": [
    {
     "name": "stdout",
     "output_type": "stream",
     "text": [
      "Here is a number: 123.1. Here is a string: hi\n",
      "this is a new line\n",
      "Here is a number: 123.1. Here is a string: 'hi\\nthis is a new line'\n"
     ]
    }
   ],
   "source": [
    "print 'Here is a number: %s. Here is a string: %s' %(123.1,'hi\\nthis is a new line') \n",
    "print 'Here is a number: %r. Here is a string: %r' %(123.1,'hi\\nthis is a new line') "
   ]
  },
  {
   "cell_type": "code",
   "execution_count": 9,
   "metadata": {
    "collapsed": false
   },
   "outputs": [
    {
     "name": "stdout",
     "output_type": "stream",
     "text": [
      "this is \n",
      " a text\n",
      "this is \\n a text\n"
     ]
    }
   ],
   "source": [
    "print 'this is \\n a text'\n",
    "print r'this is \\n a text'"
   ]
  },
  {
   "cell_type": "code",
   "execution_count": 13,
   "metadata": {
    "collapsed": false
   },
   "outputs": [
    {
     "name": "stdout",
     "output_type": "stream",
     "text": [
      "首款可彎曲手機現身了，且還能當成手錶般，直接環在手腕上！\n",
      "\n",
      " \n",
      "香港《蘋果日報》引述Bloomberg指出\n",
      "'\\xe9\\xa6\\x96\\xe6\\xac\\xbe\\xe5\\x8f\\xaf\\xe5\\xbd\\x8e\\xe6\\x9b\\xb2\\xe6\\x89\\x8b\\xe6\\xa9\\x9f\\xe7\\x8f\\xbe\\xe8\\xba\\xab\\xe4\\xba\\x86\\xef\\xbc\\x8c\\xe4\\xb8\\x94\\xe9\\x82\\x84\\xe8\\x83\\xbd\\xe7\\x95\\xb6\\xe6\\x88\\x90\\xe6\\x89\\x8b\\xe9\\x8c\\xb6\\xe8\\x88\\xac\\xef\\xbc\\x8c\\xe7\\x9b\\xb4\\xe6\\x8e\\xa5\\xe7\\x92\\xb0\\xe5\\x9c\\xa8\\xe6\\x89\\x8b\\xe8\\x85\\x95\\xe4\\xb8\\x8a\\xef\\xbc\\x81\\n\\n \\n\\xe9\\xa6\\x99\\xe6\\xb8\\xaf\\xe3\\x80\\x8a\\xe8\\x98\\x8b\\xe6\\x9e\\x9c\\xe6\\x97\\xa5\\xe5\\xa0\\xb1\\xe3\\x80\\x8b\\xe5\\xbc\\x95\\xe8\\xbf\\xb0Bloomberg\\xe6\\x8c\\x87\\xe5\\x87\\xba'\n"
     ]
    }
   ],
   "source": [
    "s =  '''首款可彎曲手機現身了，且還能當成手錶般，直接環在手腕上！\n",
    "\n",
    " \n",
    "香港《蘋果日報》引述Bloomberg指出'''\n",
    "print s\n",
    "print repr(s)"
   ]
  },
  {
   "cell_type": "code",
   "execution_count": 14,
   "metadata": {
    "collapsed": false
   },
   "outputs": [
    {
     "name": "stdout",
     "output_type": "stream",
     "text": [
      "\n",
      "\t this is a \t line with format \t\n",
      "\n"
     ]
    }
   ],
   "source": [
    "# 帶有 format 的 String \n",
    "raw = '\\n\\t this is a \\t line with format \\t\\n'\n",
    "print raw   "
   ]
  },
  {
   "cell_type": "code",
   "execution_count": 15,
   "metadata": {
    "collapsed": false
   },
   "outputs": [
    {
     "name": "stdout",
     "output_type": "stream",
     "text": [
      "\\n\\t this is a \\t line with format \\t\\n\n"
     ]
    }
   ],
   "source": [
    "# 使用 r 取得raw string\n",
    "raw = r'\\n\\t this is a \\t line with format \\t\\n'\n",
    "print raw   \n"
   ]
  },
  {
   "cell_type": "code",
   "execution_count": 16,
   "metadata": {
    "collapsed": false
   },
   "outputs": [
    {
     "name": "stdout",
     "output_type": "stream",
     "text": [
      "'\\n\\t this is a \\t line with format \\t\\n'\n"
     ]
    }
   ],
   "source": [
    "# 使用 repr 取得string 中的表示\n",
    "raw = repr('\\n\\t this is a \\t line with format \\t\\n')\n",
    "print raw "
   ]
  },
  {
   "cell_type": "code",
   "execution_count": 19,
   "metadata": {
    "collapsed": false
   },
   "outputs": [
    {
     "name": "stdout",
     "output_type": "stream",
     "text": [
      "This is a string with an insert\n",
      "This is a string with an insert\n"
     ]
    }
   ],
   "source": [
    "# 根據樣式替代\n",
    "print 'This is a string with an {p}'.format(p='insert') \n",
    "print 'This is a string with an {qoo}'.format(qoo='insert')"
   ]
  },
  {
   "cell_type": "code",
   "execution_count": 20,
   "metadata": {
    "collapsed": false
   },
   "outputs": [
    {
     "name": "stdout",
     "output_type": "stream",
     "text": [
      "One: Hi!, Two: Hi!, Three: Hi!\n"
     ]
    }
   ],
   "source": [
    "# 根據樣式替代多字串\n",
    "print 'One: {p}, Two: {p}, Three: {p}'.format(p='Hi!')\n"
   ]
  },
  {
   "cell_type": "code",
   "execution_count": 21,
   "metadata": {
    "collapsed": false
   },
   "outputs": [
    {
     "name": "stdout",
     "output_type": "stream",
     "text": [
      "Object 1: 1, Object 2: two, Object 3: 12.3\n"
     ]
    }
   ],
   "source": [
    "# 根據多樣式替代\n",
    "print 'Object 1: {a}, Object 2: {b}, Object 3: {c}'.format(\\\n",
    "            a=1,b='two',c=12.3)"
   ]
  },
  {
   "cell_type": "code",
   "execution_count": 22,
   "metadata": {
    "collapsed": false
   },
   "outputs": [
    {
     "name": "stdout",
     "output_type": "stream",
     "text": [
      "One: 1, Two: 2, One: 1\n"
     ]
    }
   ],
   "source": [
    "# 根據位置替代\n",
    "print 'One: {0}, Two: {1}, One: {0}'.format(1,2)\n"
   ]
  },
  {
   "cell_type": "code",
   "execution_count": 23,
   "metadata": {
    "collapsed": false
   },
   "outputs": [
    {
     "ename": "IndexError",
     "evalue": "tuple index out of range",
     "output_type": "error",
     "traceback": [
      "\u001b[1;31m---------------------------------------------------------------------------\u001b[0m",
      "\u001b[1;31mIndexError\u001b[0m                                Traceback (most recent call last)",
      "\u001b[1;32m<ipython-input-23-c9202346ce44>\u001b[0m in \u001b[0;36m<module>\u001b[1;34m()\u001b[0m\n\u001b[1;32m----> 1\u001b[1;33m \u001b[1;32mprint\u001b[0m \u001b[1;34m'One: {}, Two: {}, One: {}'\u001b[0m\u001b[1;33m.\u001b[0m\u001b[0mformat\u001b[0m\u001b[1;33m(\u001b[0m\u001b[1;36m1\u001b[0m\u001b[1;33m,\u001b[0m\u001b[1;36m2\u001b[0m\u001b[1;33m)\u001b[0m\u001b[1;33m\u001b[0m\u001b[0m\n\u001b[0m",
      "\u001b[1;31mIndexError\u001b[0m: tuple index out of range"
     ]
    }
   ],
   "source": [
    "print 'One: {}, Two: {}, One: {}'.format(1,2)"
   ]
  },
  {
   "cell_type": "code",
   "execution_count": 24,
   "metadata": {
    "collapsed": false
   },
   "outputs": [
    {
     "name": "stdout",
     "output_type": "stream",
     "text": [
      "One: 1, Two: 2, One: 3\n"
     ]
    }
   ],
   "source": [
    "print 'One: {}, Two: {}, One: {}'.format(1,2,3)"
   ]
  },
  {
   "cell_type": "code",
   "execution_count": 25,
   "metadata": {
    "collapsed": false
   },
   "outputs": [
    {
     "name": "stdout",
     "output_type": "stream",
     "text": [
      "Tibameis David's favorite\n"
     ]
    }
   ],
   "source": [
    "name = 'David'\n",
    "course = 'Tibame'\n",
    "\n",
    "print(course + \"is \" + name + \"'s favorite\")\n"
   ]
  },
  {
   "cell_type": "code",
   "execution_count": 26,
   "metadata": {
    "collapsed": false
   },
   "outputs": [
    {
     "name": "stdout",
     "output_type": "stream",
     "text": [
      "twm is david's favorite\n"
     ]
    }
   ],
   "source": [
    "print \"{} is {}'s favorite\".format('twm', 'david')"
   ]
  },
  {
   "cell_type": "code",
   "execution_count": 27,
   "metadata": {
    "collapsed": false
   },
   "outputs": [
    {
     "ename": "TypeError",
     "evalue": "not enough arguments for format string",
     "output_type": "error",
     "traceback": [
      "\u001b[1;31m---------------------------------------------------------------------------\u001b[0m",
      "\u001b[1;31mTypeError\u001b[0m                                 Traceback (most recent call last)",
      "\u001b[1;32m<ipython-input-27-c1d6f3f3de6e>\u001b[0m in \u001b[0;36m<module>\u001b[1;34m()\u001b[0m\n\u001b[0;32m      1\u001b[0m \u001b[0ma\u001b[0m \u001b[1;33m=\u001b[0m \u001b[1;34m'http://www.appledaily.com.tw/realtimenews/article/property/%s/870084/12%E5%B9%B4%E5%9C%8B%E6%95%99%E5%91%BC%E4%B9%8B%E6%AC%B2%E5%87%BA%E3%80%80%E6%98%8E%E6%98%9F%E5%AD%B8%E5%8D%80%E6%90%B6%E7%A0%B4%E9%A0%AD'\u001b[0m\u001b[1;33m\u001b[0m\u001b[0m\n\u001b[0;32m      2\u001b[0m \u001b[1;33m\u001b[0m\u001b[0m\n\u001b[1;32m----> 3\u001b[1;33m \u001b[1;32mprint\u001b[0m \u001b[0ma\u001b[0m\u001b[1;33m%\u001b[0m\u001b[1;33m(\u001b[0m\u001b[1;34m'20160525'\u001b[0m\u001b[1;33m)\u001b[0m\u001b[1;33m\u001b[0m\u001b[0m\n\u001b[0m",
      "\u001b[1;31mTypeError\u001b[0m: not enough arguments for format string"
     ]
    }
   ],
   "source": [
    "a = 'http://www.appledaily.com.tw/realtimenews/article/property/\\\n",
    "%s/870084/12%E5%B9%B4%E5%9C%8B%E6%95%99%E5%91%BC%E4%B9%8B%E6%AC%B2%E5%87%BA%E3%80%80%E6%98%8E%E6%98%9F%E5%AD%B8%E5%8D%80%E6%90%B6%E7%A0%B4%E9%A0%AD'\n",
    "\n",
    "print a%('20160525')\n"
   ]
  },
  {
   "cell_type": "code",
   "execution_count": 29,
   "metadata": {
    "collapsed": false
   },
   "outputs": [
    {
     "name": "stdout",
     "output_type": "stream",
     "text": [
      "http://www.appledaily.com.tw/realtimenews/article/property/20160525/870084/12%E5%B9%B4%E5%9C%8B%E6%95%99%E5%91%BC%E4%B9%8B%E6%AC%B2%E5%87%BA%E3%80%80%E6%98%8E%E6%98%9F%E5%AD%B8%E5%8D%80%E6%90%B6%E7%A0%B4%E9%A0%AD\n",
      "http://www.appledaily.com.tw/realtimenews/article/property/20160525/870084/12%E5%B9%B4%E5%9C%8B%E6%95%99%E5%91%BC%E4%B9%8B%E6%AC%B2%E5%87%BA%E3%80%80%E6%98%8E%E6%98%9F%E5%AD%B8%E5%8D%80%E6%90%B6%E7%A0%B4%E9%A0%AD\n"
     ]
    }
   ],
   "source": [
    "a = 'http://www.appledaily.com.tw/realtimenews/article/property/\\\n",
    "{}/870084/12%E5%B9%B4%E5%9C%8B%E6%95%99%E5%91%BC%E4%B9%8B%E6%AC%B2%E5%87%BA%E3%80%80%E6%98%8E%E6%98%9F%E5%AD%B8%E5%8D%80%E6%90%B6%E7%A0%B4%E9%A0%AD'\n",
    "\n",
    "print a.format('20160525')\n",
    "print a.format(20160525)"
   ]
  },
  {
   "cell_type": "code",
   "execution_count": 31,
   "metadata": {
    "collapsed": false
   },
   "outputs": [
    {
     "name": "stdout",
     "output_type": "stream",
     "text": [
      "http://www.appledaily.com.tw/realtimenews/section/new/2\n",
      "http://www.appledaily.com.tw/realtimenews/section/new/3\n"
     ]
    }
   ],
   "source": [
    "url = 'http://www.appledaily.com.tw/realtimenews/section/new/{}'\n",
    "print url.format(2)\n",
    "print url.format(3)"
   ]
  },
  {
   "cell_type": "markdown",
   "metadata": {},
   "source": [
    "## input"
   ]
  },
  {
   "cell_type": "code",
   "execution_count": 33,
   "metadata": {
    "collapsed": false
   },
   "outputs": [
    {
     "name": "stdout",
     "output_type": "stream",
     "text": [
      "Hello from python\n"
     ]
    }
   ],
   "source": [
    "print \"Hello from python\""
   ]
  },
  {
   "cell_type": "code",
   "execution_count": 34,
   "metadata": {
    "collapsed": false
   },
   "outputs": [
    {
     "name": "stdout",
     "output_type": "stream",
     "text": [
      "How are you?fine\n"
     ]
    },
    {
     "ename": "NameError",
     "evalue": "name 'fine' is not defined",
     "output_type": "error",
     "traceback": [
      "\u001b[1;31m---------------------------------------------------------------------------\u001b[0m",
      "\u001b[1;31mNameError\u001b[0m                                 Traceback (most recent call last)",
      "\u001b[1;32m<ipython-input-34-43609d24bbb7>\u001b[0m in \u001b[0;36m<module>\u001b[1;34m()\u001b[0m\n\u001b[1;32m----> 1\u001b[1;33m \u001b[0minput\u001b[0m\u001b[1;33m(\u001b[0m\u001b[1;34m\"How are you?\"\u001b[0m\u001b[1;33m)\u001b[0m\u001b[1;33m\u001b[0m\u001b[0m\n\u001b[0m",
      "\u001b[1;32mC:\\Anaconda2\\lib\\site-packages\\ipykernel\\ipkernel.pyc\u001b[0m in \u001b[0;36m<lambda>\u001b[1;34m(prompt)\u001b[0m\n\u001b[0;32m    139\u001b[0m             \u001b[0mself\u001b[0m\u001b[1;33m.\u001b[0m\u001b[0m_sys_eval_input\u001b[0m \u001b[1;33m=\u001b[0m \u001b[0mbuiltin_mod\u001b[0m\u001b[1;33m.\u001b[0m\u001b[0minput\u001b[0m\u001b[1;33m\u001b[0m\u001b[0m\n\u001b[0;32m    140\u001b[0m             \u001b[0mbuiltin_mod\u001b[0m\u001b[1;33m.\u001b[0m\u001b[0mraw_input\u001b[0m \u001b[1;33m=\u001b[0m \u001b[0mself\u001b[0m\u001b[1;33m.\u001b[0m\u001b[0mraw_input\u001b[0m\u001b[1;33m\u001b[0m\u001b[0m\n\u001b[1;32m--> 141\u001b[1;33m             \u001b[0mbuiltin_mod\u001b[0m\u001b[1;33m.\u001b[0m\u001b[0minput\u001b[0m \u001b[1;33m=\u001b[0m \u001b[1;32mlambda\u001b[0m \u001b[0mprompt\u001b[0m\u001b[1;33m=\u001b[0m\u001b[1;34m''\u001b[0m\u001b[1;33m:\u001b[0m \u001b[0meval\u001b[0m\u001b[1;33m(\u001b[0m\u001b[0mself\u001b[0m\u001b[1;33m.\u001b[0m\u001b[0mraw_input\u001b[0m\u001b[1;33m(\u001b[0m\u001b[0mprompt\u001b[0m\u001b[1;33m)\u001b[0m\u001b[1;33m)\u001b[0m\u001b[1;33m\u001b[0m\u001b[0m\n\u001b[0m\u001b[0;32m    142\u001b[0m         \u001b[0mself\u001b[0m\u001b[1;33m.\u001b[0m\u001b[0m_save_getpass\u001b[0m \u001b[1;33m=\u001b[0m \u001b[0mgetpass\u001b[0m\u001b[1;33m.\u001b[0m\u001b[0mgetpass\u001b[0m\u001b[1;33m\u001b[0m\u001b[0m\n\u001b[0;32m    143\u001b[0m         \u001b[0mgetpass\u001b[0m\u001b[1;33m.\u001b[0m\u001b[0mgetpass\u001b[0m \u001b[1;33m=\u001b[0m \u001b[0mself\u001b[0m\u001b[1;33m.\u001b[0m\u001b[0mgetpass\u001b[0m\u001b[1;33m\u001b[0m\u001b[0m\n",
      "\u001b[1;32mC:\\Anaconda2\\lib\\site-packages\\ipykernel\\ipkernel.pyc\u001b[0m in \u001b[0;36m<module>\u001b[1;34m()\u001b[0m\n",
      "\u001b[1;31mNameError\u001b[0m: name 'fine' is not defined"
     ]
    }
   ],
   "source": [
    "input(\"How are you?\")"
   ]
  },
  {
   "cell_type": "code",
   "execution_count": 35,
   "metadata": {
    "collapsed": false
   },
   "outputs": [
    {
     "name": "stdout",
     "output_type": "stream",
     "text": [
      "How are you?\"fine\"\n"
     ]
    },
    {
     "data": {
      "text/plain": [
       "'fine'"
      ]
     },
     "execution_count": 35,
     "metadata": {},
     "output_type": "execute_result"
    }
   ],
   "source": [
    "input(\"How are you?\")"
   ]
  },
  {
   "cell_type": "code",
   "execution_count": 36,
   "metadata": {
    "collapsed": false
   },
   "outputs": [
    {
     "name": "stdout",
     "output_type": "stream",
     "text": [
      "How are you?\"fine\"\n"
     ]
    }
   ],
   "source": [
    "answer = input(\"How are you?\")"
   ]
  },
  {
   "cell_type": "code",
   "execution_count": 38,
   "metadata": {
    "collapsed": false
   },
   "outputs": [
    {
     "name": "stdout",
     "output_type": "stream",
     "text": [
      "fine\n"
     ]
    }
   ],
   "source": [
    "print answer"
   ]
  },
  {
   "cell_type": "code",
   "execution_count": 39,
   "metadata": {
    "collapsed": false
   },
   "outputs": [
    {
     "name": "stdout",
     "output_type": "stream",
     "text": [
      "how are you?\"fine\"\n"
     ]
    }
   ],
   "source": [
    "answer = input(\"how are you?\") "
   ]
  },
  {
   "cell_type": "code",
   "execution_count": 40,
   "metadata": {
    "collapsed": false
   },
   "outputs": [
    {
     "name": "stdout",
     "output_type": "stream",
     "text": [
      "how are you?fine\n"
     ]
    }
   ],
   "source": [
    "answer = raw_input(\"how are you?\") "
   ]
  },
  {
   "cell_type": "markdown",
   "metadata": {},
   "source": [
    "## List"
   ]
  },
  {
   "cell_type": "code",
   "execution_count": 42,
   "metadata": {
    "collapsed": false
   },
   "outputs": [
    {
     "name": "stdout",
     "output_type": "stream",
     "text": [
      "[1, 2, 3]\n",
      "['A string', 23, 100.232, 'o']\n"
     ]
    },
    {
     "data": {
      "text/plain": [
       "4"
      ]
     },
     "execution_count": 42,
     "metadata": {},
     "output_type": "execute_result"
    }
   ],
   "source": [
    "my_list = [1,2,3] \n",
    "print my_list\n",
    "my_list = ['A string',23,100.232,'o'] \n",
    "\n",
    "print my_list\n",
    "len(my_list)\n"
   ]
  },
  {
   "cell_type": "code",
   "execution_count": 43,
   "metadata": {
    "collapsed": false
   },
   "outputs": [
    {
     "name": "stdout",
     "output_type": "stream",
     "text": [
      "5\n",
      "[7, 's']\n",
      "[7, 's']\n"
     ]
    }
   ],
   "source": [
    "a = [5, 6, 7, 's'] # a = [5 6 7 ‘s’] \n",
    "print a[0] # 5\n",
    "print a[2:4] # [7, ‘s’] #for(i= 2; i< 4; i++)\n",
    "print a[2:100]\n"
   ]
  },
  {
   "cell_type": "code",
   "execution_count": 44,
   "metadata": {
    "collapsed": false
   },
   "outputs": [
    {
     "name": "stdout",
     "output_type": "stream",
     "text": [
      "s\n",
      "7\n",
      "[7, 's']\n",
      "[5, 7]\n",
      "['s', 7, 6, 5]\n",
      "4\n",
      "[5, 's']\n"
     ]
    }
   ],
   "source": [
    "print a[-1] # ‘s’ \n",
    "print a[-2] # 7\n",
    "print a[2:] # [7, ‘s’]\n",
    "print a[::2] # [5, 7]\n",
    "print a[::-1] # [‘s’, 7, 6, 5]"
   ]
  },
  {
   "cell_type": "code",
   "execution_count": 46,
   "metadata": {
    "collapsed": false
   },
   "outputs": [
    {
     "name": "stdout",
     "output_type": "stream",
     "text": [
      "<type 'list'>\n",
      "['__add__', '__class__', '__contains__', '__delattr__', '__delitem__', '__delslice__', '__doc__', '__eq__', '__format__', '__ge__', '__getattribute__', '__getitem__', '__getslice__', '__gt__', '__hash__', '__iadd__', '__imul__', '__init__', '__iter__', '__le__', '__len__', '__lt__', '__mul__', '__ne__', '__new__', '__reduce__', '__reduce_ex__', '__repr__', '__reversed__', '__rmul__', '__setattr__', '__setitem__', '__setslice__', '__sizeof__', '__str__', '__subclasshook__', 'append', 'count', 'extend', 'index', 'insert', 'pop', 'remove', 'reverse', 'sort']\n",
      "4\n",
      "[5, 's']\n"
     ]
    }
   ],
   "source": [
    "print type(a)\n",
    "print dir(a)\n",
    "print len(a) # 4\n",
    "print [min(a), max(a)] # [5, ‘s’]"
   ]
  },
  {
   "cell_type": "code",
   "execution_count": 50,
   "metadata": {
    "collapsed": false
   },
   "outputs": [
    {
     "name": "stdout",
     "output_type": "stream",
     "text": [
      "[5, 6, 7]\n",
      "[5, 6, 7, 2]\n",
      "[2, 5, 6, 7]\n",
      "[7, 6, 5, 2]\n"
     ]
    }
   ],
   "source": [
    "a = [5, 6, 7, 8]\n",
    "a.pop() # a = [5, 6, 7]\n",
    "print a\n",
    "a.append(2) # a = [5, 6, 7, 2]\n",
    "print a\n",
    "a.sort() # a = [2, 5, 6, 7]\n",
    "print a\n",
    "a.reverse() # a = [7, 6, 5, 2]\n",
    "print a\n"
   ]
  },
  {
   "cell_type": "code",
   "execution_count": 57,
   "metadata": {
    "collapsed": false
   },
   "outputs": [
    {
     "name": "stdout",
     "output_type": "stream",
     "text": [
      "<type 'str'>\n",
      "<type 'list'>\n",
      "2\n"
     ]
    }
   ],
   "source": [
    "trump = ''' \n",
    "(CNN)Protesters lit fires, smashed a door and threw rocks outside a Donald Trump rally Tuesday night in New Mexico -- the latest scuffle to follow the presumptive Republican nominee's campaign.\n",
    "\n",
    "The scene outside Albuquerque's convention center was chaotic as police ushered protesters away from Trump's event and into the nearby streets.\n",
    "There, anti-Trump protesters -- many critical of his positions on immigration -- loudly chanted, \"F*** Donald Trump.\"\n",
    "The protesters had broken a glass door to the convention center. Some taunted police and jumped on police vehicles as officers in riot gear and on police horses moved them away from the convention center's exits.\n",
    "Trump had already left the event.\n",
    "The scene was reminiscent of the violence between Trump supporters and protesters in Chicago in March.\n",
    "This time, though, police kept protesters and Trump supporters apart, and didn't arrest or clash with the protesters.\n",
    "Despite initial word of gunshots, Albuquerque's police department said on Twitter that there was \"no confirmation\" of gunshots.\n",
    "\"There is no confirmation that any gunshots were fired, contrary to reports. Possible damage to Convention Center Windows by pellet gun,\" the department tweeted.\n",
    "'''\n",
    "print type(trump)\n",
    "#print trump.split()\n",
    "print type(trump.split())\n",
    "trump_list = trump.split()\n",
    "trump_list.sort()\n",
    "#print trump_list\n",
    "print trump_list.count('Donald')\n",
    "#print trump.split()"
   ]
  },
  {
   "cell_type": "code",
   "execution_count": 59,
   "metadata": {
    "collapsed": false
   },
   "outputs": [
    {
     "name": "stdout",
     "output_type": "stream",
     "text": [
      "['a']\n",
      "['h', 'e', 'l', 'l', 'o', ' ', 'w', 'o', 'r', 'l', 'd']\n"
     ]
    }
   ],
   "source": [
    "print list('a')\n",
    "#['a']\n",
    "hello =  list('hello world')\n",
    "print hello\n",
    "#['h', 'e', 'l', 'l', 'o', ' ', 'w', 'o', 'r', 'l', 'd']"
   ]
  },
  {
   "cell_type": "code",
   "execution_count": 60,
   "metadata": {
    "collapsed": false
   },
   "outputs": [
    {
     "name": "stdout",
     "output_type": "stream",
     "text": [
      "True\n",
      "False\n"
     ]
    }
   ],
   "source": [
    "print 'e' in hello\n",
    "print 'a' in hello"
   ]
  },
  {
   "cell_type": "code",
   "execution_count": 63,
   "metadata": {
    "collapsed": false
   },
   "outputs": [
    {
     "name": "stdout",
     "output_type": "stream",
     "text": [
      "14:32 政治 洪耀福任民進黨秘書長　蔡英文：中壯世代做...(0)\n",
      "14:28 政治 面對國家難題　蔡英文：穩中求變(0)\n",
      "14:21 政治 【有片】宣誓就任民進黨主席　蔡英文：冷靜...(1040)\n"
     ]
    }
   ],
   "source": [
    "news = ['14:32 地產 12年國教呼之欲出　明星學區搶破頭(0)',\n",
    "'14:32 政治 洪耀福任民進黨秘書長　蔡英文：中壯世代做...(0)',\n",
    "'14:30 體育 【蘋果足球】(南美自由者盃)普馬斯(主)...(0)',\n",
    "'14:30 特企\t【特企】總統就職典禮　小英都站著了你還坐 (4634)',\n",
    "'14:30 生活 氣球撐開脊椎灌骨水泥　骨鬆患者變硬朗(0)',\n",
    "'14:28 政治 面對國家難題　蔡英文：穩中求變(0)',\n",
    "'14:27 社會 【更新】火光沖天　中油大林煉油廠跳俥　(1922)',\n",
    "'14:25 3C 超酷！首款彎曲手機現身　捲起還能戴手上(395)',\n",
    "'14:24 3C 【更新】熱銷機皇推新款　三星J7售899...(11720)',\n",
    "'14:24 搜奇 ​這些浴室慘案　讓人忍不住笑出來！(86)',\n",
    "'14:24 政治 內政委員會這件事　讓黃昭順拍桌怒嗆(254)',\n",
    "'14:22 財經 張明輝想告訴蔡總統：調整產業結構有捷徑(156)',\n",
    "'14:21 政治 【有片】宣誓就任民進黨主席　蔡英文：冷靜...(1040)',\n",
    "'14:21 體育 高爾夫球場難防茲卡　英球員威利特：「可能...(0)',\n",
    "'14:19 國際 【有片】「殭屍魚」重現英國河流　咬人頸猛...(110413)',\n",
    "'14:19 國際 億萬富豪遭控　只給員工時薪112元(472)',\n",
    "'14:18 國際 【有片】金正恩讓北韓正妹　上電視倡導戒菸(5680)',\n",
    "'14:17 財經 理專不用怕　機器人理財不搶飯碗(13)',\n",
    "'14:16 國際 【有片】飄移板被靈附身？　小蘿莉下場超悲...(420)',\n",
    "'14:16 生活 是否與阿扁共同參加餐會　柯P：還在考慮(79)',\n",
    "'14:15 國際 【醫藥新知】特發性肺纖維化病人缺乏獨特症...(94)',\n",
    "'14:14 財經 觀看線上影音行為調查　好萊塢電影最受青睞(73)',\n",
    "'14:14 壹週刊 【壹週刊】古金水因立榮案　撐竿跳竿變晒衣...(147)',\n",
    "'14:12 生活 【太酷了】87歲阿嬤　用空拍機做這件事(70671)',\n",
    "'14:11 生活 教室裡捏睪丸　一張圖證明校園很瘋這件事(1812)',\n",
    "'14:10 娛樂 徐若瑄時尚遮陽寵兒　原味衣網拍送愛(1072)',\n",
    "'14:07 生活 高鐵雲林站今中午道岔異常　部分車次受延誤(1210)',\n",
    "'14:07 國際 國台辦：馬英九為兩岸付出努力貢獻(1239)',\n",
    "'14:05 生活 曾喊目標蓋5萬戶公宅　柯P：不能做不會硬...(328)',\n",
    "'14:04 生活 【今周刊】精準治療 癌症 不再可怕(1044)',\n",
    "'14:02 搜奇 有了這張椅子　臨時有客人來也不怕(1505)']\n",
    "\n",
    "for n in news:\n",
    "    if '蔡英文' in n:\n",
    "        print n"
   ]
  },
  {
   "cell_type": "code",
   "execution_count": 69,
   "metadata": {
    "collapsed": false
   },
   "outputs": [
    {
     "name": "stdout",
     "output_type": "stream",
     "text": [
      "[1, 2, 3]\n",
      "[1, 2, 3]\n",
      "[1, 2000, 3]\n",
      "[1, 2000, 3]\n",
      "62199880\n",
      "62199880\n"
     ]
    }
   ],
   "source": [
    "a = [1, 2, 3]\n",
    "b = a\n",
    "print a\n",
    "print b\n",
    "a[1] = 2000\n",
    "print a\n",
    "print b\n",
    "\n",
    "# 使用id 查詢編號\n",
    "print id(a)\n",
    "print id(b)\n"
   ]
  },
  {
   "cell_type": "code",
   "execution_count": 68,
   "metadata": {
    "collapsed": false
   },
   "outputs": [
    {
     "name": "stdout",
     "output_type": "stream",
     "text": [
      "[1, 2, 3]\n",
      "[1, 2, 3]\n",
      "[1, 2, 3]\n",
      "[1, 2000, 3]\n",
      "62110984\n",
      "61246664\n"
     ]
    }
   ],
   "source": [
    "a = [1, 2, 3]\n",
    "import copy\n",
    "aa = copy.deepcopy(a) # Deep Copy\n",
    "print aa\n",
    "print a\n",
    "a[1] = 2000\n",
    "print aa\n",
    "print a\n",
    "print id(aa)\n",
    "print id(a)"
   ]
  },
  {
   "cell_type": "markdown",
   "metadata": {},
   "source": [
    "## 字典 (Dictionary)"
   ]
  },
  {
   "cell_type": "code",
   "execution_count": 1,
   "metadata": {
    "collapsed": false
   },
   "outputs": [
    {
     "name": "stdout",
     "output_type": "stream",
     "text": [
      "{'a': 100, 'c': 0.98, 'b': 'yes'}\n"
     ]
    }
   ],
   "source": [
    "dic = {'a':100, 'b':\"yes\", 'c':0.98} \n",
    "print dic \n"
   ]
  },
  {
   "cell_type": "code",
   "execution_count": 2,
   "metadata": {
    "collapsed": false
   },
   "outputs": [
    {
     "name": "stdout",
     "output_type": "stream",
     "text": [
      "['a', 'c', 'b']\n"
     ]
    }
   ],
   "source": [
    "# 取得keys \n",
    "print dic.keys() "
   ]
  },
  {
   "cell_type": "code",
   "execution_count": 3,
   "metadata": {
    "collapsed": false
   },
   "outputs": [
    {
     "name": "stdout",
     "output_type": "stream",
     "text": [
      "[100, 0.98, 'yes']\n"
     ]
    }
   ],
   "source": [
    "# 取得values\n",
    "print dic.values() "
   ]
  },
  {
   "cell_type": "code",
   "execution_count": 4,
   "metadata": {
    "collapsed": false
   },
   "outputs": [
    {
     "name": "stdout",
     "output_type": "stream",
     "text": [
      "100\n"
     ]
    }
   ],
   "source": [
    "# 取得單一key 所對到的內容 \n",
    "print dic['a'] "
   ]
  },
  {
   "cell_type": "code",
   "execution_count": 5,
   "metadata": {
    "collapsed": false
   },
   "outputs": [
    {
     "ename": "KeyError",
     "evalue": "'d'",
     "output_type": "error",
     "traceback": [
      "\u001b[1;31m---------------------------------------------------------------------------\u001b[0m",
      "\u001b[1;31mKeyError\u001b[0m                                  Traceback (most recent call last)",
      "\u001b[1;32m<ipython-input-5-143205e8c65b>\u001b[0m in \u001b[0;36m<module>\u001b[1;34m()\u001b[0m\n\u001b[1;32m----> 1\u001b[1;33m \u001b[1;32mprint\u001b[0m \u001b[0mdic\u001b[0m\u001b[1;33m[\u001b[0m\u001b[1;34m'd'\u001b[0m\u001b[1;33m]\u001b[0m\u001b[1;33m\u001b[0m\u001b[0m\n\u001b[0m",
      "\u001b[1;31mKeyError\u001b[0m: 'd'"
     ]
    }
   ],
   "source": [
    "print dic['d']"
   ]
  },
  {
   "cell_type": "code",
   "execution_count": 8,
   "metadata": {
    "collapsed": false
   },
   "outputs": [
    {
     "name": "stdout",
     "output_type": "stream",
     "text": [
      "100\n",
      "None\n",
      "100\n",
      "default\n"
     ]
    }
   ],
   "source": [
    "# 取得單一key 所對到的內容 (有預設值, 比較推薦的方法)\n",
    "print dic.get('a')\n",
    "print dic.get('d')\n",
    "\n",
    "# 預設值\n",
    "print dic.get('a', 'default')\n",
    "print dic.get('d', 'default')"
   ]
  },
  {
   "cell_type": "code",
   "execution_count": 11,
   "metadata": {
    "collapsed": false
   },
   "outputs": [
    {
     "name": "stdout",
     "output_type": "stream",
     "text": [
      "new\n",
      "{'a': 100, 'c': 0.98, 'b': 'yes', 'd': 'new'}\n",
      "{'a': 100, 'c': 0.98, 'b': 'yes', 'd': 123}\n"
     ]
    }
   ],
   "source": [
    "dic['d'] = 'new'\n",
    "print dic['d']\n",
    "print dic\n",
    "dic['d'] =123\n",
    "print dic"
   ]
  },
  {
   "cell_type": "code",
   "execution_count": 12,
   "metadata": {
    "collapsed": false
   },
   "outputs": [
    {
     "name": "stdout",
     "output_type": "stream",
     "text": [
      "{'a': 100, 'c': 0.98, 'b': 'yes', 'e': 123, 'd': 111, 'f': 234}\n"
     ]
    }
   ],
   "source": [
    "dic1 = {'d':111,'e':123, 'f':234}\n",
    "dic.update(dic1)\n",
    "print dic"
   ]
  },
  {
   "cell_type": "code",
   "execution_count": 14,
   "metadata": {
    "collapsed": false
   },
   "outputs": [
    {
     "name": "stdout",
     "output_type": "stream",
     "text": [
      "a 100\n",
      "c 0.98\n",
      "b yes\n",
      "e 123\n",
      "d 111\n",
      "f 234\n"
     ]
    }
   ],
   "source": [
    "for ele in dic:\n",
    "    print ele, dic[ele]"
   ]
  },
  {
   "cell_type": "code",
   "execution_count": 20,
   "metadata": {
    "collapsed": false
   },
   "outputs": [
    {
     "name": "stdout",
     "output_type": "stream",
     "text": [
      "['a', 'a', 'a', 'b', 'c']\n",
      "a 3\n",
      "b 1\n",
      "c 1\n"
     ]
    }
   ],
   "source": [
    "trump = ''' \n",
    "(CNN)Protesters lit fires, smashed a door and threw rocks outside a Donald Trump rally Tuesday night in New Mexico -- the latest scuffle to follow the presumptive Republican nominee's campaign.\n",
    "\n",
    "The scene outside Albuquerque's convention center was chaotic as police ushered protesters away from Trump's event and into the nearby streets.\n",
    "There, anti-Trump protesters -- many critical of his positions on immigration -- loudly chanted, \"F*** Donald Trump.\"\n",
    "The protesters had broken a glass door to the convention center. Some taunted police and jumped on police vehicles as officers in riot gear and on police horses moved them away from the convention center's exits.\n",
    "Trump had already left the event.\n",
    "The scene was reminiscent of the violence between Trump supporters and protesters in Chicago in March.\n",
    "This time, though, police kept protesters and Trump supporters apart, and didn't arrest or clash with the protesters.\n",
    "Despite initial word of gunshots, Albuquerque's police department said on Twitter that there was \"no confirmation\" of gunshots.\n",
    "\"There is no confirmation that any gunshots were fired, contrary to reports. Possible damage to Convention Center Windows by pellet gun,\" the department tweeted.\n",
    "'''\n",
    "\n",
    "#trump_list =  trump.split()\n",
    "trump_list = ['a', 'b', 'a', 'c', 'a']\n",
    "trump_list.sort()\n",
    "print trump_list\n",
    "s = 0\n",
    "cuurent_word  = ''\n",
    "for w in trump_list:\n",
    "    if cuurent_word != w :\n",
    "        if cuurent_word != '':\n",
    "            print cuurent_word, s\n",
    "        cuurent_word  = w\n",
    "        s = 1\n",
    "    else:\n",
    "        s +=1\n",
    "print cuurent_word , s"
   ]
  },
  {
   "cell_type": "code",
   "execution_count": 22,
   "metadata": {
    "collapsed": false
   },
   "outputs": [
    {
     "name": "stdout",
     "output_type": "stream",
     "text": [
      "{'a': 3, 'c': 1, 'b': 1}\n"
     ]
    }
   ],
   "source": [
    "trump_list = ['a', 'b', 'a', 'c', 'a']\n",
    "dic = {}\n",
    "for w in trump_list:\n",
    "    if w in dic:\n",
    "        dic[w] = dic[w] + 1\n",
    "    else:\n",
    "        dic[w] = 1\n",
    "print dic"
   ]
  },
  {
   "cell_type": "markdown",
   "metadata": {},
   "source": [
    "## Tuple"
   ]
  },
  {
   "cell_type": "code",
   "execution_count": 27,
   "metadata": {
    "collapsed": false
   },
   "outputs": [
    {
     "name": "stdout",
     "output_type": "stream",
     "text": [
      "(1, 2, 3)\n",
      "<type 'tuple'>\n",
      "[1, 2000, 3]\n"
     ]
    }
   ],
   "source": [
    "a = (1,2,3)\n",
    "print a\n",
    "print type(a)\n",
    "\n",
    "b = [1,2,3]\n",
    "b[1] = 2000\n",
    "print b"
   ]
  },
  {
   "cell_type": "code",
   "execution_count": 29,
   "metadata": {
    "collapsed": false
   },
   "outputs": [
    {
     "ename": "SyntaxError",
     "evalue": "invalid syntax (<ipython-input-29-ef0dc0e9a4e4>, line 3)",
     "output_type": "error",
     "traceback": [
      "\u001b[1;36m  File \u001b[1;32m\"<ipython-input-29-ef0dc0e9a4e4>\"\u001b[1;36m, line \u001b[1;32m3\u001b[0m\n\u001b[1;33m    print a[1] = 2000\u001b[0m\n\u001b[1;37m               ^\u001b[0m\n\u001b[1;31mSyntaxError\u001b[0m\u001b[1;31m:\u001b[0m invalid syntax\n"
     ]
    }
   ],
   "source": [
    "a = (1,2,3)\n",
    "print a[1]\n",
    "print a[1] = 2000"
   ]
  },
  {
   "cell_type": "code",
   "execution_count": 32,
   "metadata": {
    "collapsed": false
   },
   "outputs": [
    {
     "name": "stdout",
     "output_type": "stream",
     "text": [
      "(1, 2, 3)\n",
      "(1, 2, 3)\n",
      "(1, 2, 3)\n"
     ]
    }
   ],
   "source": [
    "a = (1,2,3)\n",
    "a1 = 1,2,3\n",
    "a2 = tuple([1,2,3])\n",
    "print a\n",
    "print a1\n",
    "print a2"
   ]
  },
  {
   "cell_type": "code",
   "execution_count": 34,
   "metadata": {
    "collapsed": false
   },
   "outputs": [
    {
     "name": "stdout",
     "output_type": "stream",
     "text": [
      "['__add__', '__class__', '__contains__', '__delattr__', '__doc__', '__eq__', '__format__', '__ge__', '__getattribute__', '__getitem__', '__getnewargs__', '__getslice__', '__gt__', '__hash__', '__init__', '__iter__', '__le__', '__len__', '__lt__', '__mul__', '__ne__', '__new__', '__reduce__', '__reduce_ex__', '__repr__', '__rmul__', '__setattr__', '__sizeof__', '__str__', '__subclasshook__', 'count', 'index']\n",
      "['__add__', '__class__', '__contains__', '__delattr__', '__delitem__', '__delslice__', '__doc__', '__eq__', '__format__', '__ge__', '__getattribute__', '__getitem__', '__getslice__', '__gt__', '__hash__', '__iadd__', '__imul__', '__init__', '__iter__', '__le__', '__len__', '__lt__', '__mul__', '__ne__', '__new__', '__reduce__', '__reduce_ex__', '__repr__', '__reversed__', '__rmul__', '__setattr__', '__setitem__', '__setslice__', '__sizeof__', '__str__', '__subclasshook__', 'append', 'count', 'extend', 'index', 'insert', 'pop', 'remove', 'reverse', 'sort']\n"
     ]
    }
   ],
   "source": [
    "b = [1,2,3]\n",
    "a = (1,2,3)\n",
    "print dir(a)\n",
    "print dir(b)"
   ]
  },
  {
   "cell_type": "code",
   "execution_count": 37,
   "metadata": {
    "collapsed": false
   },
   "outputs": [
    {
     "name": "stdout",
     "output_type": "stream",
     "text": [
      "one\n",
      "2\n"
     ]
    }
   ],
   "source": [
    "# 可以混和不同資料型態 \n",
    "t = ('one',2) \n",
    "\n",
    "# 可以檢查Tuple 的長度 \n",
    "len(t) \n",
    "\n",
    "# 根據位置取用值\n",
    "print t[0] \n",
    "print t[-1]"
   ]
  },
  {
   "cell_type": "code",
   "execution_count": 39,
   "metadata": {
    "collapsed": false
   },
   "outputs": [
    {
     "name": "stdout",
     "output_type": "stream",
     "text": [
      "0\n",
      "1\n"
     ]
    }
   ],
   "source": [
    "# 使用 .index 取用資料所在位置 \n",
    "print t.index('one') \n",
    "\n",
    "# 使用 .count 計算資料出現次數\n",
    "print t.count('one')\n"
   ]
  },
  {
   "cell_type": "code",
   "execution_count": 41,
   "metadata": {
    "collapsed": false
   },
   "outputs": [
    {
     "name": "stdout",
     "output_type": "stream",
     "text": [
      "one\n",
      "2\n",
      "0\n",
      "1\n"
     ]
    }
   ],
   "source": [
    "# 可以混和不同資料型態 \n",
    "t = ['one',2] \n",
    "\n",
    "# 可以檢查Tuple 的長度 \n",
    "len(t) \n",
    "\n",
    "# 根據位置取用值\n",
    "print t[0] \n",
    "print t[-1]\n",
    "\n",
    "# 使用 .index 取用資料所在位置 \n",
    "print t.index('one') \n",
    "\n",
    "# 使用 .count 計算資料出現次數\n",
    "print t.count('one')"
   ]
  },
  {
   "cell_type": "code",
   "execution_count": 45,
   "metadata": {
    "collapsed": false
   },
   "outputs": [
    {
     "name": "stdout",
     "output_type": "stream",
     "text": [
      "2 1\n"
     ]
    }
   ],
   "source": [
    "a = 1\n",
    "b = 2\n",
    "\n",
    "c = a\n",
    "a = b\n",
    "b = c\n",
    "print a,b"
   ]
  },
  {
   "cell_type": "code",
   "execution_count": 46,
   "metadata": {
    "collapsed": false
   },
   "outputs": [
    {
     "name": "stdout",
     "output_type": "stream",
     "text": [
      "2 1\n"
     ]
    }
   ],
   "source": [
    "a = 1\n",
    "b = 2\n",
    "a,b = b,a\n",
    "print a,b"
   ]
  },
  {
   "cell_type": "code",
   "execution_count": 48,
   "metadata": {
    "collapsed": true
   },
   "outputs": [],
   "source": [
    "a = 1\n",
    "b = 2\n",
    "c = 3"
   ]
  },
  {
   "cell_type": "code",
   "execution_count": 49,
   "metadata": {
    "collapsed": true
   },
   "outputs": [],
   "source": [
    "a,b,c= 1,2,3"
   ]
  },
  {
   "cell_type": "markdown",
   "metadata": {},
   "source": [
    "## 集合"
   ]
  },
  {
   "cell_type": "code",
   "execution_count": 52,
   "metadata": {
    "collapsed": false
   },
   "outputs": [
    {
     "name": "stdout",
     "output_type": "stream",
     "text": [
      "set([1, 2, 3])\n",
      "['__and__', '__class__', '__cmp__', '__contains__', '__delattr__', '__doc__', '__eq__', '__format__', '__ge__', '__getattribute__', '__gt__', '__hash__', '__iand__', '__init__', '__ior__', '__isub__', '__iter__', '__ixor__', '__le__', '__len__', '__lt__', '__ne__', '__new__', '__or__', '__rand__', '__reduce__', '__reduce_ex__', '__repr__', '__ror__', '__rsub__', '__rxor__', '__setattr__', '__sizeof__', '__str__', '__sub__', '__subclasshook__', '__xor__', 'add', 'clear', 'copy', 'difference', 'difference_update', 'discard', 'intersection', 'intersection_update', 'isdisjoint', 'issubset', 'issuperset', 'pop', 'remove', 'symmetric_difference', 'symmetric_difference_update', 'union', 'update']\n"
     ]
    }
   ],
   "source": [
    "x = set() \n",
    "x.add(1)\n",
    "x.add(2)\n",
    "x.add(1)\n",
    "x.add(3)\n",
    "print x\n",
    "print dir(x)"
   ]
  },
  {
   "cell_type": "markdown",
   "metadata": {},
   "source": [
    "# jieba\n",
    "- pip install jieba"
   ]
  },
  {
   "cell_type": "code",
   "execution_count": 79,
   "metadata": {
    "collapsed": true
   },
   "outputs": [],
   "source": [
    "tsai_article = '''\n",
    "各位友邦的元首與貴賓、各國駐台使節及代表、現場的好朋友，全體國人同胞，大家好\n",
    "感謝與承擔\n",
    "\n",
    "就在剛剛，我和陳建仁已經在總統府裡面，正式宣誓就任中華民國第十四任總統與副總統。我們要感謝這塊土地對我們的栽培，感謝人民對我們的信任，以及，最重要的，感謝這個國家的民主機制，讓我們透過和平的選舉過程，實現第三次政黨輪替，並且克服種種不確定因素，順利渡過長達四個月的交接期，完成政權和平移轉。\n",
    "\n",
    "台灣，再一次用行動告訴世界，作為一群民主人與自由人，我們有堅定的信念，去捍衛民主自由的生活方式。這段旅程，我們每一個人都參與其中。親愛的台灣人民，我們做到了。\n",
    "\n",
    "我要告訴大家，對於一月十六日的選舉結果，我從來沒有其他的解讀方式。人民選擇了新總統、新政府，所期待的就是四個字：解決問題。此時此刻，台灣的處境很困難，迫切需要執政者義無反顧的承擔。這一點，我不會忘記。\n",
    "\n",
    "我也要告訴大家，眼前的種種難關，需要我們誠實面對，需要我們共同承擔。所以，這個演說是一個邀請，我要邀請全體國人同胞一起來，扛起這個國家的未來。\n",
    "\n",
    "國家不會因為領導人而偉大；全體國民的共同奮鬥，才讓這個國家偉大。總統該團結的不只是支持者，總統該團結的是整個國家。團結是為了改變，這是我對這個國家最深切的期待。在這裡，我要誠懇地呼籲，請給這個國家一個機會，讓我們拋下成見，拋下過去的對立，我們一起來完成新時代交給我們的使命。\n",
    "\n",
    "在我們共同奮鬥的過程中，身為總統，我要向全國人民宣示，未來我和新政府，將領導這個國家的改革，展現決心，絕不退縮。\n",
    "\n",
    "為年輕人打造一個更好的國家\n",
    "\n",
    "未來的路並不好走，台灣需要一個正面迎向一切挑戰的新政府，我的責任就是領導這個新政府。\n",
    "\n",
    "我們的年金制度，如果不改，就會破產。我們僵化的教育制度，已經逐漸與社會脈動脫節。我們的能源與資源十分有限，我們的經濟缺乏動能，舊的代工模式已經面臨瓶頸，整個國家極需要新的經濟發展模式。我們的人口結構急速老化，長照體系卻尚未健全。我們的人口出生率持續低落，完善的托育制度卻始終遙遙無期。我們環境汙染問題仍然嚴重。我們國家的財政並不樂觀。我們的司法已經失去人民的信任。我們的食品安全問題，困擾著所有家庭。我們的貧富差距越來越嚴重。我們的社會安全網還是有很多破洞。最重要的，我要特別強調，我們的年輕人處於低薪的處境，他們的人生，動彈不得，對於未來，充滿無奈與茫然。\n",
    "\n",
    "年輕人的未來是政府的責任。如果不友善的結構沒有改變，再多個人菁英的出現，都不足以讓整體年輕人的處境變好。我期許自己，在未來的任期之內，要一步一步，從根本的結構來解決這個國家的問題。\n",
    "\n",
    "這就是我想為台灣的年輕人做的事。雖然我沒有辦法立刻幫所有的年輕人加薪，但是我願意承諾，新政府會立刻展開行動。請給我們一點時間，也請跟我們一起走上改革的這一條路。\n",
    "\n",
    "改變年輕人的處境，就是改變國家的處境。一個國家的年輕人沒有未來，這個國家必定沒有未來。幫助年輕人突破困境，實現世代正義，把一個更好的國家交到下一代手上，就是新政府重大的責任。 第一、經濟結構的轉型\n",
    "\n",
    "要打造一個更好的國家，未來，新政府要做到以下幾件事情。\n",
    "\n",
    "首先，就是讓台灣的經濟結構轉型。這是新政府所必須承擔的最艱鉅使命。我們不要妄自菲薄，更不要失去信心。台灣有很多別的國家沒有的優勢，我們有海洋經濟的活力和靭性，高素質的人力資源、務實可靠的工程師文化、完整的產業鏈、敏捷靈活的中小企業，以及，永不屈服的創業精神。\n",
    "\n",
    "我們要讓台灣經濟脫胎換骨，就必須從現在起就下定決心，勇敢地走出另外一條路。這一條路，就是打造台灣經濟發展的新模式。\n",
    "\n",
    "新政府將打造一個以創新、就業、分配為核心價值，追求永續發展的新經濟模式。改革的第一步，就是強化經濟的活力與自主性，加強和全球及區域的連結，積極參與多邊及雙邊經濟合作及自由貿易談判，包括TPP、RCEP等，並且，推動新南向政策，提升對外經濟的格局及多元性，告別以往過於依賴單一市場的現象。 除此之外，新政府相信，唯有激發新的成長動能，我們才能突破當前經濟的停滯不前。我們會以出口和內需作為雙引擎，讓企業生產和人民生活互為表裡，讓對外貿易和在地經濟緊密連結。\n",
    "\n",
    "我們會優先推動五大創新研發計畫，藉著這些產業來重新塑造台灣的全球競爭力。我們也要積極提升勞動生產力，保障勞工權益，讓薪資和經濟成長能同步提升。\n",
    "\n",
    "這是台灣經濟發展的關鍵時刻。我們有決心，也有溝通能力。我們已經有系統性的規劃，未來，會以跨部會聯手的模式，把整個國家的力量集結起來，一起來催生這個新模式。\n",
    "\n",
    "在經濟發展的同時，我們不要忘記對環境的責任。經濟發展的新模式會和國土規劃、區域發展及環境永續，相互結合。產業的佈局和國土的利用，應該拋棄零碎的規畫，和短視近利的眼光。我們必須追求區域的均衡發展，這需要中央來規畫、整合，也需要地方政府充分發揮區域聯合治理的精神。 我們也不能再像過去，無止盡地揮霍自然資源及國民健康。所以，對各種汙染的控制，我們會嚴格把關，更要讓台灣走向循環經濟的時代，把廢棄物轉換為再生資源。對於能源的選擇，我們會以永續的觀念去逐步調整。新政府會嚴肅看待氣候變遷、國土保育、災害防治的相關議題，因為，我們只有一個地球，我們也只有一個台灣。\n",
    "\n",
    "第二、強化社會安全網\n",
    "\n",
    "新政府必須要承擔的第二件事情，就是強化台灣的社會安全網。這些年，幾件關於兒少安全及隨機殺人的事件，都讓整個社會震驚。不過，一個政府不能永遠在震驚，它必須要有同理心。沒有人可以替受害者家屬承受傷痛，但是，一個政府，尤其是第一線處理問題的人，必須要讓受害者以及家屬覺得，不幸事件發生的時候，政府是站在他們這一邊。\n",
    "\n",
    "除了同理心之外，政府更應該要提出解決的方法。全力防止悲劇一再發生，從治安、教育、心理健康、社會工作等各個面向，積極把破洞補起來。尤其是治安與反毒的工作，這些事情，新政府會用最嚴肅的態度和行動來面對。 在年金的改革方面，這是攸關台灣生存發展的關鍵改革，我們不應該遲疑，也不可以躁進。由陳建仁副總統擔任召集人的年金改革委員會，已經緊鑼密鼓在籌備之中。過去的政府在這個議題上，曾經有過一些努力。但是，缺乏社會的參與。新政府的做法，是發動一個集體協商，因為年金改革必須是一個透過協商來團結所有人的過程。\n",
    "\n",
    "這就是為什麼，我們要召開年金改革國是會議，由不同階層、不同職業代表，在社會團結的基礎上，共同協商。一年之內，我們會提出可行的改革方案。無論是勞工還是公務員，每一個國民的退休生活都應該得到公平的保障。\n",
    "\n",
    "另外，在長期照顧的議題上，我們將會把優質、平價、普及的長期照顧系統建立起來。和年金改革一樣，長照體系也是一個社會總動員的過程。新政府的做法是由政府主導和規劃，鼓勵民間發揮社區主義的精神，透過社會集體互助的力量，來建立一套妥善而完整的體系。每一個老年人都可以在自己熟悉的社區，安心享受老年生活，每一個家庭的照顧壓力將會減輕。照顧老人的工作不能完全讓它變成自由市場。我們會把責任扛起來，按部就班來規劃與執行，為超高齡社會的來臨，做好準備。 第三、社會的公平與正義\n",
    "\n",
    "新政府要承擔的第三件事情，就是社會的公平與正義。在這個議題上，新政府會持續和公民社會一起合作，讓台灣的政策更符合多元、平等、開放、透明、人權的價值，讓台灣的民主機制更加深化與進化。\n",
    "\n",
    "新的民主制度要能夠上路，我們必須先找出面對過去的共同方法。未來，我會在總統府成立真相與和解委員會，用最誠懇與謹慎的態度，來處理過去的歷史。追求轉型正義的目標是在追求社會的真正和解，讓所有台灣人都記取那個時代的錯誤。\n",
    "\n",
    "我們將從真相的調查與整理出發，預計在三年之內，完成台灣自己的轉型正義調查報告書。我們將會依據調查報告所揭示的真相，來進行後續的轉型正義工作。挖掘真相、彌平傷痕、釐清責任。從此以後，過去的歷史不再是台灣分裂的原因，而是台灣一起往前走的動力。\n",
    "\n",
    "同樣在公平正義的議題上，我會秉持相同的原則，來面對原住民族的議題。今天的就職典禮，原住民族的小朋友在唱國歌之前，先唱了他們部落傳統的古調。這象徵了，我們不敢忘記，這個島上先來後到的順序。 新政府會用道歉的態度，來面對原住民族相關議題，重建原民史觀，逐步推動自治，復育語言文化，提升生活照顧，這就是我要領導新政府推動的改變。\n",
    "\n",
    "接下來，新政府也會積極推動司法改革。這是現階段台灣人民最關心的議題。司法無法親近人民、不被人民信任、司法無法有效打擊犯罪，以及，司法失去作為正義最後一道防線的功能，是人民普遍的感受。\n",
    "\n",
    "為了展現新政府的決心，我們會在今年十月召開司法國是會議，透過人民實際的參與，讓社會力進來，一起推動司法改革。司法必須回應人民的需求，不再只是法律人的司法，而是全民的司法。司法改革也不只是司法人的家務事，而是全民參與的改革。這就是我對司法改革的期待。\n",
    "\n",
    "第四、區域的和平穩定發展及兩岸關係\n",
    "\n",
    "新政府要承擔的第四件事情，是區域的和平穩定與發展，以及妥善處理兩岸關係。過去三十年，無論是對亞洲或是全球，都是變動最劇烈的時期；而全球及區域的經濟穩定和集體安全，也是各國政府越來越關切的課題。\n",
    "\n",
    "台灣在區域發展當中，一直是不可或缺的關鍵角色。但是近年來，區域的情勢快速變動，如果台灣不善用自己的實力和籌碼，積極參與區域事務，不但將會變得無足輕重，甚至可能被邊緣化，喪失對於未來的自主權。\n",
    "\n",
    "我們有危機，但也有轉機。台灣現階段的經濟發展，和區域中許多國家高度關聯和互補。如果將打造經濟發展新模式的努力，透過和亞洲、乃至亞太區域的國家合作，共同形塑未來的發展策略，不但可以為區域的經濟創新、結構調整和永續發展，做出積極的貢獻，更可以和區域內的成員，建立緊密的「經濟共同體」意識。\n",
    "\n",
    "我們要和其他國家共享資源、人才與市場，擴大經濟規模，讓資源有效利用。「新南向政策」就是基於這樣的精神。我們會在科技、文化與經貿等各層面，和區域成員廣泛交流合作，尤其是增進與東協、印度的多元關係。為此，我們也願意和對岸，就共同參與區域發展的相關議題，坦誠交換意見，尋求各種合作與協力的可能性。\n",
    "\n",
    "在積極發展經濟的同時，亞太地區的安全情勢也變得越來越複雜，而兩岸關係，也成為建構區域和平與集體安全的重要一環。這個建構的進程，台灣會做一個「和平的堅定維護者」，積極參與，絕不缺席；我們也將致力維持兩岸關係的和平穩定；我們更會努力促成內部和解，強化民主機制，凝聚共識，形成一致對外的立場。\n",
    "\n",
    "對話和溝通，是我們達成目標最重要的關鍵。台灣也要成為一個「和平的積極溝通者」，我們將和相關的各方，建立常態、緊密的溝通機制，隨時交換意見，防止誤判，建立互信，有效解決爭議。我們將謹守和平原則、利益共享原則，來處理相關的爭議。\n",
    "\n",
    "我依照中華民國憲法當選總統，我有責任捍衛中華民國的主權和領土；對於東海及南海問題，我們主張應擱置爭議，共同開發。\n",
    "\n",
    "兩岸之間的對話與溝通，我們也將努力維持現有的機制。1992年兩岸兩會秉持相互諒解、求同存異的政治思維，進行溝通協商，達成若干的共同認知與諒解，我尊重這個歷史事實。92年之後，20多年來雙方交流、協商所累積形成的現狀與成果，兩岸都應該共同珍惜與維護，並在這個既有的事實與政治基礎上，持續推動兩岸關係和平穩定發展；新政府會依據中華民國憲法、兩岸人民關係條例及其他相關法律，處理兩岸事務。兩岸的兩個執政黨應該要放下歷史包袱，展開良性對話，造福兩岸人民。\n",
    "\n",
    "我所講的既有政治基礎，包含幾個關鍵元素，第一，1992年兩岸兩會會談的歷史事實與求同存異的共同認知，這是歷史事實；第二，中華民國現行憲政體制；第三，兩岸過去20多年來協商和交流互動的成果；第四，台灣民主原則及普遍民意。\n",
    "\n",
    "第五、外交與全球性議題\n",
    "\n",
    "新政府要承擔的第五件事情，是善盡地球公民的責任，在外交與全球性的議題上做出貢獻。讓台灣走向世界，也要讓世界走進台灣。\n",
    "\n",
    "現場有許多來自各國的元首與使節團，我要特別謝謝他們，長久以來一直幫助台灣，讓我們有機會參與國際社會。未來，我們會持續透過官方互動、企業投資與民間合作各種方式，分享台灣發展的經驗，與友邦建立永續的夥伴關係。\n",
    "\n",
    "台灣是全球公民社會的模範生，民主化以來，我們始終堅持和平、自由、民主及人權的普世價值。我們會秉持這個精神，加入全球議題的價值同盟。我們會繼續深化與包括美國、日本、歐洲在內的友好民主國家的關係，在共同的價值基礎上，推動全方位的合作。\n",
    "\n",
    "我們會積極參與國際經貿合作及規則制定，堅定維護全球的經濟秩序，並且融入重要的區域經貿體系。我們也不會在防制全球暖化、氣候變遷的議題上缺席。我們將會在行政院設立專責的能源和減碳辦公室，並且根據COP21巴黎協議的規定，定期檢討溫室氣體的減量目標，與友好國家攜手，共同維護永續的地球。 \n",
    "\n",
    "同時，新政府會支持並參與，全球性新興議題的國際合作，包括人道救援、醫療援助、疾病的防治與研究、反恐合作，以及共同打擊跨國犯罪，讓台灣成為國際社會不可或缺的夥伴。\n",
    "\n",
    "結語\n",
    "\n",
    "1996年台灣第一次總統直選，到今天剛好20年。過去20年，在幾任政府以及公民社會的努力之下，我們成功渡過了許多新興民主國家必須面對的難關。在這個過程中，我們曾經有過許多感動人心的時刻和故事，不過，正如同世界上其他國家一樣，我們也曾經有過焦慮、不安、矛盾、與對立。\n",
    "\n",
    "我們看到了社會的對立，進步與保守的對立，環境與開發的對立，以及，政治意識之間的對立。這些對立，曾經激發出選舉時的動員能量，不過也因為這些對立，我們的民主逐漸失去了解決問題的能力。\n",
    "\n",
    "民主是一個進程，每一個時代的政治工作者，都要清楚認識他身上所肩負的責任。民主會前進，民主也有可能倒退。今天，我站在這裡，就是要告訴大家，倒退不會是我們的選項。新政府的責任就是把台灣的民主推向下一個階段：以前的民主是選舉的輸贏，現在的民主則是關於人民的幸福；以前的民主是兩個價值觀的對決，現在的民主則是不同價值觀的對話。\n",
    "\n",
    "打造一個沒有被意識形態綁架的「團結的民主」，打造一個可以回應社會與經濟問題的「有效率的民主」，打造一個能夠實質照料人民的「務實的民主」，這就是新時代的意義。\n",
    "\n",
    "只要我們相信，新時代就會來臨。只要這個國家的主人，有堅定的信念，新時代一定會在我們這一代人的手上誕生。\n",
    "\n",
    "各位親愛的台灣人民，演講要結束了，改革要開始了。從這一刻起，這個國家的擔子交在新政府身上。我會讓大家看見這個國家的改變。\n",
    "\n",
    "歷史會記得我們這個勇敢的世代，這個國家的繁榮、尊嚴、團結、自信和公義，都有我們努力的痕跡。歷史會記得我們的勇敢，我們在2016年一起把國家帶向新的方向。這塊土地上的每一個人，都因為參與台灣的改變，而感到驕傲。\n",
    "\n",
    "剛才表演節目中的一首歌曲當中，有一句讓我很感動的歌詞：(台語)現在是彼一天，勇敢ㄟ台灣人。\n",
    "\n",
    "各位國人同胞，兩千三百萬的台灣人民，等待已經結束，現在就是那一天。今天，明天，未來的每一天，我們都要做一個守護民主、守護自由、守護這個國家的台灣人。\n",
    "\n",
    "謝謝大家。\n",
    "'''\n"
   ]
  },
  {
   "cell_type": "code",
   "execution_count": 80,
   "metadata": {
    "collapsed": false
   },
   "outputs": [
    {
     "name": "stdout",
     "output_type": "stream",
     "text": [
      "兩千\n",
      "三百\n",
      "萬\n",
      "的\n",
      "台灣\n",
      "人民\n"
     ]
    }
   ],
   "source": [
    "import jieba\n",
    "for w in jieba.cut('兩千三百萬的台灣人民'):\n",
    "    print w"
   ]
  },
  {
   "cell_type": "code",
   "execution_count": 81,
   "metadata": {
    "collapsed": false
   },
   "outputs": [],
   "source": [
    "import jieba\n",
    "dic = {}\n",
    "for w in jieba.cut(tsai_article): # 中文切詞\n",
    "    if w in dic:\n",
    "        dic[w] = dic[w] + 1\n",
    "    else:\n",
    "        dic[w] = 1\n",
    "#print dic"
   ]
  },
  {
   "cell_type": "code",
   "execution_count": 60,
   "metadata": {
    "collapsed": false
   },
   "outputs": [],
   "source": [
    "#for w in dic:\n",
    "#    print w, dic[w]"
   ]
  },
  {
   "cell_type": "code",
   "execution_count": 82,
   "metadata": {
    "collapsed": true
   },
   "outputs": [],
   "source": [
    "ma_article = '''\n",
    "各位友邦元首、各位貴賓、各位僑胞、各位鄉親父老、各位電視機前與網路上的朋友，大家早安，大家好！\n",
    "\n",
    "一、二次政黨輪替的歷史意義\n",
    "\n",
    "今年三月二十二日中華民國總統選舉，台灣人民投下了改變台灣未來的一票。今天，我們在這裡不是慶祝政黨或個人的勝利，而是一起見證，台灣的民主已經跨越了一個歷史性的里程碑。\n",
    "\n",
    "我們的民主走過了一段顛簸的道路，現在終於有機會邁向成熟的坦途。在過去這一段波折的歲月裡，人民對政府的信賴跌到谷底，政治操作扭曲了社會的核心價值，人民失去了經濟安全感，台灣的國際支持也受到空前的折損。值得慶幸的是，跟很多年輕的民主國家相比，我們民主成長的陣痛期並不算長，台灣人民卻能展現日趨成熟的民主風範，在關鍵時刻，作出明確的抉擇：人民選擇政治清廉、經濟開放、族群和諧、兩岸和平與迎向未來。\n",
    "\n",
    "尤其重要的是，台灣人民一同找回了善良、正直、勤奮、誠信、包容、進取這一些傳統的核心價值。這一段不平凡的民主成長經驗，讓我們獲得了「台灣是亞洲和世界民主的燈塔」的讚譽，值得所有台灣人引以為傲。顯然，中華民國已經成為一個受國際社會尊敬的民主國家。\n",
    "\n",
    "不過，我們不會以此自滿。我們要進一步追求民主品質的提升與民主內涵的充實，讓台灣大步邁向「優質的民主」：在憲政主義的原則下，人權獲得保障、法治得到貫徹、司法獨立而公正、公民社會得以蓬勃發展。台灣的民主將不會再有非法監聽、選擇性辦案、以及政治干預媒體或選務機關的現象。這是我們共同的願景，也是我們下一階段民主改革的目標。\n",
    "\n",
    "在開票當天，全球有數億的華人透過電視與網路的直播，密切關注選舉的結果。因為台灣是全球唯一在中華文化土壤中，順利完成二次政黨輪替的民主範例，是全球華人寄以厚望的政治實驗。如果這個政治實驗能夠成功，我們將為全球華人的民主發展作出史無前例的貢獻，這是我們無法推卸的歷史責任。\n",
    "\n",
    "二、新時代的任務\n",
    "\n",
    "未來新政府最緊迫的任務，就是帶領台灣勇敢地迎接全球化帶來的挑戰。當前全球經濟正處於巨變之中，新興國家迅速崛起，我們必須快速提升台灣的國際競爭力，挽回過去流失的機會。當前全球經濟環境的不穩定，將是我們振興經濟必須克服的困難。但是，我們深信，只要我們的戰略正確、決心堅定，我們一定能達成我們的預定目標。\n",
    "\n",
    "台灣是一個海島，開放則興盛、閉鎖則衰敗，這是歷史的鐵律。所以我們要堅持開放、大幅鬆綁、釋放民間的活力、發揮台灣的優勢；我們要引導企業立足台灣、聯結亞太、佈局全球；我們要協助勞工適應快速的科技變遷與產業調整；我們還要用心培育我們的下一代，讓他們具有健全人格、公民素養、國際視野與終身學習的能力，同時要排除各種意識形態對教育的不當干擾。我們在回應全球化挑戰的同時，一定要維護弱勢群體的基本保障與發展的機會，也一定要兼顧台灣與全球生態環境的永續經營。\n",
    "\n",
    "新政府另外一項重要任務就是導正政治風氣，恢復人民對政府的信賴。我們將共同努力創造一個尊重人性、崇尚理性、保障多元、和解共生的環境。我們將促進族群以及新舊移民間的和諧，倡導政黨良性競爭，並充分尊重媒體的監督與新聞自由。\n",
    "\n",
    "新政府將樹立廉能政治的新典範，嚴格要求官員的清廉與效能，並重建政商互動規範，防範金權政治的污染。我希望每一位行使公權力的公僕，都要牢牢記住「權力使人腐化，絕對的權力使人絕對的腐化」這一句著名的警語。我們將身體力行誠信政治，實踐國民黨「完全執政、完全負責」的政見。新政府所有的施政都要從全民福祉的高度出發，超越黨派利益，貫徹行政中立。我們要讓政府不再是拖累社會進步的絆腳石，而是領導台灣進步的發動機。\n",
    "\n",
    "我堅信，中華民國總統最神聖的職責就是守護憲法。在一個年輕的民主國家，遵憲與行憲比修憲更重要。身為總統，我的首要任務就是樹立憲法的權威與彰顯守憲的價值。我一定會以身作則，嚴守憲政分際，真正落實權責相符的憲政體制。我們一定要做到：政府全面依法行政，行政院依法對立法院負責，司法機關落實法治人權，考試院健全文官體制，監察院糾彈違法失職。現在是我們建立優良憲政傳統的最好機會，我們一定要牢牢把握。\n",
    "\n",
    "我們要讓台灣成為國際社會中受人敬重的成員。我們將以「尊嚴、自主、務實、靈活」作為處理對外關係與爭取國際空間的指導原則。中華民國將善盡她國際公民的責任，在維護自由經濟秩序、禁止核子擴散、防制全球暖化、遏阻恐怖活動、以及加強人道援助等全球議題上，承擔我們應負的責任。我們要積極參與亞太區域合作，進一步加強與主要貿易夥伴的經貿關係，全面融入東亞經濟整合，並對東亞的和平與繁榮作出積極貢獻。\n",
    "\n",
    "我們要強化與美國這一位安全盟友及貿易夥伴的合作關係；我們也要珍惜邦交國的情誼，信守相互的承諾；我們更要與所有理念相通的國家和衷共濟，擴大合作。我們有防衛台灣安全的決心，將編列合理的國防預算，並採購必要的防衛性武器，以打造一支堅實的國防勁旅。追求兩岸和平與維持區域穩定，是我們不變的目標。台灣未來一定要成為和平的締造者，讓國際社會刮目相看。\n",
    "\n",
    "英九由衷的盼望，海峽兩岸能抓住當前難得的歷史機遇，從今天開始，共同開啟和平共榮的歷史新頁。我們將以最符合台灣主流民意的「不統、不獨、不武」的理念，在中華民國憲法架構下，維持台灣海峽的現狀。一九九二年，兩岸曾經達成「一中各表」的共識，隨後並完成多次協商，促成兩岸關係順利的發展。英九在此重申，我們今後將繼續在「九二共識」的基礎上，儘早恢復協商，並秉持四月十二日在博鰲論壇中提出的「正視現實，開創未來；擱置爭議，追求雙贏」，尋求共同利益的平衡點。兩岸走向雙贏的起點，是經貿往來與文化交流的全面正常化，我們已經做好協商的準備。希望七月即將開始的週末包機直航與大陸觀光客來台，能讓兩岸關係跨入一個嶄新的時代。\n",
    "\n",
    "未來我們也將與大陸就台灣國際空間與兩岸和平協議進行協商。台灣要安全、要繁榮、更要尊嚴！唯有台灣在國際上不被孤立，兩岸關係才能夠向前發展。我們注意到胡錦濤先生最近三次有關兩岸關係的談話，分別是三月二十六日與美國布希總統談到「九二共識」、四月十二日在博鰲論壇提出「四個繼續」、以及四月二十九日主張兩岸要「建立互信、擱置爭議、求同存異、共創雙贏」，這些觀點都與我方的理念相當的一致。因此，英九願意在此誠懇的呼籲：兩岸不論在台灣海峽或國際社會，都應該和解休兵，並在國際組織及活動中相互協助、彼此尊重。兩岸人民同屬中華民族，本應各盡所能，齊頭並進，共同貢獻國際社會，而非惡性競爭、虛耗資源。我深信，以世界之大、中華民族智慧之高，台灣與大陸一定可以找到和平共榮之道。\n",
    "\n",
    "英九堅信，兩岸問題最終解決的關鍵不在主權爭議，而在生活方式與核心價值。我們真誠關心大陸十三億同胞的福祉，由衷盼望中國大陸能繼續走向自由、民主與均富的大道，為兩岸關係的長遠和平發展，創造雙贏的歷史條件。\n",
    "\n",
    "最近四川發生大地震，災情十分的慘重，台灣人民不分黨派，都表達由衷的關切，並願意提供即時的援助，希望救災工作順利，災民安置與災區重建早日完成。\n",
    "\n",
    "三、台灣的傳承與願景\n",
    "\n",
    "從宣誓就職的這一刻開始，英九深知個人已經肩負二千三百萬人民的付託，這是我一生最光榮的職務，也是我一生最重大的責任。英九雖然不是在台灣出生，但台灣是我成長的故鄉，是我親人埋骨的所在。我尤其感念台灣社會對我這樣一個戰後新移民的包容之義、栽培之恩與擁抱之情。我義無反顧，別無懸念，只有勇往直前，全力以赴！\n",
    "\n",
    "四百多年來，台灣這塊土地一直慷慨的接納著先來後到的移民，滋養、庇護著我們，提供我們及後代子孫安身立命的空間，並以高峻的山峰、壯闊的大海，充實、淬礪著我們的心靈。我們繼承的種種歷史文化，不但在這片土地上得到延續，更得到擴充與創新，進而開創出豐盛多元的人文風景。\n",
    "\n",
    "中華民國也在台灣得到了新生。在我任內，我們將慶祝中華民國開國一百週年。這一個亞洲最早誕生的民主共和國，在大陸的時間只有三十八年，在台灣的歲月卻將超過一甲子。在這將近六十年間，中華民國與台灣的命運已經緊緊的結合在一起，共同經歷了艱難險阻與悲歡歲月，更在追求民主的曲折道路上，有了長足的進步。國父孫中山先生的民主憲政理想，當年在中國大陸沒有能夠實現，但今天在台灣終於生根、開花、結果。\n",
    "\n",
    "面對台灣的未來，英九充滿了信心。多年來我走遍台灣各個角落，在與各行各業的互動當中，讓我感受最深刻的就是：地無分南北，人無分老幼，善良、正直、勤奮、誠信、包容、進取這一些傳統的核心價值，不但洋溢在台灣人的生活言行，也早已深植在台灣人的本性裡。這是台灣一切進步力量的泉源，也是「台灣精神」的真諦。\n",
    "\n",
    "盱衡時局，環顧東亞，台灣擁有絕佳的地理位置、珍貴的文化資產、深厚的人文素養、日漸成熟的民主、活力創新的企業、多元和諧的社會、活躍海內外的民間組織、遍佈全球的愛鄉僑民，以及來自世界各地的新移民。只要我們秉持「台灣精神」，善用我們的優勢，並堅持「以台灣為主，對人民有利」的施政原則，我們一定可以將台澎金馬建設為舉世稱羨的樂土、我們引以為傲的美麗家園。\n",
    "\n",
    "台灣的振興不只要靠政府的努力，更要靠人民的力量；需要借重民間的智慧、需要朝野協商合作、需要所有社會成員積極的投入。各位親愛的父老兄弟姊妹們，我們要從此刻開始，捲起袖子，立即行動，打造美麗家園，為子孫奠定百年盛世的基礎。讓我們心連心、手牽手，大家一起來奮鬥！\n",
    "\n",
    "最在，請大家跟我一起高呼：\n",
    "\n",
    "台灣民主萬歲！\n",
    "\n",
    "中華民國萬歲！\n",
    "\n",
    "'''"
   ]
  },
  {
   "cell_type": "code",
   "execution_count": 83,
   "metadata": {
    "collapsed": false
   },
   "outputs": [],
   "source": [
    "import jieba\n",
    "dic2 = {}\n",
    "for w in jieba.cut(ma_article): # 中文切詞\n",
    "    if w in dic2:\n",
    "        dic2[w] = dic2[w] + 1\n",
    "    else:\n",
    "        dic2[w] = 1\n",
    "#print dic"
   ]
  },
  {
   "cell_type": "code",
   "execution_count": 86,
   "metadata": {
    "collapsed": false
   },
   "outputs": [
    {
     "name": "stdout",
     "output_type": "stream",
     "text": [
      "1145\n",
      "949\n",
      "17956\n",
      "11276\n"
     ]
    }
   ],
   "source": [
    "print len(dic)\n",
    "print len(dic2)\n",
    "print len(tsai_article)\n",
    "print len(ma_article)"
   ]
  },
  {
   "cell_type": "code",
   "execution_count": 84,
   "metadata": {
    "collapsed": false
   },
   "outputs": [
    {
     "name": "stdout",
     "output_type": "stream",
     "text": [
      "1145\n",
      "949\n",
      "平原 1\n",
      "各國 3\n",
      "旅程 1\n",
      "國家偉大 1\n",
      "謝謝 2\n",
      "海洋 1\n",
      "第二 2\n",
      "出面 1\n",
      "凝聚 1\n",
      "古調 1\n",
      "第三件 1\n",
      "歌曲 1\n",
      "清責任 1\n",
      "夥伴 1\n",
      "一刻起 1\n",
      "減碳 1\n",
      "一樣 2\n",
      "92 1\n",
      "扛起 2\n",
      "第四件 1\n",
      "妥善 2\n",
      "協商來 1\n",
      "表演 1\n",
      "改革方案 1\n",
      "迫切需要 1\n",
      "現行 1\n",
      "難關 2\n",
      "事務 2\n",
      "分享 1\n",
      "從此 1\n",
      "召集人 1\n",
      "東協 1\n",
      "許多 1\n",
      "現場 2\n",
      "困境 1\n",
      "就會 1\n",
      "有人 1\n",
      "艱鉅 1\n",
      "代工 1\n",
      "任總統 1\n",
      "顧系統 1\n",
      "輕人處 1\n",
      "驕傲 1\n",
      "第四 2\n",
      "薪資 1\n",
      "單一市場 1\n",
      "參與區域 2\n",
      "工程 1\n",
      "破產 1\n",
      "進行後續 1\n",
      "錯誤 1\n",
      "第五 1\n",
      "人心 1\n",
      "創業 1\n",
      "積極溝 1\n",
      "這個歷 1\n",
      "動彈 1\n",
      "老人 1\n",
      "國土 3\n",
      "疾病 1\n",
      "對亞洲 1\n",
      "使節 1\n",
      "下一個 1\n",
      "態度 3\n",
      "第一 3\n",
      "深化 2\n",
      "諒解 2\n",
      "設立 1\n",
      "溝通 5\n",
      "通者 1\n",
      "享受 1\n",
      "請給 2\n",
      "全力 1\n",
      "而偉大 1\n",
      "從現 1\n",
      "永不 1\n",
      "我願 1\n",
      "實際 1\n",
      "三年 1\n",
      "期許 1\n",
      "之間 2\n",
      "跨國 1\n",
      "氣候 2\n",
      "官方 1\n",
      "老年 1\n",
      "制定 1\n",
      "給我們 1\n",
      "再多個 1\n",
      "歐洲 1\n",
      "做出 2\n",
      "平等 1\n",
      "世代 2\n",
      "不改 1\n",
      "更會 1\n",
      "交到 1\n",
      "這象 1\n",
      "看待 1\n",
      "溫室 1\n",
      "兩會會 1\n",
      "亞太區域 1\n",
      "以往 1\n",
      "全體 3\n",
      "COP21 1\n",
      "印度 1\n",
      "成立 1\n",
      "政者 1\n",
      "控制 1\n",
      "進化 1\n",
      "裡面 1\n",
      "事實 1\n",
      "正面 1\n",
      "育語 1\n",
      "相信 2\n",
      "悲劇 1\n",
      "同理 2\n",
      "一次 1\n",
      "及區域 2\n",
      "對立 8\n",
      "輕重 1\n",
      "並參 1\n",
      "交換 1\n",
      "十月 1\n",
      "覺得 1\n",
      "擴大經濟 1\n",
      "激發 1\n",
      "甚至 1\n",
      "需求 1\n",
      "研發 1\n",
      "展現 2\n",
      "經貿 3\n",
      "交接 1\n",
      "國是 2\n",
      "依據 2\n",
      "徵了 1\n",
      "減量 1\n",
      "1992 2\n",
      "正式 1\n",
      "相同 1\n",
      "以下 1\n",
      "1996 1\n",
      "模範生 1\n",
      "政治工作者 1\n",
      "結語 1\n",
      "渡過 1\n",
      "我要 7\n",
      "計畫 1\n",
      "充滿 1\n",
      "均衡 1\n",
      "卻始 1\n",
      "集結 1\n",
      "明天 1\n",
      "因素 1\n",
      "普遍 2\n",
      "互為 1\n",
      "無足 1\n",
      "對話 2\n",
      "重新 1\n",
      "深切 1\n",
      "以來 2\n",
      "安心 1\n",
      "公義 1\n",
      "階段 1\n",
      "開發 2\n",
      "價值觀 2\n",
      "接下 1\n",
      "建構 2\n",
      "拋下 1\n",
      "就任 1\n",
      "心理健康 1\n",
      "可能 2\n",
      "第一次 1\n",
      "絕不 1\n",
      "優先 1\n",
      "托育 1\n",
      "家務事 1\n",
      "兩千 1\n",
      "正義 4\n",
      "被邊 1\n",
      "勞動 1\n",
      "國人 3\n",
      "每一個 4\n",
      "始終 1\n",
      "意見 2\n",
      "動力 1\n",
      "互補 1\n",
      "不同 3\n",
      "第一步 1\n",
      "造福 1\n",
      "零碎 1\n",
      "形塑 1\n",
      "格局 1\n",
      "連結 2\n",
      "緣化 1\n",
      "普及 1\n",
      "願意 1\n",
      "首先 1\n",
      "自然 1\n",
      "也將 2\n",
      "維護者 1\n",
      "團結 7\n",
      "節團 1\n",
      "過長 1\n",
      "包括 3\n",
      "完善 1\n",
      "20 4\n",
      "會積 1\n",
      "事情 6\n",
      "路並 1\n",
      "義無反顧 1\n",
      "模式 8\n",
      "推動 8\n",
      "急速 1\n",
      "放下 1\n",
      "執政黨 1\n",
      "確定 1\n",
      "結構 6\n",
      "會議 2\n",
      "正義最 1\n",
      "加薪 1\n",
      "中小 1\n",
      "原住 3\n",
      "一道 1\n",
      "會用 2\n",
      "低落 1\n",
      "第十四 1\n",
      "走上 1\n",
      "需作 1\n",
      "平移 1\n",
      "支持者 1\n",
      "救援 1\n",
      "告訴 4\n",
      "很困 1\n",
      "自主性 1\n",
      "貿易 1\n",
      "過於依賴 1\n",
      "發揮區域 1\n",
      "不得 1\n",
      "短視 1\n",
      "告別 1\n",
      "能量 1\n",
      "地揮 1\n",
      "氣體 1\n",
      "破洞 2\n",
      "駐台 1\n",
      "執行 1\n",
      "總動員 1\n",
      "角色 1\n",
      "聯合 1\n",
      "成為 2\n",
      "主義的 1\n",
      "信念 2\n",
      "兩岸過 1\n",
      "RCEP 1\n",
      "許多來 1\n",
      "第三次 1\n",
      "還是 1\n",
      "輸贏 1\n",
      "人生 1\n",
      "先唱 1\n",
      "各方 1\n",
      "投資 1\n",
      "食品安全 1\n",
      "這段 1\n",
      "幾件關 1\n",
      "把關 1\n",
      "籌備 1\n",
      "雙邊 1\n",
      "第五件 1\n",
      "原民史觀 1\n",
      "過程 5\n",
      "有系 1\n",
      "完整 2\n",
      "順利渡 1\n",
      "實質 1\n",
      "及人權 1\n",
      "補起 1\n",
      "功能 1\n",
      "包袱 1\n",
      "曾經 1\n",
      "已經面 1\n",
      "社會震 1\n",
      "維護永續 1\n",
      "財政並 1\n",
      "經有 1\n",
      "對外 2\n",
      "茫然 1\n",
      "治安 2\n",
      "什麼 1\n",
      "幾任 1\n",
      "會前 1\n",
      "談的歷 1\n",
      "逐漸 2\n",
      "老化 1\n",
      "觀念 1\n",
      "幾件 1\n",
      "照顧 2\n",
      "轉型 5\n",
      "只是 3\n",
      "近利 1\n",
      "不足以 1\n",
      "那個 1\n",
      "演講 1\n",
      "之下 1\n",
      "將領導 1\n",
      "不敢 1\n",
      "不樂觀 1\n",
      "拋下過 1\n",
      "公平 4\n",
      "相關 5\n",
      "走向世界 1\n",
      "這一點 1\n",
      "達四個 1\n",
      "道歉 1\n",
      "唱國歌 1\n",
      "邀請 2\n",
      "以永續 1\n",
      "廢棄物 1\n",
      "代交 1\n",
      "新時 1\n",
      "一套 1\n",
      "整理 1\n",
      "各層面 1\n",
      "第三 2\n",
      "老年人 1\n",
      "透明 1\n",
      "平價 1\n",
      "要承擔 3\n",
      "亞太地區 1\n",
      "兒少 1\n",
      "坦誠交換 1\n",
      "檢討 1\n",
      "認識 1\n",
      "國民 3\n",
      "突破 2\n",
      "防止 2\n",
      "社區 2\n",
      "職典禮 1\n",
      "將和相關 1\n",
      "規畫 2\n",
      "擔任 1\n",
      "變得 2\n",
      "轉換 1\n",
      "一再 1\n",
      "塑造 1\n",
      "忘記 3\n",
      "一首 1\n",
      "超高 1\n",
      "熟悉 1\n",
      "有過 1\n",
      "信任 3\n",
      "記取 1\n",
      "不幸 1\n",
      "越來 3\n",
      "遲疑 1\n",
      "民主化 1\n",
      "隨機 1\n",
      "政策 3\n",
      "對過 1\n",
      "市場 2\n",
      "幾個 1\n",
      "形成 2\n",
      "成見 1\n",
      "2016 1\n",
      "低薪 1\n",
      "生存 1\n",
      "脈動 1\n",
      "一代人 1\n",
      "照體系 2\n",
      "痕跡 1\n",
      "友好 2\n",
      "貧富 1\n",
      "感動 2\n",
      "倒退 2\n",
      "情勢 2\n",
      "菁英 1\n",
      "規則 1\n",
      "政權 1\n",
      "期照 2\n",
      "同盟 1\n",
      "原因 1\n",
      "醫療 1\n",
      "總統府 2\n",
      "網還 1\n",
      "高素質 1\n",
      "仍然 1\n",
      "事件 2\n",
      "委員會 2\n",
      "國家的關 1\n",
      "起來 2\n",
      "時期 1\n",
      "地方 1\n",
      "不應 1\n",
      "矛盾 1\n",
      "剛好 1\n",
      "成員廣泛 1\n",
      "南海 1\n",
      "引擎 1\n",
      "之外 1\n",
      "其他 3\n",
      "實與 1\n",
      "則是 1\n",
      "方法 2\n",
      "處境 5\n",
      "妄自菲薄 1\n",
      "之內 3\n",
      "多邊 1\n",
      "特別 2\n",
      "意承諾 1\n",
      "人口 2\n",
      "常態 1\n",
      "將會 5\n",
      "權益 1\n",
      "挖掘 1\n",
      "做法 2\n",
      "健康 1\n",
      "查報 1\n",
      "時候 1\n",
      "走進 1\n",
      "不要 3\n",
      "生產力 1\n",
      "真相 4\n",
      "增進 1\n",
      "除此之外 1\n",
      "規劃 4\n",
      "上路 1\n",
      "中許 1\n",
      "攸關 1\n",
      "換骨 1\n",
      "部落 1\n",
      "決問題 1\n",
      "更應 1\n",
      "出口 1\n",
      "出現 1\n",
      "彌平 1\n",
      "不好 1\n",
      "選項 1\n",
      "經有過 1\n",
      "焦慮 1\n",
      "民主自由 1\n",
      "除了 1\n",
      "實力 1\n",
      "結束 2\n",
      "防治 2\n",
      "社會力 1\n",
      "歌詞 1\n",
      "聯手 1\n",
      "將從 1\n",
      "誤判 1\n",
      "循環 1\n",
      "其中 1\n",
      "規模 1\n",
      "按部就班 1\n",
      "則是關 1\n",
      "一點 1\n",
      "自信 1\n",
      "並且 4\n",
      "處理過 1\n",
      "尚未 1\n",
      "推向 1\n",
      "第二件 1\n",
      "或是 1\n",
      "依照 1\n",
      "可能性 1\n",
      "公務員 1\n",
      "方向 1\n",
      "眼前 1\n",
      "主導 1\n",
      "改革 15\n",
      "缺席 2\n",
      "故事 1\n",
      "一月 1\n",
      "脫胎 1\n",
      "宣示 1\n",
      "不能 3\n",
      "期待 3\n",
      "條例 1\n",
      "以前 2\n",
      "進程 2\n",
      "能源 3\n",
      "謹慎 1\n",
      "元素 1\n",
      "有責任 1\n",
      "全國 1\n",
      "統性 1\n",
      "人力 1\n",
      "多國家 1\n",
      "日本 1\n",
      "伴關 1\n",
      "研究 1\n",
      "身上 2\n",
      "缺乏 2\n",
      "台語 1\n",
      "召開 2\n",
      "危機 1\n",
      "看到 1\n",
      "自由人 1\n",
      "領土 1\n",
      "南向 2\n",
      "過許 1\n",
      "籌碼 1\n",
      "幸福 1\n",
      "變好 1\n",
      "經激 1\n",
      "包含 1\n",
      "這一邊 1\n",
      "無奈 1\n",
      "島上 1\n",
      "解讀 1\n",
      "可靠 1\n",
      "治理 1\n",
      "更加 1\n",
      "這一條 2\n",
      "很多 2\n",
      "代表 2\n",
      "制度 4\n",
      "有限 1\n",
      "整體 1\n",
      "發出 1\n",
      "地球 3\n",
      "進來 1\n",
      "可行 1\n",
      "絕不退 1\n",
      "立刻 2\n",
      "調查 2\n",
      "三十年 1\n",
      "致力 1\n",
      "辦法 1\n",
      "一群 1\n",
      "走出 1\n",
      "及其 1\n",
      "節目 1\n",
      "親近 1\n",
      "成果 2\n",
      "互助 1\n",
      "根據 1\n",
      "面向 1\n",
      "內部 1\n",
      "生產 1\n",
      "多元性 1\n",
      "歷史會 2\n",
      "交在 1\n",
      "職業 1\n",
      "家屬 2\n",
      "防線 1\n",
      "專責 1\n",
      "屈服 1\n",
      "課題 1\n",
      "所講 1\n",
      "保守 1\n",
      "史事 3\n",
      "人才 1\n",
      "策略 1\n",
      "應擱 1\n",
      "達成 2\n",
      "了解 1\n",
      "反毒 1\n",
      "兩會 1\n",
      "有效率 1\n",
      "這是歷 1\n",
      "脫節 1\n",
      "集體 4\n",
      "TPP 1\n",
      "變成 1\n",
      "巴黎 1\n",
      "利用 2\n",
      "出生率 1\n",
      "催生 1\n",
      "攜手 1\n",
      "順序 1\n",
      "遙無期 1\n",
      "誠懇 1\n",
      "既有 2\n",
      "擔子 1\n",
      "預計 1\n",
      "就業 1\n",
      "同步 1\n",
      "所必須 1\n",
      "根本 1\n",
      "輕人 8\n",
      "主人 1\n",
      "用行動 1\n",
      "階層 1\n",
      "分裂 1\n",
      "最關心 1\n",
      "會持續 1\n",
      "強調 1\n",
      "協力 1\n",
      "機制 5\n",
      "不安 1\n",
      "來面 3\n",
      "持續 3\n",
      "反恐 1\n",
      "動員 1\n",
      "兩個 2\n",
      "再生 1\n",
      "現階段 2\n",
      "累積 1\n",
      "加入 1\n",
      "僵化 1\n",
      "參與 4\n",
      "若干 1\n",
      "有效 3\n",
      "汙染 2\n",
      "不可或缺 2\n",
      "談判 1\n",
      "清楚 1\n",
      "當選 1\n",
      "緊密 3\n",
      "最劇烈 1\n",
      "更好 3\n",
      "告書 1\n",
      "正義的 2\n",
      "十六日 1\n",
      "建仁 2\n",
      "感到 1\n",
      "一環 1\n",
      "法律 2\n",
      "停滯 1\n",
      "壓力 1\n",
      "轉機 1\n",
      "敏捷 1\n",
      "變動 2\n",
      "永遠 1\n",
      "自己 4\n",
      "嚴重 2\n",
      "往前走 1\n",
      "台灣會 1\n",
      "犯罪 2\n",
      "公室 1\n",
      "受害者 2\n",
      "保育 1\n",
      "看見 1\n",
      "領導人 1\n",
      "照料 1\n",
      "跨部會 1\n",
      "誠實面 1\n",
      "無論 2\n",
      "乃至 1\n",
      "關聯 1\n",
      "同樣 1\n",
      "剛剛 1\n",
      "家庭 2\n",
      "困擾 1\n",
      "退休 1\n",
      "生活照 1\n",
      "新興 2\n",
      "報告 1\n",
      "等待 1\n",
      "終遙 1\n",
      "剛才 1\n",
      "所有人 1\n",
      "最誠懇 1\n",
      "災害 1\n",
      "友善 1\n",
      "手上 2\n",
      "幫助 2\n",
      "任期 1\n",
      "記得 2\n",
      "展開 2\n",
      "無止 1\n",
      "近年 1\n",
      "臨瓶 1\n",
      "喪失 1\n",
      "定期 1\n",
      "全球性 3\n",
      "逐步 2\n",
      "國家極 1\n",
      "對岸 1\n",
      "外交 2\n",
      "拋棄 1\n",
      "承受 1\n",
      "中央 1\n",
      "此時 1\n",
      "之前 1\n",
      "現有 1\n",
      "躁進 1\n",
      "為雙 1\n",
      "演說 1\n",
      "一年 1\n",
      "認知 2\n",
      "感謝 4\n",
      "體系 2\n",
      "減輕 1\n",
      "自治 1\n",
      "方面 1\n",
      "全方位 1\n",
      "鼓勵 1\n",
      "奮鬥 2\n",
      "小朋友 1\n",
      "差距 1\n",
      "為區域 1\n",
      "立場 1\n",
      "五大 1\n",
      "嚴肅 2\n",
      "對決 1\n",
      "一天 3\n",
      "緊鑼密 1\n",
      "直選 1\n",
      "外貿易 1\n",
      "不前 1\n",
      "交流 3\n",
      "傷痕 1\n",
      "必定 1\n",
      "整個 4\n",
      "隨時 1\n",
      "共享 2\n",
      "一條 1\n",
      "傷痛 1\n",
      "揭示 1\n",
      "動能 2\n",
      "使命 2\n",
      "將謹守 1\n",
      "發動 1\n",
      "齡社會 1\n",
      "思維 1\n",
      "表裡 1\n",
      "分配 1\n",
      "極參 1\n",
      "打擊 2\n",
      "東海及 1\n",
      "規定 1\n",
      "普世價值 1\n",
      "雙方 1\n",
      "我會 3\n",
      "如同 1\n",
      "下定 1\n",
      "結合 1\n",
      "正義調 1\n",
      "捍衛 2\n",
      "眼光 1\n"
     ]
    }
   ],
   "source": [
    "set_tsai =  set(dic.keys())\n",
    "set_ma  = set(dic2.keys())\n",
    "for w in set_tsai.difference(set_ma):\n",
    "    if len(w) >= 2:\n",
    "        #print w\n",
    "        print w, dic[w] "
   ]
  },
  {
   "cell_type": "code",
   "execution_count": 77,
   "metadata": {
    "collapsed": false
   },
   "outputs": [
    {
     "name": "stdout",
     "output_type": "stream",
     "text": [
      "16\n",
      "1\n",
      "True\n",
      "False\n"
     ]
    }
   ],
   "source": [
    "print article1.count('改革')\n",
    "print article2.count('改革')\n",
    "print u'改革' in dic\n",
    "print u'改革' in dic2"
   ]
  },
  {
   "cell_type": "code",
   "execution_count": 78,
   "metadata": {
    "collapsed": false
   },
   "outputs": [
    {
     "name": "stdout",
     "output_type": "stream",
     "text": [
      "1\n",
      "0\n",
      "True\n",
      "False\n"
     ]
    }
   ],
   "source": [
    "print article1.count('普世價值')\n",
    "print article2.count('普世價值')\n",
    "print u'普世價值' in dic\n",
    "print u'普世價值' in dic2"
   ]
  }
 ],
 "metadata": {
  "kernelspec": {
   "display_name": "Python 2",
   "language": "python",
   "name": "python2"
  },
  "language_info": {
   "codemirror_mode": {
    "name": "ipython",
    "version": 2
   },
   "file_extension": ".py",
   "mimetype": "text/x-python",
   "name": "python",
   "nbconvert_exporter": "python",
   "pygments_lexer": "ipython2",
   "version": "2.7.11"
  }
 },
 "nbformat": 4,
 "nbformat_minor": 0
}
