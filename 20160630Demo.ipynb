{
 "cells": [
  {
   "cell_type": "code",
   "execution_count": 1,
   "metadata": {
    "collapsed": false
   },
   "outputs": [
    {
     "name": "stdout",
     "output_type": "stream",
     "text": [
      "['this', 'is', 'an', 'apple']\n"
     ]
    }
   ],
   "source": [
    "sentence = 'this is an apple'\n",
    "print sentence.split()"
   ]
  },
  {
   "cell_type": "code",
   "execution_count": 2,
   "metadata": {
    "collapsed": false
   },
   "outputs": [
    {
     "name": "stdout",
     "output_type": "stream",
     "text": [
      "['\\xe4\\xbb\\x8a\\xe5\\xa4\\xa9\\xe5\\xa4\\xa9\\xe6\\xb0\\xa3\\xe7\\x9c\\x9f\\xe5\\xa5\\xbd']\n"
     ]
    }
   ],
   "source": [
    "a = '今天天氣真好'\n",
    "print a.split()\n"
   ]
  },
  {
   "cell_type": "code",
   "execution_count": 3,
   "metadata": {
    "collapsed": false
   },
   "outputs": [
    {
     "name": "stderr",
     "output_type": "stream",
     "text": [
      "Building prefix dict from the default dictionary ...\n",
      "Loading model from cache c:\\temp\\jieba.cache\n",
      "Loading model cost 0.662 seconds.\n",
      "Prefix dict has been built succesfully.\n"
     ]
    },
    {
     "name": "stdout",
     "output_type": "stream",
     "text": [
      "今天\n",
      "天氣\n",
      "真好\n"
     ]
    }
   ],
   "source": [
    "import jieba\n",
    "for eie in  jieba.cut(a):\n",
    "    print eie"
   ]
  },
  {
   "cell_type": "code",
   "execution_count": 9,
   "metadata": {
    "collapsed": false
   },
   "outputs": [
    {
     "name": "stdout",
     "output_type": "stream",
     "text": [
      "小, 明, 硕士, 毕业, 于, 中国, 中国科学院, 科学, 科学院, 学院, 计算, 计算所, , , 后, 在, 日本, 日本京都大学, 京都, 京都大学, 大学, 深造\n"
     ]
    }
   ],
   "source": [
    "seg_list = jieba.cut(\"小明硕士毕业于中国科学院计算所，后在日本京都大学深造\", cut_all=True)  # 搜索引擎模式\n",
    "print(\", \".join(seg_list))"
   ]
  },
  {
   "cell_type": "code",
   "execution_count": 10,
   "metadata": {
    "collapsed": false
   },
   "outputs": [
    {
     "name": "stdout",
     "output_type": "stream",
     "text": [
      "小明, 硕士, 毕业, 于, 中国科学院, 计算所, ，, 后, 在, 日本京都大学, 深造\n"
     ]
    }
   ],
   "source": [
    "seg_list = jieba.cut(\"小明硕士毕业于中国科学院计算所，后在日本京都大学深造\")  # 搜索引擎模式\n",
    "print(\", \".join(seg_list))"
   ]
  },
  {
   "cell_type": "code",
   "execution_count": 12,
   "metadata": {
    "collapsed": false
   },
   "outputs": [
    {
     "name": "stdout",
     "output_type": "stream",
     "text": [
      "蔡\n",
      "英文\n",
      "今天\n",
      "出訪\n",
      "美國\n"
     ]
    }
   ],
   "source": [
    "a = '蔡英文今天出訪美國'\n",
    "for eie in  jieba.cut(a):\n",
    "    print eie"
   ]
  },
  {
   "cell_type": "code",
   "execution_count": 5,
   "metadata": {
    "collapsed": false
   },
   "outputs": [
    {
     "name": "stdout",
     "output_type": "stream",
     "text": [
      "那我\n",
      "我們\n",
      "們酸\n",
      "酸民\n",
      "民婉\n",
      "婉君\n",
      "君也\n",
      "也可\n",
      "可以\n",
      "以報\n",
      "報名\n",
      "名嗎\n"
     ]
    }
   ],
   "source": [
    "input_sentence='那我們酸民婉君也可以報名嗎'\n",
    "sentence=input_sentence.decode('utf-8')\n",
    "\n",
    "for i in range(0,len(sentence)-2+1):\n",
    "    print sentence[i:i+2]"
   ]
  },
  {
   "cell_type": "code",
   "execution_count": 6,
   "metadata": {
    "collapsed": true
   },
   "outputs": [],
   "source": [
    "import sqlite3 as lite\n",
    "import pandas as pd\n",
    "with lite.connect('news.sqlite') as db:\n",
    "    df = pd.read_sql('select * from news_entry', con=db)"
   ]
  },
  {
   "cell_type": "code",
   "execution_count": 8,
   "metadata": {
    "collapsed": false
   },
   "outputs": [
    {
     "data": {
      "text/plain": [
       "id          1500\n",
       "category    1500\n",
       "view_cnt    1500\n",
       "time        1500\n",
       "title       1500\n",
       "summary     1500\n",
       "link        1500\n",
       "dtype: int64"
      ]
     },
     "execution_count": 8,
     "metadata": {},
     "output_type": "execute_result"
    }
   ],
   "source": [
    "df.count()"
   ]
  },
  {
   "cell_type": "code",
   "execution_count": 9,
   "metadata": {
    "collapsed": true
   },
   "outputs": [],
   "source": [
    "from collections import Counter \n",
    "c = Counter()\n",
    "for sentence in df['summary']:\n",
    "    for i in range(0,len(sentence)-2+1):\n",
    "        c[sentence[i:i+2]] +=1"
   ]
  },
  {
   "cell_type": "code",
   "execution_count": 11,
   "metadata": {
    "collapsed": false
   },
   "outputs": [
    {
     "name": "stdout",
     "output_type": "stream",
     "text": [
      "。 3463\n",
      "報導 1608\n",
      "，但 1262\n",
      "20 1198\n",
      "00 1077\n",
      "表示 1051\n",
      "導） 1043\n",
      "，也 890\n",
      "台灣 885\n",
      "e  881\n"
     ]
    }
   ],
   "source": [
    "for k, v  in c.most_common(10):\n",
    "    print k, v"
   ]
  },
  {
   "cell_type": "code",
   "execution_count": 12,
   "metadata": {
    "collapsed": false
   },
   "outputs": [
    {
     "name": "stdout",
     "output_type": "stream",
     "text": [
      "從句子的一端開始\n",
      "取最長的詞串逐一比對辭典內的詞\n",
      "若找到就把它當作斷詞的結果\n",
      "再把句子中比對到的詞去除\n",
      "剩下的部份再重複剛剛的動作\n",
      "直到整句都斷詞完畢\n"
     ]
    }
   ],
   "source": [
    "import re\n",
    "delimiter=\"，|。|、\"\n",
    "\n",
    "text='從句子的一端開始，取最長的詞串逐一比對辭典內的詞，\\\n",
    "若找到就把它當作斷詞的結果，再把句子中比對到的詞去除，\\\n",
    "剩下的部份再重複剛剛的動作，直到整句都斷詞完畢'\n",
    "\n",
    "for i in re.split(delimiter,text):\n",
    "    print i"
   ]
  },
  {
   "cell_type": "code",
   "execution_count": 30,
   "metadata": {
    "collapsed": false
   },
   "outputs": [],
   "source": [
    "from collections import Counter \n",
    "import re\n",
    "delimiter=\"，|。|、|，|）|……|【|：|「|／\".decode('utf-8')\n",
    "c = Counter()\n",
    "for news in df['summary']:\n",
    "    for sentence in re.split(delimiter,news):\n",
    "        for i in range(0,len(sentence)-2+1):\n",
    "            c[sentence[i:i+2]] +=1"
   ]
  },
  {
   "cell_type": "code",
   "execution_count": 31,
   "metadata": {
    "collapsed": false
   },
   "outputs": [
    {
     "name": "stdout",
     "output_type": "stream",
     "text": [
      "報導 1608\n",
      "20 1198\n",
      "00 1077\n",
      "表示 1051\n",
      "台灣 885\n",
      "e  881\n",
      "10 863\n",
      "  792\n",
      "新聞 777\n",
      "in 749\n",
      "台北 723\n",
      "看了 683\n",
      "er 660\n",
      "中國 636\n",
      "on 635\n",
      "翻攝 608\n",
      "綜合 595\n",
      "美國 588\n",
      "沒有 585\n",
      "he 583\n",
      "01 580\n",
      "蘋果 573\n",
      "an 551\n",
      "的人 550\n",
      "更多 547\n",
      " \n",
      "544\n",
      "提供 544\n",
      "s  520\n",
      "公司 511\n",
      "n  506\n",
      "   493\n",
      " t 488\n",
      "自己 487\n",
      "時間 481\n",
      "  477\n",
      "更新 476\n",
      "北報 473\n",
      "中心 471\n",
      "th 462\n",
      "可能 448\n",
      "北市 439\n",
      "政府 438\n",
      "可以 436\n",
      "en 435\n",
      "今天 431\n",
      ".. 428\n",
      "警方 428\n",
      "ar 427\n",
      "因為 421\n",
      "d  421\n",
      "發現 415\n",
      "目前 410\n",
      "re 403\n",
      "t  403\n",
      " a 398\n",
      "指出 397\n",
      "總統 388\n",
      "一個 387\n",
      "網友 384\n",
      "民眾 378\n",
      "合報 377\n",
      "認為 376\n",
      "30 374\n",
      "影片 372\n",
      "今年 370\n",
      "知道 369\n",
      "了這 366\n",
      "te 365\n",
      "le 364\n",
      "我們 360\n",
      "12 360\n",
      "去年 358\n",
      "at 357\n",
      "內容 352\n",
      "粉絲 348\n",
      "or 339\n",
      "」 335\n",
      "問題 333\n",
      "ed 331\n",
      "50 331\n",
      "也看 329\n",
      "一定 328\n",
      "就是 328\n",
      "聞的 327\n",
      "11 326\n",
      "這則 325\n",
      "es 325\n",
      "則新 325\n",
      "15 321\n",
      "nd 319\n",
      "ng 317\n",
      "al 313\n",
      "ne 312\n",
      "他們 310\n",
      "19 309\n",
      "臉書 304\n",
      "y  303\n",
      "希望 301\n",
      "st 300\n",
      "萬元 300\n"
     ]
    }
   ],
   "source": [
    "for k, v  in c.most_common(100):\n",
    "    print k, v"
   ]
  },
  {
   "cell_type": "code",
   "execution_count": 34,
   "metadata": {
    "collapsed": false
   },
   "outputs": [
    {
     "name": "stdout",
     "output_type": "stream",
     "text": [
      "今天很,來到一個好地方\n"
     ]
    }
   ],
   "source": [
    "def removeKey(text, keyword):\n",
    "    textAry= text\n",
    "    for key in keyword:\n",
    "        textAry = ''.join(textAry.split(key))\n",
    "    return textAry\n",
    "\n",
    "print removeKey('今天很開心,來到一個好地方', ['開心'])"
   ]
  },
  {
   "cell_type": "code",
   "execution_count": 35,
   "metadata": {
    "collapsed": false
   },
   "outputs": [
    {
     "name": "stdout",
     "output_type": "stream",
     "text": [
      "今天很,來到一個\n"
     ]
    }
   ],
   "source": [
    "print removeKey('今天很開心,來到一個好地方', ['開心', '好地方'])"
   ]
  },
  {
   "cell_type": "code",
   "execution_count": 38,
   "metadata": {
    "collapsed": true
   },
   "outputs": [],
   "source": [
    "skip_word = [',']\n",
    "def ngram(input_sentence, n = 2):\n",
    "    c = Counter()\n",
    "    sentence = input_sentence.decode('utf-8')\n",
    "    for i in range(0, len(sentence) - n + 1 ):\n",
    "        segment = sentence[i:i+n]\n",
    "        invalid = len([w for w in skip_word if w in segment]) \n",
    "        if invalid ==0:\n",
    "            c[segment] += 1        \n",
    "    return c"
   ]
  },
  {
   "cell_type": "code",
   "execution_count": 44,
   "metadata": {
    "collapsed": false
   },
   "outputs": [
    {
     "name": "stdout",
     "output_type": "stream",
     "text": [
      "一個好地\n",
      "個好地方\n",
      "今天很開\n",
      "天很開心\n",
      "到一個好\n",
      "來到一個\n"
     ]
    }
   ],
   "source": [
    "for k in ngram('今天很開心,來到一個好地方' , 4):\n",
    "    print k"
   ]
  },
  {
   "cell_type": "code",
   "execution_count": 51,
   "metadata": {
    "collapsed": true
   },
   "outputs": [],
   "source": [
    "keywords = []\n",
    "def getSentenceNgram(summary, i):\n",
    "    delimiter = '，|：|。|、|/|；|（|）|\\(|\\)|「|」|」|《|》|／|【|……|）|「|！|‧ '\n",
    "\n",
    "    csummary = Counter()\n",
    "    for sentence in re.split(delimiter, summary.encode('utf-8')): # 斷句\n",
    "        if sentence is not None and sentence.strip() != '':\n",
    "                c = ngram(removeKey(sentence.strip(), keywords), i) #取ngram\n",
    "                csummary = csummary + c\n",
    "    return csummary"
   ]
  },
  {
   "cell_type": "code",
   "execution_count": 55,
   "metadata": {
    "collapsed": false
   },
   "outputs": [],
   "source": [
    "text=u'從句子的一端開始，取最長的詞串逐一比對辭典內的詞，\\\n",
    "若找到就把它當作斷詞的結果，再把句子中比對到的詞去除，\\\n",
    "剩下的部份再重複剛剛的動作，直到整句都斷詞完畢'\n",
    "\n",
    "#for k in getSentenceNgram(text,5 ):\n",
    "#    print k"
   ]
  },
  {
   "cell_type": "code",
   "execution_count": 56,
   "metadata": {
    "collapsed": true
   },
   "outputs": [],
   "source": [
    "summaries = df['summary']\n",
    "keywords = []\n",
    "\n",
    "for i in range(4, 1, -1):\n",
    "    coverall = Counter()\n",
    "    for summary in summaries[0:100]:        \n",
    "        c = getSentenceNgram(summary, i) \n",
    "        coverall = coverall  + c\n",
    "    for ele in coverall:\n",
    "        if coverall[ele] >=10:\n",
    "            if re.match(u\"[\\u4e00-\\u9fa5]\", ele):\n",
    "                keywords.append(ele.encode('utf-8'))"
   ]
  },
  {
   "cell_type": "code",
   "execution_count": 57,
   "metadata": {
    "collapsed": false
   },
   "outputs": [
    {
     "name": "stdout",
     "output_type": "stream",
     "text": [
      "更新時間\n",
      "出版時間\n",
      "菸草製品\n",
      "綜合報導\n",
      "翻攝畫面\n",
      "蘋果日報\n",
      "智慧城市\n",
      "台北報導\n",
      "翻攝網路\n",
      "新增影片\n",
      "知道更多\n",
      "即時新聞\n",
      "想知道更\n",
      "一定要看\n",
      "用大麻\n",
      "舊金山\n",
      "沒想到\n",
      "分隔島\n",
      "弗林特\n",
      "社子島\n",
      "電子菸\n",
      "遊覽車\n",
      "休旅車\n",
      "蔡英文\n",
      "大麻的\n",
      "邱先生\n",
      "粉絲團\n",
      "大巨蛋\n",
      "氣象局\n",
      "新北市\n",
      "第一\n",
      "看了\n",
      "取得\n",
      "平台\n",
      "我們\n",
      "外勞\n",
      "古巴\n",
      "技術\n",
      "騎士\n",
      "大型\n",
      "為了\n",
      "這些\n",
      "希望\n",
      "公開\n",
      "大家\n",
      "大學\n",
      "張男\n",
      "指出\n",
      "小黃\n",
      "引進\n",
      "百度\n",
      "真的\n",
      "其他\n",
      "劉男\n",
      "長期\n",
      "透過\n",
      "不過\n",
      "安全\n",
      "報警\n",
      "指數\n",
      "最後\n",
      "重點\n",
      "這樣\n",
      "院士\n",
      "穩定\n",
      "呈現\n",
      "國際\n",
      "可能\n",
      "蘋果\n",
      "領域\n",
      "模式\n",
      "危機\n",
      "問題\n",
      "訊息\n",
      "使用\n",
      "事長\n",
      "造成\n",
      "駕駛\n",
      "中心\n",
      "川普\n",
      "業者\n",
      "警方\n",
      "持續\n",
      "中央\n",
      "工程\n",
      "照片\n",
      "中國\n",
      "地區\n",
      "台南\n",
      "維持\n",
      "台北\n",
      "中午\n",
      "中共\n",
      "到場\n",
      "營運\n",
      "方向\n",
      "全球\n",
      "下午\n",
      "需求\n",
      "工作\n",
      "對於\n",
      "甚至\n",
      "進的\n",
      "提供\n",
      "飛機\n",
      "商業\n",
      "地產\n",
      "台灣\n",
      "新聞\n",
      "造型\n",
      "上市\n",
      "在台\n",
      "價格\n",
      "發生\n",
      "了一\n",
      "產品\n",
      "進行\n",
      "直播\n",
      "直接\n",
      "中華\n",
      "發現\n",
      "在上\n",
      "要求\n",
      "北市\n",
      "事件\n",
      "應用\n",
      "發展\n",
      "下降\n",
      "發布\n",
      "車輛\n",
      "上的\n",
      "警消\n",
      "發中\n",
      "科技\n",
      "產業\n",
      "的1\n",
      "管理\n",
      "白色\n",
      "胚胎\n",
      "遊戲\n",
      "設計\n",
      "原因\n",
      "內容\n",
      "協商\n",
      "不會\n",
      "不是\n",
      "藝術\n",
      "淹水\n",
      "小孩\n",
      "更新\n",
      "大麻\n",
      "的是\n",
      "其中\n",
      "即時\n",
      "女童\n",
      "公司\n",
      "萬元\n",
      "徠卡\n",
      "更多\n",
      "小時\n",
      "不少\n",
      "的國\n",
      "空間\n",
      "現場\n",
      "議員\n",
      "的人\n",
      "國家\n",
      "可以\n",
      "女兒\n",
      "導致\n",
      "現在\n",
      "報導\n",
      "診斷\n",
      "女子\n",
      "遊客\n",
      "目前\n",
      "關係\n",
      "認證\n",
      "集團\n",
      "過去\n",
      "只是\n",
      "葉男\n",
      "個人\n",
      "聯盟\n",
      "一直\n",
      "有人\n",
      "母親\n",
      "選擇\n",
      "品牌\n",
      "過程\n",
      "美國\n",
      "男子\n",
      "精神\n",
      "以及\n",
      "除了\n",
      "輕軌\n",
      "預計\n",
      "美元\n",
      "時間\n",
      "山區\n",
      "網路\n",
      "一個\n",
      "個月\n",
      "星戰\n",
      "一名\n",
      "上午\n",
      "他們\n",
      "當地\n",
      "市場\n",
      "市府\n",
      "是一\n",
      "加州\n",
      "機車\n",
      "還是\n",
      "需要\n",
      "手機\n",
      "前往\n",
      "嗎？\n",
      "分享\n",
      "準備\n",
      "影片\n",
      "年1\n",
      "增加\n",
      "處理\n",
      "鏡頭\n",
      "相關\n",
      "離開\n",
      "粉絲\n",
      "表示\n",
      "是否\n",
      "成為\n",
      "健康\n",
      "他的\n",
      "城市\n",
      "分球\n",
      "陳女\n",
      "一起\n",
      "越南\n",
      "台中\n",
      "翻攝\n",
      "汽車\n",
      "未來\n",
      "證明\n",
      "是要\n",
      "代表\n",
      "黨團\n",
      "成長\n",
      "日前\n",
      "沒有\n",
      "投資\n",
      "交通\n",
      "用戶\n",
      "規劃\n",
      "市長\n",
      "司機\n",
      "高雄\n",
      "政府\n",
      "億元\n",
      "繼續\n",
      "機會\n",
      "紀錄\n",
      "還要\n",
      "突發\n",
      "藍女\n",
      "包括\n",
      "昨天\n",
      "檢警\n",
      "今天\n",
      "影響\n",
      "生活\n",
      "今年\n",
      "自己\n",
      "自已\n",
      "華為\n",
      "政策\n",
      "水果\n",
      "日本\n",
      "由於\n",
      "疑似\n",
      "總統\n",
      "雙方\n",
      "推出\n",
      "就是\n",
      "活動\n",
      "杜男\n",
      "調查\n",
      "顯示\n",
      "漁船\n",
      "停車\n",
      "已經\n",
      "人的\n",
      "針對\n",
      "都是\n",
      "開始\n",
      "積極\n",
      "網友\n",
      "智慧\n",
      "因此\n",
      "醫師\n",
      "開發\n",
      "廠商\n",
      "去年\n",
      "民眾\n",
      "進入\n",
      "媽媽\n",
      "了這\n",
      "認為\n",
      "林女\n",
      "人員\n",
      "因為\n"
     ]
    }
   ],
   "source": [
    "for k in keywords:\n",
    "    print k"
   ]
  },
  {
   "cell_type": "code",
   "execution_count": 64,
   "metadata": {
    "collapsed": true
   },
   "outputs": [],
   "source": [
    "article_len = 0\n",
    "original_word = 0\n",
    "known_word = 0\n",
    "unknown = 0\n",
    "\n",
    "for summary in summaries[0:100]: \n",
    "    article_len += len(summary)\n",
    "    original_word +=  summary.count(u'的大麻')\n",
    "    known_word += summary.count(u'大麻')\n",
    "    unknown += summary.count(u'的')"
   ]
  },
  {
   "cell_type": "code",
   "execution_count": 65,
   "metadata": {
    "collapsed": false
   },
   "outputs": [
    {
     "data": {
      "text/plain": [
       "53248"
      ]
     },
     "execution_count": 65,
     "metadata": {},
     "output_type": "execute_result"
    }
   ],
   "source": [
    "article_len"
   ]
  },
  {
   "cell_type": "code",
   "execution_count": 66,
   "metadata": {
    "collapsed": false
   },
   "outputs": [
    {
     "name": "stdout",
     "output_type": "stream",
     "text": [
      "3.78773652013\n"
     ]
    }
   ],
   "source": [
    "print (float(original_word) / article_len) / ((float(unknown) /  article_len) * (float(known_word) /  article_len))"
   ]
  },
  {
   "cell_type": "code",
   "execution_count": 67,
   "metadata": {
    "collapsed": true
   },
   "outputs": [],
   "source": [
    "s = u'吃葡萄不吐葡萄皮不吃葡萄倒吐葡萄皮'\n",
    "l = s.split(u'葡萄')\n",
    "front = []\n",
    "rear = []\n",
    "for idx, ele in enumerate(l):\n",
    "#    print idx\n",
    "    if idx < len(l) -1:\n",
    "        front.append(ele[-1])\n",
    "    if idx > 0:\n",
    "        rear.append(ele[0])"
   ]
  },
  {
   "cell_type": "code",
   "execution_count": 70,
   "metadata": {
    "collapsed": false
   },
   "outputs": [
    {
     "name": "stdout",
     "output_type": "stream",
     "text": [
      "吃\n",
      "吐\n",
      "吃\n",
      "吐\n"
     ]
    }
   ],
   "source": [
    "for ele in front:\n",
    "    print ele"
   ]
  },
  {
   "cell_type": "code",
   "execution_count": 71,
   "metadata": {
    "collapsed": false
   },
   "outputs": [
    {
     "name": "stdout",
     "output_type": "stream",
     "text": [
      "不\n",
      "皮\n",
      "倒\n",
      "皮\n"
     ]
    }
   ],
   "source": [
    "for ele in rear:\n",
    "    print ele"
   ]
  },
  {
   "cell_type": "code",
   "execution_count": 73,
   "metadata": {
    "collapsed": false
   },
   "outputs": [
    {
     "name": "stdout",
     "output_type": "stream",
     "text": [
      "1.03972077084\n"
     ]
    }
   ],
   "source": [
    "import scipy as sp\n",
    "s = 0\n",
    "for ele in set(rear):\n",
    "    e = (len(rear) * 1.0) / rear.count(ele)\n",
    "    s += -(1.0/ e) * sp.log(1.0/e)\n",
    "print s"
   ]
  },
  {
   "cell_type": "code",
   "execution_count": 88,
   "metadata": {
    "collapsed": false
   },
   "outputs": [
    {
     "name": "stderr",
     "output_type": "stream",
     "text": [
      "D:\\Anaconda2\\lib\\site-packages\\requests\\packages\\urllib3\\connectionpool.py:791: InsecureRequestWarning: Unverified HTTPS request is being made. Adding certificate verification is strongly advised. See: https://urllib3.readthedocs.org/en/latest/security.html\n",
      "  InsecureRequestWarning)\n"
     ]
    },
    {
     "name": "stdout",
     "output_type": "stream",
     "text": [
      "臺灣證券交易所\n",
      "臺證所\n",
      "證交所\n",
      "Taiwan Stock Exchange\n",
      "TWSE\n"
     ]
    }
   ],
   "source": [
    "import requests\n",
    "from bs4 import BeautifulSoup as bs\n",
    "res = requests.get('https://zh.wikipedia.org/wiki/\\\n",
    "臺灣證券交易所', verify=False)\n",
    "soup = bs(res.text)\n",
    "kw = soup.select('.mw-content-ltr p')[0]\n",
    "for bold in kw.select('b'):\n",
    "    print bold.text"
   ]
  },
  {
   "cell_type": "code",
   "execution_count": 95,
   "metadata": {
    "collapsed": false
   },
   "outputs": [
    {
     "name": "stderr",
     "output_type": "stream",
     "text": [
      "D:\\Anaconda2\\lib\\site-packages\\requests\\packages\\urllib3\\connectionpool.py:791: InsecureRequestWarning: Unverified HTTPS request is being made. Adding certificate verification is strongly advised. See: https://urllib3.readthedocs.org/en/latest/security.html\n",
      "  InsecureRequestWarning)\n"
     ]
    },
    {
     "name": "stdout",
     "output_type": "stream",
     "text": [
      "蔡英文\n",
      "蔡英文 巴拿馬\n",
      "蔡英文行程\n",
      "蔡英文 生技\n",
      "蔡英文辦公室\n",
      "蔡英文父親\n",
      "蔡英文臉書\n",
      "蔡英文 貓\n",
      "蔡英文 ptt\n",
      "蔡英文家族\n"
     ]
    }
   ],
   "source": [
    "import requests\n",
    "import json\n",
    "res = requests.get('https://www.google.com.tw/complete/search?\\\n",
    "client=hp&hl=zh-TW&gs_rn=64&gs_ri=hp&\\\n",
    "tok=xzVVysknUtJTWNr7FV3DHg&cp=2&gs_id=n8&q=%E8%94%A1%E8%8B%B1&xhr=t', verify=False)\n",
    "jd = json.loads(res.text)\n",
    "for k in jd[1]:\n",
    "    print k[0]"
   ]
  },
  {
   "cell_type": "code",
   "execution_count": 103,
   "metadata": {
    "collapsed": false
   },
   "outputs": [
    {
     "name": "stdout",
     "output_type": "stream",
     "text": [
      "<section id=\"ckip-process-result-block\">\n",
      "   <h2>\n",
      "      中研院斷詞結果：\n",
      "   </h2>\n",
      "   <div>\n",
      "      <pre class=\"prettyprint\">\n",
      "         Array\n",
      "(\n",
      "    [0] => Array\n",
      "        (\n",
      "            [term] => 其\n",
      "            [tag] => DET\n",
      "        )\n",
      "\n",
      "    [1] => Array\n",
      "        (\n",
      "            [term] => 股價\n",
      "            [tag] => N\n",
      "        )\n",
      "\n",
      "    [2] => Array\n",
      "        (\n",
      "            [term] => 指數\n",
      "            [tag] => N\n",
      "        )\n",
      "\n",
      "    [3] => Array\n",
      "        (\n",
      "            [term] => 為\n",
      "            [tag] => Vt\n",
      "        )\n",
      "\n",
      "    [4] => Array\n",
      "        (\n",
      "            [term] => 自行\n",
      "            [tag] => ADV\n",
      "        )\n",
      "\n",
      "    [5] => Array\n",
      "        (\n",
      "            [term] => 編製\n",
      "            [tag] => Vt\n",
      "        )\n",
      "\n",
      "    [6] => Array\n",
      "        (\n",
      "            [term] => 的\n",
      "            [tag] => T\n",
      "        )\n",
      "\n",
      "    [7] => Array\n",
      "        (\n",
      "            [term] => 加權\n",
      "            [tag] => A\n",
      "        )\n",
      "\n",
      "    [8] => Array\n",
      "        (\n",
      "            [term] => 指數\n",
      "            [tag] => N\n",
      "        )\n",
      "\n",
      "    [9] => Array\n",
      "        (\n",
      "            [term] => ，\n",
      "            [tag] => COMMACATEGORY\n",
      "        )\n",
      "\n",
      "    [10] => Array\n",
      "        (\n",
      "            [term] => 被\n",
      "            [tag] => P\n",
      "        )\n",
      "\n",
      "    [11] => Array\n",
      "        (\n",
      "            [term] => 視為\n",
      "            [tag] => Vt\n",
      "        )\n",
      "\n",
      "    [12] => Array\n",
      "        (\n",
      "            [term] => 是\n",
      "            [tag] => Vt\n",
      "        )\n",
      "\n",
      "    [13] => Array\n",
      "        (\n",
      "            [term] => 臺灣\n",
      "            [tag] => N\n",
      "        )\n",
      "\n",
      "    [14] => Array\n",
      "        (\n",
      "            [term] => 經濟\n",
      "            [tag] => N\n",
      "        )\n",
      "\n",
      "    [15] => Array\n",
      "        (\n",
      "            [term] => 走向\n",
      "            [tag] => Vt\n",
      "        )\n",
      "\n",
      "    [16] => Array\n",
      "        (\n",
      "            [term] => 的\n",
      "            [tag] => T\n",
      "        )\n",
      "\n",
      "    [17] => Array\n",
      "        (\n",
      "            [term] => 主要\n",
      "            [tag] => A\n",
      "        )\n",
      "\n",
      "    [18] => Array\n",
      "        (\n",
      "            [term] => 指標\n",
      "            [tag] => N\n",
      "        )\n",
      "\n",
      "    [19] => Array\n",
      "        (\n",
      "            [term] => 之\n",
      "            [tag] => T\n",
      "        )\n",
      "\n",
      "    [20] => Array\n",
      "        (\n",
      "            [term] => 一\n",
      "            [tag] => DET\n",
      "        )\n",
      "\n",
      "    [21] => Array\n",
      "        (\n",
      "            [term] => 。\n",
      "            [tag] => PERIODCATEGORY\n",
      "        )\n",
      "\n",
      "    [22] => Array\n",
      "        (\n",
      "            [term] => 目前\n",
      "            [tag] => N\n",
      "        )\n",
      "\n",
      "    [23] => Array\n",
      "        (\n",
      "            [term] => 上市\n",
      "            [tag] => Vi\n",
      "        )\n",
      "\n",
      "    [24] => Array\n",
      "        (\n",
      "            [term] => 公司\n",
      "            [tag] => N\n",
      "        )\n",
      "\n",
      "    [25] => Array\n",
      "        (\n",
      "            [term] => 約\n",
      "            [tag] => ADV\n",
      "        )\n",
      "\n",
      "    [26] => Array\n",
      "        (\n",
      "            [term] => 有\n",
      "            [tag] => Vt\n",
      "        )\n",
      "\n",
      "    [27] => Array\n",
      "        (\n",
      "            [term] => 900\n",
      "            [tag] => DET\n",
      "        )\n",
      "\n",
      "    [28] => Array\n",
      "        (\n",
      "            [term] => 檔\n",
      "            [tag] => M\n",
      "        )\n",
      "\n",
      ")\n",
      "      </pre>\n",
      "   </div>\n",
      "   <div>\n",
      "      <label>\n",
      "         轉貼連結\n",
      "      </label>\n",
      "      <input id=\"ckip-process-share-link\" type=\"text\" style=\"width:100%;\" value=\"http://www.fukuball.com/ckip-client/record/168048\" readonly=\"readonly\" />\n",
      "   </div>\n",
      "   <div>\n",
      "      <label>\n",
      "         JSON格式連結\n",
      "      </label>\n",
      "      <input id=\"ckip-process-share-json-link\" type=\"text\" style=\"width:100%;\" value=\"http://www.fukuball.com/ckip-client/record/168048.json\" readonly=\"readonly\" />\n",
      "   </div>\n",
      "</section>\n",
      "<section>\n",
      "   <div id=\"full-width-commercial\" class=\"commercial-box text-center\" style=\"height:100px;\">\n",
      "   <!--\n",
      "   <iframe width=\"960\" height=\"100\" frameborder=\"0\" scrolling=\"no\" marginwidth=\"0\" marginheight=\"0\" src=\"http://adplace.adsame.com/s?z=adplace&c=1576&op=1\"></iframe>\n",
      "   -->\n",
      "</div></section>\n",
      "<script>\n",
      "$('#ckip-process-result-block').ready(function() {\n",
      "\n",
      "   $.scrollTo( $('#ckip-process-result-block'), 400, {offset:350} );\n",
      "\n",
      "   $(document.body).off('click.ckip_process_share_link', '#ckip-process-share-link,#ckip-process-share-json-link');\n",
      "   $(document.body).on('click.ckip_process_share_link', '#ckip-process-share-link,#ckip-process-share-json-link', function() {\n",
      "      $(this).select();\n",
      "   });\n",
      "\n",
      "});\n",
      "</script>\n"
     ]
    }
   ],
   "source": [
    "p = '其股價指數為自行編製的加權指數，被視為是臺灣經濟走向的主要指標之一。目前上市公司約有900檔'\n",
    "payload = {'paragraph': p}\n",
    "import requests\n",
    "res = requests.post('http://www.fukuball.com/ckip-client/ckip-process',\\\n",
    "              data=payload, verify=False)\n",
    "res.encoding = 'utf-8'\n",
    "print res.text"
   ]
  },
  {
   "cell_type": "code",
   "execution_count": null,
   "metadata": {
    "collapsed": true
   },
   "outputs": [],
   "source": []
  }
 ],
 "metadata": {
  "kernelspec": {
   "display_name": "Python 2",
   "language": "python",
   "name": "python2"
  },
  "language_info": {
   "codemirror_mode": {
    "name": "ipython",
    "version": 2
   },
   "file_extension": ".py",
   "mimetype": "text/x-python",
   "name": "python",
   "nbconvert_exporter": "python",
   "pygments_lexer": "ipython2",
   "version": "2.7.11"
  }
 },
 "nbformat": 4,
 "nbformat_minor": 0
}
