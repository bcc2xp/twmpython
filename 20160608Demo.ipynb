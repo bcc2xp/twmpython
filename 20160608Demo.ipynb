{
 "cells": [
  {
   "cell_type": "code",
   "execution_count": 5,
   "metadata": {
    "collapsed": false
   },
   "outputs": [
    {
     "data": {
      "text/plain": [
       "['__abs__',\n",
       " '__add__',\n",
       " '__class__',\n",
       " '__coerce__',\n",
       " '__delattr__',\n",
       " '__div__',\n",
       " '__divmod__',\n",
       " '__doc__',\n",
       " '__eq__',\n",
       " '__float__',\n",
       " '__floordiv__',\n",
       " '__format__',\n",
       " '__ge__',\n",
       " '__getattribute__',\n",
       " '__getformat__',\n",
       " '__getnewargs__',\n",
       " '__gt__',\n",
       " '__hash__',\n",
       " '__init__',\n",
       " '__int__',\n",
       " '__le__',\n",
       " '__long__',\n",
       " '__lt__',\n",
       " '__mod__',\n",
       " '__mul__',\n",
       " '__ne__',\n",
       " '__neg__',\n",
       " '__new__',\n",
       " '__nonzero__',\n",
       " '__pos__',\n",
       " '__pow__',\n",
       " '__radd__',\n",
       " '__rdiv__',\n",
       " '__rdivmod__',\n",
       " '__reduce__',\n",
       " '__reduce_ex__',\n",
       " '__repr__',\n",
       " '__rfloordiv__',\n",
       " '__rmod__',\n",
       " '__rmul__',\n",
       " '__rpow__',\n",
       " '__rsub__',\n",
       " '__rtruediv__',\n",
       " '__setattr__',\n",
       " '__setformat__',\n",
       " '__sizeof__',\n",
       " '__str__',\n",
       " '__sub__',\n",
       " '__subclasshook__',\n",
       " '__truediv__',\n",
       " '__trunc__',\n",
       " 'as_integer_ratio',\n",
       " 'conjugate',\n",
       " 'fromhex',\n",
       " 'hex',\n",
       " 'imag',\n",
       " 'is_integer',\n",
       " 'real']"
      ]
     },
     "execution_count": 5,
     "metadata": {},
     "output_type": "execute_result"
    }
   ],
   "source": [
    "dir(1)\n",
    "dir(2.0)"
   ]
  },
  {
   "cell_type": "code",
   "execution_count": 6,
   "metadata": {
    "collapsed": false
   },
   "outputs": [
    {
     "name": "stdout",
     "output_type": "stream",
     "text": [
      "Help on built-in function exit in module sys:\n",
      "\n",
      "exit(...)\n",
      "    exit([status])\n",
      "    \n",
      "    Exit the interpreter by raising SystemExit(status).\n",
      "    If the status is omitted or None, it defaults to zero (i.e., success).\n",
      "    If the status is an integer, it will be used as the system exit status.\n",
      "    If it is another kind of object, it will be printed and the system\n",
      "    exit status will be one (i.e., failure).\n",
      "\n"
     ]
    }
   ],
   "source": [
    "import sys\n",
    "help(sys.exit)"
   ]
  },
  {
   "cell_type": "code",
   "execution_count": 7,
   "metadata": {
    "collapsed": true
   },
   "outputs": [],
   "source": [
    "?sys.exit"
   ]
  },
  {
   "cell_type": "code",
   "execution_count": 12,
   "metadata": {
    "collapsed": false
   },
   "outputs": [
    {
     "name": "stdout",
     "output_type": "stream",
     "text": [
      "['__add__', '__class__', '__contains__', '__delattr__', '__delitem__', '__delslice__', '__doc__', '__eq__', '__format__', '__ge__', '__getattribute__', '__getitem__', '__getslice__', '__gt__', '__hash__', '__iadd__', '__imul__', '__init__', '__iter__', '__le__', '__len__', '__lt__', '__mul__', '__ne__', '__new__', '__reduce__', '__reduce_ex__', '__repr__', '__reversed__', '__rmul__', '__setattr__', '__setitem__', '__setslice__', '__sizeof__', '__str__', '__subclasshook__', 'append', 'count', 'extend', 'index', 'insert', 'pop', 'remove', 'reverse', 'sort']\n",
      "Help on built-in function count:\n",
      "\n",
      "count(...)\n",
      "    L.count(value) -> integer -- return number of occurrences of value\n",
      "\n",
      "None\n",
      "1\n"
     ]
    }
   ],
   "source": [
    "l = [1,2,3,4,5]\n",
    "print dir(l)\n",
    "print help(l.count)\n",
    "print l.count(2)\n",
    "?l.count"
   ]
  },
  {
   "cell_type": "code",
   "execution_count": 13,
   "metadata": {
    "collapsed": false
   },
   "outputs": [
    {
     "name": "stdout",
     "output_type": "stream",
     "text": [
      "5\n"
     ]
    }
   ],
   "source": [
    "def addNum(a, b):\n",
    "    return a+b #Return \n",
    "\n",
    "print addNum(1,4)"
   ]
  },
  {
   "cell_type": "code",
   "execution_count": 15,
   "metadata": {
    "collapsed": false
   },
   "outputs": [
    {
     "ename": "TypeError",
     "evalue": "addNum2() takes exactly 2 arguments (1 given)",
     "output_type": "error",
     "traceback": [
      "\u001b[1;31m---------------------------------------------------------------------------\u001b[0m",
      "\u001b[1;31mTypeError\u001b[0m                                 Traceback (most recent call last)",
      "\u001b[1;32m<ipython-input-15-fd047d0db253>\u001b[0m in \u001b[0;36m<module>\u001b[1;34m()\u001b[0m\n\u001b[0;32m      2\u001b[0m     \u001b[1;32mreturn\u001b[0m \u001b[0ma\u001b[0m \u001b[1;31m#Return\u001b[0m\u001b[1;33m\u001b[0m\u001b[0m\n\u001b[0;32m      3\u001b[0m \u001b[1;33m\u001b[0m\u001b[0m\n\u001b[1;32m----> 4\u001b[1;33m \u001b[1;32mprint\u001b[0m \u001b[0maddNum2\u001b[0m\u001b[1;33m(\u001b[0m\u001b[1;36m1\u001b[0m\u001b[1;33m)\u001b[0m\u001b[1;33m\u001b[0m\u001b[0m\n\u001b[0m",
      "\u001b[1;31mTypeError\u001b[0m: addNum2() takes exactly 2 arguments (1 given)"
     ]
    }
   ],
   "source": [
    "def addNum2(a, b):\n",
    "    return a #Return \n",
    "\n",
    "print addNum2(1)"
   ]
  },
  {
   "cell_type": "code",
   "execution_count": 16,
   "metadata": {
    "collapsed": false
   },
   "outputs": [
    {
     "name": "stdout",
     "output_type": "stream",
     "text": [
      "9\n",
      "onetwo\n"
     ]
    }
   ],
   "source": [
    "def add_num(num1,num2): \n",
    "     return num1+num2 \n",
    "    \n",
    "add_num(4,5) \n",
    "\n",
    "result = add_num(4,5) \n",
    "print result \n",
    "print add_num('one','two')\n"
   ]
  },
  {
   "cell_type": "code",
   "execution_count": 29,
   "metadata": {
    "collapsed": false
   },
   "outputs": [
    {
     "name": "stdout",
     "output_type": "stream",
     "text": [
      "<type 'tuple'>\n",
      "1\n",
      "15\n"
     ]
    }
   ],
   "source": [
    "def addall(x, *args):\n",
    "    res = x\n",
    "    #for y in args:\n",
    "    #    res += y\n",
    "    print type(args)\n",
    "    return res\n",
    "\n",
    "print addall(1,2,3,4,5)\n",
    "\n",
    "\n",
    "def addall(x, *args):\n",
    "    res = x\n",
    "    for y in args:\n",
    "        res += y\n",
    "    return res\n",
    "\n",
    "print addall(1,2,3,4,5)\n"
   ]
  },
  {
   "cell_type": "code",
   "execution_count": 24,
   "metadata": {
    "collapsed": false
   },
   "outputs": [
    {
     "name": "stdout",
     "output_type": "stream",
     "text": [
      "14\n",
      "18\n"
     ]
    }
   ],
   "source": [
    "def addNum(x, y):\n",
    "    return x * 3 + y\n",
    "\n",
    "print addNum(3, 5)\n",
    "\n",
    "print addNum(y = 3, x = 5)"
   ]
  },
  {
   "cell_type": "code",
   "execution_count": 25,
   "metadata": {
    "collapsed": false
   },
   "outputs": [
    {
     "data": {
      "text/plain": [
       "[['John', 'Mary', 'david'], ['M', 'F', 'M']]"
      ]
     },
     "execution_count": 25,
     "metadata": {},
     "output_type": "execute_result"
    }
   ],
   "source": [
    "def make_two_lists(**kwargs):\n",
    "    keys,values = [],[]\n",
    "    for k,v in kwargs.items():\n",
    "        keys.append(k)\n",
    "        values.append(v)\n",
    "    return [keys,values]\n",
    "\n",
    "make_two_lists(david='M', Mary = 'F', John='M')\n"
   ]
  },
  {
   "cell_type": "code",
   "execution_count": 27,
   "metadata": {
    "collapsed": false
   },
   "outputs": [
    {
     "name": "stdout",
     "output_type": "stream",
     "text": [
      "[('John', 'M'), ('Mary', 'F'), ('david', 'M')]\n",
      "John M\n",
      "Mary F\n",
      "david M\n"
     ]
    }
   ],
   "source": [
    "kwargs = {'david':'M', 'Mary' : 'F', 'John':'M'}\n",
    "print kwargs.items()\n",
    "for k,v in kwargs.items():\n",
    "    print k, v"
   ]
  },
  {
   "cell_type": "code",
   "execution_count": 28,
   "metadata": {
    "collapsed": false
   },
   "outputs": [
    {
     "name": "stdout",
     "output_type": "stream",
     "text": [
      "1\n",
      "2\n",
      "3\n"
     ]
    }
   ],
   "source": [
    "a,b,c = 1,2,3\n",
    "print a\n",
    "print b\n",
    "print c"
   ]
  },
  {
   "cell_type": "code",
   "execution_count": 30,
   "metadata": {
    "collapsed": false
   },
   "outputs": [
    {
     "data": {
      "text/plain": [
       "4"
      ]
     },
     "execution_count": 30,
     "metadata": {},
     "output_type": "execute_result"
    }
   ],
   "source": [
    "def square(num): \n",
    "    result = num**2 \n",
    "    return result \n",
    "square(2) \n"
   ]
  },
  {
   "cell_type": "code",
   "execution_count": 31,
   "metadata": {
    "collapsed": false
   },
   "outputs": [
    {
     "data": {
      "text/plain": [
       "4"
      ]
     },
     "execution_count": 31,
     "metadata": {},
     "output_type": "execute_result"
    }
   ],
   "source": [
    "def square(num): \n",
    "    return num**2 \n",
    "square(2) \n"
   ]
  },
  {
   "cell_type": "code",
   "execution_count": 34,
   "metadata": {
    "collapsed": false
   },
   "outputs": [
    {
     "data": {
      "text/plain": [
       "4"
      ]
     },
     "execution_count": 34,
     "metadata": {},
     "output_type": "execute_result"
    }
   ],
   "source": [
    "def square(num): return num ** 2\n",
    "square(2)"
   ]
  },
  {
   "cell_type": "code",
   "execution_count": 35,
   "metadata": {
    "collapsed": false
   },
   "outputs": [
    {
     "data": {
      "text/plain": [
       "4"
      ]
     },
     "execution_count": 35,
     "metadata": {},
     "output_type": "execute_result"
    }
   ],
   "source": [
    "square = lambda num : num ** 2\n",
    "square(2)"
   ]
  },
  {
   "cell_type": "code",
   "execution_count": 39,
   "metadata": {
    "collapsed": false
   },
   "outputs": [
    {
     "name": "stdout",
     "output_type": "stream",
     "text": [
      "False\n",
      "True\n",
      "False\n",
      "True\n"
     ]
    },
    {
     "data": {
      "text/plain": [
       "'h'"
      ]
     },
     "execution_count": 39,
     "metadata": {},
     "output_type": "execute_result"
    }
   ],
   "source": [
    "# 取偶數\n",
    "even = lambda x: x%2==0 \n",
    "print even(3) \n",
    "print even(4)\n",
    "\n",
    "def even2(x):\n",
    "    return x %2 == 0\n",
    "print even2(3) \n",
    "print even2(4)\n",
    "\n",
    "# 取第一個元素\n",
    "first = lambda s: s[0] \n",
    "first('hello')\n"
   ]
  },
  {
   "cell_type": "code",
   "execution_count": 40,
   "metadata": {
    "collapsed": false
   },
   "outputs": [
    {
     "data": {
      "text/plain": [
       "'olleh'"
      ]
     },
     "execution_count": 40,
     "metadata": {},
     "output_type": "execute_result"
    }
   ],
   "source": [
    "# 字串倒排\n",
    "rev = lambda s: s[::-1] \n",
    "rev('hello')"
   ]
  },
  {
   "cell_type": "code",
   "execution_count": 41,
   "metadata": {
    "collapsed": false
   },
   "outputs": [
    {
     "data": {
      "text/plain": [
       "5"
      ]
     },
     "execution_count": 41,
     "metadata": {},
     "output_type": "execute_result"
    }
   ],
   "source": [
    "# 兩個元素相加\n",
    "adder = lambda x,y : x+y \n",
    "adder(2,3)"
   ]
  },
  {
   "cell_type": "code",
   "execution_count": 46,
   "metadata": {
    "collapsed": true
   },
   "outputs": [],
   "source": [
    "temp = [16, 22.5, 30] \n",
    "new_temp = []\n",
    "for t in temp:\n",
    "    new_temp.append(t * (9.0 / 5) + 32)"
   ]
  },
  {
   "cell_type": "code",
   "execution_count": 47,
   "metadata": {
    "collapsed": false
   },
   "outputs": [
    {
     "name": "stdout",
     "output_type": "stream",
     "text": [
      "[60.8, 72.5, 86.0]\n"
     ]
    }
   ],
   "source": [
    "print new_temp"
   ]
  },
  {
   "cell_type": "code",
   "execution_count": 48,
   "metadata": {
    "collapsed": false
   },
   "outputs": [
    {
     "name": "stdout",
     "output_type": "stream",
     "text": [
      "[60.8, 72.5, 86.0]\n"
     ]
    }
   ],
   "source": [
    "temp = [16, 22.5, 30] \n",
    "print [t * (9.0 / 5) + 32 for t in temp]"
   ]
  },
  {
   "cell_type": "code",
   "execution_count": 49,
   "metadata": {
    "collapsed": false
   },
   "outputs": [
    {
     "data": {
      "text/plain": [
       "[60.8, 72.5, 86.0]"
      ]
     },
     "execution_count": 49,
     "metadata": {},
     "output_type": "execute_result"
    }
   ],
   "source": [
    "def fahrenheit(T): \n",
    "    return ((float(9)/5)*T + 32) \n",
    "\n",
    "def celsius(T): \n",
    "    return (float(5)/9)*(T-32) \n",
    "\n",
    "temp = [16, 22.5, 30] \n",
    "\n",
    "F_temps = map(fahrenheit, temp) \n",
    "F_temps \n",
    "\n"
   ]
  },
  {
   "cell_type": "code",
   "execution_count": 50,
   "metadata": {
    "collapsed": false
   },
   "outputs": [
    {
     "data": {
      "text/plain": [
       "[16.0, 22.5, 30.0]"
      ]
     },
     "execution_count": 50,
     "metadata": {},
     "output_type": "execute_result"
    }
   ],
   "source": [
    "# Convert back \n",
    "map(celsius, F_temps) \n"
   ]
  },
  {
   "cell_type": "code",
   "execution_count": 51,
   "metadata": {
    "collapsed": false
   },
   "outputs": [
    {
     "data": {
      "text/plain": [
       "[16.0, 22.5, 30.0]"
      ]
     },
     "execution_count": 51,
     "metadata": {},
     "output_type": "execute_result"
    }
   ],
   "source": [
    "map(lambda x: (5.0/9)*(x - 32), F_temps)"
   ]
  },
  {
   "cell_type": "code",
   "execution_count": 55,
   "metadata": {
    "collapsed": false
   },
   "outputs": [
    {
     "name": "stdout",
     "output_type": "stream",
     "text": [
      "<type 'tuple'>\n",
      "<type 'tuple'>\n"
     ]
    }
   ],
   "source": [
    "a = (1,2)\n",
    "print type(a)\n",
    "\n",
    "b = 1,2\n",
    "print type(b)"
   ]
  },
  {
   "cell_type": "code",
   "execution_count": 57,
   "metadata": {
    "collapsed": false
   },
   "outputs": [
    {
     "data": {
      "text/plain": [
       "[6, 8, 10, 12]"
      ]
     },
     "execution_count": 57,
     "metadata": {},
     "output_type": "execute_result"
    }
   ],
   "source": [
    "a = [1,2,3,4] \n",
    "b = [5,6,7,8] \n",
    "c = [9,10,11,12] \n",
    "\n",
    "map(lambda x,y:x+y,a,b) \n",
    "#a,b"
   ]
  },
  {
   "cell_type": "code",
   "execution_count": 58,
   "metadata": {
    "collapsed": false
   },
   "outputs": [
    {
     "data": {
      "text/plain": [
       "[15, 18, 21, 24]"
      ]
     },
     "execution_count": 58,
     "metadata": {},
     "output_type": "execute_result"
    }
   ],
   "source": [
    "map(lambda x,y,z:x+y+z, a,b,c) "
   ]
  },
  {
   "cell_type": "code",
   "execution_count": 59,
   "metadata": {
    "collapsed": false
   },
   "outputs": [
    {
     "data": {
      "text/plain": [
       "24"
      ]
     },
     "execution_count": 59,
     "metadata": {},
     "output_type": "execute_result"
    }
   ],
   "source": [
    "A =[1,2,3,4] \n",
    "reduce(lambda x,y: x*y,A) \n"
   ]
  },
  {
   "cell_type": "code",
   "execution_count": 60,
   "metadata": {
    "collapsed": false
   },
   "outputs": [
    {
     "data": {
      "text/plain": [
       "4"
      ]
     },
     "execution_count": 60,
     "metadata": {},
     "output_type": "execute_result"
    }
   ],
   "source": [
    "#找到list 中最大值\n",
    "max_find = lambda a,b: a if (a > b) else b \n",
    "\n",
    "reduce(max_find,A)\n"
   ]
  },
  {
   "cell_type": "code",
   "execution_count": 63,
   "metadata": {
    "collapsed": false
   },
   "outputs": [
    {
     "name": "stdout",
     "output_type": "stream",
     "text": [
      "[92, 98]\n",
      "[None, True, None, True]\n",
      "[92, 98]\n"
     ]
    }
   ],
   "source": [
    "A = [ 55 , 92 , 35 , 98 ]\n",
    "\n",
    "def getgoodgrade(num):\n",
    "    if num > 90:\n",
    "        return True\n",
    "\n",
    "print filter(getgoodgrade,A) \n",
    "print map(getgoodgrade,A) \n",
    "\n",
    "print filter(lambda num:num>90,A) "
   ]
  },
  {
   "cell_type": "code",
   "execution_count": 65,
   "metadata": {
    "collapsed": false
   },
   "outputs": [
    {
     "name": "stdout",
     "output_type": "stream",
     "text": [
      "[0, 2, 4, 6, 8, 10, 12, 14, 16, 18]\n",
      "[0, 2, 4, 6, 8, 10, 12, 14, 16, 18]\n"
     ]
    }
   ],
   "source": [
    "def even_check(num): \n",
    "    if num%2 ==0: \n",
    "        return True \n",
    "\n",
    "lst =range(20) \n",
    "\n",
    "print filter(even_check,lst) \n",
    "print filter(lambda x: x%2==0,lst)"
   ]
  },
  {
   "cell_type": "code",
   "execution_count": null,
   "metadata": {
    "collapsed": true
   },
   "outputs": [],
   "source": []
  }
 ],
 "metadata": {
  "kernelspec": {
   "display_name": "Python 2",
   "language": "python",
   "name": "python2"
  },
  "language_info": {
   "codemirror_mode": {
    "name": "ipython",
    "version": 2
   },
   "file_extension": ".py",
   "mimetype": "text/x-python",
   "name": "python",
   "nbconvert_exporter": "python",
   "pygments_lexer": "ipython2",
   "version": "2.7.11"
  }
 },
 "nbformat": 4,
 "nbformat_minor": 0
}
