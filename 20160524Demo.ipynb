{
 "cells": [
  {
   "cell_type": "markdown",
   "metadata": {
    "slideshow": {
     "slide_type": "slide"
    }
   },
   "source": [
    "## Python Basic\n",
    "- interpret language\n",
    "- dynamic language"
   ]
  },
  {
   "cell_type": "code",
   "execution_count": 12,
   "metadata": {
    "collapsed": false,
    "slideshow": {
     "slide_type": "slide"
    }
   },
   "outputs": [
    {
     "data": {
      "text/plain": [
       "5"
      ]
     },
     "execution_count": 12,
     "metadata": {},
     "output_type": "execute_result"
    }
   ],
   "source": [
    "a = 3\n",
    "b = 2\n",
    "a + b "
   ]
  },
  {
   "cell_type": "code",
   "execution_count": 13,
   "metadata": {
    "collapsed": false,
    "slideshow": {
     "slide_type": "subslide"
    }
   },
   "outputs": [
    {
     "data": {
      "text/plain": [
       "8"
      ]
     },
     "execution_count": 13,
     "metadata": {},
     "output_type": "execute_result"
    }
   ],
   "source": [
    "a + 5 "
   ]
  },
  {
   "cell_type": "code",
   "execution_count": 14,
   "metadata": {
    "collapsed": false,
    "slideshow": {
     "slide_type": "slide"
    }
   },
   "outputs": [
    {
     "data": {
      "text/plain": [
       "8"
      ]
     },
     "execution_count": 14,
     "metadata": {},
     "output_type": "execute_result"
    }
   ],
   "source": [
    "a * b + 2 "
   ]
  },
  {
   "cell_type": "markdown",
   "metadata": {},
   "source": [
    "## 變成投影片\n",
    "- ipython nbconvert your_slides.ipynb --to slides --post serve"
   ]
  },
  {
   "cell_type": "markdown",
   "metadata": {
    "slideshow": {
     "slide_type": "slide"
    }
   },
   "source": [
    "## Pandas Example"
   ]
  },
  {
   "cell_type": "code",
   "execution_count": 8,
   "metadata": {
    "collapsed": false,
    "slideshow": {
     "slide_type": "slide"
    }
   },
   "outputs": [
    {
     "name": "stdout",
     "output_type": "stream",
     "text": [
      "Populating the interactive namespace from numpy and matplotlib\n"
     ]
    }
   ],
   "source": [
    "%pylab inline"
   ]
  },
  {
   "cell_type": "code",
   "execution_count": 9,
   "metadata": {
    "collapsed": false,
    "slideshow": {
     "slide_type": "slide"
    }
   },
   "outputs": [
    {
     "data": {
      "text/plain": [
       "<matplotlib.axes._subplots.AxesSubplot at 0xc3faf28>"
      ]
     },
     "execution_count": 9,
     "metadata": {},
     "output_type": "execute_result"
    },
    {
     "data": {
      "image/png": "[encoded data removed]",
      "text/plain": [
       "<matplotlib.figure.Figure at 0x3c0f278>"
      ]
     },
     "metadata": {},
     "output_type": "display_data"
    }
   ],
   "source": [
    "import pandas\n",
    "df = pandas.read_excel('591sample5.Xlsx')\n",
    "df[u'價格'].plot(kind='box', y = u'價格')"
   ]
  },
  {
   "cell_type": "markdown",
   "metadata": {},
   "source": [
    "## 數字"
   ]
  },
  {
   "cell_type": "code",
   "execution_count": 15,
   "metadata": {
    "collapsed": false
   },
   "outputs": [
    {
     "data": {
      "text/plain": [
       "400.0"
      ]
     },
     "execution_count": 15,
     "metadata": {},
     "output_type": "execute_result"
    }
   ],
   "source": [
    "4E2"
   ]
  },
  {
   "cell_type": "code",
   "execution_count": 16,
   "metadata": {
    "collapsed": false
   },
   "outputs": [
    {
     "data": {
      "text/plain": [
       "300.0"
      ]
     },
     "execution_count": 16,
     "metadata": {},
     "output_type": "execute_result"
    }
   ],
   "source": [
    "3e2"
   ]
  },
  {
   "cell_type": "code",
   "execution_count": 18,
   "metadata": {
    "collapsed": false
   },
   "outputs": [
    {
     "data": {
      "text/plain": [
       "(2, -2, 1.0, -2.1)"
      ]
     },
     "execution_count": 18,
     "metadata": {},
     "output_type": "execute_result"
    }
   ],
   "source": [
    "2, -2, 1.0, -2.1 "
   ]
  },
  {
   "cell_type": "code",
   "execution_count": 19,
   "metadata": {
    "collapsed": false
   },
   "outputs": [
    {
     "data": {
      "text/plain": [
       "3"
      ]
     },
     "execution_count": 19,
     "metadata": {},
     "output_type": "execute_result"
    }
   ],
   "source": [
    "# 相加\n",
    "2+1"
   ]
  },
  {
   "cell_type": "code",
   "execution_count": 20,
   "metadata": {
    "collapsed": false
   },
   "outputs": [
    {
     "data": {
      "text/plain": [
       "1"
      ]
     },
     "execution_count": 20,
     "metadata": {},
     "output_type": "execute_result"
    }
   ],
   "source": [
    "# 相減\n",
    "2-1"
   ]
  },
  {
   "cell_type": "code",
   "execution_count": 21,
   "metadata": {
    "collapsed": false
   },
   "outputs": [
    {
     "data": {
      "text/plain": [
       "4"
      ]
     },
     "execution_count": 21,
     "metadata": {},
     "output_type": "execute_result"
    }
   ],
   "source": [
    "# 相乘\n",
    "2*2"
   ]
  },
  {
   "cell_type": "code",
   "execution_count": 22,
   "metadata": {
    "collapsed": false
   },
   "outputs": [
    {
     "data": {
      "text/plain": [
       "1"
      ]
     },
     "execution_count": 22,
     "metadata": {},
     "output_type": "execute_result"
    }
   ],
   "source": [
    "# 相除\n",
    "3/2"
   ]
  },
  {
   "cell_type": "code",
   "execution_count": 30,
   "metadata": {
    "collapsed": false
   },
   "outputs": [
    {
     "name": "stdout",
     "output_type": "stream",
     "text": [
      "1.5\n",
      "1.5\n",
      "1.5\n",
      "1.5\n"
     ]
    }
   ],
   "source": [
    "print 3.0 / 2\n",
    "\n",
    "print 3 / 2.0\n",
    "\n",
    "print float(3) / 2 # float function 可以將整數轉換為float\n",
    "\n",
    "from __future__ import division\n",
    "print 3/2"
   ]
  },
  {
   "cell_type": "code",
   "execution_count": 29,
   "metadata": {
    "collapsed": false
   },
   "outputs": [
    {
     "name": "stdout",
     "output_type": "stream",
     "text": [
      "<type 'int'>\n",
      "<type 'float'>\n",
      "<type 'float'>\n"
     ]
    }
   ],
   "source": [
    "print type(3)\n",
    "print type(3.0)\n",
    "print type(float(3))"
   ]
  },
  {
   "cell_type": "code",
   "execution_count": 31,
   "metadata": {
    "collapsed": false
   },
   "outputs": [
    {
     "name": "stdout",
     "output_type": "stream",
     "text": [
      "8\n",
      "2.0\n",
      "105\n",
      "156\n"
     ]
    }
   ],
   "source": [
    "#指數運算\n",
    "print 2**3 \n",
    "\n",
    "# 開根號\n",
    "print 4**0.5 \n",
    "\n",
    "#先乘除後加減 \n",
    "print 2+10*10+3 \n",
    "\n",
    "#使用小括號指定運算順序 \n",
    "print (2+10)*(10+3)"
   ]
  },
  {
   "cell_type": "code",
   "execution_count": 32,
   "metadata": {
    "collapsed": false
   },
   "outputs": [
    {
     "data": {
      "text/plain": [
       "10"
      ]
     },
     "execution_count": 32,
     "metadata": {},
     "output_type": "execute_result"
    }
   ],
   "source": [
    "a = 5 \n",
    "# Python會將a視為5\n",
    "a + a"
   ]
  },
  {
   "cell_type": "code",
   "execution_count": 33,
   "metadata": {
    "collapsed": false
   },
   "outputs": [
    {
     "data": {
      "text/plain": [
       "10"
      ]
     },
     "execution_count": 33,
     "metadata": {},
     "output_type": "execute_result"
    }
   ],
   "source": [
    "a = 10 \n",
    "a"
   ]
  },
  {
   "cell_type": "code",
   "execution_count": 34,
   "metadata": {
    "collapsed": false
   },
   "outputs": [
    {
     "data": {
      "text/plain": [
       "20"
      ]
     },
     "execution_count": 34,
     "metadata": {},
     "output_type": "execute_result"
    }
   ],
   "source": [
    "a = a + a \n",
    "a"
   ]
  },
  {
   "cell_type": "code",
   "execution_count": 35,
   "metadata": {
    "collapsed": false
   },
   "outputs": [
    {
     "data": {
      "text/plain": [
       "827.648"
      ]
     },
     "execution_count": 35,
     "metadata": {},
     "output_type": "execute_result"
    }
   ],
   "source": [
    "price = 25.6\n",
    "exchange_rate = 32.33 \n",
    "ntd_price= price * exchange_rate \n",
    "ntd_price"
   ]
  },
  {
   "cell_type": "code",
   "execution_count": 36,
   "metadata": {
    "collapsed": false
   },
   "outputs": [
    {
     "data": {
      "text/plain": [
       "1.5"
      ]
     },
     "execution_count": 36,
     "metadata": {},
     "output_type": "execute_result"
    }
   ],
   "source": [
    "3/2"
   ]
  },
  {
   "cell_type": "code",
   "execution_count": 38,
   "metadata": {
    "collapsed": false
   },
   "outputs": [
    {
     "data": {
      "text/plain": [
       "['__abs__',\n",
       " '__add__',\n",
       " '__and__',\n",
       " '__class__',\n",
       " '__cmp__',\n",
       " '__coerce__',\n",
       " '__delattr__',\n",
       " '__div__',\n",
       " '__divmod__',\n",
       " '__doc__',\n",
       " '__float__',\n",
       " '__floordiv__',\n",
       " '__format__',\n",
       " '__getattribute__',\n",
       " '__getnewargs__',\n",
       " '__hash__',\n",
       " '__hex__',\n",
       " '__index__',\n",
       " '__init__',\n",
       " '__int__',\n",
       " '__invert__',\n",
       " '__long__',\n",
       " '__lshift__',\n",
       " '__mod__',\n",
       " '__mul__',\n",
       " '__neg__',\n",
       " '__new__',\n",
       " '__nonzero__',\n",
       " '__oct__',\n",
       " '__or__',\n",
       " '__pos__',\n",
       " '__pow__',\n",
       " '__radd__',\n",
       " '__rand__',\n",
       " '__rdiv__',\n",
       " '__rdivmod__',\n",
       " '__reduce__',\n",
       " '__reduce_ex__',\n",
       " '__repr__',\n",
       " '__rfloordiv__',\n",
       " '__rlshift__',\n",
       " '__rmod__',\n",
       " '__rmul__',\n",
       " '__ror__',\n",
       " '__rpow__',\n",
       " '__rrshift__',\n",
       " '__rshift__',\n",
       " '__rsub__',\n",
       " '__rtruediv__',\n",
       " '__rxor__',\n",
       " '__setattr__',\n",
       " '__sizeof__',\n",
       " '__str__',\n",
       " '__sub__',\n",
       " '__subclasshook__',\n",
       " '__truediv__',\n",
       " '__trunc__',\n",
       " '__xor__',\n",
       " 'bit_length',\n",
       " 'conjugate',\n",
       " 'denominator',\n",
       " 'imag',\n",
       " 'numerator',\n",
       " 'real']"
      ]
     },
     "execution_count": 38,
     "metadata": {},
     "output_type": "execute_result"
    }
   ],
   "source": [
    "dir(3)"
   ]
  },
  {
   "cell_type": "code",
   "execution_count": 41,
   "metadata": {
    "collapsed": false
   },
   "outputs": [
    {
     "name": "stdout",
     "output_type": "stream",
     "text": [
      "hello world\n"
     ]
    }
   ],
   "source": [
    "dir('hello world')\n",
    "print 'hello world'"
   ]
  },
  {
   "cell_type": "code",
   "execution_count": 42,
   "metadata": {
    "collapsed": false
   },
   "outputs": [
    {
     "data": {
      "text/plain": [
       "'This is also a string'"
      ]
     },
     "execution_count": 42,
     "metadata": {},
     "output_type": "execute_result"
    }
   ],
   "source": [
    "'This is also a string' "
   ]
  },
  {
   "cell_type": "code",
   "execution_count": 43,
   "metadata": {
    "collapsed": false
   },
   "outputs": [
    {
     "data": {
      "text/plain": [
       "'String built with double quotes'"
      ]
     },
     "execution_count": 43,
     "metadata": {},
     "output_type": "execute_result"
    }
   ],
   "source": [
    "\"String built with double quotes\" "
   ]
  },
  {
   "cell_type": "code",
   "execution_count": 44,
   "metadata": {
    "collapsed": false
   },
   "outputs": [
    {
     "ename": "SyntaxError",
     "evalue": "invalid syntax (<ipython-input-44-14297164c075>, line 1)",
     "output_type": "error",
     "traceback": [
      "\u001b[1;36m  File \u001b[1;32m\"<ipython-input-44-14297164c075>\"\u001b[1;36m, line \u001b[1;32m1\u001b[0m\n\u001b[1;33m    ' I'm using single quotes, but will create an error'\u001b[0m\n\u001b[1;37m        ^\u001b[0m\n\u001b[1;31mSyntaxError\u001b[0m\u001b[1;31m:\u001b[0m invalid syntax\n"
     ]
    }
   ],
   "source": [
    "' I'm using single quotes, but will create an error'\n"
   ]
  },
  {
   "cell_type": "code",
   "execution_count": 45,
   "metadata": {
    "collapsed": false
   },
   "outputs": [
    {
     "data": {
      "text/plain": [
       "\" I'm using single quotes, but will create an error\""
      ]
     },
     "execution_count": 45,
     "metadata": {},
     "output_type": "execute_result"
    }
   ],
   "source": [
    "\" I'm using single quotes, but will create an error\""
   ]
  },
  {
   "cell_type": "code",
   "execution_count": 46,
   "metadata": {
    "collapsed": false
   },
   "outputs": [
    {
     "name": "stdout",
     "output_type": "stream",
     "text": [
      "Hello world\n",
      "寶寶心理苦，但寶寶不說\n"
     ]
    }
   ],
   "source": [
    "# 印出字詞 \n",
    "print 'Hello world' \n",
    "# 中文也沒問題\n",
    "print '寶寶心理苦，但寶寶不說'"
   ]
  },
  {
   "cell_type": "code",
   "execution_count": 47,
   "metadata": {
    "collapsed": false
   },
   "outputs": [
    {
     "name": "stdout",
     "output_type": "stream",
     "text": [
      "Hello world 1\n",
      "Hello world 2\n",
      "Use \n",
      " to print a new line\n",
      "\n",
      "\n",
      "See what i mean?\n"
     ]
    }
   ],
   "source": [
    "# 用Print列出所有結果\n",
    "print('Hello world 1')\n",
    "print('Hello world 2')\n",
    "print('Use \\n to print a new line')\n",
    "print('\\n')\n",
    "print('See what i mean?')"
   ]
  },
  {
   "cell_type": "code",
   "execution_count": 48,
   "metadata": {
    "collapsed": false
   },
   "outputs": [
    {
     "name": "stdout",
     "output_type": "stream",
     "text": [
      "aaaaaaaaaaaaaaaaaaaaaaaaaaaaaaaaaaaaaaaaaaaaaaaaaaaaaaaaaaaaaaaaaaaaaaaaa\n"
     ]
    }
   ],
   "source": [
    "print 'aaaaaaaaaaaaaaaaaaaaaaaaaaaaaaaa\\\n",
    "aaaaaaaaaaaaaaaaaaaaaaaaaaaaaaaaaaaaaaaaa'"
   ]
  },
  {
   "cell_type": "code",
   "execution_count": 50,
   "metadata": {
    "collapsed": false
   },
   "outputs": [
    {
     "ename": "SyntaxError",
     "evalue": "EOL while scanning string literal (<ipython-input-50-0f0d68a4c552>, line 2)",
     "output_type": "error",
     "traceback": [
      "\u001b[1;36m  File \u001b[1;32m\"<ipython-input-50-0f0d68a4c552>\"\u001b[1;36m, line \u001b[1;32m2\u001b[0m\n\u001b[1;33m    print 'aaaaaaaaaaaaaaaaaaaaaaaaaaaaaaaa\\\u001b[0m\n\u001b[1;37m                                            ^\u001b[0m\n\u001b[1;31mSyntaxError\u001b[0m\u001b[1;31m:\u001b[0m EOL while scanning string literal\n"
     ]
    }
   ],
   "source": [
    "#\\ must by the last character\n",
    "print 'aaaaaaaaaaaaaaaaaaaaaaaaaaaaaaaa\\ \n",
    "aaaaaaaaaaaaaaaaaaaaaaaaaaaaaaaaaaaaaaaaa'"
   ]
  },
  {
   "cell_type": "code",
   "execution_count": 52,
   "metadata": {
    "collapsed": false
   },
   "outputs": [
    {
     "name": "stdout",
     "output_type": "stream",
     "text": [
      "Hello world 1\n",
      "Hello world 2\n"
     ]
    }
   ],
   "source": [
    "a = '''Hello world 1\n",
    "Hello world 2'''\n",
    "print a\n"
   ]
  },
  {
   "cell_type": "code",
   "execution_count": 53,
   "metadata": {
    "collapsed": false
   },
   "outputs": [
    {
     "name": "stdout",
     "output_type": "stream",
     "text": [
      "Here is a new line \n",
      " and here is the second line\n"
     ]
    }
   ],
   "source": [
    "print('Here is a new line \\n and here is the second line')\n"
   ]
  },
  {
   "cell_type": "code",
   "execution_count": 56,
   "metadata": {
    "collapsed": false
   },
   "outputs": [
    {
     "name": "stdout",
     "output_type": "stream",
     "text": [
      "Here is a new line \t and here is the second line\n",
      "c1\tc2\tc3 \n",
      "v1\tv2\tv3\n"
     ]
    }
   ],
   "source": [
    "print('Here is a new line \\t and here is the second line')\n",
    "print('''c1\\tc2\\tc3 \n",
    "v1\\tv2\\tv3''')\n"
   ]
  },
  {
   "cell_type": "code",
   "execution_count": 59,
   "metadata": {
    "collapsed": false
   },
   "outputs": [
    {
     "name": "stdout",
     "output_type": "stream",
     "text": [
      "Hello\n",
      "H\n",
      "e\n",
      "寶\n"
     ]
    }
   ],
   "source": [
    "s = 'Hello'\n",
    "print(s)\n",
    "\n",
    "#Python的編制索引為從0開始\n",
    "print s[0] \n",
    "print s[1] \n",
    "\n",
    "s1 = u'寶寶心裡苦'\n",
    "print s1[0]"
   ]
  },
  {
   "cell_type": "code",
   "execution_count": 61,
   "metadata": {
    "collapsed": false
   },
   "outputs": [
    {
     "name": "stdout",
     "output_type": "stream",
     "text": [
      "o\n",
      "l\n",
      "苦\n"
     ]
    }
   ],
   "source": [
    "#也可使用負號從後面開始索引\n",
    "print s[-1]\n",
    "print s[-2]\n",
    "print s1[-1]"
   ]
  },
  {
   "cell_type": "code",
   "execution_count": 64,
   "metadata": {
    "collapsed": false
   },
   "outputs": [
    {
     "name": "stdout",
     "output_type": "stream",
     "text": [
      "Hello\n",
      "ello\n",
      "Hel\n",
      "Hello\n"
     ]
    }
   ],
   "source": [
    "print s\n",
    "print s[1:]\n",
    "print s[:3]\n",
    "print s[:]"
   ]
  },
  {
   "cell_type": "code",
   "execution_count": 65,
   "metadata": {
    "collapsed": false
   },
   "outputs": [
    {
     "name": "stdout",
     "output_type": "stream",
     "text": [
      "www.continuum.io/downloads\n"
     ]
    }
   ],
   "source": [
    "url = 'https://www.continuum.io/downloads'\n",
    "print url[8:]"
   ]
  },
  {
   "cell_type": "code",
   "execution_count": 67,
   "metadata": {
    "collapsed": false
   },
   "outputs": [
    {
     "name": "stdout",
     "output_type": "stream",
     "text": [
      "Hello\n",
      "Hlo\n",
      "olleH\n"
     ]
    }
   ],
   "source": [
    "#  for(int i=0; i< len(s); i++)\n",
    "print s[::1]\n",
    "#  for(int i=0; i< len(s); i+=2)\n",
    "print s[::2]\n",
    "#  for(int i=len(s) -1 ; i > 0; i--)\n",
    "print s[::-1]"
   ]
  },
  {
   "cell_type": "code",
   "execution_count": 74,
   "metadata": {
    "collapsed": false
   },
   "outputs": [
    {
     "name": "stdout",
     "output_type": "stream",
     "text": [
      "上海自來水來自海上\n",
      "上海自來水來自海上\n",
      "True\n",
      "上海 海自 自來\n"
     ]
    }
   ],
   "source": [
    "s = u'上海自來水來自海上'\n",
    "print s\n",
    "print s[::-1]\n",
    "print s == s[::-1]\n",
    "print s[0:2], s[1:3], s[2:4]"
   ]
  },
  {
   "cell_type": "code",
   "execution_count": 78,
   "metadata": {
    "collapsed": false
   },
   "outputs": [
    {
     "name": "stdout",
     "output_type": "stream",
     "text": [
      "h\n"
     ]
    },
    {
     "ename": "TypeError",
     "evalue": "'str' object does not support item assignment",
     "output_type": "error",
     "traceback": [
      "\u001b[1;31m---------------------------------------------------------------------------\u001b[0m",
      "\u001b[1;31mTypeError\u001b[0m                                 Traceback (most recent call last)",
      "\u001b[1;32m<ipython-input-78-1716ac4e96f2>\u001b[0m in \u001b[0;36m<module>\u001b[1;34m()\u001b[0m\n\u001b[0;32m      1\u001b[0m \u001b[0ms\u001b[0m \u001b[1;33m=\u001b[0m \u001b[1;34m'hello'\u001b[0m\u001b[1;33m\u001b[0m\u001b[0m\n\u001b[0;32m      2\u001b[0m \u001b[1;32mprint\u001b[0m \u001b[0ms\u001b[0m\u001b[1;33m[\u001b[0m\u001b[1;36m0\u001b[0m\u001b[1;33m]\u001b[0m\u001b[1;33m\u001b[0m\u001b[0m\n\u001b[1;32m----> 3\u001b[1;33m \u001b[0ms\u001b[0m\u001b[1;33m[\u001b[0m\u001b[1;36m0\u001b[0m\u001b[1;33m]\u001b[0m \u001b[1;33m=\u001b[0m \u001b[1;34m'x'\u001b[0m\u001b[1;33m\u001b[0m\u001b[0m\n\u001b[0m",
      "\u001b[1;31mTypeError\u001b[0m: 'str' object does not support item assignment"
     ]
    }
   ],
   "source": [
    "s = 'hello'\n",
    "print s[0]\n",
    "s[0] = 'x'"
   ]
  },
  {
   "cell_type": "code",
   "execution_count": 79,
   "metadata": {
    "collapsed": false
   },
   "outputs": [
    {
     "name": "stdout",
     "output_type": "stream",
     "text": [
      "hello world\n"
     ]
    }
   ],
   "source": [
    "s= 'hello'\n",
    "s = s + ' world'\n",
    "print s"
   ]
  },
  {
   "cell_type": "code",
   "execution_count": 82,
   "metadata": {
    "collapsed": false
   },
   "outputs": [
    {
     "name": "stdout",
     "output_type": "stream",
     "text": [
      "??????????\n",
      "????????????????????\n",
      "hellohellohello\n"
     ]
    }
   ],
   "source": [
    "a = '?'\n",
    "print a * 10\n",
    "print a * 20\n",
    "print 'hello' * 3"
   ]
  },
  {
   "cell_type": "code",
   "execution_count": 86,
   "metadata": {
    "collapsed": false
   },
   "outputs": [
    {
     "name": "stdout",
     "output_type": "stream",
     "text": [
      "['__add__', '__class__', '__contains__', '__delattr__', '__doc__', '__eq__', '__format__', '__ge__', '__getattribute__', '__getitem__', '__getnewargs__', '__getslice__', '__gt__', '__hash__', '__init__', '__le__', '__len__', '__lt__', '__mod__', '__mul__', '__ne__', '__new__', '__reduce__', '__reduce_ex__', '__repr__', '__rmod__', '__rmul__', '__setattr__', '__sizeof__', '__str__', '__subclasshook__', '_formatter_field_name_split', '_formatter_parser', 'capitalize', 'center', 'count', 'decode', 'encode', 'endswith', 'expandtabs', 'find', 'format', 'index', 'isalnum', 'isalpha', 'isdecimal', 'isdigit', 'islower', 'isnumeric', 'isspace', 'istitle', 'isupper', 'join', 'ljust', 'lower', 'lstrip', 'partition', 'replace', 'rfind', 'rindex', 'rjust', 'rpartition', 'rsplit', 'rstrip', 'split', 'splitlines', 'startswith', 'strip', 'swapcase', 'title', 'translate', 'upper', 'zfill']\n"
     ]
    }
   ],
   "source": [
    "s = u'上海自來水來自海上'\n",
    "print dir(s)\n",
    "\n",
    "?s.count"
   ]
  },
  {
   "cell_type": "code",
   "execution_count": 87,
   "metadata": {
    "collapsed": false
   },
   "outputs": [
    {
     "name": "stdout",
     "output_type": "stream",
     "text": [
      "2\n"
     ]
    }
   ],
   "source": [
    "print s.count(u'自')"
   ]
  },
  {
   "cell_type": "code",
   "execution_count": 119,
   "metadata": {
    "collapsed": false
   },
   "outputs": [
    {
     "name": "stdout",
     "output_type": "stream",
     "text": [
      "24\n"
     ]
    }
   ],
   "source": [
    "s = u'''\n",
    "各位友邦的元首與貴賓、各國駐台使節及代表、現場的好朋友，全體國人同胞，大家好\n",
    "感謝與承擔\n",
    "\n",
    "就在剛剛，我和陳建仁已經在總統府裡面，正式宣誓就任中華民國第十四任總統與副總統。我們要感謝這塊土地對我們的栽培，感謝人民對我們的信任，以及，最重要的，感謝這個國家的民主機制，讓我們透過和平的選舉過程，實現第三次政黨輪替，並且克服種種不確定因素，順利渡過長達四個月的交接期，完成政權和平移轉。\n",
    "\n",
    "台灣，再一次用行動告訴世界，作為一群民主人與自由人，我們有堅定的信念，去捍衛民主自由的生活方式。這段旅程，我們每一個人都參與其中。親愛的台灣人民，我們做到了。\n",
    "\n",
    "我要告訴大家，對於一月十六日的選舉結果，我從來沒有其他的解讀方式。人民選擇了新總統、新政府，所期待的就是四個字：解決問題。此時此刻，台灣的處境很困難，迫切需要執政者義無反顧的承擔。這一點，我不會忘記。\n",
    "\n",
    "我也要告訴大家，眼前的種種難關，需要我們誠實面對，需要我們共同承擔。所以，這個演說是一個邀請，我要邀請全體國人同胞一起來，扛起這個國家的未來。\n",
    "\n",
    "國家不會因為領導人而偉大；全體國民的共同奮鬥，才讓這個國家偉大。總統該團結的不只是支持者，總統該團結的是整個國家。團結是為了改變，這是我對這個國家最深切的期待。在這裡，我要誠懇地呼籲，請給這個國家一個機會，讓我們拋下成見，拋下過去的對立，我們一起來完成新時代交給我們的使命。\n",
    "\n",
    "在我們共同奮鬥的過程中，身為總統，我要向全國人民宣示，未來我和新政府，將領導這個國家的改革，展現決心，絕不退縮。\n",
    "\n",
    "為年輕人打造一個更好的國家\n",
    "\n",
    "未來的路並不好走，台灣需要一個正面迎向一切挑戰的新政府，我的責任就是領導這個新政府。\n",
    "\n",
    "我們的年金制度，如果不改，就會破產。我們僵化的教育制度，已經逐漸與社會脈動脫節。我們的能源與資源十分有限，我們的經濟缺乏動能，舊的代工模式已經面臨瓶頸，整個國家極需要新的經濟發展模式。我們的人口結構急速老化，長照體系卻尚未健全。我們的人口出生率持續低落，完善的托育制度卻始終遙遙無期。我們環境汙染問題仍然嚴重。我們國家的財政並不樂觀。我們的司法已經失去人民的信任。我們的食品安全問題，困擾著所有家庭。我們的貧富差距越來越嚴重。我們的社會安全網還是有很多破洞。最重要的，我要特別強調，我們的年輕人處於低薪的處境，他們的人生，動彈不得，對於未來，充滿無奈與茫然。\n",
    "\n",
    "年輕人的未來是政府的責任。如果不友善的結構沒有改變，再多個人菁英的出現，都不足以讓整體年輕人的處境變好。我期許自己，在未來的任期之內，要一步一步，從根本的結構來解決這個國家的問題。\n",
    "\n",
    "這就是我想為台灣的年輕人做的事。雖然我沒有辦法立刻幫所有的年輕人加薪，但是我願意承諾，新政府會立刻展開行動。請給我們一點時間，也請跟我們一起走上改革的這一條路。\n",
    "\n",
    "改變年輕人的處境，就是改變國家的處境。一個國家的年輕人沒有未來，這個國家必定沒有未來。幫助年輕人突破困境，實現世代正義，把一個更好的國家交到下一代手上，就是新政府重大的責任。 第一、經濟結構的轉型\n",
    "\n",
    "要打造一個更好的國家，未來，新政府要做到以下幾件事情。\n",
    "\n",
    "首先，就是讓台灣的經濟結構轉型。這是新政府所必須承擔的最艱鉅使命。我們不要妄自菲薄，更不要失去信心。台灣有很多別的國家沒有的優勢，我們有海洋經濟的活力和靭性，高素質的人力資源、務實可靠的工程師文化、完整的產業鏈、敏捷靈活的中小企業，以及，永不屈服的創業精神。\n",
    "\n",
    "我們要讓台灣經濟脫胎換骨，就必須從現在起就下定決心，勇敢地走出另外一條路。這一條路，就是打造台灣經濟發展的新模式。\n",
    "\n",
    "新政府將打造一個以創新、就業、分配為核心價值，追求永續發展的新經濟模式。改革的第一步，就是強化經濟的活力與自主性，加強和全球及區域的連結，積極參與多邊及雙邊經濟合作及自由貿易談判，包括TPP、RCEP等，並且，推動新南向政策，提升對外經濟的格局及多元性，告別以往過於依賴單一市場的現象。 除此之外，新政府相信，唯有激發新的成長動能，我們才能突破當前經濟的停滯不前。我們會以出口和內需作為雙引擎，讓企業生產和人民生活互為表裡，讓對外貿易和在地經濟緊密連結。\n",
    "\n",
    "我們會優先推動五大創新研發計畫，藉著這些產業來重新塑造台灣的全球競爭力。我們也要積極提升勞動生產力，保障勞工權益，讓薪資和經濟成長能同步提升。\n",
    "\n",
    "這是台灣經濟發展的關鍵時刻。我們有決心，也有溝通能力。我們已經有系統性的規劃，未來，會以跨部會聯手的模式，把整個國家的力量集結起來，一起來催生這個新模式。\n",
    "\n",
    "在經濟發展的同時，我們不要忘記對環境的責任。經濟發展的新模式會和國土規劃、區域發展及環境永續，相互結合。產業的佈局和國土的利用，應該拋棄零碎的規畫，和短視近利的眼光。我們必須追求區域的均衡發展，這需要中央來規畫、整合，也需要地方政府充分發揮區域聯合治理的精神。 我們也不能再像過去，無止盡地揮霍自然資源及國民健康。所以，對各種汙染的控制，我們會嚴格把關，更要讓台灣走向循環經濟的時代，把廢棄物轉換為再生資源。對於能源的選擇，我們會以永續的觀念去逐步調整。新政府會嚴肅看待氣候變遷、國土保育、災害防治的相關議題，因為，我們只有一個地球，我們也只有一個台灣。\n",
    "\n",
    "第二、強化社會安全網\n",
    "\n",
    "新政府必須要承擔的第二件事情，就是強化台灣的社會安全網。這些年，幾件關於兒少安全及隨機殺人的事件，都讓整個社會震驚。不過，一個政府不能永遠在震驚，它必須要有同理心。沒有人可以替受害者家屬承受傷痛，但是，一個政府，尤其是第一線處理問題的人，必須要讓受害者以及家屬覺得，不幸事件發生的時候，政府是站在他們這一邊。\n",
    "\n",
    "除了同理心之外，政府更應該要提出解決的方法。全力防止悲劇一再發生，從治安、教育、心理健康、社會工作等各個面向，積極把破洞補起來。尤其是治安與反毒的工作，這些事情，新政府會用最嚴肅的態度和行動來面對。 在年金的改革方面，這是攸關台灣生存發展的關鍵改革，我們不應該遲疑，也不可以躁進。由陳建仁副總統擔任召集人的年金改革委員會，已經緊鑼密鼓在籌備之中。過去的政府在這個議題上，曾經有過一些努力。但是，缺乏社會的參與。新政府的做法，是發動一個集體協商，因為年金改革必須是一個透過協商來團結所有人的過程。\n",
    "\n",
    "這就是為什麼，我們要召開年金改革國是會議，由不同階層、不同職業代表，在社會團結的基礎上，共同協商。一年之內，我們會提出可行的改革方案。無論是勞工還是公務員，每一個國民的退休生活都應該得到公平的保障。\n",
    "\n",
    "另外，在長期照顧的議題上，我們將會把優質、平價、普及的長期照顧系統建立起來。和年金改革一樣，長照體系也是一個社會總動員的過程。新政府的做法是由政府主導和規劃，鼓勵民間發揮社區主義的精神，透過社會集體互助的力量，來建立一套妥善而完整的體系。每一個老年人都可以在自己熟悉的社區，安心享受老年生活，每一個家庭的照顧壓力將會減輕。照顧老人的工作不能完全讓它變成自由市場。我們會把責任扛起來，按部就班來規劃與執行，為超高齡社會的來臨，做好準備。 第三、社會的公平與正義\n",
    "\n",
    "新政府要承擔的第三件事情，就是社會的公平與正義。在這個議題上，新政府會持續和公民社會一起合作，讓台灣的政策更符合多元、平等、開放、透明、人權的價值，讓台灣的民主機制更加深化與進化。\n",
    "\n",
    "新的民主制度要能夠上路，我們必須先找出面對過去的共同方法。未來，我會在總統府成立真相與和解委員會，用最誠懇與謹慎的態度，來處理過去的歷史。追求轉型正義的目標是在追求社會的真正和解，讓所有台灣人都記取那個時代的錯誤。\n",
    "\n",
    "我們將從真相的調查與整理出發，預計在三年之內，完成台灣自己的轉型正義調查報告書。我們將會依據調查報告所揭示的真相，來進行後續的轉型正義工作。挖掘真相、彌平傷痕、釐清責任。從此以後，過去的歷史不再是台灣分裂的原因，而是台灣一起往前走的動力。\n",
    "\n",
    "同樣在公平正義的議題上，我會秉持相同的原則，來面對原住民族的議題。今天的就職典禮，原住民族的小朋友在唱國歌之前，先唱了他們部落傳統的古調。這象徵了，我們不敢忘記，這個島上先來後到的順序。 新政府會用道歉的態度，來面對原住民族相關議題，重建原民史觀，逐步推動自治，復育語言文化，提升生活照顧，這就是我要領導新政府推動的改變。\n",
    "\n",
    "接下來，新政府也會積極推動司法改革。這是現階段台灣人民最關心的議題。司法無法親近人民、不被人民信任、司法無法有效打擊犯罪，以及，司法失去作為正義最後一道防線的功能，是人民普遍的感受。\n",
    "\n",
    "為了展現新政府的決心，我們會在今年十月召開司法國是會議，透過人民實際的參與，讓社會力進來，一起推動司法改革。司法必須回應人民的需求，不再只是法律人的司法，而是全民的司法。司法改革也不只是司法人的家務事，而是全民參與的改革。這就是我對司法改革的期待。\n",
    "\n",
    "第四、區域的和平穩定發展及兩岸關係\n",
    "\n",
    "新政府要承擔的第四件事情，是區域的和平穩定與發展，以及妥善處理兩岸關係。過去三十年，無論是對亞洲或是全球，都是變動最劇烈的時期；而全球及區域的經濟穩定和集體安全，也是各國政府越來越關切的課題。\n",
    "\n",
    "台灣在區域發展當中，一直是不可或缺的關鍵角色。但是近年來，區域的情勢快速變動，如果台灣不善用自己的實力和籌碼，積極參與區域事務，不但將會變得無足輕重，甚至可能被邊緣化，喪失對於未來的自主權。\n",
    "\n",
    "我們有危機，但也有轉機。台灣現階段的經濟發展，和區域中許多國家高度關聯和互補。如果將打造經濟發展新模式的努力，透過和亞洲、乃至亞太區域的國家合作，共同形塑未來的發展策略，不但可以為區域的經濟創新、結構調整和永續發展，做出積極的貢獻，更可以和區域內的成員，建立緊密的「經濟共同體」意識。\n",
    "\n",
    "我們要和其他國家共享資源、人才與市場，擴大經濟規模，讓資源有效利用。「新南向政策」就是基於這樣的精神。我們會在科技、文化與經貿等各層面，和區域成員廣泛交流合作，尤其是增進與東協、印度的多元關係。為此，我們也願意和對岸，就共同參與區域發展的相關議題，坦誠交換意見，尋求各種合作與協力的可能性。\n",
    "\n",
    "在積極發展經濟的同時，亞太地區的安全情勢也變得越來越複雜，而兩岸關係，也成為建構區域和平與集體安全的重要一環。這個建構的進程，台灣會做一個「和平的堅定維護者」，積極參與，絕不缺席；我們也將致力維持兩岸關係的和平穩定；我們更會努力促成內部和解，強化民主機制，凝聚共識，形成一致對外的立場。\n",
    "\n",
    "對話和溝通，是我們達成目標最重要的關鍵。台灣也要成為一個「和平的積極溝通者」，我們將和相關的各方，建立常態、緊密的溝通機制，隨時交換意見，防止誤判，建立互信，有效解決爭議。我們將謹守和平原則、利益共享原則，來處理相關的爭議。\n",
    "\n",
    "我依照中華民國憲法當選總統，我有責任捍衛中華民國的主權和領土；對於東海及南海問題，我們主張應擱置爭議，共同開發。\n",
    "\n",
    "兩岸之間的對話與溝通，我們也將努力維持現有的機制。1992年兩岸兩會秉持相互諒解、求同存異的政治思維，進行溝通協商，達成若干的共同認知與諒解，我尊重這個歷史事實。92年之後，20多年來雙方交流、協商所累積形成的現狀與成果，兩岸都應該共同珍惜與維護，並在這個既有的事實與政治基礎上，持續推動兩岸關係和平穩定發展；新政府會依據中華民國憲法、兩岸人民關係條例及其他相關法律，處理兩岸事務。兩岸的兩個執政黨應該要放下歷史包袱，展開良性對話，造福兩岸人民。\n",
    "\n",
    "我所講的既有政治基礎，包含幾個關鍵元素，第一，1992年兩岸兩會會談的歷史事實與求同存異的共同認知，這是歷史事實；第二，中華民國現行憲政體制；第三，兩岸過去20多年來協商和交流互動的成果；第四，台灣民主原則及普遍民意。\n",
    "\n",
    "第五、外交與全球性議題\n",
    "\n",
    "新政府要承擔的第五件事情，是善盡地球公民的責任，在外交與全球性的議題上做出貢獻。讓台灣走向世界，也要讓世界走進台灣。\n",
    "\n",
    "現場有許多來自各國的元首與使節團，我要特別謝謝他們，長久以來一直幫助台灣，讓我們有機會參與國際社會。未來，我們會持續透過官方互動、企業投資與民間合作各種方式，分享台灣發展的經驗，與友邦建立永續的夥伴關係。\n",
    "\n",
    "台灣是全球公民社會的模範生，民主化以來，我們始終堅持和平、自由、民主及人權的普世價值。我們會秉持這個精神，加入全球議題的價值同盟。我們會繼續深化與包括美國、日本、歐洲在內的友好民主國家的關係，在共同的價值基礎上，推動全方位的合作。\n",
    "\n",
    "我們會積極參與國際經貿合作及規則制定，堅定維護全球的經濟秩序，並且融入重要的區域經貿體系。我們也不會在防制全球暖化、氣候變遷的議題上缺席。我們將會在行政院設立專責的能源和減碳辦公室，並且根據COP21巴黎協議的規定，定期檢討溫室氣體的減量目標，與友好國家攜手，共同維護永續的地球。 \n",
    "\n",
    "同時，新政府會支持並參與，全球性新興議題的國際合作，包括人道救援、醫療援助、疾病的防治與研究、反恐合作，以及共同打擊跨國犯罪，讓台灣成為國際社會不可或缺的夥伴。\n",
    "\n",
    "結語\n",
    "\n",
    "1996年台灣第一次總統直選，到今天剛好20年。過去20年，在幾任政府以及公民社會的努力之下，我們成功渡過了許多新興民主國家必須面對的難關。在這個過程中，我們曾經有過許多感動人心的時刻和故事，不過，正如同世界上其他國家一樣，我們也曾經有過焦慮、不安、矛盾、與對立。\n",
    "\n",
    "我們看到了社會的對立，進步與保守的對立，環境與開發的對立，以及，政治意識之間的對立。這些對立，曾經激發出選舉時的動員能量，不過也因為這些對立，我們的民主逐漸失去了解決問題的能力。\n",
    "\n",
    "民主是一個進程，每一個時代的政治工作者，都要清楚認識他身上所肩負的責任。民主會前進，民主也有可能倒退。今天，我站在這裡，就是要告訴大家，倒退不會是我們的選項。新政府的責任就是把台灣的民主推向下一個階段：以前的民主是選舉的輸贏，現在的民主則是關於人民的幸福；以前的民主是兩個價值觀的對決，現在的民主則是不同價值觀的對話。\n",
    "\n",
    "打造一個沒有被意識形態綁架的「團結的民主」，打造一個可以回應社會與經濟問題的「有效率的民主」，打造一個能夠實質照料人民的「務實的民主」，這就是新時代的意義。\n",
    "\n",
    "只要我們相信，新時代就會來臨。只要這個國家的主人，有堅定的信念，新時代一定會在我們這一代人的手上誕生。\n",
    "\n",
    "各位親愛的台灣人民，演講要結束了，改革要開始了。從這一刻起，這個國家的擔子交在新政府身上。我會讓大家看見這個國家的改變。\n",
    "\n",
    "歷史會記得我們這個勇敢的世代，這個國家的繁榮、尊嚴、團結、自信和公義，都有我們努力的痕跡。歷史會記得我們的勇敢，我們在2016年一起把國家帶向新的方向。這塊土地上的每一個人，都因為參與台灣的改變，而感到驕傲。\n",
    "\n",
    "剛才表演節目中的一首歌曲當中，有一句讓我很感動的歌詞：(台語)現在是彼一天，勇敢ㄟ台灣人。\n",
    "\n",
    "各位國人同胞，兩千三百萬的台灣人民，等待已經結束，現在就是那一天。今天，明天，未來的每一天，我們都要做一個守護民主、守護自由、守護這個國家的台灣人。\n",
    "\n",
    "謝謝大家。\n",
    "\n",
    "'''\n",
    "print s.count(u'民主')\n",
    "#?s.find\n",
    "#print s.find(u'台灣')\n",
    "#print s.split(u'，')"
   ]
  },
  {
   "cell_type": "code",
   "execution_count": null,
   "metadata": {
    "collapsed": true
   },
   "outputs": [],
   "source": [
    "s = [1,2,3,4,5]\n",
    "for e in s :\n",
    "    print e"
   ]
  },
  {
   "cell_type": "code",
   "execution_count": 102,
   "metadata": {
    "collapsed": false
   },
   "outputs": [
    {
     "name": "stdout",
     "output_type": "stream",
     "text": [
      "\n",
      "各位友邦的元首與貴賓、各國駐台使節及代表、現場的好朋友\n",
      "全體國人同胞\n",
      "大家好\n",
      "感謝與承擔\n",
      "\n",
      "就在剛剛\n",
      "我和陳建仁已經在總統府裡面\n",
      "正式宣誓就任中華民國第十四任總統與副總統。我們要感謝這塊土地對我們的栽培\n",
      "感謝人民對我們的信任\n",
      "以及\n",
      "最重要的\n",
      "感謝這個國家的民主機制\n",
      "讓我們透過和平的選舉過程\n",
      "實現第三次政黨輪替\n",
      "並且克服種種不確定因素\n",
      "順利渡過長達四個月的交接期\n",
      "完成政權和平移轉。\n",
      "\n",
      "台灣\n",
      "再一次用行動告訴世界\n",
      "作為一群民主人與自由人\n",
      "我們有堅定的信念\n",
      "去捍衛民主自由的生活方式。這段旅程\n",
      "我們每一個人都參與其中。親愛的台灣人民\n",
      "我們做到了。\n",
      "\n",
      "我要告訴大家\n",
      "對於一月十六日的選舉結果\n",
      "我從來沒有其他的解讀方式。人民選擇了新總統、新政府\n",
      "所期待的就是四個字：解決問題。此時此刻\n",
      "台灣的處境很困難\n",
      "迫切需要執政者義無反顧的承擔。這一點\n",
      "我不會忘記。\n",
      "\n",
      "我也要告訴大家\n",
      "眼前的種種難關\n",
      "需要我們誠實面對\n",
      "需要我們共同承擔。所以\n",
      "這個演說是一個邀請\n",
      "我要邀請全體國人同胞一起來\n",
      "扛起這個國家的未來。\n",
      "\n",
      "國家不會因為領導人而偉大；全體國民的共同奮鬥\n",
      "才讓這個國家偉大。總統該團結的不只是支持者\n",
      "總統該團結的是整個國家。團結是為了改變\n",
      "這是我對這個國家最深切的期待。在這裡\n",
      "我要誠懇地呼籲\n",
      "請給這個國家一個機會\n",
      "讓我們拋下成見\n",
      "拋下過去的對立\n",
      "我們一起來完成新時代交給我們的使命。\n",
      "\n",
      "在我們共同奮鬥的過程中\n",
      "身為總統\n",
      "我要向全國人民宣示\n",
      "未來我和新政府\n",
      "將領導這個國家的改革\n",
      "展現決心\n",
      "絕不退縮。\n",
      "\n",
      "為年輕人打造一個更好的國家\n",
      "\n",
      "未來的路並不好走\n",
      "台灣需要一個正面迎向一切挑戰的新政府\n",
      "我的責任就是領導這個新政府。\n",
      "\n",
      "我們的年金制度\n",
      "如果不改\n",
      "就會破產。我們僵化的教育制度\n",
      "已經逐漸與社會脈動脫節。我們的能源與資源十分有限\n",
      "我們的經濟缺乏動能\n",
      "舊的代工模式已經面臨瓶頸\n",
      "整個國家極需要新的經濟發展模式。我們的人口結構急速老化\n",
      "長照體系卻尚未健全。我們的人口出生率持續低落\n",
      "完善的托育制度卻始終遙遙無期。我們環境汙染問題仍然嚴重。我們國家的財政並不樂觀。我們的司法已經失去人民的信任。我們的食品安全問題\n",
      "困擾著所有家庭。我們的貧富差距越來越嚴重。我們的社會安全網還是有很多破洞。最重要的\n",
      "我要特別強調\n",
      "我們的年輕人處於低薪的處境\n",
      "他們的人生\n",
      "動彈不得\n",
      "對於未來\n",
      "充滿無奈與茫然。\n",
      "\n",
      "年輕人的未來是政府的責任。如果不友善的結構沒有改變\n",
      "再多個人菁英的出現\n",
      "都不足以讓整體年輕人的處境變好。我期許自己\n",
      "在未來的任期之內\n",
      "要一步一步\n",
      "從根本的結構來解決這個國家的問題。\n",
      "\n",
      "這就是我想為台灣的年輕人做的事。雖然我沒有辦法立刻幫所有的年輕人加薪\n",
      "但是我願意承諾\n",
      "新政府會立刻展開行動。請給我們一點時間\n",
      "也請跟我們一起走上改革的這一條路。\n",
      "\n",
      "改變年輕人的處境\n",
      "就是改變國家的處境。一個國家的年輕人沒有未來\n",
      "這個國家必定沒有未來。幫助年輕人突破困境\n",
      "實現世代正義\n",
      "把一個更好的國家交到下一代手上\n",
      "就是新政府重大的責任。 第一、經濟結構的轉型\n",
      "\n",
      "要打造一個更好的國家\n",
      "未來\n",
      "新政府要做到以下幾件事情。\n",
      "\n",
      "首先\n",
      "就是讓台灣的經濟結構轉型。這是新政府所必須承擔的最艱鉅使命。我們不要妄自菲薄\n",
      "更不要失去信心。台灣有很多別的國家沒有的優勢\n",
      "我們有海洋經濟的活力和靭性\n",
      "高素質的人力資源、務實可靠的工程師文化、完整的產業鏈、敏捷靈活的中小企業\n",
      "以及\n",
      "永不屈服的創業精神。\n",
      "\n",
      "我們要讓台灣經濟脫胎換骨\n",
      "就必須從現在起就下定決心\n",
      "勇敢地走出另外一條路。這一條路\n",
      "就是打造台灣經濟發展的新模式。\n",
      "\n",
      "新政府將打造一個以創新、就業、分配為核心價值\n",
      "追求永續發展的新經濟模式。改革的第一步\n",
      "就是強化經濟的活力與自主性\n",
      "加強和全球及區域的連結\n",
      "積極參與多邊及雙邊經濟合作及自由貿易談判\n",
      "包括TPP、RCEP等\n",
      "並且\n",
      "推動新南向政策\n",
      "提升對外經濟的格局及多元性\n",
      "告別以往過於依賴單一市場的現象。 除此之外\n",
      "新政府相信\n",
      "唯有激發新的成長動能\n",
      "我們才能突破當前經濟的停滯不前。我們會以出口和內需作為雙引擎\n",
      "讓企業生產和人民生活互為表裡\n",
      "讓對外貿易和在地經濟緊密連結。\n",
      "\n",
      "我們會優先推動五大創新研發計畫\n",
      "藉著這些產業來重新塑造台灣的全球競爭力。我們也要積極提升勞動生產力\n",
      "保障勞工權益\n",
      "讓薪資和經濟成長能同步提升。\n",
      "\n",
      "這是台灣經濟發展的關鍵時刻。我們有決心\n",
      "也有溝通能力。我們已經有系統性的規劃\n",
      "未來\n",
      "會以跨部會聯手的模式\n",
      "把整個國家的力量集結起來\n",
      "一起來催生這個新模式。\n",
      "\n",
      "在經濟發展的同時\n",
      "我們不要忘記對環境的責任。經濟發展的新模式會和國土規劃、區域發展及環境永續\n",
      "相互結合。產業的佈局和國土的利用\n",
      "應該拋棄零碎的規畫\n",
      "和短視近利的眼光。我們必須追求區域的均衡發展\n",
      "這需要中央來規畫、整合\n",
      "也需要地方政府充分發揮區域聯合治理的精神。 我們也不能再像過去\n",
      "無止盡地揮霍自然資源及國民健康。所以\n",
      "對各種汙染的控制\n",
      "我們會嚴格把關\n",
      "更要讓台灣走向循環經濟的時代\n",
      "把廢棄物轉換為再生資源。對於能源的選擇\n",
      "我們會以永續的觀念去逐步調整。新政府會嚴肅看待氣候變遷、國土保育、災害防治的相關議題\n",
      "因為\n",
      "我們只有一個地球\n",
      "我們也只有一個台灣。\n",
      "\n",
      "第二、強化社會安全網\n",
      "\n",
      "新政府必須要承擔的第二件事情\n",
      "就是強化台灣的社會安全網。這些年\n",
      "幾件關於兒少安全及隨機殺人的事件\n",
      "都讓整個社會震驚。不過\n",
      "一個政府不能永遠在震驚\n",
      "它必須要有同理心。沒有人可以替受害者家屬承受傷痛\n",
      "但是\n",
      "一個政府\n",
      "尤其是第一線處理問題的人\n",
      "必須要讓受害者以及家屬覺得\n",
      "不幸事件發生的時候\n",
      "政府是站在他們這一邊。\n",
      "\n",
      "除了同理心之外\n",
      "政府更應該要提出解決的方法。全力防止悲劇一再發生\n",
      "從治安、教育、心理健康、社會工作等各個面向\n",
      "積極把破洞補起來。尤其是治安與反毒的工作\n",
      "這些事情\n",
      "新政府會用最嚴肅的態度和行動來面對。 在年金的改革方面\n",
      "這是攸關台灣生存發展的關鍵改革\n",
      "我們不應該遲疑\n",
      "也不可以躁進。由陳建仁副總統擔任召集人的年金改革委員會\n",
      "已經緊鑼密鼓在籌備之中。過去的政府在這個議題上\n",
      "曾經有過一些努力。但是\n",
      "缺乏社會的參與。新政府的做法\n",
      "是發動一個集體協商\n",
      "因為年金改革必須是一個透過協商來團結所有人的過程。\n",
      "\n",
      "這就是為什麼\n",
      "我們要召開年金改革國是會議\n",
      "由不同階層、不同職業代表\n",
      "在社會團結的基礎上\n",
      "共同協商。一年之內\n",
      "我們會提出可行的改革方案。無論是勞工還是公務員\n",
      "每一個國民的退休生活都應該得到公平的保障。\n",
      "\n",
      "另外\n",
      "在長期照顧的議題上\n",
      "我們將會把優質、平價、普及的長期照顧系統建立起來。和年金改革一樣\n",
      "長照體系也是一個社會總動員的過程。新政府的做法是由政府主導和規劃\n",
      "鼓勵民間發揮社區主義的精神\n",
      "透過社會集體互助的力量\n",
      "來建立一套妥善而完整的體系。每一個老年人都可以在自己熟悉的社區\n",
      "安心享受老年生活\n",
      "每一個家庭的照顧壓力將會減輕。照顧老人的工作不能完全讓它變成自由市場。我們會把責任扛起來\n",
      "按部就班來規劃與執行\n",
      "為超高齡社會的來臨\n",
      "做好準備。 第三、社會的公平與正義\n",
      "\n",
      "新政府要承擔的第三件事情\n",
      "就是社會的公平與正義。在這個議題上\n",
      "新政府會持續和公民社會一起合作\n",
      "讓台灣的政策更符合多元、平等、開放、透明、人權的價值\n",
      "讓台灣的民主機制更加深化與進化。\n",
      "\n",
      "新的民主制度要能夠上路\n",
      "我們必須先找出面對過去的共同方法。未來\n",
      "我會在總統府成立真相與和解委員會\n",
      "用最誠懇與謹慎的態度\n",
      "來處理過去的歷史。追求轉型正義的目標是在追求社會的真正和解\n",
      "讓所有台灣人都記取那個時代的錯誤。\n",
      "\n",
      "我們將從真相的調查與整理出發\n",
      "預計在三年之內\n",
      "完成台灣自己的轉型正義調查報告書。我們將會依據調查報告所揭示的真相\n",
      "來進行後續的轉型正義工作。挖掘真相、彌平傷痕、釐清責任。從此以後\n",
      "過去的歷史不再是台灣分裂的原因\n",
      "而是台灣一起往前走的動力。\n",
      "\n",
      "同樣在公平正義的議題上\n",
      "我會秉持相同的原則\n",
      "來面對原住民族的議題。今天的就職典禮\n",
      "原住民族的小朋友在唱國歌之前\n",
      "先唱了他們部落傳統的古調。這象徵了\n",
      "我們不敢忘記\n",
      "這個島上先來後到的順序。 新政府會用道歉的態度\n",
      "來面對原住民族相關議題\n",
      "重建原民史觀\n",
      "逐步推動自治\n",
      "復育語言文化\n",
      "提升生活照顧\n",
      "這就是我要領導新政府推動的改變。\n",
      "\n",
      "接下來\n",
      "新政府也會積極推動司法改革。這是現階段台灣人民最關心的議題。司法無法親近人民、不被人民信任、司法無法有效打擊犯罪\n",
      "以及\n",
      "司法失去作為正義最後一道防線的功能\n",
      "是人民普遍的感受。\n",
      "\n",
      "為了展現新政府的決心\n",
      "我們會在今年十月召開司法國是會議\n",
      "透過人民實際的參與\n",
      "讓社會力進來\n",
      "一起推動司法改革。司法必須回應人民的需求\n",
      "不再只是法律人的司法\n",
      "而是全民的司法。司法改革也不只是司法人的家務事\n",
      "而是全民參與的改革。這就是我對司法改革的期待。\n",
      "\n",
      "第四、區域的和平穩定發展及兩岸關係\n",
      "\n",
      "新政府要承擔的第四件事情\n",
      "是區域的和平穩定與發展\n",
      "以及妥善處理兩岸關係。過去三十年\n",
      "無論是對亞洲或是全球\n",
      "都是變動最劇烈的時期；而全球及區域的經濟穩定和集體安全\n",
      "也是各國政府越來越關切的課題。\n",
      "\n",
      "台灣在區域發展當中\n",
      "一直是不可或缺的關鍵角色。但是近年來\n",
      "區域的情勢快速變動\n",
      "如果台灣不善用自己的實力和籌碼\n",
      "積極參與區域事務\n",
      "不但將會變得無足輕重\n",
      "甚至可能被邊緣化\n",
      "喪失對於未來的自主權。\n",
      "\n",
      "我們有危機\n",
      "但也有轉機。台灣現階段的經濟發展\n",
      "和區域中許多國家高度關聯和互補。如果將打造經濟發展新模式的努力\n",
      "透過和亞洲、乃至亞太區域的國家合作\n",
      "共同形塑未來的發展策略\n",
      "不但可以為區域的經濟創新、結構調整和永續發展\n",
      "做出積極的貢獻\n",
      "更可以和區域內的成員\n",
      "建立緊密的「經濟共同體」意識。\n",
      "\n",
      "我們要和其他國家共享資源、人才與市場\n",
      "擴大經濟規模\n",
      "讓資源有效利用。「新南向政策」就是基於這樣的精神。我們會在科技、文化與經貿等各層面\n",
      "和區域成員廣泛交流合作\n",
      "尤其是增進與東協、印度的多元關係。為此\n",
      "我們也願意和對岸\n",
      "就共同參與區域發展的相關議題\n",
      "坦誠交換意見\n",
      "尋求各種合作與協力的可能性。\n",
      "\n",
      "在積極發展經濟的同時\n",
      "亞太地區的安全情勢也變得越來越複雜\n",
      "而兩岸關係\n",
      "也成為建構區域和平與集體安全的重要一環。這個建構的進程\n",
      "台灣會做一個「和平的堅定維護者」\n",
      "積極參與\n",
      "絕不缺席；我們也將致力維持兩岸關係的和平穩定；我們更會努力促成內部和解\n",
      "強化民主機制\n",
      "凝聚共識\n",
      "形成一致對外的立場。\n",
      "\n",
      "對話和溝通\n",
      "是我們達成目標最重要的關鍵。台灣也要成為一個「和平的積極溝通者」\n",
      "我們將和相關的各方\n",
      "建立常態、緊密的溝通機制\n",
      "隨時交換意見\n",
      "防止誤判\n",
      "建立互信\n",
      "有效解決爭議。我們將謹守和平原則、利益共享原則\n",
      "來處理相關的爭議。\n",
      "\n",
      "我依照中華民國憲法當選總統\n",
      "我有責任捍衛中華民國的主權和領土；對於東海及南海問題\n",
      "我們主張應擱置爭議\n",
      "共同開發。\n",
      "\n",
      "兩岸之間的對話與溝通\n",
      "我們也將努力維持現有的機制。1992年兩岸兩會秉持相互諒解、求同存異的政治思維\n",
      "進行溝通協商\n",
      "達成若干的共同認知與諒解\n",
      "我尊重這個歷史事實。92年之後\n",
      "20多年來雙方交流、協商所累積形成的現狀與成果\n",
      "兩岸都應該共同珍惜與維護\n",
      "並在這個既有的事實與政治基礎上\n",
      "持續推動兩岸關係和平穩定發展；新政府會依據中華民國憲法、兩岸人民關係條例及其他相關法律\n",
      "處理兩岸事務。兩岸的兩個執政黨應該要放下歷史包袱\n",
      "展開良性對話\n",
      "造福兩岸人民。\n",
      "\n",
      "我所講的既有政治基礎\n",
      "包含幾個關鍵元素\n",
      "第一\n",
      "1992年兩岸兩會會談的歷史事實與求同存異的共同認知\n",
      "這是歷史事實；第二\n",
      "中華民國現行憲政體制；第三\n",
      "兩岸過去20多年來協商和交流互動的成果；第四\n",
      "台灣民主原則及普遍民意。\n",
      "\n",
      "第五、外交與全球性議題\n",
      "\n",
      "新政府要承擔的第五件事情\n",
      "是善盡地球公民的責任\n",
      "在外交與全球性的議題上做出貢獻。讓台灣走向世界\n",
      "也要讓世界走進台灣。\n",
      "\n",
      "現場有許多來自各國的元首與使節團\n",
      "我要特別謝謝他們\n",
      "長久以來一直幫助台灣\n",
      "讓我們有機會參與國際社會。未來\n",
      "我們會持續透過官方互動、企業投資與民間合作各種方式\n",
      "分享台灣發展的經驗\n",
      "與友邦建立永續的夥伴關係。\n",
      "\n",
      "台灣是全球公民社會的模範生\n",
      "民主化以來\n",
      "我們始終堅持和平、自由、民主及人權的普世價值。我們會秉持這個精神\n",
      "加入全球議題的價值同盟。我們會繼續深化與包括美國、日本、歐洲在內的友好民主國家的關係\n",
      "在共同的價值基礎上\n",
      "推動全方位的合作。\n",
      "\n",
      "我們會積極參與國際經貿合作及規則制定\n",
      "堅定維護全球的經濟秩序\n",
      "並且融入重要的區域經貿體系。我們也不會在防制全球暖化、氣候變遷的議題上缺席。我們將會在行政院設立專責的能源和減碳辦公室\n",
      "並且根據COP21巴黎協議的規定\n",
      "定期檢討溫室氣體的減量目標\n",
      "與友好國家攜手\n",
      "共同維護永續的地球。 \n",
      "\n",
      "同時\n",
      "新政府會支持並參與\n",
      "全球性新興議題的國際合作\n",
      "包括人道救援、醫療援助、疾病的防治與研究、反恐合作\n",
      "以及共同打擊跨國犯罪\n",
      "讓台灣成為國際社會不可或缺的夥伴。\n",
      "\n",
      "結語\n",
      "\n",
      "1996年台灣第一次總統直選\n",
      "到今天剛好20年。過去20年\n",
      "在幾任政府以及公民社會的努力之下\n",
      "我們成功渡過了許多新興民主國家必須面對的難關。在這個過程中\n",
      "我們曾經有過許多感動人心的時刻和故事\n",
      "不過\n",
      "正如同世界上其他國家一樣\n",
      "我們也曾經有過焦慮、不安、矛盾、與對立。\n",
      "\n",
      "我們看到了社會的對立\n",
      "進步與保守的對立\n",
      "環境與開發的對立\n",
      "以及\n",
      "政治意識之間的對立。這些對立\n",
      "曾經激發出選舉時的動員能量\n",
      "不過也因為這些對立\n",
      "我們的民主逐漸失去了解決問題的能力。\n",
      "\n",
      "民主是一個進程\n",
      "每一個時代的政治工作者\n",
      "都要清楚認識他身上所肩負的責任。民主會前進\n",
      "民主也有可能倒退。今天\n",
      "我站在這裡\n",
      "就是要告訴大家\n",
      "倒退不會是我們的選項。新政府的責任就是把台灣的民主推向下一個階段：以前的民主是選舉的輸贏\n",
      "現在的民主則是關於人民的幸福；以前的民主是兩個價值觀的對決\n",
      "現在的民主則是不同價值觀的對話。\n",
      "\n",
      "打造一個沒有被意識形態綁架的「團結的民主」\n",
      "打造一個可以回應社會與經濟問題的「有效率的民主」\n",
      "打造一個能夠實質照料人民的「務實的民主」\n",
      "這就是新時代的意義。\n",
      "\n",
      "只要我們相信\n",
      "新時代就會來臨。只要這個國家的主人\n",
      "有堅定的信念\n",
      "新時代一定會在我們這一代人的手上誕生。\n",
      "\n",
      "各位親愛的台灣人民\n",
      "演講要結束了\n",
      "改革要開始了。從這一刻起\n",
      "這個國家的擔子交在新政府身上。我會讓大家看見這個國家的改變。\n",
      "\n",
      "歷史會記得我們這個勇敢的世代\n",
      "這個國家的繁榮、尊嚴、團結、自信和公義\n",
      "都有我們努力的痕跡。歷史會記得我們的勇敢\n",
      "我們在2016年一起把國家帶向新的方向。這塊土地上的每一個人\n",
      "都因為參與台灣的改變\n",
      "而感到驕傲。\n",
      "\n",
      "剛才表演節目中的一首歌曲當中\n",
      "有一句讓我很感動的歌詞：(台語)現在是彼一天\n",
      "勇敢ㄟ台灣人。\n",
      "\n",
      "各位國人同胞\n",
      "兩千三百萬的台灣人民\n",
      "等待已經結束\n",
      "現在就是那一天。今天\n",
      "明天\n",
      "未來的每一天\n",
      "我們都要做一個守護民主、守護自由、守護這個國家的台灣人。\n",
      "\n",
      "謝謝大家。\n",
      "\n",
      "\n"
     ]
    }
   ],
   "source": [
    "for ele in s.split(u'，'):\n",
    "    print ele"
   ]
  },
  {
   "cell_type": "code",
   "execution_count": 113,
   "metadata": {
    "collapsed": false
   },
   "outputs": [
    {
     "name": "stdout",
     "output_type": "stream",
     "text": [
      "<type 'str'>\n",
      "<type 'unicode'>\n",
      "<type 'unicode'>\n",
      "<type 'str'>\n",
      "[u'\\u5168\\u9ad4\\u570b\\u4eba\\u540c\\u80de']\n"
     ]
    }
   ],
   "source": [
    "s2 =  '全體國人同胞'\n",
    "print type(s2)\n",
    "print type(s2.decode('utf-8'))\n",
    "\n",
    "s3 = u'全體國人同胞'\n",
    "print type(s3)\n",
    "print type(s3.encode('utf-8'))\n",
    "\n",
    "s4  = [u'全體國人同胞']\n",
    "print s4"
   ]
  },
  {
   "cell_type": "code",
   "execution_count": 98,
   "metadata": {
    "collapsed": false
   },
   "outputs": [
    {
     "name": "stdout",
     "output_type": "stream",
     "text": [
      "HELLO\n",
      "hello\n",
      "['this', 'is', 'a', 'book']\n",
      "This Is A Book\n",
      "14\n"
     ]
    }
   ],
   "source": [
    "s= 'Hello'\n",
    "print s.upper()\n",
    "print s.lower()\n",
    "\n",
    "s = 'this is a book'\n",
    "\n",
    "print s.split()\n",
    "print s.title()\n",
    "print len(s)"
   ]
  }
 ],
 "metadata": {
  "kernelspec": {
   "display_name": "Python 2",
   "language": "python",
   "name": "python2"
  },
  "language_info": {
   "codemirror_mode": {
    "name": "ipython",
    "version": 2
   },
   "file_extension": ".py",
   "mimetype": "text/x-python",
   "name": "python",
   "nbconvert_exporter": "python",
   "pygments_lexer": "ipython2",
   "version": "2.7.11"
  }
 },
 "nbformat": 4,
 "nbformat_minor": 0
}
