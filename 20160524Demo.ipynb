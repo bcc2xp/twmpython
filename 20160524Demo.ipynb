{
 "cells": [
  {
<<<<<<< HEAD
   "cell_type": "markdown",
   "metadata": {
    "slideshow": {
     "slide_type": "slide"
    }
   },
   "source": [
    "## Python Basic\n",
    "- interpret language\n",
    "- dynamic language"
   ]
  },
  {
   "cell_type": "code",
   "execution_count": 12,
   "metadata": {
    "collapsed": false,
    "slideshow": {
     "slide_type": "slide"
    }
=======
   "cell_type": "code",
   "execution_count": 1,
   "metadata": {
    "collapsed": false
>>>>>>> 7afc65e9dc51e767e7367fe0042895fce71f86f2
   },
   "outputs": [
    {
     "data": {
      "text/plain": [
       "5"
      ]
     },
<<<<<<< HEAD
     "execution_count": 12,
=======
     "execution_count": 1,
>>>>>>> 7afc65e9dc51e767e7367fe0042895fce71f86f2
     "metadata": {},
     "output_type": "execute_result"
    }
   ],
   "source": [
    "a = 3\n",
    "b = 2\n",
    "a + b "
   ]
  },
  {
   "cell_type": "code",
<<<<<<< HEAD
   "execution_count": 13,
   "metadata": {
    "collapsed": false,
    "slideshow": {
     "slide_type": "subslide"
    }
   },
   "outputs": [
    {
     "data": {
      "text/plain": [
       "8"
      ]
     },
     "execution_count": 13,
     "metadata": {},
     "output_type": "execute_result"
    }
   ],
   "source": [
    "a + 5 "
   ]
  },
  {
   "cell_type": "code",
   "execution_count": 14,
   "metadata": {
    "collapsed": false,
    "slideshow": {
     "slide_type": "slide"
    }
   },
   "outputs": [
    {
     "data": {
      "text/plain": [
       "8"
      ]
     },
     "execution_count": 14,
     "metadata": {},
     "output_type": "execute_result"
    }
   ],
   "source": [
    "a * b + 2 "
   ]
  },
  {
   "cell_type": "markdown",
   "metadata": {},
   "source": [
    "## 變成投影片\n",
    "- ipython nbconvert your_slides.ipynb --to slides --post serve"
   ]
  },
  {
   "cell_type": "markdown",
   "metadata": {
    "slideshow": {
     "slide_type": "slide"
    }
   },
   "source": [
    "## Pandas Example"
   ]
  },
  {
   "cell_type": "code",
   "execution_count": 8,
   "metadata": {
    "collapsed": false,
    "slideshow": {
     "slide_type": "slide"
    }
=======
   "execution_count": 8,
   "metadata": {
    "collapsed": false
>>>>>>> 7afc65e9dc51e767e7367fe0042895fce71f86f2
   },
   "outputs": [
    {
     "name": "stdout",
     "output_type": "stream",
     "text": [
      "Populating the interactive namespace from numpy and matplotlib\n"
     ]
    }
   ],
   "source": [
    "%pylab inline"
   ]
  },
  {
   "cell_type": "code",
   "execution_count": 9,
   "metadata": {
<<<<<<< HEAD
    "collapsed": false,
    "slideshow": {
     "slide_type": "slide"
    }
=======
    "collapsed": false
>>>>>>> 7afc65e9dc51e767e7367fe0042895fce71f86f2
   },
   "outputs": [
    {
     "data": {
      "text/plain": [
       "<matplotlib.axes._subplots.AxesSubplot at 0xc3faf28>"
      ]
     },
     "execution_count": 9,
     "metadata": {},
     "output_type": "execute_result"
    },
    {
     "data": {
      "image/png": "iVBORw0KGgoAAAANSUhEUgAAAYQAAAEDCAYAAAA1CHOzAAAABHNCSVQICAgIfAhkiAAAAAlwSFlz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\nWAiSJAD+P6U97FNWp9xzAAAAAElFTkSuQmCC\n",
      "text/plain": [
       "<matplotlib.figure.Figure at 0x3c0f278>"
      ]
     },
     "metadata": {},
     "output_type": "display_data"
    }
   ],
   "source": [
    "import pandas\n",
    "df = pandas.read_excel('591sample5.Xlsx')\n",
    "df[u'價格'].plot(kind='box', y = u'價格')"
   ]
  },
  {
   "cell_type": "code",
   "execution_count": null,
   "metadata": {
    "collapsed": true
   },
   "outputs": [],
   "source": []
  }
 ],
 "metadata": {
  "kernelspec": {
   "display_name": "Python 2",
   "language": "python",
   "name": "python2"
  },
  "language_info": {
   "codemirror_mode": {
    "name": "ipython",
    "version": 2
   },
   "file_extension": ".py",
   "mimetype": "text/x-python",
   "name": "python",
   "nbconvert_exporter": "python",
   "pygments_lexer": "ipython2",
   "version": "2.7.11"
  }
 },
 "nbformat": 4,
 "nbformat_minor": 0
}
