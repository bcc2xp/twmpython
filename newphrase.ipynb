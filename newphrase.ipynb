{
 "cells": [
  {
   "cell_type": "code",
   "execution_count": 4,
   "metadata": {
    "collapsed": false
   },
   "outputs": [],
   "source": [
    "import pandas as pd\n",
    "import sqlite3 as lite\n",
    "with lite.connect('news.sqlite') as db:\n",
    "    df = pd.read_sql('select * from news_entry', con=db)"
   ]
  },
  {
   "cell_type": "code",
   "execution_count": 5,
   "metadata": {
    "collapsed": false
   },
   "outputs": [
    {
     "data": {
      "text/html": [
       "<div>\n",
       "<table border=\"1\" class=\"dataframe\">\n",
       "  <thead>\n",
       "    <tr style=\"text-align: right;\">\n",
       "      <th></th>\n",
       "      <th>id</th>\n",
       "      <th>category</th>\n",
       "      <th>view_cnt</th>\n",
       "      <th>time</th>\n",
       "      <th>title</th>\n",
       "      <th>summary</th>\n",
       "      <th>link</th>\n",
       "    </tr>\n",
       "  </thead>\n",
       "  <tbody>\n",
       "    <tr>\n",
       "      <th>0</th>\n",
       "      <td>1</td>\n",
       "      <td>生活</td>\n",
       "      <td>0</td>\n",
       "      <td>15:35</td>\n",
       "      <td>【民報書摘】地圖上不存在的國家</td>\n",
       "      <td>本內容由民報提供 (摘錄 全文請連結民報)民報書摘《地圖上不存在的國家》作者：尼克‧米德頓(...</td>\n",
       "      <td>http://www.appledaily.com.tw/realtimenews/arti...</td>\n",
       "    </tr>\n",
       "    <tr>\n",
       "      <th>1</th>\n",
       "      <td>2</td>\n",
       "      <td>社會</td>\n",
       "      <td>31324</td>\n",
       "      <td>15:33</td>\n",
       "      <td>【更新】殺1、2人不會判死？   割喉殺...</td>\n",
       "      <td>（更新：判決理由） 2012年發生的台南湯姆熊男童遭割喉命案，震驚全台，兇嫌曾文欽落網後曾嗆...</td>\n",
       "      <td>http://www.appledaily.com.tw/realtimenews/arti...</td>\n",
       "    </tr>\n",
       "    <tr>\n",
       "      <th>2</th>\n",
       "      <td>3</td>\n",
       "      <td>生活</td>\n",
       "      <td>476</td>\n",
       "      <td>15:31</td>\n",
       "      <td>華為徠卡旗艦機　1萬7千元有找</td>\n",
       "      <td>更新：新增影片 華為今在台發表最新旗艦機P9，主打拍照功能，手機搭載兩顆徠卡（Leica）光...</td>\n",
       "      <td>http://www.appledaily.com.tw/realtimenews/arti...</td>\n",
       "    </tr>\n",
       "    <tr>\n",
       "      <th>3</th>\n",
       "      <td>4</td>\n",
       "      <td>娛樂</td>\n",
       "      <td>154</td>\n",
       "      <td>15:30</td>\n",
       "      <td>哈孝遠相揪尬籃球　一句話竟然讓JJ硬了！</td>\n",
       "      <td>藝人哈孝遠巧遇懷秋與JJ，並揪他們下次有空一起去打球，懷秋表示興奮！不過JJ有點擔心地說：「...</td>\n",
       "      <td>http://www.appledaily.com.tw/realtimenews/arti...</td>\n",
       "    </tr>\n",
       "    <tr>\n",
       "      <th>4</th>\n",
       "      <td>5</td>\n",
       "      <td>國際</td>\n",
       "      <td>0</td>\n",
       "      <td>15:30</td>\n",
       "      <td>【央廣RTI】遊古巴正夯  美國人暴增9...</td>\n",
       "      <td>本內容由中央廣播電臺提供        古巴政府4日表示，2016年1至4月到古巴旅遊的美國...</td>\n",
       "      <td>http://www.appledaily.com.tw/realtimenews/arti...</td>\n",
       "    </tr>\n",
       "  </tbody>\n",
       "</table>\n",
       "</div>"
      ],
      "text/plain": [
       "   id category  view_cnt   time                    title  \\\n",
       "0   1       生活         0  15:35          【民報書摘】地圖上不存在的國家   \n",
       "1   2       社會     31324  15:33  【更新】殺1、2人不會判死？   割喉殺...   \n",
       "2   3       生活       476  15:31          華為徠卡旗艦機　1萬7千元有找   \n",
       "3   4       娛樂       154  15:30     哈孝遠相揪尬籃球　一句話竟然讓JJ硬了！   \n",
       "4   5       國際         0  15:30  【央廣RTI】遊古巴正夯  美國人暴增9...   \n",
       "\n",
       "                                             summary  \\\n",
       "0  本內容由民報提供 (摘錄 全文請連結民報)民報書摘《地圖上不存在的國家》作者：尼克‧米德頓(...   \n",
       "1  （更新：判決理由） 2012年發生的台南湯姆熊男童遭割喉命案，震驚全台，兇嫌曾文欽落網後曾嗆...   \n",
       "2  更新：新增影片 華為今在台發表最新旗艦機P9，主打拍照功能，手機搭載兩顆徠卡（Leica）光...   \n",
       "3  藝人哈孝遠巧遇懷秋與JJ，並揪他們下次有空一起去打球，懷秋表示興奮！不過JJ有點擔心地說：「...   \n",
       "4  本內容由中央廣播電臺提供        古巴政府4日表示，2016年1至4月到古巴旅遊的美國...   \n",
       "\n",
       "                                                link  \n",
       "0  http://www.appledaily.com.tw/realtimenews/arti...  \n",
       "1  http://www.appledaily.com.tw/realtimenews/arti...  \n",
       "2  http://www.appledaily.com.tw/realtimenews/arti...  \n",
       "3  http://www.appledaily.com.tw/realtimenews/arti...  \n",
       "4  http://www.appledaily.com.tw/realtimenews/arti...  "
      ]
     },
     "execution_count": 5,
     "metadata": {},
     "output_type": "execute_result"
    }
   ],
   "source": [
    "df.head()"
   ]
  },
  {
   "cell_type": "code",
   "execution_count": 65,
   "metadata": {
    "collapsed": false
   },
   "outputs": [],
   "source": [
    "input_sentence = '古巴旅遊的美國'\n",
    "def ngram(input_sentence, n = 2):\n",
    "    c = Counter()\n",
    "    sentence = input_sentence.decode('utf-8')\n",
    "    for i in range(0, len(sentence) - n + 1 ):\n",
    "        segment = sentence[i:i+n]\n",
    "        invalid = len([w for w in skip_word if w in segment]) \n",
    "        if invalid ==0:\n",
    "            c[segment] += 1        \n",
    "    return c"
   ]
  },
  {
   "cell_type": "code",
   "execution_count": 70,
   "metadata": {
    "collapsed": true
   },
   "outputs": [],
   "source": [
    "def removeKey(text, keyword):\n",
    "    textAry= text\n",
    "    for key in keyword:\n",
    "        textAry = ''.join(textAry.split(key))\n",
    "    return textAry\n"
   ]
  },
  {
   "cell_type": "code",
   "execution_count": 71,
   "metadata": {
    "collapsed": false
   },
   "outputs": [
    {
     "name": "stdout",
     "output_type": "stream",
     "text": [
      "從句子的一端開始\n",
      "取最長的詞串逐一比對辭典內的詞\n",
      "若找到就把它當作斷詞的結果\n",
      "再把句子中比對到的詞去除\n",
      "剩下的部份再重複剛剛的動作\n",
      "直到整句都斷詞完畢\n"
     ]
    }
   ],
   "source": [
    "import re\n",
    "delimiter = \"，|。|、\"  \n",
    "text = '從句子的一端開始，取最長的詞串逐一比對辭典內的詞，若找到就把它當作斷詞的結果，再把句子中比對到的詞去除，剩下的部份再重複剛剛的動作，直到整句都斷詞完畢'\n",
    "\n",
    "for i in re.split(delimiter, text):\n",
    "    print i\n"
   ]
  },
  {
   "cell_type": "code",
   "execution_count": 103,
   "metadata": {
    "collapsed": false
   },
   "outputs": [],
   "source": [
    "def getSentenceNgram(summary):\n",
    "    delimiter = '，|：|。|、|/|；|（|）|\\(|\\)|「|」|」|《|》|／|【|……|）|「|！|‧ '\n",
    "\n",
    "    csummary = Counter()\n",
    "    for sentence in re.split(delimiter, summary.encode('utf-8')): # 斷句\n",
    "        if sentence is not None and sentence.strip() != '':\n",
    "                c = ngram(removeKey(sentence.strip(), keywords), i) #取ngram\n",
    "                csummary = csummary + c\n",
    "    return csummary\n"
   ]
  },
  {
   "cell_type": "code",
   "execution_count": 108,
   "metadata": {
    "collapsed": false
   },
   "outputs": [],
   "source": [
    "summaries = df['summary']\n",
    "keywords = []\n",
    "\n",
    "for i in range(4, 1, -1):\n",
    "    coverall = Counter()\n",
    "    for summary in summaries[0:100]:        \n",
    "        c = getSentenceNgram(summary) \n",
    "        coverall = coverall  + c\n",
    "    for ele in coverall:\n",
    "        if coverall[ele] >=10:\n",
    "            if re.match(u\"[\\u4e00-\\u9fa5]\", ele):\n",
    "                keywords.append(ele.encode('utf-8'))"
   ]
  },
  {
   "cell_type": "code",
   "execution_count": 109,
   "metadata": {
    "collapsed": false
   },
   "outputs": [
    {
     "name": "stdout",
     "output_type": "stream",
     "text": [
      "更新時間\n",
      "出版時間\n",
      "菸草製品\n",
      "綜合報導\n",
      "翻攝畫面\n",
      "蘋果日報\n",
      "智慧城市\n",
      "台北報導\n",
      "翻攝網路\n",
      "新增影片\n",
      "知道更多\n",
      "即時新聞\n",
      "想知道更\n",
      "一定要看\n",
      "用大麻\n",
      "舊金山\n",
      "沒想到\n",
      "分隔島\n",
      "弗林特\n",
      "社子島\n",
      "電子菸\n",
      "遊覽車\n",
      "休旅車\n",
      "蔡英文\n",
      "大麻的\n",
      "邱先生\n",
      "粉絲團\n",
      "大巨蛋\n",
      "氣象局\n",
      "新北市\n",
      "第一\n",
      "看了\n",
      "取得\n",
      "平台\n",
      "我們\n",
      "外勞\n",
      "古巴\n",
      "技術\n",
      "騎士\n",
      "處理\n",
      "大型\n",
      "為了\n",
      "這些\n",
      "希望\n",
      "公開\n",
      "大家\n",
      "大學\n",
      "張男\n",
      "指出\n",
      "小黃\n",
      "引進\n",
      "百度\n",
      "真的\n",
      "其他\n",
      "劉男\n",
      "長期\n",
      "透過\n",
      "不過\n",
      "安全\n",
      "指數\n",
      "最後\n",
      "重點\n",
      "這樣\n",
      "院士\n",
      "穩定\n",
      "呈現\n",
      "國際\n",
      "可能\n",
      "蘋果\n",
      "領域\n",
      "模式\n",
      "危機\n",
      "問題\n",
      "訊息\n",
      "使用\n",
      "事長\n",
      "造成\n",
      "駕駛\n",
      "中心\n",
      "川普\n",
      "業者\n",
      "持續\n",
      "中央\n",
      "工程\n",
      "照片\n",
      "中國\n",
      "地區\n",
      "台南\n",
      "維持\n",
      "台北\n",
      "中午\n",
      "中共\n",
      "到場\n",
      "營運\n",
      "方向\n",
      "全球\n",
      "下午\n",
      "需求\n",
      "管理\n",
      "工作\n",
      "對於\n",
      "甚至\n",
      "進的\n",
      "提供\n",
      "飛機\n",
      "商業\n",
      "地產\n",
      "個人\n",
      "台灣\n",
      "造型\n",
      "上市\n",
      "在台\n",
      "價格\n",
      "發生\n",
      "了一\n",
      "產品\n",
      "進行\n",
      "直播\n",
      "直接\n",
      "中華\n",
      "越南\n",
      "在上\n",
      "要求\n",
      "北市\n",
      "用戶\n",
      "事件\n",
      "應用\n",
      "疑似\n",
      "發展\n",
      "下降\n",
      "發布\n",
      "車輛\n",
      "上的\n",
      "警消\n",
      "發中\n",
      "科技\n",
      "產業\n",
      "警方\n",
      "的1\n",
      "白色\n",
      "胚胎\n",
      "遊戲\n",
      "設計\n",
      "原因\n",
      "內容\n",
      "協商\n",
      "不會\n",
      "不是\n",
      "藝術\n",
      "淹水\n",
      "小孩\n",
      "更新\n",
      "大麻\n",
      "的是\n",
      "其中\n",
      "即時\n",
      "女童\n",
      "公司\n",
      "萬元\n",
      "徠卡\n",
      "更多\n",
      "小時\n",
      "不少\n",
      "的國\n",
      "空間\n",
      "現場\n",
      "報警\n",
      "議員\n",
      "的人\n",
      "國家\n",
      "可以\n",
      "女兒\n",
      "導致\n",
      "現在\n",
      "報導\n",
      "診斷\n",
      "女子\n",
      "遊客\n",
      "目前\n",
      "關係\n",
      "認證\n",
      "集團\n",
      "過去\n",
      "只是\n",
      "葉男\n",
      "新聞\n",
      "美元\n",
      "聯盟\n",
      "一直\n",
      "有人\n",
      "母親\n",
      "選擇\n",
      "品牌\n",
      "過程\n",
      "美國\n",
      "男子\n",
      "精神\n",
      "以及\n",
      "除了\n",
      "輕軌\n",
      "預計\n",
      "時間\n",
      "山區\n",
      "網路\n",
      "一個\n",
      "粉絲\n",
      "個月\n",
      "星戰\n",
      "上午\n",
      "他們\n",
      "當地\n",
      "市場\n",
      "市府\n",
      "是一\n",
      "加州\n",
      "機車\n",
      "還是\n",
      "需要\n",
      "手機\n",
      "前往\n",
      "分享\n",
      "準備\n",
      "影片\n",
      "年1\n",
      "增加\n",
      "鏡頭\n",
      "相關\n",
      "離開\n",
      "發現\n",
      "表示\n",
      "是否\n",
      "成為\n",
      "健康\n",
      "他的\n",
      "城市\n",
      "分球\n",
      "陳女\n",
      "台中\n",
      "翻攝\n",
      "汽車\n",
      "一名\n",
      "證明\n",
      "是要\n",
      "代表\n",
      "黨團\n",
      "成長\n",
      "日前\n",
      "沒有\n",
      "投資\n",
      "交通\n",
      "規劃\n",
      "市長\n",
      "司機\n",
      "高雄\n",
      "政府\n",
      "億元\n",
      "繼續\n",
      "杜男\n",
      "機會\n",
      "紀錄\n",
      "還要\n",
      "突發\n",
      "藍女\n",
      "包括\n",
      "昨天\n",
      "檢警\n",
      "今天\n",
      "影響\n",
      "生活\n",
      "今年\n",
      "自己\n",
      "自已\n",
      "華為\n",
      "政策\n",
      "水果\n",
      "日本\n",
      "由於\n",
      "總統\n",
      "雙方\n",
      "推出\n",
      "就是\n",
      "活動\n",
      "調查\n",
      "顯示\n",
      "漁船\n",
      "停車\n",
      "已經\n",
      "人的\n",
      "針對\n",
      "都是\n",
      "開始\n",
      "積極\n",
      "網友\n",
      "一起\n",
      "智慧\n",
      "因此\n",
      "未來\n",
      "醫師\n",
      "開發\n",
      "廠商\n",
      "去年\n",
      "民眾\n",
      "進入\n",
      "媽媽\n",
      "了這\n",
      "認為\n",
      "林女\n",
      "人員\n",
      "因為\n"
     ]
    }
   ],
   "source": [
    "for ele in keywords:\n",
    "    print ele"
   ]
  },
  {
   "cell_type": "code",
   "execution_count": 120,
   "metadata": {
    "collapsed": false
   },
   "outputs": [
    {
     "name": "stdout",
     "output_type": "stream",
     "text": [
      "781\n"
     ]
    }
   ],
   "source": [
    "article_len = 0\n",
    "original_word = 0\n",
    "known_word = 0\n",
    "unknown = 0\n",
    "\n",
    "for summary in summaries[0:100]: \n",
    "    article_len += len(summary)\n",
    "    original_word +=  summary.count(u'用大麻')\n",
    "    known_word += summary.count(u'大麻')\n",
    "    unknown += summary.count(u'用')"
   ]
  },
  {
   "cell_type": "code",
   "execution_count": 121,
   "metadata": {
    "collapsed": false
   },
   "outputs": [
    {
     "name": "stdout",
     "output_type": "stream",
     "text": [
      "3.78773652013\n"
     ]
    }
   ],
   "source": [
    "print (float(original_word) / article_len) / ((float(unknown) /  article_len) * (float(known_word) /  article_len))"
   ]
  },
  {
   "cell_type": "code",
   "execution_count": 122,
   "metadata": {
    "collapsed": false
   },
   "outputs": [
    {
     "name": "stdout",
     "output_type": "stream",
     "text": [
      "EBSEBEBEMB\n"
     ]
    }
   ],
   "source": [
    "a = 'BMEBEBESBE'\n",
    "print a[::-1]"
   ]
  },
  {
   "cell_type": "code",
   "execution_count": 144,
   "metadata": {
    "collapsed": false
   },
   "outputs": [],
   "source": [
    "s = u'吃葡萄不吐葡萄皮不吃葡萄倒吐葡萄皮'\n",
    "l = s.split(u'葡萄')\n",
    "front = []\n",
    "rear = []\n",
    "for idx, ele in enumerate(l):\n",
    "#    print idx\n",
    "    if idx < len(l) -1:\n",
    "        front.append(ele[-1])\n",
    "    if idx > 0:\n",
    "        rear.append(ele[0])"
   ]
  },
  {
   "cell_type": "code",
   "execution_count": 156,
   "metadata": {
    "collapsed": false
   },
   "outputs": [
    {
     "name": "stdout",
     "output_type": "stream",
     "text": [
      "0.69314718056\n"
     ]
    }
   ],
   "source": [
    "import scipy as sp\n",
    "s = 0\n",
    "for ele in set(front):\n",
    "    e = (len(front) * 1.0) / front.count(ele)\n",
    "    s += -(1.0/ e) * sp.log(1.0/e)\n",
    "print s"
   ]
  },
  {
   "cell_type": "code",
   "execution_count": 158,
   "metadata": {
    "collapsed": false
   },
   "outputs": [
    {
     "name": "stdout",
     "output_type": "stream",
     "text": [
      "1.03972077084\n"
     ]
    }
   ],
   "source": [
    "import scipy as sp\n",
    "s = 0\n",
    "for ele in set(rear):\n",
    "    e = (len(rear) * 1.0) / rear.count(ele)\n",
    "    s += -(1.0/ e) * sp.log(1.0/e)\n",
    "print s"
   ]
  },
  {
   "cell_type": "code",
   "execution_count": null,
   "metadata": {
    "collapsed": true
   },
   "outputs": [],
   "source": []
  }
 ],
 "metadata": {
  "kernelspec": {
   "display_name": "Python 2",
   "language": "python",
   "name": "python2"
  },
  "language_info": {
   "codemirror_mode": {
    "name": "ipython",
    "version": 2
   },
   "file_extension": ".py",
   "mimetype": "text/x-python",
   "name": "python",
   "nbconvert_exporter": "python",
   "pygments_lexer": "ipython2",
   "version": "2.7.11"
  }
 },
 "nbformat": 4,
 "nbformat_minor": 0
}
