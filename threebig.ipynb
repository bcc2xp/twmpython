{
 "cells": [
  {
   "cell_type": "code",
   "execution_count": 2,
   "metadata": {
    "collapsed": false
   },
   "outputs": [],
   "source": [
    "import requests\n",
    "payload = {\n",
    "'qdate':'105/05/25',\n",
    "'select2':'ALL',\n",
    "'sorting':'by_issue'\n",
    "}\n",
    "res = requests.post('http://www.twse.com.tw/ch/trading/fund/T86/T86.php'\\\n",
    "        , data= payload)\n",
    "#print res.text"
   ]
  },
  {
   "cell_type": "code",
   "execution_count": 4,
   "metadata": {
    "collapsed": false
   },
   "outputs": [],
   "source": [
    "from bs4 import BeautifulSoup as bs\n",
    "soup  = bs(res.text)\n",
    "\n",
    "import pandas as pd\n",
    "tb = soup.select('#tbl-sortable')[0]\n",
    "dfs = pd.read_html(tb.prettify('utf-8'), encoding = 'utf-8')\n",
    "stockdf = dfs[0]"
   ]
  },
  {
   "cell_type": "code",
   "execution_count": 9,
   "metadata": {
    "collapsed": false
   },
   "outputs": [
    {
     "name": "stdout",
     "output_type": "stream",
     "text": [
      "Populating the interactive namespace from numpy and matplotlib\n"
     ]
    }
   ],
   "source": [
    "%pylab inline"
   ]
  },
  {
   "cell_type": "code",
   "execution_count": 13,
   "metadata": {
    "collapsed": false
   },
   "outputs": [
    {
     "data": {
      "text/html": [
       "<div>\n",
       "<table border=\"1\" class=\"dataframe\">\n",
       "  <thead>\n",
       "    <tr style=\"text-align: right;\">\n",
       "      <th></th>\n",
       "      <th>證券  代號</th>\n",
       "      <th>證券  名稱</th>\n",
       "      <th>外資  買進股數</th>\n",
       "      <th>外資  賣出股數</th>\n",
       "      <th>外資  買賣超股數</th>\n",
       "      <th>投信  買進股數</th>\n",
       "      <th>投信  賣出股數</th>\n",
       "      <th>投信  買賣超股數</th>\n",
       "      <th>自營商  買賣超股數</th>\n",
       "      <th>自營商  買進股數  (自行買賣)</th>\n",
       "      <th>自營商  賣出股數  (自行買賣)</th>\n",
       "      <th>自營商  買賣超股數  (自行買賣)</th>\n",
       "      <th>自營商  買進股數  (避險)</th>\n",
       "      <th>自營商  賣出股數  (避險)</th>\n",
       "      <th>自營商  買賣超股數  (避險)</th>\n",
       "      <th>三大法人  買賣超股數</th>\n",
       "    </tr>\n",
       "  </thead>\n",
       "  <tbody>\n",
       "    <tr>\n",
       "      <th>3</th>\n",
       "      <td>2330</td>\n",
       "      <td>台積電</td>\n",
       "      <td>27833997</td>\n",
       "      <td>15471100</td>\n",
       "      <td>12362897</td>\n",
       "      <td>681000</td>\n",
       "      <td>67000</td>\n",
       "      <td>614000</td>\n",
       "      <td>-1023000</td>\n",
       "      <td>86000</td>\n",
       "      <td>770000</td>\n",
       "      <td>-684000</td>\n",
       "      <td>97000</td>\n",
       "      <td>436000</td>\n",
       "      <td>-339000</td>\n",
       "      <td>11953897</td>\n",
       "    </tr>\n",
       "  </tbody>\n",
       "</table>\n",
       "</div>"
      ],
      "text/plain": [
       "  證券  代號 證券  名稱  外資  買進股數  外資  賣出股數  外資  買賣超股數  投信  買進股數  投信  賣出股數  投信  買賣超股數  \\\n",
       "3   2330    台積電  27833997  15471100   12362897    681000     67000     614000   \n",
       "\n",
       "   自營商  買賣超股數  自營商  買進股數  (自行買賣)  自營商  賣出股數  (自行買賣)  自營商  買賣超股數  (自行買賣)  \\\n",
       "3    -1023000              86000             770000             -684000   \n",
       "\n",
       "   自營商  買進股數  (避險)  自營商  賣出股數  (避險)  自營商  買賣超股數  (避險)  三大法人  買賣超股數  \n",
       "3            97000           436000           -339000     11953897  "
      ]
     },
     "execution_count": 13,
     "metadata": {},
     "output_type": "execute_result"
    }
   ],
   "source": [
    "stockdf.head()\n",
    "stockdf[u'外資  買進股數'].max()\n",
    "stockdf[u'外資  買進股數'].describe()\n",
    "\n",
    "stockdf[stockdf[u'外資  買進股數'] == stockdf[u'外資  買進股數'].max()]\n",
    "#stockdf[u'外資  買進股數'].plot(kind = 'box', y= u'外資  買進股數')"
   ]
  },
  {
   "cell_type": "code",
   "execution_count": null,
   "metadata": {
    "collapsed": true
   },
   "outputs": [],
   "source": []
  }
 ],
 "metadata": {
  "kernelspec": {
   "display_name": "Python 2",
   "language": "python",
   "name": "python2"
  },
  "language_info": {
   "codemirror_mode": {
    "name": "ipython",
    "version": 2
   },
   "file_extension": ".py",
   "mimetype": "text/x-python",
   "name": "python",
   "nbconvert_exporter": "python",
   "pygments_lexer": "ipython2",
   "version": "2.7.11"
  }
 },
 "nbformat": 4,
 "nbformat_minor": 0
}
